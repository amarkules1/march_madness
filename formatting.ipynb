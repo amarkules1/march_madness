{
 "cells": [
  {
   "cell_type": "code",
   "execution_count": 2,
   "metadata": {},
   "outputs": [],
   "source": [
    "import pandas as pd"
   ]
  },
  {
   "cell_type": "code",
   "execution_count": 42,
   "metadata": {},
   "outputs": [],
   "source": [
    "cols = [\"date\", 'a', 'team_1', 't1_conf', 'team_2', 'home_away','wl_score']"
   ]
  },
  {
   "cell_type": "code",
   "execution_count": 43,
   "metadata": {},
   "outputs": [],
   "source": [
    "for i in range(0, 61):\n",
    "    cols.append(str(i))"
   ]
  },
  {
   "cell_type": "code",
   "execution_count": 15,
   "metadata": {},
   "outputs": [],
   "source": [
    "data_2022 = pd.read_csv(\"22games_all.csv\", names=cols)"
   ]
  },
  {
   "cell_type": "code",
   "execution_count": 17,
   "metadata": {},
   "outputs": [],
   "source": [
    "data_2022['win_loss'] = data_2022['wl_score'].apply(lambda x: x.split(',')[0])"
   ]
  },
  {
   "cell_type": "code",
   "execution_count": 24,
   "metadata": {},
   "outputs": [],
   "source": [
    "data_2022['t1_score'] = data_2022['wl_score'].apply(lambda x: x.split(', ')[1].split('-')[0 if 'W' in x else 1])"
   ]
  },
  {
   "cell_type": "code",
   "execution_count": 25,
   "metadata": {},
   "outputs": [
    {
     "data": {
      "text/plain": [
       "0        64\n",
       "1        50\n",
       "2        68\n",
       "3        95\n",
       "4        85\n",
       "         ..\n",
       "10945    97\n",
       "10946    82\n",
       "10947    52\n",
       "10948    84\n",
       "10949    71\n",
       "Name: t1_score, Length: 10950, dtype: object"
      ]
     },
     "execution_count": 25,
     "metadata": {},
     "output_type": "execute_result"
    }
   ],
   "source": [
    "data_2022['t1_score']"
   ]
  },
  {
   "cell_type": "code",
   "execution_count": 26,
   "metadata": {},
   "outputs": [],
   "source": [
    "data_2022['t2_score'] = data_2022['wl_score'].apply(lambda x: x.split(', ')[1].split('-')[1 if 'W' in x else 0])"
   ]
  },
  {
   "cell_type": "code",
   "execution_count": 27,
   "metadata": {},
   "outputs": [
    {
     "data": {
      "text/plain": [
       "0        50\n",
       "1        64\n",
       "2        95\n",
       "3        68\n",
       "4        82\n",
       "         ..\n",
       "10945    79\n",
       "10946    52\n",
       "10947    82\n",
       "10948    71\n",
       "10949    84\n",
       "Name: t2_score, Length: 10950, dtype: object"
      ]
     },
     "execution_count": 27,
     "metadata": {},
     "output_type": "execute_result"
    }
   ],
   "source": [
    "data_2022['t2_score']"
   ]
  },
  {
   "cell_type": "code",
   "execution_count": 56,
   "metadata": {},
   "outputs": [],
   "source": [
    "important_vars = [\"date\", 'team_1', 't1_conf', 'team_2', 't1_score', 't2_score', 'win_loss']"
   ]
  },
  {
   "cell_type": "code",
   "execution_count": 40,
   "metadata": {},
   "outputs": [
    {
     "name": "stderr",
     "output_type": "stream",
     "text": [
      "C:\\Users\\amarl\\AppData\\Local\\Temp\\ipykernel_22264\\3546995892.py:1: UserWarning: Boolean Series key will be reindexed to match DataFrame index.\n",
      "  mm22 = data_2022[data_2022['a'] == 3][data_2022['home_away'] == 'N'][important_vars]\n"
     ]
    }
   ],
   "source": [
    "mm22 = data_2022[data_2022['a'] == 3][data_2022['home_away'] == 'N'][important_vars]\n",
    "mm22.to_csv(\"data_22_tourney.csv\", index=False)"
   ]
  },
  {
   "cell_type": "code",
   "execution_count": 48,
   "metadata": {},
   "outputs": [
    {
     "name": "stderr",
     "output_type": "stream",
     "text": [
      "C:\\Users\\amarl\\AppData\\Local\\Temp\\ipykernel_22264\\3071073243.py:5: UserWarning: Boolean Series key will be reindexed to match DataFrame index.\n",
      "  mm21 = data_2021[data_2021['a'] == 3][data_2021['home_away'] == 'N'][important_vars]\n"
     ]
    }
   ],
   "source": [
    "data_2021 = pd.read_csv(\"21games_all.csv\", names=cols)\n",
    "data_2021['win_loss'] = data_2021['wl_score'].apply(lambda x: x.split(',')[0])\n",
    "data_2021['t1_score'] = data_2021['wl_score'].apply(lambda x: x.split(', ')[1].split('-')[0 if 'W' in x else 1])\n",
    "data_2021['t2_score'] = data_2021['wl_score'].apply(lambda x: x.split(', ')[1].split('-')[1 if 'W' in x else 0])\n",
    "mm21 = data_2021[data_2021['a'] == 3][data_2021['home_away'] == 'N'][important_vars]\n",
    "mm21.to_csv(\"data_21_tourney.csv\", index=False)"
   ]
  },
  {
   "cell_type": "code",
   "execution_count": 60,
   "metadata": {},
   "outputs": [
    {
     "name": "stderr",
     "output_type": "stream",
     "text": [
      "C:\\Users\\amarl\\AppData\\Local\\Temp\\ipykernel_22264\\1925166178.py:5: UserWarning: Boolean Series key will be reindexed to match DataFrame index.\n",
      "  mm21 = data_2019[data_2019['a'] == 3][data_2019['home_away'] == 'N'][important_vars]\n"
     ]
    }
   ],
   "source": [
    "data_2019 = pd.read_csv(\"18games_all.csv\", names=cols)\n",
    "data_2019['win_loss'] = data_2019['wl_score'].apply(lambda x: x.split(',')[0])\n",
    "data_2019['t1_score'] = data_2019['wl_score'].apply(lambda x: x.split(', ')[1].split('-')[0 if 'W' in x else 1])\n",
    "data_2019['t2_score'] = data_2019['wl_score'].apply(lambda x: x.split(', ')[1].split('-')[1 if 'W' in x else 0])\n",
    "mm21 = data_2019[data_2019['a'] == 3][data_2019['home_away'] == 'N'][important_vars]\n",
    "mm21.to_csv(\"data_18_tourney.csv\", index=False)"
   ]
  }
 ],
 "metadata": {
  "interpreter": {
   "hash": "3a56a94f74e45a44b9c4a3ad316956f7230cb1cbf8a2057055f7f43e69ad1429"
  },
  "kernelspec": {
   "display_name": "Python 3.8.1 ('.venv': pipenv)",
   "language": "python",
   "name": "python3"
  },
  "language_info": {
   "codemirror_mode": {
    "name": "ipython",
    "version": 3
   },
   "file_extension": ".py",
   "mimetype": "text/x-python",
   "name": "python",
   "nbconvert_exporter": "python",
   "pygments_lexer": "ipython3",
   "version": "3.8.1"
  },
  "orig_nbformat": 4
 },
 "nbformat": 4,
 "nbformat_minor": 2
}
