{
 "cells": [
  {
   "cell_type": "markdown",
   "metadata": {},
   "source": [
    "# Fields for tournament games\n",
    "\n",
    "# Informational fields:\n",
    "* date\n",
    "* season\n",
    "* team\n",
    "* opponent\n",
    "* win/loss\n",
    "\n",
    "# Predictor fields\n",
    "* regular_season_win_pct - just conference and non-conference games\n",
    "* opponent_regular_season_win_pct\n",
    "* season_win_pct - includes conference tourney games\n",
    "* opponent_season_win_pct\n",
    "* season_ppg - includes conference tourney games\n",
    "* opponent_season_ppg\n",
    "* season_ppg_allowed - includes conference tourney games\n",
    "* opponent_season_ppg_allowed\n",
    "* last_10_games_win_pct - includes conference tourney games\n",
    "* opponent_last_10_games_win_pct\n",
    "* last_5_games_win_pct - includes conference tourney games\n",
    "* opponent_last_5_games_win_pct\n",
    "* vs_tourney_team_win_pct - includes conference tourney games\n",
    "* opponent_vs_tourney_team_win_pct\n",
    "* games_played_vs_tourney_teams - includes conference tourney games\n",
    "* opponent_games_played_vs_tourney_teams\n",
    "* season_adj_offense - includes conference tourney games\n",
    "* opponent_season_adj_offense\n",
    "* vs_tourney_team_adj_offense - includes conference tourney games\n",
    "* opponent_vs_tourney_team_adj_offense\n",
    "* season_adj_defense - includes conference tourney games\n",
    "* opponent_season_adj_defense\n",
    "* vs_tourney_team_adj_defense - includes conference tourney games\n",
    "* opponent_vs_tourney_team_adj_defense\n",
    "* season_offensive_efficiency - includes conference tourney games\n",
    "* opponent_season_offensive_efficiency\n",
    "* vs_tourney_team_offensive_efficiency - includes conference tourney games\n",
    "* opponent_vs_tourney_team_offensive_efficiency\n",
    "* season_effective_field_goal_pct - includes conference tourney games\n",
    "* opponent_season_effective_field_goal_pct\n",
    "* vs_tourney_team_effective_field_goal_pct - includes conference tourney games\n",
    "* opponent_vs_tourney_team_effective_field_goal_pct\n",
    "* season_turnover_pct - includes conference tourney games\n",
    "* opponent_season_turnover_pct\n",
    "* vs_tourney_team_turnover_pct - includes conference tourney games\n",
    "* opponent_vs_tourney_team_turnover_pct\n",
    "* season_off_reb_pct - includes conference tourney games\n",
    "* opponent_season_off_reb_pct\n",
    "* vs_tourney_team_off_reb_pct - includes conference tourney games\n",
    "* opponent_vs_tourney_team_off_reb_pct\n",
    "* season_ft_rate - includes conference tourney games\n",
    "* opponent_season_ft_rate\n",
    "* vs_tourney_team_ft_rate - includes conference tourney games\n",
    "* opponent_vs_tourney_team_ft_rate\n",
    "* season_allowed_offensive_efficiency - includes conference tourney games\n",
    "* opponent_season_allowed_offensive_efficiency\n",
    "* vs_tourney_team_allowed_offensive_efficiency - includes conference tourney games\n",
    "* opponent_vs_tourney_team_allowed_offensive_efficiency\n",
    "* season_allowed_effective_field_goal_pct - includes conference tourney games\n",
    "* opponent_season_allowed_effective_field_goal_pct\n",
    "* vs_tourney_team_allowed_effective_field_goal_pct - includes conference tourney games\n",
    "* opponent_vs_tourney_team_allowed_effective_field_goal_pct\n",
    "* season_allowed_turnover_pct - includes conference tourney games\n",
    "* opponent_season_allowed_turnover_pct\n",
    "* vs_tourney_team_allowed_turnover_pct - includes conference tourney games\n",
    "* opponent_vs_tourney_team_allowed_turnover_pct\n",
    "* season_allowed_off_reb_pct - includes conference tourney games\n",
    "* opponent_season_allowed_off_reb_pct\n",
    "* vs_tourney_team_allowed_off_reb_pct - includes conference tourney games\n",
    "* opponent_vs_tourney_team_allowed_off_reb_pct\n",
    "* season_allowed_ft_rate - includes conference tourney games\n",
    "* opponent_season_allowed_ft_rate\n",
    "* vs_tourney_team_allowed_ft_rate - includes conference tourney games\n",
    "* opponent_vs_tourney_team_allowed_ft_rate\n",
    "* season_allowed_adj_offense - includes conference tourney games\n",
    "* opponent_season_allowed_adj_offense\n",
    "* vs_tourney_team_allowed_adj_offense - includes conference tourney games\n",
    "* opponent_vs_tourney_team_allowed_adj_offense\n",
    "* season_allowed_adj_defense - includes conference tourney games\n",
    "* opponent_season_allowed_adj_defense\n",
    "* vs_tourney_team_allowed_adj_defense - includes conference tourney games\n",
    "* opponent_vs_tourney_team_allowed_adj_defense"
   ]
  },
  {
   "cell_type": "code",
   "execution_count": 1,
   "metadata": {},
   "outputs": [],
   "source": [
    "import os\n",
    "import pandas as pd\n",
    "import sqlalchemy\n",
    "import sklearn\n",
    "from dotenv import load_dotenv, find_dotenv\n",
    "_ = load_dotenv(find_dotenv())\n",
    "\n",
    "connection_string = os.getenv(\"LINODE_CONN_STRING\")\n",
    "connection_string = os.getenv(\"LINODE_CONN_STRING\")\n",
    "conn = sqlalchemy.create_engine(os.getenv(\"LINODE_CONN_STRING\")).connect()"
   ]
  },
  {
   "cell_type": "code",
   "execution_count": 147,
   "metadata": {},
   "outputs": [],
   "source": [
    "all_games = pd.read_sql(\"select * from sports_data.game_stats_v3_2025 where season='2025'\", conn)"
   ]
  },
  {
   "cell_type": "code",
   "execution_count": 148,
   "metadata": {},
   "outputs": [],
   "source": [
    "march_madness_teams = [\n",
    "    'Auburn',\n",
    "    'Alabama St.',\n",
    "    'Saint Francis',\n",
    "    'Louisville',\n",
    "    'Creighton',\n",
    "    'Michigan',\n",
    "    'UC San Diego',\n",
    "    'Texas A&M',\n",
    "    'Yale',\n",
    "    'Mississippi',\n",
    "    'San Diego St.',\n",
    "    'North Carolina',\n",
    "    'Iowa St.',\n",
    "    'Lipscomb',\n",
    "    'Marquette',\n",
    "    'New Mexico',\n",
    "    'Michigan St.',\n",
    "    'Bryant',\n",
    "    'Florida',\n",
    "    'Norfolk St.',\n",
    "    'Connecticut',\n",
    "    \"Oklahoma\",\n",
    "    'Memphis',\n",
    "    'Colorado St.',\n",
    "    'Maryland',\n",
    "    'Grand Canyon',\n",
    "    'Missouri',\n",
    "    'Drake',\n",
    "    'Texas Tech',\n",
    "    'UNC Wilmington',\n",
    "    'Kansas',\n",
    "    'Arkansas',\n",
    "    \"St. John's\",\n",
    "    'Nebraska Omaha',\n",
    "    'Duke',\n",
    "    'American',\n",
    "    \"Mount St. Mary's\",\n",
    "    'Mississippi St.',\n",
    "    'Baylor',\n",
    "    'Oregon',\n",
    "    'Liberty',\n",
    "    'Arizona',\n",
    "    'Akron',\n",
    "    'BYU',\n",
    "    \"VCU\",\n",
    "    'Wisconsin',\n",
    "    'Montana',\n",
    "    \"Saint Mary's\",\n",
    "    'Vanderbilt',\n",
    "    'Alabama',\n",
    "    'Robert Morris',\n",
    "    'Houston',\n",
    "    'SIU Edwardsville',\n",
    "    'Gonzaga',\n",
    "    'Georgia',\n",
    "    'Clemson',\n",
    "    'McNeese St.',\n",
    "    'Purdue',\n",
    "    'High Point',\n",
    "    'Illinois',\n",
    "    'Texas',\n",
    "    'Xavier',\n",
    "    'Kentucky',\n",
    "    'Troy',\n",
    "    'UCLA',\n",
    "    'Utah St.',\n",
    "    'Tennessee',\n",
    "    \"Wofford\"\n",
    "]"
   ]
  },
  {
   "cell_type": "code",
   "execution_count": 150,
   "metadata": {},
   "outputs": [
    {
     "data": {
      "text/plain": [
       "68"
      ]
     },
     "execution_count": 150,
     "metadata": {},
     "output_type": "execute_result"
    }
   ],
   "source": [
    "len(all_games[all_games['team'].isin(march_madness_teams)]['team'].unique())"
   ]
  },
  {
   "cell_type": "code",
   "execution_count": 151,
   "metadata": {},
   "outputs": [],
   "source": [
    "import itertools\n",
    "teams = all_games['team'].unique()\n",
    "df = pd.DataFrame(list(itertools.product(march_madness_teams,march_madness_teams)),columns=['team','opponent'])"
   ]
  },
  {
   "cell_type": "code",
   "execution_count": 152,
   "metadata": {},
   "outputs": [],
   "source": [
    "df = df[df['team']!=df['opponent']] "
   ]
  },
  {
   "cell_type": "code",
   "execution_count": 153,
   "metadata": {},
   "outputs": [],
   "source": [
    "tourney_games = df\n",
    "tourney_games['season'] = 2025\n",
    "tourney_games['date'] = '2025-04-20'\n",
    "tourney_games['Win_Loss'] = 'UNK'"
   ]
  },
  {
   "cell_type": "code",
   "execution_count": 154,
   "metadata": {},
   "outputs": [],
   "source": [
    "tourney_games = tourney_games[['date', 'season', 'team', 'opponent', 'Win_Loss']]"
   ]
  },
  {
   "cell_type": "code",
   "execution_count": 155,
   "metadata": {},
   "outputs": [
    {
     "data": {
      "text/plain": [
       "array(['Non-Conference', 'Conference', 'Conference Tourney'], dtype=object)"
      ]
     },
     "execution_count": 155,
     "metadata": {},
     "output_type": "execute_result"
    }
   ],
   "source": [
    "all_games['game_type'].unique()"
   ]
  },
  {
   "cell_type": "code",
   "execution_count": 156,
   "metadata": {},
   "outputs": [],
   "source": [
    "regular_season_games = all_games[all_games[\"game_type\"].isin(['Non-Conference', 'Conference'])]\n",
    "pre_tourney_games = all_games[all_games[\"game_type\"].isin(['Non-Conference', 'Conference', 'Conference Tourney'])]\n",
    "last_5_non_tourney = all_games[all_games['game_type'] != 'Post-Season Tourney'].sort_values('date').groupby(['team', 'season']).tail(5).sort_values(['team', 'season', 'date'])\n",
    "last_10_non_tourney = all_games[all_games['game_type'] != 'Post-Season Tourney'].sort_values('date').groupby(['team', 'season']).tail(10).sort_values(['team', 'season', 'date'])\n",
    "all_games['opp_season'] = all_games.apply(lambda x: f\"{x['opponent']}_{x['season']}\", axis=1)\n",
    "tourney_teams = tourney_games.apply(lambda x: f\"{x['team']}_{x['season']}\", axis=1).unique()\n",
    "games_vs_tourney_teams = all_games[all_games['opp_season'].isin(tourney_teams)]"
   ]
  },
  {
   "cell_type": "code",
   "execution_count": 157,
   "metadata": {},
   "outputs": [],
   "source": [
    "working = regular_season_games.groupby(['team', 'season','Win_Loss'], as_index=False).size()\n",
    "working = working.pivot_table(index=['team', 'season'], columns='Win_Loss', values='size', fill_value=0).reset_index()[['team', 'season', 'L', 'W']]\n",
    "working['regular_season_win_pct'] = working['W'] / (working['W'] + working['L'])\n",
    "regular_season_win_pct = working[['team', 'season', 'regular_season_win_pct']]"
   ]
  },
  {
   "cell_type": "code",
   "execution_count": 158,
   "metadata": {},
   "outputs": [],
   "source": [
    "tourney_games = tourney_games.merge(regular_season_win_pct, on=['team', 'season'], how='left')"
   ]
  },
  {
   "cell_type": "code",
   "execution_count": 159,
   "metadata": {},
   "outputs": [
    {
     "name": "stderr",
     "output_type": "stream",
     "text": [
      "C:\\Users\\amarl\\AppData\\Local\\Temp\\ipykernel_24076\\1859462520.py:1: SettingWithCopyWarning: \n",
      "A value is trying to be set on a copy of a slice from a DataFrame\n",
      "\n",
      "See the caveats in the documentation: https://pandas.pydata.org/pandas-docs/stable/user_guide/indexing.html#returning-a-view-versus-a-copy\n",
      "  regular_season_win_pct.rename(columns={'regular_season_win_pct': 'opponent_regular_season_win_pct', 'team':'opponent'}, inplace=True)\n"
     ]
    }
   ],
   "source": [
    "regular_season_win_pct.rename(columns={'regular_season_win_pct': 'opponent_regular_season_win_pct', 'team':'opponent'}, inplace=True)"
   ]
  },
  {
   "cell_type": "code",
   "execution_count": 160,
   "metadata": {},
   "outputs": [
    {
     "data": {
      "text/html": [
       "<div>\n",
       "<style scoped>\n",
       "    .dataframe tbody tr th:only-of-type {\n",
       "        vertical-align: middle;\n",
       "    }\n",
       "\n",
       "    .dataframe tbody tr th {\n",
       "        vertical-align: top;\n",
       "    }\n",
       "\n",
       "    .dataframe thead th {\n",
       "        text-align: right;\n",
       "    }\n",
       "</style>\n",
       "<table border=\"1\" class=\"dataframe\">\n",
       "  <thead>\n",
       "    <tr style=\"text-align: right;\">\n",
       "      <th></th>\n",
       "      <th>date</th>\n",
       "      <th>season</th>\n",
       "      <th>team</th>\n",
       "      <th>opponent</th>\n",
       "      <th>Win_Loss</th>\n",
       "      <th>regular_season_win_pct</th>\n",
       "    </tr>\n",
       "  </thead>\n",
       "  <tbody>\n",
       "    <tr>\n",
       "      <th>0</th>\n",
       "      <td>2025-04-20</td>\n",
       "      <td>2025</td>\n",
       "      <td>Auburn</td>\n",
       "      <td>Alabama St.</td>\n",
       "      <td>UNK</td>\n",
       "      <td>0.870968</td>\n",
       "    </tr>\n",
       "    <tr>\n",
       "      <th>1</th>\n",
       "      <td>2025-04-20</td>\n",
       "      <td>2025</td>\n",
       "      <td>Auburn</td>\n",
       "      <td>Saint Francis</td>\n",
       "      <td>UNK</td>\n",
       "      <td>0.870968</td>\n",
       "    </tr>\n",
       "    <tr>\n",
       "      <th>2</th>\n",
       "      <td>2025-04-20</td>\n",
       "      <td>2025</td>\n",
       "      <td>Auburn</td>\n",
       "      <td>Louisville</td>\n",
       "      <td>UNK</td>\n",
       "      <td>0.870968</td>\n",
       "    </tr>\n",
       "    <tr>\n",
       "      <th>3</th>\n",
       "      <td>2025-04-20</td>\n",
       "      <td>2025</td>\n",
       "      <td>Auburn</td>\n",
       "      <td>Creighton</td>\n",
       "      <td>UNK</td>\n",
       "      <td>0.870968</td>\n",
       "    </tr>\n",
       "    <tr>\n",
       "      <th>4</th>\n",
       "      <td>2025-04-20</td>\n",
       "      <td>2025</td>\n",
       "      <td>Auburn</td>\n",
       "      <td>Michigan</td>\n",
       "      <td>UNK</td>\n",
       "      <td>0.870968</td>\n",
       "    </tr>\n",
       "    <tr>\n",
       "      <th>...</th>\n",
       "      <td>...</td>\n",
       "      <td>...</td>\n",
       "      <td>...</td>\n",
       "      <td>...</td>\n",
       "      <td>...</td>\n",
       "      <td>...</td>\n",
       "    </tr>\n",
       "    <tr>\n",
       "      <th>4551</th>\n",
       "      <td>2025-04-20</td>\n",
       "      <td>2025</td>\n",
       "      <td>Wofford</td>\n",
       "      <td>Kentucky</td>\n",
       "      <td>UNK</td>\n",
       "      <td>0.482759</td>\n",
       "    </tr>\n",
       "    <tr>\n",
       "      <th>4552</th>\n",
       "      <td>2025-04-20</td>\n",
       "      <td>2025</td>\n",
       "      <td>Wofford</td>\n",
       "      <td>Troy</td>\n",
       "      <td>UNK</td>\n",
       "      <td>0.482759</td>\n",
       "    </tr>\n",
       "    <tr>\n",
       "      <th>4553</th>\n",
       "      <td>2025-04-20</td>\n",
       "      <td>2025</td>\n",
       "      <td>Wofford</td>\n",
       "      <td>UCLA</td>\n",
       "      <td>UNK</td>\n",
       "      <td>0.482759</td>\n",
       "    </tr>\n",
       "    <tr>\n",
       "      <th>4554</th>\n",
       "      <td>2025-04-20</td>\n",
       "      <td>2025</td>\n",
       "      <td>Wofford</td>\n",
       "      <td>Utah St.</td>\n",
       "      <td>UNK</td>\n",
       "      <td>0.482759</td>\n",
       "    </tr>\n",
       "    <tr>\n",
       "      <th>4555</th>\n",
       "      <td>2025-04-20</td>\n",
       "      <td>2025</td>\n",
       "      <td>Wofford</td>\n",
       "      <td>Tennessee</td>\n",
       "      <td>UNK</td>\n",
       "      <td>0.482759</td>\n",
       "    </tr>\n",
       "  </tbody>\n",
       "</table>\n",
       "<p>4556 rows × 6 columns</p>\n",
       "</div>"
      ],
      "text/plain": [
       "            date  season     team       opponent Win_Loss  \\\n",
       "0     2025-04-20    2025   Auburn    Alabama St.      UNK   \n",
       "1     2025-04-20    2025   Auburn  Saint Francis      UNK   \n",
       "2     2025-04-20    2025   Auburn     Louisville      UNK   \n",
       "3     2025-04-20    2025   Auburn      Creighton      UNK   \n",
       "4     2025-04-20    2025   Auburn       Michigan      UNK   \n",
       "...          ...     ...      ...            ...      ...   \n",
       "4551  2025-04-20    2025  Wofford       Kentucky      UNK   \n",
       "4552  2025-04-20    2025  Wofford           Troy      UNK   \n",
       "4553  2025-04-20    2025  Wofford           UCLA      UNK   \n",
       "4554  2025-04-20    2025  Wofford       Utah St.      UNK   \n",
       "4555  2025-04-20    2025  Wofford      Tennessee      UNK   \n",
       "\n",
       "      regular_season_win_pct  \n",
       "0                   0.870968  \n",
       "1                   0.870968  \n",
       "2                   0.870968  \n",
       "3                   0.870968  \n",
       "4                   0.870968  \n",
       "...                      ...  \n",
       "4551                0.482759  \n",
       "4552                0.482759  \n",
       "4553                0.482759  \n",
       "4554                0.482759  \n",
       "4555                0.482759  \n",
       "\n",
       "[4556 rows x 6 columns]"
      ]
     },
     "execution_count": 160,
     "metadata": {},
     "output_type": "execute_result"
    }
   ],
   "source": [
    "tourney_games"
   ]
  },
  {
   "cell_type": "code",
   "execution_count": 161,
   "metadata": {},
   "outputs": [],
   "source": [
    "tourney_games = tourney_games.merge(regular_season_win_pct, on=['opponent', 'season'], how='left')"
   ]
  },
  {
   "cell_type": "code",
   "execution_count": 162,
   "metadata": {},
   "outputs": [],
   "source": [
    "working = pre_tourney_games.groupby(['team', 'season','Win_Loss'], as_index=False).size()\n",
    "working = working.pivot_table(index=['team', 'season'], columns='Win_Loss', values='size', fill_value=0).reset_index()[['team', 'season', 'L', 'W']]\n",
    "working['season_win_pct'] = working['W'] / (working['W'] + working['L'])\n",
    "season_win_pct = working[['team', 'season', 'season_win_pct']]"
   ]
  },
  {
   "cell_type": "code",
   "execution_count": 163,
   "metadata": {},
   "outputs": [],
   "source": [
    "tourney_games = tourney_games.merge(season_win_pct, on=['team', 'season'], how='left')"
   ]
  },
  {
   "cell_type": "code",
   "execution_count": 164,
   "metadata": {},
   "outputs": [
    {
     "name": "stderr",
     "output_type": "stream",
     "text": [
      "C:\\Users\\amarl\\AppData\\Local\\Temp\\ipykernel_24076\\1093291026.py:1: SettingWithCopyWarning: \n",
      "A value is trying to be set on a copy of a slice from a DataFrame\n",
      "\n",
      "See the caveats in the documentation: https://pandas.pydata.org/pandas-docs/stable/user_guide/indexing.html#returning-a-view-versus-a-copy\n",
      "  season_win_pct.rename(columns={'season_win_pct': 'opponent_season_win_pct', 'team':'opponent'}, inplace=True)\n"
     ]
    }
   ],
   "source": [
    "season_win_pct.rename(columns={'season_win_pct': 'opponent_season_win_pct', 'team':'opponent'}, inplace=True)"
   ]
  },
  {
   "cell_type": "code",
   "execution_count": 165,
   "metadata": {},
   "outputs": [],
   "source": [
    "tourney_games = tourney_games.merge(season_win_pct, on=['opponent', 'season'], how='left')"
   ]
  },
  {
   "cell_type": "code",
   "execution_count": 166,
   "metadata": {},
   "outputs": [],
   "source": [
    "pre_tourney_games['score'] = pre_tourney_games['score'].astype(int)\n",
    "season_ppg = pre_tourney_games[['team', 'season','score']].groupby(['team', 'season']).mean().reset_index().rename(columns={'score': 'season_ppg'})"
   ]
  },
  {
   "cell_type": "code",
   "execution_count": 167,
   "metadata": {},
   "outputs": [],
   "source": [
    "tourney_games = tourney_games.merge(season_ppg, on=['team', 'season'], how='left')"
   ]
  },
  {
   "cell_type": "code",
   "execution_count": 168,
   "metadata": {},
   "outputs": [],
   "source": [
    "season_ppg.rename(columns={'season_ppg': 'opponent_season_ppg', 'team':'opponent'}, inplace=True)\n",
    "tourney_games = tourney_games.merge(season_ppg, on=['opponent', 'season'], how='left')"
   ]
  },
  {
   "cell_type": "code",
   "execution_count": 169,
   "metadata": {},
   "outputs": [],
   "source": [
    "pre_tourney_games['opponent_score'] = pre_tourney_games['opponent_score'].astype(int)\n",
    "season_ppg_allowed = pre_tourney_games[['team', 'season','opponent_score']].groupby(['team', 'season']).mean().reset_index().rename(columns={'opponent_score': 'season_ppg_allowed'})"
   ]
  },
  {
   "cell_type": "code",
   "execution_count": 170,
   "metadata": {},
   "outputs": [],
   "source": [
    "season_ppg_std = pre_tourney_games[['team', 'season','score']].groupby(['team', 'season']).std().reset_index().rename(columns={'score': 'season_ppg_std'})\n",
    "tourney_games = tourney_games.merge(season_ppg_std, on=['team', 'season'], how='left')\n",
    "season_ppg_std.rename(columns={'season_ppg_std': 'opponent_season_ppg_std', 'team':'opponent'}, inplace=True)\n",
    "tourney_games = tourney_games.merge(season_ppg_std, on=['opponent', 'season'], how='left')"
   ]
  },
  {
   "cell_type": "code",
   "execution_count": 171,
   "metadata": {},
   "outputs": [],
   "source": [
    "season_ppg_allowed_std = pre_tourney_games[['team', 'season','opponent_score']].groupby(['team', 'season']).std().reset_index().rename(columns={'opponent_score': 'season_ppg_allowed_std'})\n",
    "tourney_games = tourney_games.merge(season_ppg_allowed_std, on=['team', 'season'], how='left')\n",
    "season_ppg_allowed_std.rename(columns={'season_ppg_allowed_std': 'opponent_season_ppg_allowed_std', 'team':'opponent'}, inplace=True)\n",
    "tourney_games = tourney_games.merge(season_ppg_allowed_std, on=['opponent', 'season'], how='left')"
   ]
  },
  {
   "cell_type": "code",
   "execution_count": 172,
   "metadata": {},
   "outputs": [],
   "source": [
    "tourney_games = tourney_games.merge(season_ppg_allowed, on=['team', 'season'], how='left')"
   ]
  },
  {
   "cell_type": "code",
   "execution_count": 173,
   "metadata": {},
   "outputs": [],
   "source": [
    "season_ppg_allowed.rename(columns={'season_ppg_allowed': 'opponent_season_ppg_allowed', 'team':'opponent'}, inplace=True)\n",
    "tourney_games = tourney_games.merge(season_ppg_allowed, on=['opponent', 'season'], how='left')"
   ]
  },
  {
   "cell_type": "code",
   "execution_count": 174,
   "metadata": {},
   "outputs": [],
   "source": [
    "working = last_10_non_tourney.groupby(['team', 'season','Win_Loss'], as_index=False).size()\n",
    "working = working.pivot_table(index=['team', 'season'], columns='Win_Loss', values='size', fill_value=0).reset_index()[['team', 'season', 'L', 'W']]\n",
    "working['last_10_win_pct'] = working['W'] / (working['W'] + working['L'])\n",
    "last_10_win_pct = working[['team', 'season', 'last_10_win_pct']]"
   ]
  },
  {
   "cell_type": "code",
   "execution_count": 175,
   "metadata": {},
   "outputs": [],
   "source": [
    "tourney_games = tourney_games.merge(last_10_win_pct, on=['team', 'season'], how='left')"
   ]
  },
  {
   "cell_type": "code",
   "execution_count": 176,
   "metadata": {},
   "outputs": [],
   "source": [
    "last_10_non_tourney['score'] = last_10_non_tourney['score'].astype(int)\n",
    "last_10_ppg = last_10_non_tourney[['team', 'season','score']].groupby(['team', 'season']).mean().reset_index().rename(columns={'score': 'last_10_ppg'})\n",
    "tourney_games = tourney_games.merge(last_10_ppg, on=['team', 'season'], how='left')\n",
    "last_10_ppg.rename(columns={'last_10_ppg': 'opponent_last_10_ppg', 'team':'opponent'}, inplace=True)\n",
    "tourney_games = tourney_games.merge(last_10_ppg, on=['opponent', 'season'], how='left')"
   ]
  },
  {
   "cell_type": "code",
   "execution_count": 177,
   "metadata": {},
   "outputs": [],
   "source": [
    "last_10_ppg_std = last_10_non_tourney[['team', 'season','score']].groupby(['team', 'season']).std().reset_index().rename(columns={'score': 'last_10_ppg_std'})\n",
    "tourney_games = tourney_games.merge(last_10_ppg_std, on=['team', 'season'], how='left')\n",
    "last_10_ppg_std.rename(columns={'last_10_ppg_std': 'opponent_last_10_ppg_std', 'team':'opponent'}, inplace=True)\n",
    "tourney_games = tourney_games.merge(last_10_ppg_std, on=['opponent', 'season'], how='left')"
   ]
  },
  {
   "cell_type": "code",
   "execution_count": 178,
   "metadata": {},
   "outputs": [],
   "source": [
    "last_10_non_tourney['opponent_score'] = last_10_non_tourney['opponent_score'].astype(int)\n",
    "last_10_ppg_allowed = last_10_non_tourney[['team', 'season','opponent_score']].groupby(['team', 'season']).mean().reset_index().rename(columns={'opponent_score': 'last_10_ppg_allowed'})\n",
    "tourney_games = tourney_games.merge(last_10_ppg_allowed, on=['team', 'season'], how='left')\n",
    "last_10_ppg_allowed.rename(columns={'last_10_ppg_allowed': 'opponent_last_10_ppg_allowed', 'team':'opponent'}, inplace=True)\n",
    "tourney_games = tourney_games.merge(last_10_ppg_allowed, on=['opponent', 'season'], how='left')"
   ]
  },
  {
   "cell_type": "code",
   "execution_count": 179,
   "metadata": {},
   "outputs": [],
   "source": [
    "last_10_ppg_allowed_std = last_10_non_tourney[['team', 'season','opponent_score']].groupby(['team', 'season']).std().reset_index().rename(columns={'opponent_score': 'last_10_ppg_allowed_std'})\n",
    "tourney_games = tourney_games.merge(last_10_ppg_allowed_std, on=['team', 'season'], how='left')\n",
    "last_10_ppg_allowed_std.rename(columns={'last_10_ppg_allowed_std': 'opponent_last_10_ppg_allowed_std', 'team':'opponent'}, inplace=True)\n",
    "tourney_games = tourney_games.merge(last_10_ppg_allowed_std, on=['opponent', 'season'], how='left')"
   ]
  },
  {
   "cell_type": "code",
   "execution_count": 180,
   "metadata": {},
   "outputs": [
    {
     "name": "stderr",
     "output_type": "stream",
     "text": [
      "C:\\Users\\amarl\\AppData\\Local\\Temp\\ipykernel_24076\\1411312810.py:1: SettingWithCopyWarning: \n",
      "A value is trying to be set on a copy of a slice from a DataFrame\n",
      "\n",
      "See the caveats in the documentation: https://pandas.pydata.org/pandas-docs/stable/user_guide/indexing.html#returning-a-view-versus-a-copy\n",
      "  last_10_win_pct.rename(columns={'last_10_win_pct': 'opponent_last_10_win_pct', 'team':'opponent'}, inplace=True)\n"
     ]
    }
   ],
   "source": [
    "last_10_win_pct.rename(columns={'last_10_win_pct': 'opponent_last_10_win_pct', 'team':'opponent'}, inplace=True)\n",
    "tourney_games = tourney_games.merge(last_10_win_pct, on=['opponent', 'season'], how='left')"
   ]
  },
  {
   "cell_type": "code",
   "execution_count": 181,
   "metadata": {},
   "outputs": [],
   "source": [
    "working = last_5_non_tourney.groupby(['team', 'season','Win_Loss'], as_index=False).size()\n",
    "working = working.pivot_table(index=['team', 'season'], columns='Win_Loss', values='size', fill_value=0).reset_index()[['team', 'season', 'L', 'W']]\n",
    "working['last_5_win_pct'] = working['W'] / (working['W'] + working['L'])\n",
    "last_5_win_pct = working[['team', 'season', 'last_5_win_pct']]"
   ]
  },
  {
   "cell_type": "code",
   "execution_count": 182,
   "metadata": {},
   "outputs": [],
   "source": [
    "tourney_games = tourney_games.merge(last_5_win_pct, on=['team', 'season'], how='left')"
   ]
  },
  {
   "cell_type": "code",
   "execution_count": 183,
   "metadata": {},
   "outputs": [
    {
     "name": "stderr",
     "output_type": "stream",
     "text": [
      "C:\\Users\\amarl\\AppData\\Local\\Temp\\ipykernel_24076\\489938241.py:1: SettingWithCopyWarning: \n",
      "A value is trying to be set on a copy of a slice from a DataFrame\n",
      "\n",
      "See the caveats in the documentation: https://pandas.pydata.org/pandas-docs/stable/user_guide/indexing.html#returning-a-view-versus-a-copy\n",
      "  last_5_win_pct.rename(columns={'last_5_win_pct': 'opponent_last_5_win_pct', 'team':'opponent'}, inplace=True)\n"
     ]
    }
   ],
   "source": [
    "last_5_win_pct.rename(columns={'last_5_win_pct': 'opponent_last_5_win_pct', 'team':'opponent'}, inplace=True)\n",
    "tourney_games = tourney_games.merge(last_5_win_pct, on=['opponent', 'season'], how='left')"
   ]
  },
  {
   "cell_type": "code",
   "execution_count": 184,
   "metadata": {},
   "outputs": [],
   "source": [
    "working = games_vs_tourney_teams.groupby(['team', 'season','Win_Loss'], as_index=False).size()\n",
    "working = working.pivot_table(index=['team', 'season'], columns='Win_Loss', values='size', fill_value=0).reset_index()[['team', 'season', 'L', 'W']]\n",
    "working['vs_tourney_team_win_pct'] = working['W'] / (working['W'] + working['L'])\n",
    "vs_tourney_team_win_pct = working[['team', 'season', 'vs_tourney_team_win_pct']]"
   ]
  },
  {
   "cell_type": "code",
   "execution_count": 185,
   "metadata": {},
   "outputs": [],
   "source": [
    "tourney_games = tourney_games.merge(vs_tourney_team_win_pct, on=['team', 'season'], how='left')"
   ]
  },
  {
   "cell_type": "code",
   "execution_count": 186,
   "metadata": {},
   "outputs": [
    {
     "name": "stderr",
     "output_type": "stream",
     "text": [
      "C:\\Users\\amarl\\AppData\\Local\\Temp\\ipykernel_24076\\2986988654.py:1: SettingWithCopyWarning: \n",
      "A value is trying to be set on a copy of a slice from a DataFrame\n",
      "\n",
      "See the caveats in the documentation: https://pandas.pydata.org/pandas-docs/stable/user_guide/indexing.html#returning-a-view-versus-a-copy\n",
      "  vs_tourney_team_win_pct.rename(columns={'vs_tourney_team_win_pct': 'opponent_vs_tourney_team_win_pct', 'team':'opponent'}, inplace=True)\n"
     ]
    }
   ],
   "source": [
    "vs_tourney_team_win_pct.rename(columns={'vs_tourney_team_win_pct': 'opponent_vs_tourney_team_win_pct', 'team':'opponent'}, inplace=True)\n",
    "tourney_games = tourney_games.merge(vs_tourney_team_win_pct, on=['opponent', 'season'], how='left')"
   ]
  },
  {
   "cell_type": "code",
   "execution_count": 187,
   "metadata": {},
   "outputs": [],
   "source": [
    "working = games_vs_tourney_teams.groupby(['team', 'season','Win_Loss'], as_index=False).size()\n",
    "working = working.pivot_table(index=['team', 'season'], columns='Win_Loss', values='size', fill_value=0).reset_index()[['team', 'season', 'L', 'W']]\n",
    "working['games_played_vs_tourney_teams'] = (working['W'] + working['L'])\n",
    "games_played_vs_tourney_teams = working[['team', 'season', 'games_played_vs_tourney_teams']]"
   ]
  },
  {
   "cell_type": "code",
   "execution_count": 188,
   "metadata": {},
   "outputs": [],
   "source": [
    "tourney_games = tourney_games.merge(games_played_vs_tourney_teams, on=['team', 'season'], how='left')"
   ]
  },
  {
   "cell_type": "code",
   "execution_count": 189,
   "metadata": {},
   "outputs": [
    {
     "name": "stderr",
     "output_type": "stream",
     "text": [
      "C:\\Users\\amarl\\AppData\\Local\\Temp\\ipykernel_24076\\3857983212.py:1: SettingWithCopyWarning: \n",
      "A value is trying to be set on a copy of a slice from a DataFrame\n",
      "\n",
      "See the caveats in the documentation: https://pandas.pydata.org/pandas-docs/stable/user_guide/indexing.html#returning-a-view-versus-a-copy\n",
      "  games_played_vs_tourney_teams.rename(columns={'games_played_vs_tourney_teams': 'opponent_games_played_vs_tourney_teams', 'team':'opponent'}, inplace=True)\n"
     ]
    }
   ],
   "source": [
    "games_played_vs_tourney_teams.rename(columns={'games_played_vs_tourney_teams': 'opponent_games_played_vs_tourney_teams', 'team':'opponent'}, inplace=True)\n",
    "tourney_games = tourney_games.merge(games_played_vs_tourney_teams, on=['opponent', 'season'], how='left')"
   ]
  },
  {
   "cell_type": "code",
   "execution_count": 190,
   "metadata": {},
   "outputs": [
    {
     "data": {
      "text/plain": [
       "Index(['date', 'game_type', 'team', 'conference', 'opponent', 'location',\n",
       "       'result', 'adj_offense', 'adj_defense', 'offensive_efficiency',\n",
       "       'effective_fg_percent', 'turnover_percent', 'offensive_rebound_percent',\n",
       "       'free_throw_rate', 'opponent_offensive_efficiency',\n",
       "       'opponent_effective_fg_percent', 'opponent_turnover_percent',\n",
       "       'opponent_offensive_rebound_percent', 'opponent_free_throw_rate',\n",
       "       'opponent_conference', 'season', 'Win_Loss', 'score', 'opponent_score'],\n",
       "      dtype='object')"
      ]
     },
     "execution_count": 190,
     "metadata": {},
     "output_type": "execute_result"
    }
   ],
   "source": [
    "pre_tourney_games.columns"
   ]
  },
  {
   "cell_type": "code",
   "execution_count": 191,
   "metadata": {},
   "outputs": [],
   "source": [
    "season_adj_offense = pre_tourney_games[['team', 'season','adj_offense']].groupby(['team', 'season']).mean().reset_index().rename(columns={'adj_offense': 'season_adj_offense'})"
   ]
  },
  {
   "cell_type": "code",
   "execution_count": 192,
   "metadata": {},
   "outputs": [],
   "source": [
    "tourney_games = tourney_games.merge(season_adj_offense, on=['team', 'season'], how='left')"
   ]
  },
  {
   "cell_type": "code",
   "execution_count": 193,
   "metadata": {},
   "outputs": [],
   "source": [
    "season_adj_offense.rename(columns={'season_adj_offense': 'opponent_season_adj_offense', 'team':'opponent'}, inplace=True)\n",
    "tourney_games = tourney_games.merge(season_adj_offense, on=['opponent', 'season'], how='left')"
   ]
  },
  {
   "cell_type": "code",
   "execution_count": 194,
   "metadata": {},
   "outputs": [],
   "source": [
    "season_adj_offense_std = pre_tourney_games[['team', 'season','adj_offense']].groupby(['team', 'season']).std().reset_index().rename(columns={'adj_offense': 'season_adj_offense_std'})\n",
    "tourney_games = tourney_games.merge(season_adj_offense_std, on=['team', 'season'], how='left')\n",
    "season_adj_offense_std.rename(columns={'season_adj_offense_std': 'opponent_season_adj_offense_std', 'team':'opponent'}, inplace=True)\n",
    "tourney_games = tourney_games.merge(season_adj_offense_std, on=['opponent', 'season'], how='left')"
   ]
  },
  {
   "cell_type": "code",
   "execution_count": 195,
   "metadata": {},
   "outputs": [],
   "source": [
    "last_10_adj_offense = last_10_non_tourney[['team', 'season','adj_offense']].groupby(['team', 'season']).mean().reset_index().rename(columns={'adj_offense': 'last_10_adj_offense'})\n",
    "tourney_games = tourney_games.merge(last_10_adj_offense, on=['team', 'season'], how='left')\n",
    "last_10_adj_offense.rename(columns={'last_10_adj_offense': 'opponent_last_10_adj_offense', 'team':'opponent'}, inplace=True)\n",
    "tourney_games = tourney_games.merge(last_10_adj_offense, on=['opponent', 'season'], how='left')"
   ]
  },
  {
   "cell_type": "code",
   "execution_count": 196,
   "metadata": {},
   "outputs": [],
   "source": [
    "last_10_adj_offense_std = last_10_non_tourney[['team', 'season','adj_offense']].groupby(['team', 'season']).std().reset_index().rename(columns={'adj_offense': 'last_10_adj_offense_std'})\n",
    "tourney_games = tourney_games.merge(last_10_adj_offense_std, on=['team', 'season'], how='left')\n",
    "last_10_adj_offense_std.rename(columns={'last_10_adj_offense_std': 'opponent_last_10_adj_offense_std', 'team':'opponent'}, inplace=True)\n",
    "tourney_games = tourney_games.merge(last_10_adj_offense_std, on=['opponent', 'season'], how='left')"
   ]
  },
  {
   "cell_type": "code",
   "execution_count": 197,
   "metadata": {},
   "outputs": [],
   "source": [
    "season_adj_defense = pre_tourney_games[['team', 'season','adj_defense']].groupby(['team', 'season']).mean().reset_index().rename(columns={'adj_defense': 'season_adj_defense'})"
   ]
  },
  {
   "cell_type": "code",
   "execution_count": 198,
   "metadata": {},
   "outputs": [],
   "source": [
    "tourney_games = tourney_games.merge(season_adj_defense, on=['team', 'season'], how='left')"
   ]
  },
  {
   "cell_type": "code",
   "execution_count": 199,
   "metadata": {},
   "outputs": [],
   "source": [
    "season_adj_defense.rename(columns={'season_adj_defense': 'opponent_season_adj_defense', 'team':'opponent'}, inplace=True)\n",
    "tourney_games = tourney_games.merge(season_adj_defense, on=['opponent', 'season'], how='left')"
   ]
  },
  {
   "cell_type": "code",
   "execution_count": 200,
   "metadata": {},
   "outputs": [],
   "source": [
    "season_adj_defense_std = pre_tourney_games[['team', 'season','adj_defense']].groupby(['team', 'season']).std().reset_index().rename(columns={'adj_defense': 'season_adj_defense_std'})\n",
    "tourney_games = tourney_games.merge(season_adj_defense_std, on=['team', 'season'], how='left')\n",
    "season_adj_defense_std.rename(columns={'season_adj_defense_std': 'opponent_season_adj_defense_std', 'team':'opponent'}, inplace=True)\n",
    "tourney_games = tourney_games.merge(season_adj_defense_std, on=['opponent', 'season'], how='left')"
   ]
  },
  {
   "cell_type": "code",
   "execution_count": 201,
   "metadata": {},
   "outputs": [],
   "source": [
    "vs_tourney_team_adj_offense = games_vs_tourney_teams[['team', 'season','adj_offense']].groupby(['team', 'season']).mean().reset_index().rename(columns={'adj_offense': 'vs_tourney_team_adj_offense'})"
   ]
  },
  {
   "cell_type": "code",
   "execution_count": 202,
   "metadata": {},
   "outputs": [],
   "source": [
    "tourney_games = tourney_games.merge(vs_tourney_team_adj_offense, on=['team', 'season'], how='left')"
   ]
  },
  {
   "cell_type": "code",
   "execution_count": 203,
   "metadata": {},
   "outputs": [],
   "source": [
    "vs_tourney_team_adj_offense.rename(columns={'vs_tourney_team_adj_offense': 'opponent_vs_tourney_team_adj_offense', 'team':'opponent'}, inplace=True)"
   ]
  },
  {
   "cell_type": "code",
   "execution_count": 204,
   "metadata": {},
   "outputs": [],
   "source": [
    "tourney_games = tourney_games.merge(vs_tourney_team_adj_offense, on=['opponent', 'season'], how='left')"
   ]
  },
  {
   "cell_type": "code",
   "execution_count": 205,
   "metadata": {},
   "outputs": [],
   "source": [
    "vs_tourney_team_adj_offense_std = games_vs_tourney_teams[['team', 'season','adj_offense']].groupby(['team', 'season']).std().reset_index().rename(columns={'adj_offense': 'vs_tourney_team_adj_offense_std'})\n",
    "tourney_games = tourney_games.merge(vs_tourney_team_adj_offense_std, on=['team', 'season'], how='left')\n",
    "vs_tourney_team_adj_offense_std.rename(columns={'vs_tourney_team_adj_offense_std': 'opponent_vs_tourney_team_adj_offense_std', 'team':'opponent'}, inplace=True)\n",
    "tourney_games = tourney_games.merge(vs_tourney_team_adj_offense_std, on=['opponent', 'season'], how='left')"
   ]
  },
  {
   "cell_type": "code",
   "execution_count": 206,
   "metadata": {},
   "outputs": [],
   "source": [
    "vs_tourney_team_adj_defense = games_vs_tourney_teams[['team', 'season','adj_defense']].groupby(['team', 'season']).mean().reset_index().rename(columns={'adj_defense': 'vs_tourney_team_adj_defense'})"
   ]
  },
  {
   "cell_type": "code",
   "execution_count": 207,
   "metadata": {},
   "outputs": [],
   "source": [
    "tourney_games = tourney_games.merge(vs_tourney_team_adj_defense, on=['team', 'season'], how='left')"
   ]
  },
  {
   "cell_type": "code",
   "execution_count": 208,
   "metadata": {},
   "outputs": [],
   "source": [
    "vs_tourney_team_adj_defense.rename(columns={'vs_tourney_team_adj_defense': 'opponent_vs_tourney_team_adj_defense', 'team':'opponent'}, inplace=True)"
   ]
  },
  {
   "cell_type": "code",
   "execution_count": 209,
   "metadata": {},
   "outputs": [],
   "source": [
    "tourney_games = tourney_games.merge(vs_tourney_team_adj_defense, on=['opponent', 'season'], how='left')"
   ]
  },
  {
   "cell_type": "code",
   "execution_count": 210,
   "metadata": {},
   "outputs": [],
   "source": [
    "vs_tourney_team_adj_defense_std = games_vs_tourney_teams[['team', 'season','adj_defense']].groupby(['team', 'season']).std().reset_index().rename(columns={'adj_defense': 'vs_tourney_team_adj_defense_std'})\n",
    "tourney_games = tourney_games.merge(vs_tourney_team_adj_defense_std, on=['team', 'season'], how='left')\n",
    "vs_tourney_team_adj_defense_std.rename(columns={'vs_tourney_team_adj_defense_std': 'opponent_vs_tourney_team_adj_defense_std', 'team':'opponent'}, inplace=True)\n",
    "tourney_games = tourney_games.merge(vs_tourney_team_adj_defense_std, on=['opponent', 'season'], how='left')"
   ]
  },
  {
   "cell_type": "code",
   "execution_count": 211,
   "metadata": {},
   "outputs": [],
   "source": [
    "last_10_adj_defense = last_10_non_tourney[['team', 'season','adj_defense']].groupby(['team', 'season']).mean().reset_index().rename(columns={'adj_defense': 'last_10_adj_defense'})\n",
    "tourney_games = tourney_games.merge(last_10_adj_defense, on=['team', 'season'], how='left')\n",
    "last_10_adj_defense.rename(columns={'last_10_adj_defense': 'opponent_last_10_adj_defense', 'team':'opponent'}, inplace=True)\n",
    "tourney_games = tourney_games.merge(last_10_adj_defense, on=['opponent', 'season'], how='left')"
   ]
  },
  {
   "cell_type": "code",
   "execution_count": 212,
   "metadata": {},
   "outputs": [],
   "source": [
    "last_10_adj_defense_std = last_10_non_tourney[['team', 'season','adj_defense']].groupby(['team', 'season']).std().reset_index().rename(columns={'adj_defense': 'last_10_adj_defense_std'})\n",
    "tourney_games = tourney_games.merge(last_10_adj_defense_std, on=['team', 'season'], how='left')\n",
    "last_10_adj_defense_std.rename(columns={'last_10_adj_defense_std': 'opponent_last_10_adj_defense_std', 'team':'opponent'}, inplace=True)\n",
    "tourney_games = tourney_games.merge(last_10_adj_defense_std, on=['opponent', 'season'], how='left')"
   ]
  },
  {
   "cell_type": "code",
   "execution_count": 213,
   "metadata": {},
   "outputs": [],
   "source": [
    "season_offensive_efficiency = pre_tourney_games[['team', 'season','offensive_efficiency']].groupby(['team', 'season']).mean().reset_index().rename(columns={'offensive_efficiency': 'season_offensive_efficiency'})"
   ]
  },
  {
   "cell_type": "code",
   "execution_count": 214,
   "metadata": {},
   "outputs": [],
   "source": [
    "tourney_games = tourney_games.merge(season_offensive_efficiency, on=['team', 'season'], how='left')"
   ]
  },
  {
   "cell_type": "code",
   "execution_count": 215,
   "metadata": {},
   "outputs": [],
   "source": [
    "season_offensive_efficiency.rename(columns={'season_offensive_efficiency': 'opponent_season_offensive_efficiency', 'team':'opponent'}, inplace=True)\n",
    "tourney_games = tourney_games.merge(season_offensive_efficiency, on=['opponent', 'season'], how='left')"
   ]
  },
  {
   "cell_type": "code",
   "execution_count": 216,
   "metadata": {},
   "outputs": [],
   "source": [
    "season_offensive_efficiency_std = pre_tourney_games[['team', 'season','offensive_efficiency']].groupby(['team', 'season']).std().reset_index().rename(columns={'offensive_efficiency': 'season_offensive_efficiency_std'})\n",
    "tourney_games = tourney_games.merge(season_offensive_efficiency_std, on=['team', 'season'], how='left')\n",
    "season_offensive_efficiency_std.rename(columns={'season_offensive_efficiency_std': 'opponent_season_offensive_efficiency_std', 'team':'opponent'}, inplace=True)\n",
    "tourney_games = tourney_games.merge(season_offensive_efficiency_std, on=['opponent', 'season'], how='left')"
   ]
  },
  {
   "cell_type": "code",
   "execution_count": 217,
   "metadata": {},
   "outputs": [],
   "source": [
    "vs_tourney_team_offensive_efficiency = games_vs_tourney_teams[['team', 'season','offensive_efficiency']].groupby(['team', 'season']).mean().reset_index().rename(columns={'offensive_efficiency': 'vs_tourney_team_offensive_efficiency'})"
   ]
  },
  {
   "cell_type": "code",
   "execution_count": 218,
   "metadata": {},
   "outputs": [],
   "source": [
    "tourney_games = tourney_games.merge(vs_tourney_team_offensive_efficiency, on=['team', 'season'], how='left')"
   ]
  },
  {
   "cell_type": "code",
   "execution_count": 219,
   "metadata": {},
   "outputs": [],
   "source": [
    "vs_tourney_team_offensive_efficiency.rename(columns={'vs_tourney_team_offensive_efficiency': 'opponent_vs_tourney_team_offensive_efficiency', 'team':'opponent'}, inplace=True)\n",
    "tourney_games = tourney_games.merge(vs_tourney_team_offensive_efficiency, on=['opponent', 'season'], how='left')"
   ]
  },
  {
   "cell_type": "code",
   "execution_count": 220,
   "metadata": {},
   "outputs": [],
   "source": [
    "vs_tourney_team_offensive_efficiency_std = games_vs_tourney_teams[['team', 'season','offensive_efficiency']].groupby(['team', 'season']).std().reset_index().rename(columns={'offensive_efficiency': 'vs_tourney_team_offensive_efficiency_std'})\n",
    "tourney_games = tourney_games.merge(vs_tourney_team_offensive_efficiency_std, on=['team', 'season'], how='left')\n",
    "vs_tourney_team_offensive_efficiency_std.rename(columns={'vs_tourney_team_offensive_efficiency_std': 'opponent_vs_tourney_team_offensive_efficiency_std', 'team':'opponent'}, inplace=True)\n",
    "tourney_games = tourney_games.merge(vs_tourney_team_offensive_efficiency_std, on=['opponent', 'season'], how='left')"
   ]
  },
  {
   "cell_type": "code",
   "execution_count": 221,
   "metadata": {},
   "outputs": [],
   "source": [
    "last_10_offensive_efficiency = last_10_non_tourney[['team', 'season','offensive_efficiency']].groupby(['team', 'season']).mean().reset_index().rename(columns={'offensive_efficiency': 'last_10_offensive_efficiency'})\n",
    "tourney_games = tourney_games.merge(last_10_offensive_efficiency, on=['team', 'season'], how='left')\n",
    "last_10_offensive_efficiency.rename(columns={'last_10_offensive_efficiency': 'opponent_last_10_offensive_efficiency', 'team':'opponent'}, inplace=True)\n",
    "tourney_games = tourney_games.merge(last_10_offensive_efficiency, on=['opponent', 'season'], how='left')"
   ]
  },
  {
   "cell_type": "code",
   "execution_count": 222,
   "metadata": {},
   "outputs": [],
   "source": [
    "last_10_offensive_efficiency_std = last_10_non_tourney[['team', 'season','offensive_efficiency']].groupby(['team', 'season']).std().reset_index().rename(columns={'offensive_efficiency': 'last_10_offensive_efficiency_std'})\n",
    "tourney_games = tourney_games.merge(last_10_offensive_efficiency_std, on=['team', 'season'], how='left')\n",
    "last_10_offensive_efficiency_std.rename(columns={'last_10_offensive_efficiency_std': 'opponent_last_10_offensive_efficiency_std', 'team':'opponent'}, inplace=True)\n",
    "tourney_games = tourney_games.merge(last_10_offensive_efficiency_std, on=['opponent', 'season'], how='left')"
   ]
  },
  {
   "cell_type": "code",
   "execution_count": 223,
   "metadata": {},
   "outputs": [],
   "source": [
    "season_effective_fg_percent = pre_tourney_games[['team', 'season','effective_fg_percent']].groupby(['team', 'season']).mean().reset_index().rename(columns={'effective_fg_percent': 'season_effective_fg_percent'})"
   ]
  },
  {
   "cell_type": "code",
   "execution_count": 224,
   "metadata": {},
   "outputs": [],
   "source": [
    "tourney_games = tourney_games.merge(season_effective_fg_percent, on=['team', 'season'], how='left')"
   ]
  },
  {
   "cell_type": "code",
   "execution_count": 225,
   "metadata": {},
   "outputs": [],
   "source": [
    "season_effective_fg_percent.rename(columns={'season_effective_fg_percent': 'opponent_season_effective_fg_percent', 'team':'opponent'}, inplace=True)\n",
    "tourney_games = tourney_games.merge(season_effective_fg_percent, on=['opponent', 'season'], how='left')"
   ]
  },
  {
   "cell_type": "code",
   "execution_count": 226,
   "metadata": {},
   "outputs": [],
   "source": [
    "season_effective_fg_percent_std = pre_tourney_games[['team', 'season','effective_fg_percent']].groupby(['team', 'season']).std().reset_index().rename(columns={'effective_fg_percent': 'season_effective_fg_percent_std'})\n",
    "tourney_games = tourney_games.merge(season_effective_fg_percent_std, on=['team', 'season'], how='left')\n",
    "season_effective_fg_percent_std.rename(columns={'season_effective_fg_percent_std': 'opponent_season_effective_fg_percent_std', 'team':'opponent'}, inplace=True)\n",
    "tourney_games = tourney_games.merge(season_effective_fg_percent_std, on=['opponent', 'season'], how='left')"
   ]
  },
  {
   "cell_type": "code",
   "execution_count": 227,
   "metadata": {},
   "outputs": [],
   "source": [
    "vs_tourney_team_effective_fg_percent = games_vs_tourney_teams[['team', 'season','effective_fg_percent']].groupby(['team', 'season']).mean().reset_index().rename(columns={'effective_fg_percent': 'vs_tourney_team_effective_fg_percent'})\n",
    "tourney_games = tourney_games.merge(vs_tourney_team_effective_fg_percent, on=['team', 'season'], how='left')\n",
    "vs_tourney_team_effective_fg_percent.rename(columns={'vs_tourney_team_effective_fg_percent': 'opponent_vs_tourney_team_effective_fg_percent', 'team':'opponent'}, inplace=True)\n",
    "tourney_games = tourney_games.merge(vs_tourney_team_effective_fg_percent, on=['opponent', 'season'], how='left')"
   ]
  },
  {
   "cell_type": "code",
   "execution_count": 228,
   "metadata": {},
   "outputs": [],
   "source": [
    "vs_tourney_team_effective_fg_percent_std = games_vs_tourney_teams[['team', 'season','effective_fg_percent']].groupby(['team', 'season']).std().reset_index().rename(columns={'effective_fg_percent': 'vs_tourney_team_effective_fg_percent_std'})\n",
    "tourney_games = tourney_games.merge(vs_tourney_team_effective_fg_percent_std, on=['team', 'season'], how='left')\n",
    "vs_tourney_team_effective_fg_percent_std.rename(columns={'vs_tourney_team_effective_fg_percent_std': 'opponent_vs_tourney_team_effective_fg_percent_std', 'team':'opponent'}, inplace=True)\n",
    "tourney_games = tourney_games.merge(vs_tourney_team_effective_fg_percent_std, on=['opponent', 'season'], how='left')"
   ]
  },
  {
   "cell_type": "code",
   "execution_count": 229,
   "metadata": {},
   "outputs": [],
   "source": [
    "last_10_effective_fg_percent = last_10_non_tourney[['team', 'season','effective_fg_percent']].groupby(['team', 'season']).mean().reset_index().rename(columns={'effective_fg_percent': 'last_10_effective_fg_percent'})\n",
    "tourney_games = tourney_games.merge(last_10_effective_fg_percent, on=['team', 'season'], how='left')\n",
    "last_10_effective_fg_percent.rename(columns={'last_10_effective_fg_percent': 'opponent_last_10_effective_fg_percent', 'team':'opponent'}, inplace=True)\n",
    "tourney_games = tourney_games.merge(last_10_effective_fg_percent, on=['opponent', 'season'], how='left')"
   ]
  },
  {
   "cell_type": "code",
   "execution_count": 230,
   "metadata": {},
   "outputs": [],
   "source": [
    "last_10_effective_fg_percent_std = last_10_non_tourney[['team', 'season','effective_fg_percent']].groupby(['team', 'season']).std().reset_index().rename(columns={'effective_fg_percent': 'last_10_effective_fg_percent_std'})\n",
    "tourney_games = tourney_games.merge(last_10_effective_fg_percent_std, on=['team', 'season'], how='left')\n",
    "last_10_effective_fg_percent_std.rename(columns={'last_10_effective_fg_percent_std': 'opponent_last_10_effective_fg_percent_std', 'team':'opponent'}, inplace=True)\n",
    "tourney_games = tourney_games.merge(last_10_effective_fg_percent_std, on=['opponent', 'season'], how='left')"
   ]
  },
  {
   "cell_type": "code",
   "execution_count": 231,
   "metadata": {},
   "outputs": [],
   "source": [
    "season_turnover_percent = pre_tourney_games[['team', 'season','turnover_percent']].groupby(['team', 'season']).mean().reset_index().rename(columns={'turnover_percent': 'season_turnover_percent'})\n",
    "tourney_games = tourney_games.merge(season_turnover_percent, on=['team', 'season'], how='left')\n",
    "season_turnover_percent.rename(columns={'season_turnover_percent': 'opponent_season_turnover_percent', 'team':'opponent'}, inplace=True)\n",
    "tourney_games = tourney_games.merge(season_turnover_percent, on=['opponent', 'season'], how='left')"
   ]
  },
  {
   "cell_type": "code",
   "execution_count": 232,
   "metadata": {},
   "outputs": [],
   "source": [
    "season_turnover_percent_std = pre_tourney_games[['team', 'season','turnover_percent']].groupby(['team', 'season']).std().reset_index().rename(columns={'turnover_percent': 'season_turnover_percent_std'})\n",
    "tourney_games = tourney_games.merge(season_turnover_percent_std, on=['team', 'season'], how='left')\n",
    "season_turnover_percent_std.rename(columns={'season_turnover_percent_std': 'opponent_season_turnover_percent_std', 'team':'opponent'}, inplace=True)\n",
    "tourney_games = tourney_games.merge(season_turnover_percent_std, on=['opponent', 'season'], how='left')"
   ]
  },
  {
   "cell_type": "code",
   "execution_count": 233,
   "metadata": {},
   "outputs": [],
   "source": [
    "vs_tourney_team_turnover_percent = games_vs_tourney_teams[['team', 'season','turnover_percent']].groupby(['team', 'season']).mean().reset_index().rename(columns={'turnover_percent': 'vs_tourney_team_turnover_percent'})\n",
    "tourney_games = tourney_games.merge(vs_tourney_team_turnover_percent, on=['team', 'season'], how='left')\n",
    "vs_tourney_team_turnover_percent.rename(columns={'vs_tourney_team_turnover_percent': 'opponent_vs_tourney_team_turnover_percent', 'team':'opponent'}, inplace=True)\n",
    "tourney_games = tourney_games.merge(vs_tourney_team_turnover_percent, on=['opponent', 'season'], how='left')"
   ]
  },
  {
   "cell_type": "code",
   "execution_count": 234,
   "metadata": {},
   "outputs": [],
   "source": [
    "vs_tourney_team_turnover_percent_std = games_vs_tourney_teams[['team', 'season','turnover_percent']].groupby(['team', 'season']).std().reset_index().rename(columns={'turnover_percent': 'vs_tourney_team_turnover_percent_std'})\n",
    "tourney_games = tourney_games.merge(vs_tourney_team_turnover_percent_std, on=['team', 'season'], how='left')\n",
    "vs_tourney_team_turnover_percent_std.rename(columns={'vs_tourney_team_turnover_percent_std': 'opponent_vs_tourney_team_turnover_percent_std', 'team':'opponent'}, inplace=True)\n",
    "tourney_games = tourney_games.merge(vs_tourney_team_turnover_percent_std, on=['opponent', 'season'], how='left')"
   ]
  },
  {
   "cell_type": "code",
   "execution_count": 235,
   "metadata": {},
   "outputs": [],
   "source": [
    "last_10_turnover_percent = last_10_non_tourney[['team', 'season','turnover_percent']].groupby(['team', 'season']).mean().reset_index().rename(columns={'turnover_percent': 'last_10_turnover_percent'})\n",
    "tourney_games = tourney_games.merge(last_10_turnover_percent, on=['team', 'season'], how='left')\n",
    "last_10_turnover_percent.rename(columns={'last_10_turnover_percent': 'opponent_last_10_turnover_percent', 'team':'opponent'}, inplace=True)\n",
    "tourney_games = tourney_games.merge(last_10_turnover_percent, on=['opponent', 'season'], how='left')"
   ]
  },
  {
   "cell_type": "code",
   "execution_count": 236,
   "metadata": {},
   "outputs": [],
   "source": [
    "last_10_turnover_percent_std = last_10_non_tourney[['team', 'season','turnover_percent']].groupby(['team', 'season']).std().reset_index().rename(columns={'turnover_percent': 'last_10_turnover_percent_std'})\n",
    "tourney_games = tourney_games.merge(last_10_turnover_percent_std, on=['team', 'season'], how='left')\n",
    "last_10_turnover_percent_std.rename(columns={'last_10_turnover_percent_std': 'opponent_last_10_turnover_percent_std', 'team':'opponent'}, inplace=True)\n",
    "tourney_games = tourney_games.merge(last_10_turnover_percent_std, on=['opponent', 'season'], how='left')"
   ]
  },
  {
   "cell_type": "code",
   "execution_count": 237,
   "metadata": {},
   "outputs": [],
   "source": [
    "season_offensive_rebound_percent = pre_tourney_games[['team', 'season','offensive_rebound_percent']].groupby(['team', 'season']).mean().reset_index().rename(columns={'offensive_rebound_percent': 'season_offensive_rebound_percent'})\n",
    "tourney_games = tourney_games.merge(season_offensive_rebound_percent, on=['team', 'season'], how='left')\n",
    "season_offensive_rebound_percent.rename(columns={'season_offensive_rebound_percent': 'opponent_season_offensive_rebound_percent', 'team':'opponent'}, inplace=True)\n",
    "tourney_games = tourney_games.merge(season_offensive_rebound_percent, on=['opponent', 'season'], how='left')"
   ]
  },
  {
   "cell_type": "code",
   "execution_count": 238,
   "metadata": {},
   "outputs": [],
   "source": [
    "season_offensive_rebound_percent_std = pre_tourney_games[['team', 'season','offensive_rebound_percent']].groupby(['team', 'season']).std().reset_index().rename(columns={'offensive_rebound_percent': 'season_offensive_rebound_percent_std'})\n",
    "tourney_games = tourney_games.merge(season_offensive_rebound_percent_std, on=['team', 'season'], how='left')\n",
    "season_offensive_rebound_percent_std.rename(columns={'season_offensive_rebound_percent_std': 'opponent_season_offensive_rebound_percent_std', 'team':'opponent'}, inplace=True)\n",
    "tourney_games = tourney_games.merge(season_offensive_rebound_percent_std, on=['opponent', 'season'], how='left')"
   ]
  },
  {
   "cell_type": "code",
   "execution_count": 239,
   "metadata": {},
   "outputs": [],
   "source": [
    "vs_tourney_team_offensive_rebound_percent = games_vs_tourney_teams[['team', 'season','offensive_rebound_percent']].groupby(['team', 'season']).mean().reset_index().rename(columns={'offensive_rebound_percent': 'vs_tourney_team_offensive_rebound_percent'})\n",
    "tourney_games = tourney_games.merge(vs_tourney_team_offensive_rebound_percent, on=['team', 'season'], how='left')\n",
    "vs_tourney_team_offensive_rebound_percent.rename(columns={'vs_tourney_team_offensive_rebound_percent': 'opponent_vs_tourney_team_offensive_rebound_percent', 'team':'opponent'}, inplace=True)\n",
    "tourney_games = tourney_games.merge(vs_tourney_team_offensive_rebound_percent, on=['opponent', 'season'], how='left')"
   ]
  },
  {
   "cell_type": "code",
   "execution_count": 240,
   "metadata": {},
   "outputs": [],
   "source": [
    "vs_tourney_team_offensive_rebound_percent_std = games_vs_tourney_teams[['team', 'season','offensive_rebound_percent']].groupby(['team', 'season']).std().reset_index().rename(columns={'offensive_rebound_percent': 'vs_tourney_team_offensive_rebound_percent_std'})\n",
    "tourney_games = tourney_games.merge(vs_tourney_team_offensive_rebound_percent_std, on=['team', 'season'], how='left')\n",
    "vs_tourney_team_offensive_rebound_percent_std.rename(columns={'vs_tourney_team_offensive_rebound_percent_std': 'opponent_vs_tourney_team_offensive_rebound_percent_std', 'team':'opponent'}, inplace=True)\n",
    "tourney_games = tourney_games.merge(vs_tourney_team_offensive_rebound_percent_std, on=['opponent', 'season'], how='left')"
   ]
  },
  {
   "cell_type": "code",
   "execution_count": 241,
   "metadata": {},
   "outputs": [],
   "source": [
    "last_10_offensive_rebound_percent = last_10_non_tourney[['team', 'season','offensive_rebound_percent']].groupby(['team', 'season']).mean().reset_index().rename(columns={'offensive_rebound_percent': 'last_10_offensive_rebound_percent'})\n",
    "tourney_games = tourney_games.merge(last_10_offensive_rebound_percent, on=['team', 'season'], how='left')\n",
    "last_10_offensive_rebound_percent.rename(columns={'last_10_offensive_rebound_percent': 'opponent_last_10_offensive_rebound_percent', 'team':'opponent'}, inplace=True)\n",
    "tourney_games = tourney_games.merge(last_10_offensive_rebound_percent, on=['opponent', 'season'], how='left')"
   ]
  },
  {
   "cell_type": "code",
   "execution_count": 242,
   "metadata": {},
   "outputs": [],
   "source": [
    "last_10_offensive_rebound_percent_std = last_10_non_tourney[['team', 'season','offensive_rebound_percent']].groupby(['team', 'season']).std().reset_index().rename(columns={'offensive_rebound_percent': 'last_10_offensive_rebound_percent_std'})\n",
    "tourney_games = tourney_games.merge(last_10_offensive_rebound_percent_std, on=['team', 'season'], how='left')\n",
    "last_10_offensive_rebound_percent_std.rename(columns={'last_10_offensive_rebound_percent_std': 'opponent_last_10_offensive_rebound_percent_std', 'team':'opponent'}, inplace=True)\n",
    "tourney_games = tourney_games.merge(last_10_offensive_rebound_percent_std, on=['opponent', 'season'], how='left')"
   ]
  },
  {
   "cell_type": "code",
   "execution_count": 243,
   "metadata": {},
   "outputs": [],
   "source": [
    "season_free_throw_rate = pre_tourney_games[['team', 'season','free_throw_rate']].groupby(['team', 'season']).mean().reset_index().rename(columns={'free_throw_rate': 'season_free_throw_rate'})\n",
    "tourney_games = tourney_games.merge(season_free_throw_rate, on=['team', 'season'], how='left')\n",
    "season_free_throw_rate.rename(columns={'season_free_throw_rate': 'opponent_season_free_throw_rate', 'team':'opponent'}, inplace=True)\n",
    "tourney_games = tourney_games.merge(season_free_throw_rate, on=['opponent', 'season'], how='left')"
   ]
  },
  {
   "cell_type": "code",
   "execution_count": 244,
   "metadata": {},
   "outputs": [],
   "source": [
    "season_free_throw_rate_std = pre_tourney_games[['team', 'season','free_throw_rate']].groupby(['team', 'season']).std().reset_index().rename(columns={'free_throw_rate': 'season_free_throw_rate_std'})\n",
    "tourney_games = tourney_games.merge(season_free_throw_rate_std, on=['team', 'season'], how='left')\n",
    "season_free_throw_rate_std.rename(columns={'season_free_throw_rate_std': 'opponent_season_free_throw_rate_std', 'team':'opponent'}, inplace=True)\n",
    "tourney_games = tourney_games.merge(season_free_throw_rate_std, on=['opponent', 'season'], how='left')"
   ]
  },
  {
   "cell_type": "code",
   "execution_count": 245,
   "metadata": {},
   "outputs": [],
   "source": [
    "vs_tourney_team_free_throw_rate = games_vs_tourney_teams[['team', 'season','free_throw_rate']].groupby(['team', 'season']).mean().reset_index().rename(columns={'free_throw_rate': 'vs_tourney_team_free_throw_rate'})\n",
    "tourney_games = tourney_games.merge(vs_tourney_team_free_throw_rate, on=['team', 'season'], how='left')\n",
    "vs_tourney_team_free_throw_rate.rename(columns={'vs_tourney_team_free_throw_rate': 'opponent_vs_tourney_team_free_throw_rate', 'team':'opponent'}, inplace=True)\n",
    "tourney_games = tourney_games.merge(vs_tourney_team_free_throw_rate, on=['opponent', 'season'], how='left')"
   ]
  },
  {
   "cell_type": "code",
   "execution_count": 246,
   "metadata": {},
   "outputs": [],
   "source": [
    "vs_tourney_team_free_throw_rate_std = games_vs_tourney_teams[['team', 'season','free_throw_rate']].groupby(['team', 'season']).std().reset_index().rename(columns={'free_throw_rate': 'vs_tourney_team_free_throw_rate_std'})\n",
    "tourney_games = tourney_games.merge(vs_tourney_team_free_throw_rate_std, on=['team', 'season'], how='left')\n",
    "vs_tourney_team_free_throw_rate_std.rename(columns={'vs_tourney_team_free_throw_rate_std': 'opponent_vs_tourney_team_free_throw_rate_std', 'team':'opponent'}, inplace=True)\n",
    "tourney_games = tourney_games.merge(vs_tourney_team_free_throw_rate_std, on=['opponent', 'season'], how='left')"
   ]
  },
  {
   "cell_type": "code",
   "execution_count": 247,
   "metadata": {},
   "outputs": [],
   "source": [
    "last_10_free_throw_rate = last_10_non_tourney[['team', 'season','free_throw_rate']].groupby(['team', 'season']).mean().reset_index().rename(columns={'free_throw_rate': 'last_10_free_throw_rate'})\n",
    "tourney_games = tourney_games.merge(last_10_free_throw_rate, on=['team', 'season'], how='left')\n",
    "last_10_free_throw_rate.rename(columns={'last_10_free_throw_rate': 'opponent_last_10_free_throw_rate', 'team':'opponent'}, inplace=True)\n",
    "tourney_games = tourney_games.merge(last_10_free_throw_rate, on=['opponent', 'season'], how='left')"
   ]
  },
  {
   "cell_type": "code",
   "execution_count": 248,
   "metadata": {},
   "outputs": [],
   "source": [
    "last_10_free_throw_rate_std = last_10_non_tourney[['team', 'season','free_throw_rate']].groupby(['team', 'season']).std().reset_index().rename(columns={'free_throw_rate': 'last_10_free_throw_rate_std'})\n",
    "tourney_games = tourney_games.merge(last_10_free_throw_rate_std, on=['team', 'season'], how='left')\n",
    "last_10_free_throw_rate_std.rename(columns={'last_10_free_throw_rate_std': 'opponent_last_10_free_throw_rate_std', 'team':'opponent'}, inplace=True)\n",
    "tourney_games = tourney_games.merge(last_10_free_throw_rate_std, on=['opponent', 'season'], how='left')"
   ]
  },
  {
   "cell_type": "code",
   "execution_count": 249,
   "metadata": {},
   "outputs": [],
   "source": [
    "season_allowed_offensive_efficiency = pre_tourney_games[['team', 'season','opponent_offensive_efficiency']].groupby(['team', 'season']).mean().reset_index().rename(columns={'opponent_offensive_efficiency': 'season_allowed_offensive_efficiency'})\n",
    "tournament_games = tourney_games.merge(season_allowed_offensive_efficiency, on=['team', 'season'], how='left')\n",
    "season_allowed_offensive_efficiency.rename(columns={'season_allowed_offensive_efficiency': 'opponent_season_allowed_offensive_efficiency', 'team':'opponent'}, inplace=True)\n",
    "tourney_games = tourney_games.merge(season_allowed_offensive_efficiency, on=['opponent', 'season'], how='left')"
   ]
  },
  {
   "cell_type": "code",
   "execution_count": 250,
   "metadata": {},
   "outputs": [],
   "source": [
    "season_allowed_offensive_efficiency_std = pre_tourney_games[['team', 'season','opponent_offensive_efficiency']].groupby(['team', 'season']).std().reset_index().rename(columns={'opponent_offensive_efficiency': 'season_allowed_offensive_efficiency_std'})\n",
    "tourney_games = tourney_games.merge(season_allowed_offensive_efficiency_std, on=['team', 'season'], how='left')\n",
    "season_allowed_offensive_efficiency_std.rename(columns={'season_allowed_offensive_efficiency_std': 'opponent_season_allowed_offensive_efficiency_std', 'team':'opponent'}, inplace=True)\n",
    "tourney_games = tourney_games.merge(season_allowed_offensive_efficiency_std, on=['opponent', 'season'], how='left')"
   ]
  },
  {
   "cell_type": "code",
   "execution_count": 251,
   "metadata": {},
   "outputs": [],
   "source": [
    "vs_tourney_team_allowed_offensive_efficiency = games_vs_tourney_teams[['team', 'season','opponent_offensive_efficiency']].groupby(['team', 'season']).mean().reset_index().rename(columns={'opponent_offensive_efficiency': 'vs_tourney_team_allowed_offensive_efficiency'})\n",
    "tourney_games = tourney_games.merge(vs_tourney_team_allowed_offensive_efficiency, on=['team', 'season'], how='left')\n",
    "vs_tourney_team_allowed_offensive_efficiency.rename(columns={'vs_tourney_team_allowed_offensive_efficiency': 'opponent_vs_tourney_team_allowed_offensive_efficiency', 'team':'opponent'}, inplace=True)\n",
    "tourney_games = tourney_games.merge(vs_tourney_team_allowed_offensive_efficiency, on=['opponent', 'season'], how='left')"
   ]
  },
  {
   "cell_type": "code",
   "execution_count": 252,
   "metadata": {},
   "outputs": [],
   "source": [
    "vs_tourney_team_allowed_offensive_efficiency_std = games_vs_tourney_teams[['team', 'season','opponent_offensive_efficiency']].groupby(['team', 'season']).std().reset_index().rename(columns={'opponent_offensive_efficiency': 'vs_tourney_team_allowed_offensive_efficiency_std'})\n",
    "tourney_games = tourney_games.merge(vs_tourney_team_allowed_offensive_efficiency_std, on=['team', 'season'], how='left')\n",
    "vs_tourney_team_allowed_offensive_efficiency_std.rename(columns={'vs_tourney_team_allowed_offensive_efficiency_std': 'opponent_vs_tourney_team_allowed_offensive_efficiency_std', 'team':'opponent'}, inplace=True)\n",
    "tourney_games = tourney_games.merge(vs_tourney_team_allowed_offensive_efficiency_std, on=['opponent', 'season'], how='left')"
   ]
  },
  {
   "cell_type": "code",
   "execution_count": 253,
   "metadata": {},
   "outputs": [],
   "source": [
    "last_10_allowed_offensive_efficiency = last_10_non_tourney[['team', 'season','opponent_offensive_efficiency']].groupby(['team', 'season']).mean().reset_index().rename(columns={'opponent_offensive_efficiency': 'last_10_allowed_offensive_efficiency'})\n",
    "tourney_games = tourney_games.merge(last_10_allowed_offensive_efficiency, on=['team', 'season'], how='left')\n",
    "last_10_allowed_offensive_efficiency.rename(columns={'last_10_allowed_offensive_efficiency': 'opponent_last_10_allowed_offensive_efficiency', 'team':'opponent'}, inplace=True)\n",
    "tourney_games = tourney_games.merge(last_10_allowed_offensive_efficiency, on=['opponent', 'season'], how='left')"
   ]
  },
  {
   "cell_type": "code",
   "execution_count": 254,
   "metadata": {},
   "outputs": [],
   "source": [
    "last_10_allowed_offensive_efficiency_std = last_10_non_tourney[['team', 'season','opponent_offensive_efficiency']].groupby(['team', 'season']).std().reset_index().rename(columns={'opponent_offensive_efficiency': 'last_10_allowed_offensive_efficiency_std'})\n",
    "tourney_games = tourney_games.merge(last_10_allowed_offensive_efficiency_std, on=['team', 'season'], how='left')\n",
    "last_10_allowed_offensive_efficiency_std.rename(columns={'last_10_allowed_offensive_efficiency_std': 'opponent_last_10_allowed_offensive_efficiency_std', 'team':'opponent'}, inplace=True)\n",
    "tourney_games = tourney_games.merge(last_10_allowed_offensive_efficiency_std, on=['opponent', 'season'], how='left')"
   ]
  },
  {
   "cell_type": "code",
   "execution_count": 255,
   "metadata": {},
   "outputs": [],
   "source": [
    "season_allowed_effective_fg_percent = pre_tourney_games[['team', 'season','opponent_effective_fg_percent']].groupby(['team', 'season']).mean().reset_index().rename(columns={'opponent_effective_fg_percent': 'season_allowed_effective_fg_percent'})\n",
    "tourney_games = tourney_games.merge(season_allowed_effective_fg_percent, on=['team', 'season'], how='left')\n",
    "season_allowed_effective_fg_percent.rename(columns={'season_allowed_effective_fg_percent': 'opponent_season_allowed_effective_fg_percent', 'team':'opponent'}, inplace=True)\n",
    "tourney_games = tourney_games.merge(season_allowed_effective_fg_percent, on=['opponent', 'season'], how='left')"
   ]
  },
  {
   "cell_type": "code",
   "execution_count": 256,
   "metadata": {},
   "outputs": [],
   "source": [
    "season_allowed_effective_fg_percent_std = pre_tourney_games[['team', 'season','opponent_effective_fg_percent']].groupby(['team', 'season']).std().reset_index().rename(columns={'opponent_effective_fg_percent': 'season_allowed_effective_fg_percent_std'})\n",
    "tourney_games = tourney_games.merge(season_allowed_effective_fg_percent_std, on=['team', 'season'], how='left')\n",
    "season_allowed_effective_fg_percent_std.rename(columns={'season_allowed_effective_fg_percent_std': 'opponent_season_allowed_effective_fg_percent_std', 'team':'opponent'}, inplace=True)\n",
    "tourney_games = tourney_games.merge(season_allowed_effective_fg_percent_std, on=['opponent', 'season'], how='left')"
   ]
  },
  {
   "cell_type": "code",
   "execution_count": 257,
   "metadata": {},
   "outputs": [],
   "source": [
    "vs_tourney_team_allowed_effective_fg_percent = games_vs_tourney_teams[['team', 'season','opponent_effective_fg_percent']].groupby(['team', 'season']).mean().reset_index().rename(columns={'opponent_effective_fg_percent': 'vs_tourney_team_allowed_effective_fg_percent'})\n",
    "tourney_games = tourney_games.merge(vs_tourney_team_allowed_effective_fg_percent, on=['team', 'season'], how='left')\n",
    "vs_tourney_team_allowed_effective_fg_percent.rename(columns={'vs_tourney_team_allowed_effective_fg_percent': 'opponent_vs_tourney_team_allowed_effective_fg_percent', 'team':'opponent'}, inplace=True)\n",
    "tourney_games = tourney_games.merge(vs_tourney_team_allowed_effective_fg_percent, on=['opponent', 'season'], how='left')"
   ]
  },
  {
   "cell_type": "code",
   "execution_count": 258,
   "metadata": {},
   "outputs": [],
   "source": [
    "vs_tourney_team_allowed_effective_fg_percent_std = games_vs_tourney_teams[['team', 'season','opponent_effective_fg_percent']].groupby(['team', 'season']).std().reset_index().rename(columns={'opponent_effective_fg_percent': 'vs_tourney_team_allowed_effective_fg_percent_std'})\n",
    "tourney_games = tourney_games.merge(vs_tourney_team_allowed_effective_fg_percent_std, on=['team', 'season'], how='left')\n",
    "vs_tourney_team_allowed_effective_fg_percent_std.rename(columns={'vs_tourney_team_allowed_effective_fg_percent_std': 'opponent_vs_tourney_team_allowed_effective_fg_percent_std', 'team':'opponent'}, inplace=True)\n",
    "tourney_games = tourney_games.merge(vs_tourney_team_allowed_effective_fg_percent_std, on=['opponent', 'season'], how='left')"
   ]
  },
  {
   "cell_type": "code",
   "execution_count": 259,
   "metadata": {},
   "outputs": [],
   "source": [
    "last_10_allowed_effective_fg_percent = last_10_non_tourney[['team', 'season','opponent_effective_fg_percent']].groupby(['team', 'season']).mean().reset_index().rename(columns={'opponent_effective_fg_percent': 'last_10_allowed_effective_fg_percent'})\n",
    "tourney_games = tourney_games.merge(last_10_allowed_effective_fg_percent, on=['team', 'season'], how='left')\n",
    "last_10_allowed_effective_fg_percent.rename(columns={'last_10_allowed_effective_fg_percent': 'opponent_last_10_allowed_effective_fg_percent', 'team':'opponent'}, inplace=True)\n",
    "tourney_games = tourney_games.merge(last_10_allowed_effective_fg_percent, on=['opponent', 'season'], how='left')"
   ]
  },
  {
   "cell_type": "code",
   "execution_count": 260,
   "metadata": {},
   "outputs": [],
   "source": [
    "last_10_allowed_effective_fg_percent_std = last_10_non_tourney[['team', 'season','opponent_effective_fg_percent']].groupby(['team', 'season']).std().reset_index().rename(columns={'opponent_effective_fg_percent': 'last_10_allowed_effective_fg_percent_std'})\n",
    "tourney_games = tourney_games.merge(last_10_allowed_effective_fg_percent_std, on=['team', 'season'], how='left')\n",
    "last_10_allowed_effective_fg_percent_std.rename(columns={'last_10_allowed_effective_fg_percent_std': 'opponent_last_10_allowed_effective_fg_percent_std', 'team':'opponent'}, inplace=True)\n",
    "tourney_games = tourney_games.merge(last_10_allowed_effective_fg_percent_std, on=['opponent', 'season'], how='left')"
   ]
  },
  {
   "cell_type": "code",
   "execution_count": 261,
   "metadata": {},
   "outputs": [],
   "source": [
    "season_allowed_turnover_percent = pre_tourney_games[['team', 'season','opponent_turnover_percent']].groupby(['team', 'season']).mean().reset_index().rename(columns={'opponent_turnover_percent': 'season_allowed_turnover_percent'})\n",
    "tourney_games = tourney_games.merge(season_allowed_turnover_percent, on=['team', 'season'], how='left')\n",
    "season_allowed_turnover_percent.rename(columns={'season_allowed_turnover_percent': 'opponent_season_allowed_turnover_percent', 'team':'opponent'}, inplace=True)\n",
    "tourney_games = tourney_games.merge(season_allowed_turnover_percent, on=['opponent', 'season'], how='left')"
   ]
  },
  {
   "cell_type": "code",
   "execution_count": 262,
   "metadata": {},
   "outputs": [],
   "source": [
    "season_allowed_turnover_percent_std = pre_tourney_games[['team', 'season','opponent_turnover_percent']].groupby(['team', 'season']).std().reset_index().rename(columns={'opponent_turnover_percent': 'season_allowed_turnover_percent_std'})\n",
    "tourney_games = tourney_games.merge(season_allowed_turnover_percent_std, on=['team', 'season'], how='left')\n",
    "season_allowed_turnover_percent_std.rename(columns={'season_allowed_turnover_percent_std': 'opponent_season_allowed_turnover_percent_std', 'team':'opponent'}, inplace=True)\n",
    "tourney_games = tourney_games.merge(season_allowed_turnover_percent_std, on=['opponent', 'season'], how='left')"
   ]
  },
  {
   "cell_type": "code",
   "execution_count": 263,
   "metadata": {},
   "outputs": [],
   "source": [
    "vs_tourney_team_allowed_turnover_percent = games_vs_tourney_teams[['team', 'season','opponent_turnover_percent']].groupby(['team', 'season']).mean().reset_index().rename(columns={'opponent_turnover_percent': 'vs_tourney_team_allowed_turnover_percent'})\n",
    "tourney_games = tourney_games.merge(vs_tourney_team_allowed_turnover_percent, on=['team', 'season'], how='left')\n",
    "vs_tourney_team_allowed_turnover_percent.rename(columns={'vs_tourney_team_allowed_turnover_percent': 'opponent_vs_tourney_team_allowed_turnover_percent', 'team':'opponent'}, inplace=True)\n",
    "tourney_games = tourney_games.merge(vs_tourney_team_allowed_turnover_percent, on=['opponent', 'season'], how='left')"
   ]
  },
  {
   "cell_type": "code",
   "execution_count": 264,
   "metadata": {},
   "outputs": [],
   "source": [
    "vs_tourney_team_allowed_turnover_percent_std = games_vs_tourney_teams[['team', 'season','opponent_turnover_percent']].groupby(['team', 'season']).std().reset_index().rename(columns={'opponent_turnover_percent': 'vs_tourney_team_allowed_turnover_percent_std'})\n",
    "tourney_games = tourney_games.merge(vs_tourney_team_allowed_turnover_percent_std, on=['team', 'season'], how='left')\n",
    "vs_tourney_team_allowed_turnover_percent_std.rename(columns={'vs_tourney_team_allowed_turnover_percent_std': 'opponent_vs_tourney_team_allowed_turnover_percent_std', 'team':'opponent'}, inplace=True)\n",
    "tourney_games = tourney_games.merge(vs_tourney_team_allowed_turnover_percent_std, on=['opponent', 'season'], how='left')"
   ]
  },
  {
   "cell_type": "code",
   "execution_count": 265,
   "metadata": {},
   "outputs": [],
   "source": [
    "last_10_allowed_turnover_percent = last_10_non_tourney[['team', 'season','opponent_turnover_percent']].groupby(['team', 'season']).mean().reset_index().rename(columns={'opponent_turnover_percent': 'last_10_allowed_turnover_percent'})\n",
    "tourney_games = tourney_games.merge(last_10_allowed_turnover_percent, on=['team', 'season'], how='left')\n",
    "last_10_allowed_turnover_percent.rename(columns={'last_10_allowed_turnover_percent': 'opponent_last_10_allowed_turnover_percent', 'team':'opponent'}, inplace=True)\n",
    "tourney_games = tourney_games.merge(last_10_allowed_turnover_percent, on=['opponent', 'season'], how='left')"
   ]
  },
  {
   "cell_type": "code",
   "execution_count": 266,
   "metadata": {},
   "outputs": [],
   "source": [
    "last_10_allowed_turnover_percent_std = last_10_non_tourney[['team', 'season','opponent_turnover_percent']].groupby(['team', 'season']).std().reset_index().rename(columns={'opponent_turnover_percent': 'last_10_allowed_turnover_percent_std'})\n",
    "tourney_games = tourney_games.merge(last_10_allowed_turnover_percent_std, on=['team', 'season'], how='left')\n",
    "last_10_allowed_turnover_percent_std.rename(columns={'last_10_allowed_turnover_percent_std': 'opponent_last_10_allowed_turnover_percent_std', 'team':'opponent'}, inplace=True)\n",
    "tourney_games = tourney_games.merge(last_10_allowed_turnover_percent_std, on=['opponent', 'season'], how='left')"
   ]
  },
  {
   "cell_type": "code",
   "execution_count": 267,
   "metadata": {},
   "outputs": [],
   "source": [
    "season_allowed_offensive_rebound_percent = pre_tourney_games[['team', 'season','opponent_offensive_rebound_percent']].groupby(['team', 'season']).mean().reset_index().rename(columns={'opponent_offensive_rebound_percent': 'season_allowed_offensive_rebound_percent'})\n",
    "tourney_games = tourney_games.merge(season_allowed_offensive_rebound_percent, on=['team', 'season'], how='left')\n",
    "season_allowed_offensive_rebound_percent.rename(columns={'season_allowed_offensive_rebound_percent': 'opponent_season_allowed_offensive_rebound_percent', 'team':'opponent'}, inplace=True)\n",
    "tourney_games = tourney_games.merge(season_allowed_offensive_rebound_percent, on=['opponent', 'season'], how='left')"
   ]
  },
  {
   "cell_type": "code",
   "execution_count": 268,
   "metadata": {},
   "outputs": [],
   "source": [
    "season_allowed_offensive_rebound_percent_std = pre_tourney_games[['team', 'season','opponent_offensive_rebound_percent']].groupby(['team', 'season']).std().reset_index().rename(columns={'opponent_offensive_rebound_percent': 'season_allowed_offensive_rebound_percent_std'})\n",
    "tourney_games = tourney_games.merge(season_allowed_offensive_rebound_percent_std, on=['team', 'season'], how='left')\n",
    "season_allowed_offensive_rebound_percent_std.rename(columns={'season_allowed_offensive_rebound_percent_std': 'opponent_season_allowed_offensive_rebound_percent_std', 'team':'opponent'}, inplace=True)\n",
    "tourney_games = tourney_games.merge(season_allowed_offensive_rebound_percent_std, on=['opponent', 'season'], how='left')"
   ]
  },
  {
   "cell_type": "code",
   "execution_count": 269,
   "metadata": {},
   "outputs": [],
   "source": [
    "vs_tourney_team_allowed_offensive_rebound_percent = games_vs_tourney_teams[['team', 'season','opponent_offensive_rebound_percent']].groupby(['team', 'season']).mean().reset_index().rename(columns={'opponent_offensive_rebound_percent': 'vs_tourney_team_allowed_offensive_rebound_percent'})\n",
    "tourney_games = tourney_games.merge(vs_tourney_team_allowed_offensive_rebound_percent, on=['team', 'season'], how='left')\n",
    "vs_tourney_team_allowed_offensive_rebound_percent.rename(columns={'vs_tourney_team_allowed_offensive_rebound_percent': 'opponent_vs_tourney_team_allowed_offensive_rebound_percent', 'team':'opponent'}, inplace=True)\n",
    "tourney_games = tourney_games.merge(vs_tourney_team_allowed_offensive_rebound_percent, on=['opponent', 'season'], how='left')"
   ]
  },
  {
   "cell_type": "code",
   "execution_count": 270,
   "metadata": {},
   "outputs": [],
   "source": [
    "vs_tourney_team_allowed_offensive_rebound_percent_std = games_vs_tourney_teams[['team', 'season','opponent_offensive_rebound_percent']].groupby(['team', 'season']).std().reset_index().rename(columns={'opponent_offensive_rebound_percent': 'vs_tourney_team_allowed_offensive_rebound_percent_std'})\n",
    "tourney_games = tourney_games.merge(vs_tourney_team_allowed_offensive_rebound_percent_std, on=['team', 'season'], how='left')\n",
    "vs_tourney_team_allowed_offensive_rebound_percent_std.rename(columns={'vs_tourney_team_allowed_offensive_rebound_percent_std': 'opponent_vs_tourney_team_allowed_offensive_rebound_percent_std', 'team':'opponent'}, inplace=True)\n",
    "tourney_games = tourney_games.merge(vs_tourney_team_allowed_offensive_rebound_percent_std, on=['opponent', 'season'], how='left')"
   ]
  },
  {
   "cell_type": "code",
   "execution_count": 271,
   "metadata": {},
   "outputs": [],
   "source": [
    "last_10_allowed_offensive_rebound_percent = last_10_non_tourney[['team', 'season','opponent_offensive_rebound_percent']].groupby(['team', 'season']).mean().reset_index().rename(columns={'opponent_offensive_rebound_percent': 'last_10_allowed_offensive_rebound_percent'})\n",
    "tourney_games = tourney_games.merge(last_10_allowed_offensive_rebound_percent, on=['team', 'season'], how='left')\n",
    "last_10_allowed_offensive_rebound_percent.rename(columns={'last_10_allowed_offensive_rebound_percent': 'opponent_last_10_allowed_offensive_rebound_percent', 'team':'opponent'}, inplace=True)\n",
    "tourney_games = tourney_games.merge(last_10_allowed_offensive_rebound_percent, on=['opponent', 'season'], how='left')"
   ]
  },
  {
   "cell_type": "code",
   "execution_count": 272,
   "metadata": {},
   "outputs": [],
   "source": [
    "last_10_allowed_offensive_rebound_percent_std = last_10_non_tourney[['team', 'season','opponent_offensive_rebound_percent']].groupby(['team', 'season']).std().reset_index().rename(columns={'opponent_offensive_rebound_percent': 'last_10_allowed_offensive_rebound_percent_std'})\n",
    "tourney_games = tourney_games.merge(last_10_allowed_offensive_rebound_percent_std, on=['team', 'season'], how='left')\n",
    "last_10_allowed_offensive_rebound_percent_std.rename(columns={'last_10_allowed_offensive_rebound_percent_std': 'opponent_last_10_allowed_offensive_rebound_percent_std', 'team':'opponent'}, inplace=True)\n",
    "tourney_games = tourney_games.merge(last_10_allowed_offensive_rebound_percent_std, on=['opponent', 'season'], how='left')"
   ]
  },
  {
   "cell_type": "code",
   "execution_count": 273,
   "metadata": {},
   "outputs": [],
   "source": [
    "season_allowed_free_throw_rate = pre_tourney_games[['team', 'season','opponent_free_throw_rate']].groupby(['team', 'season']).mean().reset_index().rename(columns={'opponent_free_throw_rate': 'season_allowed_free_throw_rate'})\n",
    "tourney_games = tourney_games.merge(season_allowed_free_throw_rate, on=['team', 'season'], how='left')\n",
    "season_allowed_free_throw_rate.rename(columns={'season_allowed_free_throw_rate': 'opponent_season_allowed_free_throw_rate', 'team':'opponent'}, inplace=True)\n",
    "tourney_games = tourney_games.merge(season_allowed_free_throw_rate, on=['opponent', 'season'], how='left')"
   ]
  },
  {
   "cell_type": "code",
   "execution_count": 274,
   "metadata": {},
   "outputs": [],
   "source": [
    "season_allowed_free_throw_rate_std = pre_tourney_games[['team', 'season','opponent_free_throw_rate']].groupby(['team', 'season']).std().reset_index().rename(columns={'opponent_free_throw_rate': 'season_allowed_free_throw_rate_std'})\n",
    "tourney_games = tourney_games.merge(season_allowed_free_throw_rate_std, on=['team', 'season'], how='left')\n",
    "season_allowed_free_throw_rate_std.rename(columns={'season_allowed_free_throw_rate_std': 'opponent_season_allowed_free_throw_rate_std', 'team':'opponent'}, inplace=True)\n",
    "tourney_games = tourney_games.merge(season_allowed_free_throw_rate_std, on=['opponent', 'season'], how='left')"
   ]
  },
  {
   "cell_type": "code",
   "execution_count": 275,
   "metadata": {},
   "outputs": [],
   "source": [
    "vs_tourney_team_allowed_free_throw_rate = games_vs_tourney_teams[['team', 'season','opponent_free_throw_rate']].groupby(['team', 'season']).mean().reset_index().rename(columns={'opponent_free_throw_rate': 'vs_tourney_team_allowed_free_throw_rate'})\n",
    "tourney_games = tourney_games.merge(vs_tourney_team_allowed_free_throw_rate, on=['team', 'season'], how='left')\n",
    "vs_tourney_team_allowed_free_throw_rate.rename(columns={'vs_tourney_team_allowed_free_throw_rate': 'opponent_vs_tourney_team_allowed_free_throw_rate', 'team':'opponent'}, inplace=True)\n",
    "tourney_games = tourney_games.merge(vs_tourney_team_allowed_free_throw_rate, on=['opponent', 'season'], how='left')"
   ]
  },
  {
   "cell_type": "code",
   "execution_count": 276,
   "metadata": {},
   "outputs": [],
   "source": [
    "vs_tourney_team_allowed_free_throw_rate_std = games_vs_tourney_teams[['team', 'season','opponent_free_throw_rate']].groupby(['team', 'season']).std().reset_index().rename(columns={'opponent_free_throw_rate': 'vs_tourney_team_allowed_free_throw_rate_std'})\n",
    "tourney_games = tourney_games.merge(vs_tourney_team_allowed_free_throw_rate_std, on=['team', 'season'], how='left')\n",
    "vs_tourney_team_allowed_free_throw_rate_std.rename(columns={'vs_tourney_team_allowed_free_throw_rate_std': 'opponent_vs_tourney_team_allowed_free_throw_rate_std', 'team':'opponent'}, inplace=True)\n",
    "tourney_games = tourney_games.merge(vs_tourney_team_allowed_free_throw_rate_std, on=['opponent', 'season'], how='left')"
   ]
  },
  {
   "cell_type": "code",
   "execution_count": 277,
   "metadata": {},
   "outputs": [],
   "source": [
    "last_10_allowed_free_throw_rate = last_10_non_tourney[['team', 'season','opponent_free_throw_rate']].groupby(['team', 'season']).mean().reset_index().rename(columns={'opponent_free_throw_rate': 'last_10_allowed_free_throw_rate'})\n",
    "tourney_games = tourney_games.merge(last_10_allowed_free_throw_rate, on=['team', 'season'], how='left')\n",
    "last_10_allowed_free_throw_rate.rename(columns={'last_10_allowed_free_throw_rate': 'opponent_last_10_allowed_free_throw_rate', 'team':'opponent'}, inplace=True)\n",
    "tourney_games = tourney_games.merge(last_10_allowed_free_throw_rate, on=['opponent', 'season'], how='left')"
   ]
  },
  {
   "cell_type": "code",
   "execution_count": 278,
   "metadata": {},
   "outputs": [],
   "source": [
    "last_10_allowed_free_throw_rate_std = last_10_non_tourney[['team', 'season','opponent_free_throw_rate']].groupby(['team', 'season']).std().reset_index().rename(columns={'opponent_free_throw_rate': 'last_10_allowed_free_throw_rate_std'})\n",
    "tourney_games = tourney_games.merge(last_10_allowed_free_throw_rate_std, on=['team', 'season'], how='left')\n",
    "last_10_allowed_free_throw_rate_std.rename(columns={'last_10_allowed_free_throw_rate_std': 'opponent_last_10_allowed_free_throw_rate_std', 'team':'opponent'}, inplace=True)\n",
    "tourney_games = tourney_games.merge(last_10_allowed_free_throw_rate_std, on=['opponent', 'season'], how='left')"
   ]
  },
  {
   "cell_type": "code",
   "execution_count": 279,
   "metadata": {},
   "outputs": [
    {
     "data": {
      "text/html": [
       "<div>\n",
       "<style scoped>\n",
       "    .dataframe tbody tr th:only-of-type {\n",
       "        vertical-align: middle;\n",
       "    }\n",
       "\n",
       "    .dataframe tbody tr th {\n",
       "        vertical-align: top;\n",
       "    }\n",
       "\n",
       "    .dataframe thead th {\n",
       "        text-align: right;\n",
       "    }\n",
       "</style>\n",
       "<table border=\"1\" class=\"dataframe\">\n",
       "  <thead>\n",
       "    <tr style=\"text-align: right;\">\n",
       "      <th></th>\n",
       "      <th>date</th>\n",
       "      <th>season</th>\n",
       "      <th>team</th>\n",
       "      <th>opponent</th>\n",
       "      <th>Win_Loss</th>\n",
       "      <th>regular_season_win_pct</th>\n",
       "      <th>opponent_regular_season_win_pct</th>\n",
       "      <th>season_win_pct</th>\n",
       "      <th>opponent_season_win_pct</th>\n",
       "      <th>season_ppg</th>\n",
       "      <th>...</th>\n",
       "      <th>season_allowed_free_throw_rate_std</th>\n",
       "      <th>opponent_season_allowed_free_throw_rate_std</th>\n",
       "      <th>vs_tourney_team_allowed_free_throw_rate</th>\n",
       "      <th>opponent_vs_tourney_team_allowed_free_throw_rate</th>\n",
       "      <th>vs_tourney_team_allowed_free_throw_rate_std</th>\n",
       "      <th>opponent_vs_tourney_team_allowed_free_throw_rate_std</th>\n",
       "      <th>last_10_allowed_free_throw_rate</th>\n",
       "      <th>opponent_last_10_allowed_free_throw_rate</th>\n",
       "      <th>last_10_allowed_free_throw_rate_std</th>\n",
       "      <th>opponent_last_10_allowed_free_throw_rate_std</th>\n",
       "    </tr>\n",
       "  </thead>\n",
       "  <tbody>\n",
       "    <tr>\n",
       "      <th>0</th>\n",
       "      <td>2025-04-20</td>\n",
       "      <td>2025</td>\n",
       "      <td>Auburn</td>\n",
       "      <td>Alabama St.</td>\n",
       "      <td>UNK</td>\n",
       "      <td>0.870968</td>\n",
       "      <td>0.500000</td>\n",
       "      <td>0.848485</td>\n",
       "      <td>0.545455</td>\n",
       "      <td>83.848485</td>\n",
       "      <td>...</td>\n",
       "      <td>13.687460</td>\n",
       "      <td>15.096604</td>\n",
       "      <td>43.254167</td>\n",
       "      <td>40.400000</td>\n",
       "      <td>13.339675</td>\n",
       "      <td>11.298082</td>\n",
       "      <td>45.18</td>\n",
       "      <td>35.83</td>\n",
       "      <td>16.330394</td>\n",
       "      <td>10.666672</td>\n",
       "    </tr>\n",
       "    <tr>\n",
       "      <th>1</th>\n",
       "      <td>2025-04-20</td>\n",
       "      <td>2025</td>\n",
       "      <td>Auburn</td>\n",
       "      <td>Saint Francis</td>\n",
       "      <td>UNK</td>\n",
       "      <td>0.870968</td>\n",
       "      <td>0.370370</td>\n",
       "      <td>0.848485</td>\n",
       "      <td>0.433333</td>\n",
       "      <td>83.848485</td>\n",
       "      <td>...</td>\n",
       "      <td>13.687460</td>\n",
       "      <td>12.664617</td>\n",
       "      <td>43.254167</td>\n",
       "      <td>36.575000</td>\n",
       "      <td>13.339675</td>\n",
       "      <td>13.162668</td>\n",
       "      <td>45.18</td>\n",
       "      <td>25.81</td>\n",
       "      <td>16.330394</td>\n",
       "      <td>12.183637</td>\n",
       "    </tr>\n",
       "    <tr>\n",
       "      <th>2</th>\n",
       "      <td>2025-04-20</td>\n",
       "      <td>2025</td>\n",
       "      <td>Auburn</td>\n",
       "      <td>Louisville</td>\n",
       "      <td>UNK</td>\n",
       "      <td>0.870968</td>\n",
       "      <td>0.806452</td>\n",
       "      <td>0.848485</td>\n",
       "      <td>0.794118</td>\n",
       "      <td>83.848485</td>\n",
       "      <td>...</td>\n",
       "      <td>13.687460</td>\n",
       "      <td>12.422243</td>\n",
       "      <td>43.254167</td>\n",
       "      <td>32.377778</td>\n",
       "      <td>13.339675</td>\n",
       "      <td>16.702528</td>\n",
       "      <td>45.18</td>\n",
       "      <td>25.11</td>\n",
       "      <td>16.330394</td>\n",
       "      <td>10.016148</td>\n",
       "    </tr>\n",
       "    <tr>\n",
       "      <th>3</th>\n",
       "      <td>2025-04-20</td>\n",
       "      <td>2025</td>\n",
       "      <td>Auburn</td>\n",
       "      <td>Creighton</td>\n",
       "      <td>UNK</td>\n",
       "      <td>0.870968</td>\n",
       "      <td>0.709677</td>\n",
       "      <td>0.848485</td>\n",
       "      <td>0.705882</td>\n",
       "      <td>83.848485</td>\n",
       "      <td>...</td>\n",
       "      <td>13.687460</td>\n",
       "      <td>10.286672</td>\n",
       "      <td>43.254167</td>\n",
       "      <td>17.871429</td>\n",
       "      <td>13.339675</td>\n",
       "      <td>10.792692</td>\n",
       "      <td>45.18</td>\n",
       "      <td>12.91</td>\n",
       "      <td>16.330394</td>\n",
       "      <td>5.389795</td>\n",
       "    </tr>\n",
       "    <tr>\n",
       "      <th>4</th>\n",
       "      <td>2025-04-20</td>\n",
       "      <td>2025</td>\n",
       "      <td>Auburn</td>\n",
       "      <td>Michigan</td>\n",
       "      <td>UNK</td>\n",
       "      <td>0.870968</td>\n",
       "      <td>0.709677</td>\n",
       "      <td>0.848485</td>\n",
       "      <td>0.735294</td>\n",
       "      <td>83.848485</td>\n",
       "      <td>...</td>\n",
       "      <td>13.687460</td>\n",
       "      <td>11.264210</td>\n",
       "      <td>43.254167</td>\n",
       "      <td>30.360000</td>\n",
       "      <td>13.339675</td>\n",
       "      <td>11.919839</td>\n",
       "      <td>45.18</td>\n",
       "      <td>27.93</td>\n",
       "      <td>16.330394</td>\n",
       "      <td>8.378285</td>\n",
       "    </tr>\n",
       "    <tr>\n",
       "      <th>...</th>\n",
       "      <td>...</td>\n",
       "      <td>...</td>\n",
       "      <td>...</td>\n",
       "      <td>...</td>\n",
       "      <td>...</td>\n",
       "      <td>...</td>\n",
       "      <td>...</td>\n",
       "      <td>...</td>\n",
       "      <td>...</td>\n",
       "      <td>...</td>\n",
       "      <td>...</td>\n",
       "      <td>...</td>\n",
       "      <td>...</td>\n",
       "      <td>...</td>\n",
       "      <td>...</td>\n",
       "      <td>...</td>\n",
       "      <td>...</td>\n",
       "      <td>...</td>\n",
       "      <td>...</td>\n",
       "      <td>...</td>\n",
       "      <td>...</td>\n",
       "    </tr>\n",
       "    <tr>\n",
       "      <th>4551</th>\n",
       "      <td>2025-04-20</td>\n",
       "      <td>2025</td>\n",
       "      <td>Wofford</td>\n",
       "      <td>Kentucky</td>\n",
       "      <td>UNK</td>\n",
       "      <td>0.482759</td>\n",
       "      <td>0.677419</td>\n",
       "      <td>0.531250</td>\n",
       "      <td>0.666667</td>\n",
       "      <td>73.406250</td>\n",
       "      <td>...</td>\n",
       "      <td>17.816244</td>\n",
       "      <td>14.367690</td>\n",
       "      <td>24.350000</td>\n",
       "      <td>33.765217</td>\n",
       "      <td>9.404520</td>\n",
       "      <td>13.694545</td>\n",
       "      <td>42.80</td>\n",
       "      <td>32.38</td>\n",
       "      <td>20.231878</td>\n",
       "      <td>11.234748</td>\n",
       "    </tr>\n",
       "    <tr>\n",
       "      <th>4552</th>\n",
       "      <td>2025-04-20</td>\n",
       "      <td>2025</td>\n",
       "      <td>Wofford</td>\n",
       "      <td>Troy</td>\n",
       "      <td>UNK</td>\n",
       "      <td>0.482759</td>\n",
       "      <td>0.642857</td>\n",
       "      <td>0.531250</td>\n",
       "      <td>0.677419</td>\n",
       "      <td>73.406250</td>\n",
       "      <td>...</td>\n",
       "      <td>17.816244</td>\n",
       "      <td>11.140500</td>\n",
       "      <td>24.350000</td>\n",
       "      <td>28.800000</td>\n",
       "      <td>9.404520</td>\n",
       "      <td>4.590207</td>\n",
       "      <td>42.80</td>\n",
       "      <td>35.86</td>\n",
       "      <td>20.231878</td>\n",
       "      <td>12.664052</td>\n",
       "    </tr>\n",
       "    <tr>\n",
       "      <th>4553</th>\n",
       "      <td>2025-04-20</td>\n",
       "      <td>2025</td>\n",
       "      <td>Wofford</td>\n",
       "      <td>UCLA</td>\n",
       "      <td>UNK</td>\n",
       "      <td>0.482759</td>\n",
       "      <td>0.709677</td>\n",
       "      <td>0.531250</td>\n",
       "      <td>0.687500</td>\n",
       "      <td>73.406250</td>\n",
       "      <td>...</td>\n",
       "      <td>17.816244</td>\n",
       "      <td>13.684324</td>\n",
       "      <td>24.350000</td>\n",
       "      <td>36.784615</td>\n",
       "      <td>9.404520</td>\n",
       "      <td>15.376001</td>\n",
       "      <td>42.80</td>\n",
       "      <td>28.89</td>\n",
       "      <td>20.231878</td>\n",
       "      <td>5.936600</td>\n",
       "    </tr>\n",
       "    <tr>\n",
       "      <th>4554</th>\n",
       "      <td>2025-04-20</td>\n",
       "      <td>2025</td>\n",
       "      <td>Wofford</td>\n",
       "      <td>Utah St.</td>\n",
       "      <td>UNK</td>\n",
       "      <td>0.482759</td>\n",
       "      <td>0.800000</td>\n",
       "      <td>0.531250</td>\n",
       "      <td>0.781250</td>\n",
       "      <td>73.406250</td>\n",
       "      <td>...</td>\n",
       "      <td>17.816244</td>\n",
       "      <td>16.663780</td>\n",
       "      <td>24.350000</td>\n",
       "      <td>48.780000</td>\n",
       "      <td>9.404520</td>\n",
       "      <td>17.728621</td>\n",
       "      <td>42.80</td>\n",
       "      <td>46.43</td>\n",
       "      <td>20.231878</td>\n",
       "      <td>21.733796</td>\n",
       "    </tr>\n",
       "    <tr>\n",
       "      <th>4555</th>\n",
       "      <td>2025-04-20</td>\n",
       "      <td>2025</td>\n",
       "      <td>Wofford</td>\n",
       "      <td>Tennessee</td>\n",
       "      <td>UNK</td>\n",
       "      <td>0.482759</td>\n",
       "      <td>0.806452</td>\n",
       "      <td>0.531250</td>\n",
       "      <td>0.794118</td>\n",
       "      <td>73.406250</td>\n",
       "      <td>...</td>\n",
       "      <td>17.816244</td>\n",
       "      <td>12.764470</td>\n",
       "      <td>24.350000</td>\n",
       "      <td>31.920833</td>\n",
       "      <td>9.404520</td>\n",
       "      <td>13.149177</td>\n",
       "      <td>42.80</td>\n",
       "      <td>36.35</td>\n",
       "      <td>20.231878</td>\n",
       "      <td>9.278560</td>\n",
       "    </tr>\n",
       "  </tbody>\n",
       "</table>\n",
       "<p>4556 rows × 176 columns</p>\n",
       "</div>"
      ],
      "text/plain": [
       "            date  season     team       opponent Win_Loss  \\\n",
       "0     2025-04-20    2025   Auburn    Alabama St.      UNK   \n",
       "1     2025-04-20    2025   Auburn  Saint Francis      UNK   \n",
       "2     2025-04-20    2025   Auburn     Louisville      UNK   \n",
       "3     2025-04-20    2025   Auburn      Creighton      UNK   \n",
       "4     2025-04-20    2025   Auburn       Michigan      UNK   \n",
       "...          ...     ...      ...            ...      ...   \n",
       "4551  2025-04-20    2025  Wofford       Kentucky      UNK   \n",
       "4552  2025-04-20    2025  Wofford           Troy      UNK   \n",
       "4553  2025-04-20    2025  Wofford           UCLA      UNK   \n",
       "4554  2025-04-20    2025  Wofford       Utah St.      UNK   \n",
       "4555  2025-04-20    2025  Wofford      Tennessee      UNK   \n",
       "\n",
       "      regular_season_win_pct  opponent_regular_season_win_pct  season_win_pct  \\\n",
       "0                   0.870968                         0.500000        0.848485   \n",
       "1                   0.870968                         0.370370        0.848485   \n",
       "2                   0.870968                         0.806452        0.848485   \n",
       "3                   0.870968                         0.709677        0.848485   \n",
       "4                   0.870968                         0.709677        0.848485   \n",
       "...                      ...                              ...             ...   \n",
       "4551                0.482759                         0.677419        0.531250   \n",
       "4552                0.482759                         0.642857        0.531250   \n",
       "4553                0.482759                         0.709677        0.531250   \n",
       "4554                0.482759                         0.800000        0.531250   \n",
       "4555                0.482759                         0.806452        0.531250   \n",
       "\n",
       "      opponent_season_win_pct  season_ppg  ...  \\\n",
       "0                    0.545455   83.848485  ...   \n",
       "1                    0.433333   83.848485  ...   \n",
       "2                    0.794118   83.848485  ...   \n",
       "3                    0.705882   83.848485  ...   \n",
       "4                    0.735294   83.848485  ...   \n",
       "...                       ...         ...  ...   \n",
       "4551                 0.666667   73.406250  ...   \n",
       "4552                 0.677419   73.406250  ...   \n",
       "4553                 0.687500   73.406250  ...   \n",
       "4554                 0.781250   73.406250  ...   \n",
       "4555                 0.794118   73.406250  ...   \n",
       "\n",
       "      season_allowed_free_throw_rate_std  \\\n",
       "0                              13.687460   \n",
       "1                              13.687460   \n",
       "2                              13.687460   \n",
       "3                              13.687460   \n",
       "4                              13.687460   \n",
       "...                                  ...   \n",
       "4551                           17.816244   \n",
       "4552                           17.816244   \n",
       "4553                           17.816244   \n",
       "4554                           17.816244   \n",
       "4555                           17.816244   \n",
       "\n",
       "      opponent_season_allowed_free_throw_rate_std  \\\n",
       "0                                       15.096604   \n",
       "1                                       12.664617   \n",
       "2                                       12.422243   \n",
       "3                                       10.286672   \n",
       "4                                       11.264210   \n",
       "...                                           ...   \n",
       "4551                                    14.367690   \n",
       "4552                                    11.140500   \n",
       "4553                                    13.684324   \n",
       "4554                                    16.663780   \n",
       "4555                                    12.764470   \n",
       "\n",
       "      vs_tourney_team_allowed_free_throw_rate  \\\n",
       "0                                   43.254167   \n",
       "1                                   43.254167   \n",
       "2                                   43.254167   \n",
       "3                                   43.254167   \n",
       "4                                   43.254167   \n",
       "...                                       ...   \n",
       "4551                                24.350000   \n",
       "4552                                24.350000   \n",
       "4553                                24.350000   \n",
       "4554                                24.350000   \n",
       "4555                                24.350000   \n",
       "\n",
       "      opponent_vs_tourney_team_allowed_free_throw_rate  \\\n",
       "0                                            40.400000   \n",
       "1                                            36.575000   \n",
       "2                                            32.377778   \n",
       "3                                            17.871429   \n",
       "4                                            30.360000   \n",
       "...                                                ...   \n",
       "4551                                         33.765217   \n",
       "4552                                         28.800000   \n",
       "4553                                         36.784615   \n",
       "4554                                         48.780000   \n",
       "4555                                         31.920833   \n",
       "\n",
       "      vs_tourney_team_allowed_free_throw_rate_std  \\\n",
       "0                                       13.339675   \n",
       "1                                       13.339675   \n",
       "2                                       13.339675   \n",
       "3                                       13.339675   \n",
       "4                                       13.339675   \n",
       "...                                           ...   \n",
       "4551                                     9.404520   \n",
       "4552                                     9.404520   \n",
       "4553                                     9.404520   \n",
       "4554                                     9.404520   \n",
       "4555                                     9.404520   \n",
       "\n",
       "      opponent_vs_tourney_team_allowed_free_throw_rate_std  \\\n",
       "0                                             11.298082      \n",
       "1                                             13.162668      \n",
       "2                                             16.702528      \n",
       "3                                             10.792692      \n",
       "4                                             11.919839      \n",
       "...                                                 ...      \n",
       "4551                                          13.694545      \n",
       "4552                                           4.590207      \n",
       "4553                                          15.376001      \n",
       "4554                                          17.728621      \n",
       "4555                                          13.149177      \n",
       "\n",
       "      last_10_allowed_free_throw_rate  \\\n",
       "0                               45.18   \n",
       "1                               45.18   \n",
       "2                               45.18   \n",
       "3                               45.18   \n",
       "4                               45.18   \n",
       "...                               ...   \n",
       "4551                            42.80   \n",
       "4552                            42.80   \n",
       "4553                            42.80   \n",
       "4554                            42.80   \n",
       "4555                            42.80   \n",
       "\n",
       "      opponent_last_10_allowed_free_throw_rate  \\\n",
       "0                                        35.83   \n",
       "1                                        25.81   \n",
       "2                                        25.11   \n",
       "3                                        12.91   \n",
       "4                                        27.93   \n",
       "...                                        ...   \n",
       "4551                                     32.38   \n",
       "4552                                     35.86   \n",
       "4553                                     28.89   \n",
       "4554                                     46.43   \n",
       "4555                                     36.35   \n",
       "\n",
       "      last_10_allowed_free_throw_rate_std  \\\n",
       "0                               16.330394   \n",
       "1                               16.330394   \n",
       "2                               16.330394   \n",
       "3                               16.330394   \n",
       "4                               16.330394   \n",
       "...                                   ...   \n",
       "4551                            20.231878   \n",
       "4552                            20.231878   \n",
       "4553                            20.231878   \n",
       "4554                            20.231878   \n",
       "4555                            20.231878   \n",
       "\n",
       "      opponent_last_10_allowed_free_throw_rate_std  \n",
       "0                                        10.666672  \n",
       "1                                        12.183637  \n",
       "2                                        10.016148  \n",
       "3                                         5.389795  \n",
       "4                                         8.378285  \n",
       "...                                            ...  \n",
       "4551                                     11.234748  \n",
       "4552                                     12.664052  \n",
       "4553                                      5.936600  \n",
       "4554                                     21.733796  \n",
       "4555                                      9.278560  \n",
       "\n",
       "[4556 rows x 176 columns]"
      ]
     },
     "execution_count": 279,
     "metadata": {},
     "output_type": "execute_result"
    }
   ],
   "source": [
    "tourney_games"
   ]
  },
  {
   "cell_type": "code",
   "execution_count": 280,
   "metadata": {},
   "outputs": [
    {
     "data": {
      "text/plain": [
       "116"
      ]
     },
     "execution_count": 280,
     "metadata": {},
     "output_type": "execute_result"
    }
   ],
   "source": [
    "tourney_games.to_sql('tourney_games_2025_potential', conn, if_exists='replace', index=False, schema='sports_data')"
   ]
  },
  {
   "cell_type": "code",
   "execution_count": 281,
   "metadata": {},
   "outputs": [],
   "source": [
    "conn.commit()"
   ]
  },
  {
   "cell_type": "code",
   "execution_count": null,
   "metadata": {},
   "outputs": [],
   "source": []
  }
 ],
 "metadata": {
  "kernelspec": {
   "display_name": ".venv",
   "language": "python",
   "name": "python3"
  },
  "language_info": {
   "codemirror_mode": {
    "name": "ipython",
    "version": 3
   },
   "file_extension": ".py",
   "mimetype": "text/x-python",
   "name": "python",
   "nbconvert_exporter": "python",
   "pygments_lexer": "ipython3",
   "version": "3.10.6"
  },
  "orig_nbformat": 4
 },
 "nbformat": 4,
 "nbformat_minor": 2
}
