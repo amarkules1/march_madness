{
 "cells": [
  {
   "cell_type": "code",
   "execution_count": 1,
   "metadata": {},
   "outputs": [
    {
     "name": "stderr",
     "output_type": "stream",
     "text": [
      "C:\\Users\\amarl\\AppData\\Local\\Temp\\ipykernel_25584\\1058106858.py:1: DeprecationWarning: \n",
      "Pyarrow will become a required dependency of pandas in the next major release of pandas (pandas 3.0),\n",
      "(to allow more performant data types, such as the Arrow string type, and better interoperability with other libraries)\n",
      "but was not found to be installed on your system.\n",
      "If this would cause problems for you,\n",
      "please provide us feedback at https://github.com/pandas-dev/pandas/issues/54466\n",
      "        \n",
      "  import pandas as pd\n"
     ]
    }
   ],
   "source": [
    "import pandas as pd\n",
    "import requests"
   ]
  },
  {
   "cell_type": "code",
   "execution_count": 78,
   "metadata": {},
   "outputs": [],
   "source": [
    "resp = requests.get('https://barttorvik.com/getgamestats.php?sIndex=7&year=2023&tvalue=All&cvalue=All&opcvalue=All&ovalue=All&minwin=All&mindate=11/06/2023&maxdate=11/07/2023&typev=All&venvalue=All&minadjo=0&minadjd=200&mintempo=0&minppp=0&minefg=0&mintov=200&minreb=0&minftr=0&minpppd=200&minefgd=200&mintovd=0&minrebd=200&minftrd=200&mings=0&mingscript=-100&maxx=100&coach=All&opcoach=All&adjoSelect=min&adjdSelect=max&tempoSelect=min&pppSelect=min&efgSelect=min&tovSelect=max&rebSelect=min&ftrSelect=min&pppdSelect=max&efgdSelect=max&tovdSelect=min&rebdSelect=max&ftrdSelect=max&gscriptSelect=min&sortToggle=1')"
   ]
  },
  {
   "cell_type": "code",
   "execution_count": 63,
   "metadata": {},
   "outputs": [
    {
     "data": {
      "text/plain": [
       "['2/4/23',\n",
       " 1,\n",
       " 'Abilene Christian',\n",
       " 'WAC',\n",
       " 'Cal Baptist',\n",
       " 'A',\n",
       " 'W, 87-71',\n",
       " 131.5,\n",
       " 115.4,\n",
       " 133,\n",
       " 62.5,\n",
       " 16.8,\n",
       " 34.6,\n",
       " 48.1,\n",
       " 108.6,\n",
       " 52.8,\n",
       " 19.9,\n",
       " 36.4,\n",
       " 43.4,\n",
       " 81.8,\n",
       " 'WAC',\n",
       " 1,\n",
       " 2023,\n",
       " 65.4,\n",
       " 'Abilene ChristianCal Baptist2-4',\n",
       " 'Brette Tanner',\n",
       " 'Rick Croy',\n",
       " 0.566046,\n",
       " 0.593176,\n",
       " '[\"2/4/2023\", 200, \"Abilene Christian\", \"Cal Baptist\", 27, 52, 11, 20, 22, 25, 9, 21, 30, 15, 7, 1, 11, 20, 87, 25, 53, 6, 25, 15, 23, 12, 17, 29, 16, 4, 3, 13, 16, 71, 65.4, \"\", \"Abilene Christian\", \"Cal Baptist\"]',\n",
       " 0]"
      ]
     },
     "execution_count": 63,
     "metadata": {},
     "output_type": "execute_result"
    }
   ],
   "source": [
    "resp.json()[0]"
   ]
  },
  {
   "cell_type": "code",
   "execution_count": 64,
   "metadata": {},
   "outputs": [],
   "source": [
    "header = ['Date', 'Game_Type', 'Team', 'Conference', 'Opponent', 'Location', 'Result', 'Adj_Offense', 'Adj_Defense', 'Offensive_Efficiency',  'Effective_FG_Percent', 'Turnover_Percent', 'Offensive_Rebound_Percent', 'Free_Throw_Rate', 'Opponent_Offensive_Efficiency', 'Opponent_Effective_FG_Percent', 'Opponent_Turnover_Percent', 'Opponent_Offensive_Rebound_Percent', 'Opponent_Free_Throw_Rate', 'UNK2', 'Opponent_Conference', 'UNK2', 'Season', 'UNK3', 'UNK4', 'UNK5', 'UNK6', 'UNK7', 'UNK8', 'UNK9', 'UNK10']"
   ]
  },
  {
   "cell_type": "code",
   "execution_count": 6,
   "metadata": {},
   "outputs": [
    {
     "data": {
      "text/plain": [
       "31"
      ]
     },
     "execution_count": 6,
     "metadata": {},
     "output_type": "execute_result"
    }
   ],
   "source": [
    "len(header) # same length, nice\n"
   ]
  },
  {
   "cell_type": "code",
   "execution_count": 79,
   "metadata": {},
   "outputs": [],
   "source": [
    "relevant_fields = [field for field in header if not field.startswith('UNK')]"
   ]
  },
  {
   "cell_type": "code",
   "execution_count": 85,
   "metadata": {},
   "outputs": [],
   "source": [
    "df = pd.DataFrame(resp.json(), columns=header)\n",
    "df = df[relevant_fields]"
   ]
  },
  {
   "cell_type": "code",
   "execution_count": 70,
   "metadata": {},
   "outputs": [
    {
     "name": "stdout",
     "output_type": "stream",
     "text": [
      "create table game_stats (\n",
      "Date varchar,\n",
      "Game_Type int,\n",
      "Team varchar,\n",
      "Conference varchar,\n",
      "Opponent varchar,\n",
      "Location varchar,\n",
      "Result varchar,\n",
      "Adj_Offense numeric(10,10),\n",
      "Adj_Defense numeric(10,10),\n",
      "Offensive_Efficiency numeric(10,10),\n",
      "Effective_FG_Percent numeric(10,10),\n",
      "Turnover_Percent numeric(10,10),\n",
      "Offensive_Rebound_Percent numeric(10,10),\n",
      "Free_Throw_Rate numeric(10,10),\n",
      "Opponent_Offensive_Efficiency numeric(10,10),\n",
      "Opponent_Effective_FG_Percent numeric(10,10),\n",
      "Opponent_Turnover_Percent numeric(10,10),\n",
      "Opponent_Offensive_Rebound_Percent numeric(10,10),\n",
      "Opponent_Free_Throw_Rate numeric(10,10),\n",
      "Opponent_Conference varchar,\n",
      "Season int,\n"
     ]
    }
   ],
   "source": [
    "import numpy\n",
    "print(\"create table game_stats (\")\n",
    "for col in relevant_fields:\n",
    "    if type(df[col][0]) == str:\n",
    "        print(f\"{col} varchar,\")\n",
    "    elif type(df[col][0]) == numpy.int64:\n",
    "        print(f\"{col} int,\")\n",
    "    elif type(df[col][0]) == numpy.float64:\n",
    "        print(f\"{col} numeric(10,10),\")\n",
    "    else:\n",
    "        print(f\"unknown type {type(df[col][0])} for {col}\")"
   ]
  },
  {
   "cell_type": "code",
   "execution_count": 76,
   "metadata": {},
   "outputs": [],
   "source": [
    "import os\n",
    "import sqlalchemy\n",
    "from dotenv import load_dotenv, find_dotenv\n",
    "_ = load_dotenv(find_dotenv())\n",
    "\n",
    "connection_string = os.getenv(\"LINODE_CONN_STRING\")\n",
    "connection_string = os.getenv(\"LINODE_CONN_STRING\")\n",
    "conn = sqlalchemy.create_engine(os.getenv(\"LINODE_CONN_STRING\")).connect()"
   ]
  },
  {
   "cell_type": "code",
   "execution_count": 73,
   "metadata": {},
   "outputs": [],
   "source": [
    "conn.commit()"
   ]
  },
  {
   "cell_type": "code",
   "execution_count": 83,
   "metadata": {},
   "outputs": [],
   "source": [
    "conn.execute(sqlalchemy.text(\"delete from sports_data.game_stats\"))\n",
    "for i, row in df.iterrows():\n",
    "    insert_statement = f\"\"\"insert into sports_data.game_stats values ('{','.join([str(x).replace(\"'\",\"''\") for x in row])}')\"\"\"\n",
    "    conn.execute(sqlalchemy.text(insert_statement))\n",
    "conn.commit()"
   ]
  },
  {
   "cell_type": "code",
   "execution_count": 84,
   "metadata": {},
   "outputs": [],
   "source": [
    "for year in [\"2024\", \"2022\", \"2021\", \"2020\", \"2019\", \"2018\", \"2017\", \"2016\", \"2015\"]:\n",
    "    resp = requests.get(f'https://barttorvik.com/getgamestats.php?sIndex=7&year={year}&tvalue=All&cvalue=All&opcvalue=All&ovalue=All&minwin=All&mindate=11/06/2023&maxdate=11/07/2023&typev=All&venvalue=All&minadjo=0&minadjd=200&mintempo=0&minppp=0&minefg=0&mintov=200&minreb=0&minftr=0&minpppd=200&minefgd=200&mintovd=0&minrebd=200&minftrd=200&mings=0&mingscript=-100&maxx=100&coach=All&opcoach=All&adjoSelect=min&adjdSelect=max&tempoSelect=min&pppSelect=min&efgSelect=min&tovSelect=max&rebSelect=min&ftrSelect=min&pppdSelect=max&efgdSelect=max&tovdSelect=min&rebdSelect=max&ftrdSelect=max&gscriptSelect=min&sortToggle=1')\n",
    "    df = pd.DataFrame(resp.json(), columns=header)\n",
    "    df = df[relevant_fields]\n",
    "    for i, row in df.iterrows():\n",
    "        insert_statement = f\"\"\"insert into sports_data.game_stats values ('{','.join([str(x).replace(\"'\",\"''\") for x in row])}')\"\"\"\n",
    "        conn.execute(sqlalchemy.text(insert_statement))\n",
    "        \n",
    "    conn.commit()"
   ]
  },
  {
   "cell_type": "markdown",
   "metadata": {},
   "source": [
    "col 2 is probably game type? 0 is Non-Conference, 1 is conference, 2 is conference tourney, 3 is NCAA tourney (generally? might be exceptions where 3 is other post season tourney)"
   ]
  }
 ],
 "metadata": {
  "kernelspec": {
   "display_name": ".venv",
   "language": "python",
   "name": "python3"
  },
  "language_info": {
   "codemirror_mode": {
    "name": "ipython",
    "version": 3
   },
   "file_extension": ".py",
   "mimetype": "text/x-python",
   "name": "python",
   "nbconvert_exporter": "python",
   "pygments_lexer": "ipython3",
   "version": "3.10.6"
  },
  "orig_nbformat": 4
 },
 "nbformat": 4,
 "nbformat_minor": 2
}
