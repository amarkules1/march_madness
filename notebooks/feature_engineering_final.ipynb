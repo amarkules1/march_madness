{
 "cells": [
  {
   "cell_type": "markdown",
   "metadata": {},
   "source": [
    "# Fields for tournament games\n",
    "\n",
    "# Informational fields:\n",
    "* date\n",
    "* season\n",
    "* team\n",
    "* opponent\n",
    "* win/loss\n",
    "\n",
    "# Predictor fields\n",
    "* regular_season_win_pct - just conference and non-conference games\n",
    "* opponent_regular_season_win_pct\n",
    "* season_win_pct - includes conference tourney games\n",
    "* opponent_season_win_pct\n",
    "* season_ppg - includes conference tourney games\n",
    "* opponent_season_ppg\n",
    "* season_ppg_allowed - includes conference tourney games\n",
    "* opponent_season_ppg_allowed\n",
    "* last_10_games_win_pct - includes conference tourney games\n",
    "* opponent_last_10_games_win_pct\n",
    "* last_5_games_win_pct - includes conference tourney games\n",
    "* opponent_last_5_games_win_pct\n",
    "* vs_tourney_team_win_pct - includes conference tourney games\n",
    "* opponent_vs_tourney_team_win_pct\n",
    "* games_played_vs_tourney_teams - includes conference tourney games\n",
    "* opponent_games_played_vs_tourney_teams\n",
    "* season_adj_offense - includes conference tourney games\n",
    "* opponent_season_adj_offense\n",
    "* vs_tourney_team_adj_offense - includes conference tourney games\n",
    "* opponent_vs_tourney_team_adj_offense\n",
    "* season_adj_defense - includes conference tourney games\n",
    "* opponent_season_adj_defense\n",
    "* vs_tourney_team_adj_defense - includes conference tourney games\n",
    "* opponent_vs_tourney_team_adj_defense\n",
    "* season_offensive_efficiency - includes conference tourney games\n",
    "* opponent_season_offensive_efficiency\n",
    "* vs_tourney_team_offensive_efficiency - includes conference tourney games\n",
    "* opponent_vs_tourney_team_offensive_efficiency\n",
    "* season_effective_field_goal_pct - includes conference tourney games\n",
    "* opponent_season_effective_field_goal_pct\n",
    "* vs_tourney_team_effective_field_goal_pct - includes conference tourney games\n",
    "* opponent_vs_tourney_team_effective_field_goal_pct\n",
    "* season_turnover_pct - includes conference tourney games\n",
    "* opponent_season_turnover_pct\n",
    "* vs_tourney_team_turnover_pct - includes conference tourney games\n",
    "* opponent_vs_tourney_team_turnover_pct\n",
    "* season_off_reb_pct - includes conference tourney games\n",
    "* opponent_season_off_reb_pct\n",
    "* vs_tourney_team_off_reb_pct - includes conference tourney games\n",
    "* opponent_vs_tourney_team_off_reb_pct\n",
    "* season_ft_rate - includes conference tourney games\n",
    "* opponent_season_ft_rate\n",
    "* vs_tourney_team_ft_rate - includes conference tourney games\n",
    "* opponent_vs_tourney_team_ft_rate\n",
    "* season_allowed_offensive_efficiency - includes conference tourney games\n",
    "* opponent_season_allowed_offensive_efficiency\n",
    "* vs_tourney_team_allowed_offensive_efficiency - includes conference tourney games\n",
    "* opponent_vs_tourney_team_allowed_offensive_efficiency\n",
    "* season_allowed_effective_field_goal_pct - includes conference tourney games\n",
    "* opponent_season_allowed_effective_field_goal_pct\n",
    "* vs_tourney_team_allowed_effective_field_goal_pct - includes conference tourney games\n",
    "* opponent_vs_tourney_team_allowed_effective_field_goal_pct\n",
    "* season_allowed_turnover_pct - includes conference tourney games\n",
    "* opponent_season_allowed_turnover_pct\n",
    "* vs_tourney_team_allowed_turnover_pct - includes conference tourney games\n",
    "* opponent_vs_tourney_team_allowed_turnover_pct\n",
    "* season_allowed_off_reb_pct - includes conference tourney games\n",
    "* opponent_season_allowed_off_reb_pct\n",
    "* vs_tourney_team_allowed_off_reb_pct - includes conference tourney games\n",
    "* opponent_vs_tourney_team_allowed_off_reb_pct\n",
    "* season_allowed_ft_rate - includes conference tourney games\n",
    "* opponent_season_allowed_ft_rate\n",
    "* vs_tourney_team_allowed_ft_rate - includes conference tourney games\n",
    "* opponent_vs_tourney_team_allowed_ft_rate\n",
    "* season_allowed_adj_offense - includes conference tourney games\n",
    "* opponent_season_allowed_adj_offense\n",
    "* vs_tourney_team_allowed_adj_offense - includes conference tourney games\n",
    "* opponent_vs_tourney_team_allowed_adj_offense\n",
    "* season_allowed_adj_defense - includes conference tourney games\n",
    "* opponent_season_allowed_adj_defense\n",
    "* vs_tourney_team_allowed_adj_defense - includes conference tourney games\n",
    "* opponent_vs_tourney_team_allowed_adj_defense"
   ]
  },
  {
   "cell_type": "code",
   "execution_count": 119,
   "metadata": {},
   "outputs": [],
   "source": [
    "import os\n",
    "import pandas as pd\n",
    "import sqlalchemy\n",
    "import sklearn\n",
    "from dotenv import load_dotenv, find_dotenv\n",
    "_ = load_dotenv(find_dotenv())\n",
    "\n",
    "connection_string = os.getenv(\"LINODE_CONN_STRING\")\n",
    "connection_string = os.getenv(\"LINODE_CONN_STRING\")\n",
    "conn = sqlalchemy.create_engine(os.getenv(\"LINODE_CONN_STRING\")).connect()"
   ]
  },
  {
   "cell_type": "code",
   "execution_count": 120,
   "metadata": {},
   "outputs": [],
   "source": [
    "all_games = pd.read_sql(\"select * from sports_data.game_stats_v2\", conn)"
   ]
  },
  {
   "cell_type": "code",
   "execution_count": 121,
   "metadata": {},
   "outputs": [],
   "source": [
    "tourney_games = all_games[all_games[\"game_type\"] == \"Post-Season Tourney\"]\n",
    "tourney_games = tourney_games[tourney_games['location'] == 'N']"
   ]
  },
  {
   "cell_type": "code",
   "execution_count": 122,
   "metadata": {},
   "outputs": [
    {
     "data": {
      "text/plain": [
       "Index(['date', 'game_type', 'team', 'conference', 'opponent', 'location',\n",
       "       'result', 'adj_offense', 'adj_defense', 'offensive_efficiency',\n",
       "       'effective_fg_percent', 'turnover_percent', 'offensive_rebound_percent',\n",
       "       'free_throw_rate', 'opponent_offensive_efficiency',\n",
       "       'opponent_effective_fg_percent', 'opponent_turnover_percent',\n",
       "       'opponent_offensive_rebound_percent', 'opponent_free_throw_rate',\n",
       "       'opponent_conference', 'season', 'Win_Loss', 'score', 'opponent_score'],\n",
       "      dtype='object')"
      ]
     },
     "execution_count": 122,
     "metadata": {},
     "output_type": "execute_result"
    }
   ],
   "source": [
    "tourney_games.columns"
   ]
  },
  {
   "cell_type": "code",
   "execution_count": 123,
   "metadata": {},
   "outputs": [],
   "source": [
    "tourney_games = tourney_games[['date', 'season', 'team', 'opponent', 'Win_Loss']]"
   ]
  },
  {
   "cell_type": "code",
   "execution_count": 124,
   "metadata": {},
   "outputs": [
    {
     "data": {
      "text/plain": [
       "array(['Non-Conference', 'Conference', 'Conference Tourney',\n",
       "       'Post-Season Tourney'], dtype=object)"
      ]
     },
     "execution_count": 124,
     "metadata": {},
     "output_type": "execute_result"
    }
   ],
   "source": [
    "all_games['game_type'].unique()"
   ]
  },
  {
   "cell_type": "code",
   "execution_count": 125,
   "metadata": {},
   "outputs": [],
   "source": [
    "regular_season_games = all_games[all_games[\"game_type\"].isin(['Non-Conference', 'Conference'])]\n",
    "pre_tourney_games = all_games[all_games[\"game_type\"].isin(['Non-Conference', 'Conference', 'Conference Tourney'])]\n",
    "last_5_non_tourney = all_games[all_games['game_type'] != 'Post-Season Tourney'].sort_values('date').groupby(['team', 'season']).tail(5).sort_values(['team', 'season', 'date'])\n",
    "last_10_non_tourney = all_games[all_games['game_type'] != 'Post-Season Tourney'].sort_values('date').groupby(['team', 'season']).tail(10).sort_values(['team', 'season', 'date'])\n",
    "all_games['opp_season'] = all_games.apply(lambda x: f\"{x['opponent']}_{x['season']}\", axis=1)\n",
    "tourney_teams = tourney_games.apply(lambda x: f\"{x['team']}_{x['season']}\", axis=1).unique()\n",
    "games_vs_tourney_teams = all_games[all_games['opp_season'].isin(tourney_teams)]"
   ]
  },
  {
   "cell_type": "code",
   "execution_count": 126,
   "metadata": {},
   "outputs": [],
   "source": [
    "working = regular_season_games.groupby(['team', 'season','Win_Loss'], as_index=False).size()\n",
    "working = working.pivot_table(index=['team', 'season'], columns='Win_Loss', values='size', fill_value=0).reset_index()[['team', 'season', 'L', 'W']]\n",
    "working['regular_season_win_pct'] = working['W'] / (working['W'] + working['L'])\n",
    "regular_season_win_pct = working[['team', 'season', 'regular_season_win_pct']]"
   ]
  },
  {
   "cell_type": "code",
   "execution_count": 127,
   "metadata": {},
   "outputs": [],
   "source": [
    "tourney_games = tourney_games.merge(regular_season_win_pct, on=['team', 'season'], how='left')"
   ]
  },
  {
   "cell_type": "code",
   "execution_count": 128,
   "metadata": {},
   "outputs": [
    {
     "name": "stderr",
     "output_type": "stream",
     "text": [
      "C:\\Users\\amarl\\AppData\\Local\\Temp\\ipykernel_24184\\1859462520.py:1: SettingWithCopyWarning: \n",
      "A value is trying to be set on a copy of a slice from a DataFrame\n",
      "\n",
      "See the caveats in the documentation: https://pandas.pydata.org/pandas-docs/stable/user_guide/indexing.html#returning-a-view-versus-a-copy\n",
      "  regular_season_win_pct.rename(columns={'regular_season_win_pct': 'opponent_regular_season_win_pct', 'team':'opponent'}, inplace=True)\n"
     ]
    }
   ],
   "source": [
    "regular_season_win_pct.rename(columns={'regular_season_win_pct': 'opponent_regular_season_win_pct', 'team':'opponent'}, inplace=True)"
   ]
  },
  {
   "cell_type": "code",
   "execution_count": 129,
   "metadata": {},
   "outputs": [
    {
     "data": {
      "text/html": [
       "<div>\n",
       "<style scoped>\n",
       "    .dataframe tbody tr th:only-of-type {\n",
       "        vertical-align: middle;\n",
       "    }\n",
       "\n",
       "    .dataframe tbody tr th {\n",
       "        vertical-align: top;\n",
       "    }\n",
       "\n",
       "    .dataframe thead th {\n",
       "        text-align: right;\n",
       "    }\n",
       "</style>\n",
       "<table border=\"1\" class=\"dataframe\">\n",
       "  <thead>\n",
       "    <tr style=\"text-align: right;\">\n",
       "      <th></th>\n",
       "      <th>date</th>\n",
       "      <th>season</th>\n",
       "      <th>team</th>\n",
       "      <th>opponent</th>\n",
       "      <th>Win_Loss</th>\n",
       "      <th>regular_season_win_pct</th>\n",
       "    </tr>\n",
       "  </thead>\n",
       "  <tbody>\n",
       "    <tr>\n",
       "      <th>0</th>\n",
       "      <td>3/17/23</td>\n",
       "      <td>2023</td>\n",
       "      <td>Arizona St.</td>\n",
       "      <td>TCU</td>\n",
       "      <td>L</td>\n",
       "      <td>0.645161</td>\n",
       "    </tr>\n",
       "    <tr>\n",
       "      <th>1</th>\n",
       "      <td>3/17/23</td>\n",
       "      <td>2023</td>\n",
       "      <td>TCU</td>\n",
       "      <td>Arizona St.</td>\n",
       "      <td>W</td>\n",
       "      <td>0.645161</td>\n",
       "    </tr>\n",
       "    <tr>\n",
       "      <th>2</th>\n",
       "      <td>3/23/23</td>\n",
       "      <td>2023</td>\n",
       "      <td>Arkansas</td>\n",
       "      <td>Connecticut</td>\n",
       "      <td>L</td>\n",
       "      <td>0.612903</td>\n",
       "    </tr>\n",
       "    <tr>\n",
       "      <th>3</th>\n",
       "      <td>3/23/23</td>\n",
       "      <td>2023</td>\n",
       "      <td>Connecticut</td>\n",
       "      <td>Arkansas</td>\n",
       "      <td>W</td>\n",
       "      <td>0.774194</td>\n",
       "    </tr>\n",
       "    <tr>\n",
       "      <th>4</th>\n",
       "      <td>3/18/23</td>\n",
       "      <td>2023</td>\n",
       "      <td>Arkansas</td>\n",
       "      <td>Kansas</td>\n",
       "      <td>W</td>\n",
       "      <td>0.612903</td>\n",
       "    </tr>\n",
       "    <tr>\n",
       "      <th>...</th>\n",
       "      <td>...</td>\n",
       "      <td>...</td>\n",
       "      <td>...</td>\n",
       "      <td>...</td>\n",
       "      <td>...</td>\n",
       "      <td>...</td>\n",
       "    </tr>\n",
       "    <tr>\n",
       "      <th>1237</th>\n",
       "      <td>3/19/15</td>\n",
       "      <td>2015</td>\n",
       "      <td>Wofford</td>\n",
       "      <td>Arkansas</td>\n",
       "      <td>L</td>\n",
       "      <td>0.793103</td>\n",
       "    </tr>\n",
       "    <tr>\n",
       "      <th>1238</th>\n",
       "      <td>3/20/15</td>\n",
       "      <td>2015</td>\n",
       "      <td>Northern Iowa</td>\n",
       "      <td>Wyoming</td>\n",
       "      <td>W</td>\n",
       "      <td>0.900000</td>\n",
       "    </tr>\n",
       "    <tr>\n",
       "      <th>1239</th>\n",
       "      <td>3/20/15</td>\n",
       "      <td>2015</td>\n",
       "      <td>Wyoming</td>\n",
       "      <td>Northern Iowa</td>\n",
       "      <td>L</td>\n",
       "      <td>0.689655</td>\n",
       "    </tr>\n",
       "    <tr>\n",
       "      <th>1240</th>\n",
       "      <td>3/26/15</td>\n",
       "      <td>2015</td>\n",
       "      <td>Arizona</td>\n",
       "      <td>Xavier</td>\n",
       "      <td>W</td>\n",
       "      <td>0.903226</td>\n",
       "    </tr>\n",
       "    <tr>\n",
       "      <th>1241</th>\n",
       "      <td>3/26/15</td>\n",
       "      <td>2015</td>\n",
       "      <td>Xavier</td>\n",
       "      <td>Arizona</td>\n",
       "      <td>L</td>\n",
       "      <td>0.612903</td>\n",
       "    </tr>\n",
       "  </tbody>\n",
       "</table>\n",
       "<p>1242 rows × 6 columns</p>\n",
       "</div>"
      ],
      "text/plain": [
       "         date  season           team       opponent Win_Loss  \\\n",
       "0     3/17/23    2023    Arizona St.            TCU        L   \n",
       "1     3/17/23    2023            TCU    Arizona St.        W   \n",
       "2     3/23/23    2023       Arkansas    Connecticut        L   \n",
       "3     3/23/23    2023    Connecticut       Arkansas        W   \n",
       "4     3/18/23    2023       Arkansas         Kansas        W   \n",
       "...       ...     ...            ...            ...      ...   \n",
       "1237  3/19/15    2015        Wofford       Arkansas        L   \n",
       "1238  3/20/15    2015  Northern Iowa        Wyoming        W   \n",
       "1239  3/20/15    2015        Wyoming  Northern Iowa        L   \n",
       "1240  3/26/15    2015        Arizona         Xavier        W   \n",
       "1241  3/26/15    2015         Xavier        Arizona        L   \n",
       "\n",
       "      regular_season_win_pct  \n",
       "0                   0.645161  \n",
       "1                   0.645161  \n",
       "2                   0.612903  \n",
       "3                   0.774194  \n",
       "4                   0.612903  \n",
       "...                      ...  \n",
       "1237                0.793103  \n",
       "1238                0.900000  \n",
       "1239                0.689655  \n",
       "1240                0.903226  \n",
       "1241                0.612903  \n",
       "\n",
       "[1242 rows x 6 columns]"
      ]
     },
     "execution_count": 129,
     "metadata": {},
     "output_type": "execute_result"
    }
   ],
   "source": [
    "tourney_games"
   ]
  },
  {
   "cell_type": "code",
   "execution_count": 130,
   "metadata": {},
   "outputs": [],
   "source": [
    "tourney_games = tourney_games.merge(regular_season_win_pct, on=['opponent', 'season'], how='left')"
   ]
  },
  {
   "cell_type": "code",
   "execution_count": 131,
   "metadata": {},
   "outputs": [],
   "source": [
    "working = pre_tourney_games.groupby(['team', 'season','Win_Loss'], as_index=False).size()\n",
    "working = working.pivot_table(index=['team', 'season'], columns='Win_Loss', values='size', fill_value=0).reset_index()[['team', 'season', 'L', 'W']]\n",
    "working['season_win_pct'] = working['W'] / (working['W'] + working['L'])\n",
    "season_win_pct = working[['team', 'season', 'season_win_pct']]"
   ]
  },
  {
   "cell_type": "code",
   "execution_count": 132,
   "metadata": {},
   "outputs": [],
   "source": [
    "tourney_games = tourney_games.merge(season_win_pct, on=['team', 'season'], how='left')"
   ]
  },
  {
   "cell_type": "code",
   "execution_count": 133,
   "metadata": {},
   "outputs": [
    {
     "name": "stderr",
     "output_type": "stream",
     "text": [
      "C:\\Users\\amarl\\AppData\\Local\\Temp\\ipykernel_24184\\1093291026.py:1: SettingWithCopyWarning: \n",
      "A value is trying to be set on a copy of a slice from a DataFrame\n",
      "\n",
      "See the caveats in the documentation: https://pandas.pydata.org/pandas-docs/stable/user_guide/indexing.html#returning-a-view-versus-a-copy\n",
      "  season_win_pct.rename(columns={'season_win_pct': 'opponent_season_win_pct', 'team':'opponent'}, inplace=True)\n"
     ]
    }
   ],
   "source": [
    "season_win_pct.rename(columns={'season_win_pct': 'opponent_season_win_pct', 'team':'opponent'}, inplace=True)"
   ]
  },
  {
   "cell_type": "code",
   "execution_count": 134,
   "metadata": {},
   "outputs": [
    {
     "data": {
      "text/html": [
       "<div>\n",
       "<style scoped>\n",
       "    .dataframe tbody tr th:only-of-type {\n",
       "        vertical-align: middle;\n",
       "    }\n",
       "\n",
       "    .dataframe tbody tr th {\n",
       "        vertical-align: top;\n",
       "    }\n",
       "\n",
       "    .dataframe thead th {\n",
       "        text-align: right;\n",
       "    }\n",
       "</style>\n",
       "<table border=\"1\" class=\"dataframe\">\n",
       "  <thead>\n",
       "    <tr style=\"text-align: right;\">\n",
       "      <th></th>\n",
       "      <th>date</th>\n",
       "      <th>season</th>\n",
       "      <th>team</th>\n",
       "      <th>opponent</th>\n",
       "      <th>Win_Loss</th>\n",
       "      <th>regular_season_win_pct</th>\n",
       "      <th>opponent_regular_season_win_pct</th>\n",
       "      <th>season_win_pct</th>\n",
       "      <th>opponent_season_win_pct</th>\n",
       "    </tr>\n",
       "  </thead>\n",
       "  <tbody>\n",
       "    <tr>\n",
       "      <th>0</th>\n",
       "      <td>3/17/23</td>\n",
       "      <td>2023</td>\n",
       "      <td>Arizona St.</td>\n",
       "      <td>TCU</td>\n",
       "      <td>L</td>\n",
       "      <td>0.645161</td>\n",
       "      <td>0.645161</td>\n",
       "      <td>0.647059</td>\n",
       "      <td>0.636364</td>\n",
       "    </tr>\n",
       "    <tr>\n",
       "      <th>1</th>\n",
       "      <td>3/17/23</td>\n",
       "      <td>2023</td>\n",
       "      <td>TCU</td>\n",
       "      <td>Arizona St.</td>\n",
       "      <td>W</td>\n",
       "      <td>0.645161</td>\n",
       "      <td>0.645161</td>\n",
       "      <td>0.636364</td>\n",
       "      <td>0.647059</td>\n",
       "    </tr>\n",
       "    <tr>\n",
       "      <th>2</th>\n",
       "      <td>3/23/23</td>\n",
       "      <td>2023</td>\n",
       "      <td>Arkansas</td>\n",
       "      <td>Connecticut</td>\n",
       "      <td>L</td>\n",
       "      <td>0.612903</td>\n",
       "      <td>0.774194</td>\n",
       "      <td>0.606061</td>\n",
       "      <td>0.757576</td>\n",
       "    </tr>\n",
       "    <tr>\n",
       "      <th>3</th>\n",
       "      <td>3/23/23</td>\n",
       "      <td>2023</td>\n",
       "      <td>Connecticut</td>\n",
       "      <td>Arkansas</td>\n",
       "      <td>W</td>\n",
       "      <td>0.774194</td>\n",
       "      <td>0.612903</td>\n",
       "      <td>0.757576</td>\n",
       "      <td>0.606061</td>\n",
       "    </tr>\n",
       "    <tr>\n",
       "      <th>4</th>\n",
       "      <td>3/18/23</td>\n",
       "      <td>2023</td>\n",
       "      <td>Arkansas</td>\n",
       "      <td>Kansas</td>\n",
       "      <td>W</td>\n",
       "      <td>0.612903</td>\n",
       "      <td>0.806452</td>\n",
       "      <td>0.606061</td>\n",
       "      <td>0.794118</td>\n",
       "    </tr>\n",
       "    <tr>\n",
       "      <th>...</th>\n",
       "      <td>...</td>\n",
       "      <td>...</td>\n",
       "      <td>...</td>\n",
       "      <td>...</td>\n",
       "      <td>...</td>\n",
       "      <td>...</td>\n",
       "      <td>...</td>\n",
       "      <td>...</td>\n",
       "      <td>...</td>\n",
       "    </tr>\n",
       "    <tr>\n",
       "      <th>1237</th>\n",
       "      <td>3/19/15</td>\n",
       "      <td>2015</td>\n",
       "      <td>Wofford</td>\n",
       "      <td>Arkansas</td>\n",
       "      <td>L</td>\n",
       "      <td>0.793103</td>\n",
       "      <td>0.774194</td>\n",
       "      <td>0.812500</td>\n",
       "      <td>0.764706</td>\n",
       "    </tr>\n",
       "    <tr>\n",
       "      <th>1238</th>\n",
       "      <td>3/20/15</td>\n",
       "      <td>2015</td>\n",
       "      <td>Northern Iowa</td>\n",
       "      <td>Wyoming</td>\n",
       "      <td>W</td>\n",
       "      <td>0.900000</td>\n",
       "      <td>0.689655</td>\n",
       "      <td>0.909091</td>\n",
       "      <td>0.718750</td>\n",
       "    </tr>\n",
       "    <tr>\n",
       "      <th>1239</th>\n",
       "      <td>3/20/15</td>\n",
       "      <td>2015</td>\n",
       "      <td>Wyoming</td>\n",
       "      <td>Northern Iowa</td>\n",
       "      <td>L</td>\n",
       "      <td>0.689655</td>\n",
       "      <td>0.900000</td>\n",
       "      <td>0.718750</td>\n",
       "      <td>0.909091</td>\n",
       "    </tr>\n",
       "    <tr>\n",
       "      <th>1240</th>\n",
       "      <td>3/26/15</td>\n",
       "      <td>2015</td>\n",
       "      <td>Arizona</td>\n",
       "      <td>Xavier</td>\n",
       "      <td>W</td>\n",
       "      <td>0.903226</td>\n",
       "      <td>0.612903</td>\n",
       "      <td>0.911765</td>\n",
       "      <td>0.617647</td>\n",
       "    </tr>\n",
       "    <tr>\n",
       "      <th>1241</th>\n",
       "      <td>3/26/15</td>\n",
       "      <td>2015</td>\n",
       "      <td>Xavier</td>\n",
       "      <td>Arizona</td>\n",
       "      <td>L</td>\n",
       "      <td>0.612903</td>\n",
       "      <td>0.903226</td>\n",
       "      <td>0.617647</td>\n",
       "      <td>0.911765</td>\n",
       "    </tr>\n",
       "  </tbody>\n",
       "</table>\n",
       "<p>1242 rows × 9 columns</p>\n",
       "</div>"
      ],
      "text/plain": [
       "         date  season           team       opponent Win_Loss  \\\n",
       "0     3/17/23    2023    Arizona St.            TCU        L   \n",
       "1     3/17/23    2023            TCU    Arizona St.        W   \n",
       "2     3/23/23    2023       Arkansas    Connecticut        L   \n",
       "3     3/23/23    2023    Connecticut       Arkansas        W   \n",
       "4     3/18/23    2023       Arkansas         Kansas        W   \n",
       "...       ...     ...            ...            ...      ...   \n",
       "1237  3/19/15    2015        Wofford       Arkansas        L   \n",
       "1238  3/20/15    2015  Northern Iowa        Wyoming        W   \n",
       "1239  3/20/15    2015        Wyoming  Northern Iowa        L   \n",
       "1240  3/26/15    2015        Arizona         Xavier        W   \n",
       "1241  3/26/15    2015         Xavier        Arizona        L   \n",
       "\n",
       "      regular_season_win_pct  opponent_regular_season_win_pct  season_win_pct  \\\n",
       "0                   0.645161                         0.645161        0.647059   \n",
       "1                   0.645161                         0.645161        0.636364   \n",
       "2                   0.612903                         0.774194        0.606061   \n",
       "3                   0.774194                         0.612903        0.757576   \n",
       "4                   0.612903                         0.806452        0.606061   \n",
       "...                      ...                              ...             ...   \n",
       "1237                0.793103                         0.774194        0.812500   \n",
       "1238                0.900000                         0.689655        0.909091   \n",
       "1239                0.689655                         0.900000        0.718750   \n",
       "1240                0.903226                         0.612903        0.911765   \n",
       "1241                0.612903                         0.903226        0.617647   \n",
       "\n",
       "      opponent_season_win_pct  \n",
       "0                    0.636364  \n",
       "1                    0.647059  \n",
       "2                    0.757576  \n",
       "3                    0.606061  \n",
       "4                    0.794118  \n",
       "...                       ...  \n",
       "1237                 0.764706  \n",
       "1238                 0.718750  \n",
       "1239                 0.909091  \n",
       "1240                 0.617647  \n",
       "1241                 0.911765  \n",
       "\n",
       "[1242 rows x 9 columns]"
      ]
     },
     "execution_count": 134,
     "metadata": {},
     "output_type": "execute_result"
    }
   ],
   "source": [
    "tourney_games.merge(season_win_pct, on=['opponent', 'season'], how='left')"
   ]
  },
  {
   "cell_type": "code",
   "execution_count": 135,
   "metadata": {},
   "outputs": [
    {
     "name": "stderr",
     "output_type": "stream",
     "text": [
      "C:\\Users\\amarl\\AppData\\Local\\Temp\\ipykernel_24184\\2704502709.py:1: SettingWithCopyWarning: \n",
      "A value is trying to be set on a copy of a slice from a DataFrame.\n",
      "Try using .loc[row_indexer,col_indexer] = value instead\n",
      "\n",
      "See the caveats in the documentation: https://pandas.pydata.org/pandas-docs/stable/user_guide/indexing.html#returning-a-view-versus-a-copy\n",
      "  pre_tourney_games['score'] = pre_tourney_games['score'].astype(int)\n"
     ]
    }
   ],
   "source": [
    "pre_tourney_games['score'] = pre_tourney_games['score'].astype(int)\n",
    "season_ppg = pre_tourney_games[['team', 'season','score']].groupby(['team', 'season']).mean().reset_index().rename(columns={'score': 'season_ppg'})"
   ]
  },
  {
   "cell_type": "code",
   "execution_count": 136,
   "metadata": {},
   "outputs": [],
   "source": [
    "tourney_games = tourney_games.merge(season_ppg, on=['team', 'season'], how='left')"
   ]
  },
  {
   "cell_type": "code",
   "execution_count": 137,
   "metadata": {},
   "outputs": [],
   "source": [
    "season_ppg.rename(columns={'season_ppg': 'opponent_season_ppg', 'team':'opponent'}, inplace=True)\n",
    "tourney_games = tourney_games.merge(season_ppg, on=['opponent', 'season'], how='left')"
   ]
  },
  {
   "cell_type": "code",
   "execution_count": 138,
   "metadata": {},
   "outputs": [
    {
     "name": "stderr",
     "output_type": "stream",
     "text": [
      "C:\\Users\\amarl\\AppData\\Local\\Temp\\ipykernel_24184\\2874491460.py:1: SettingWithCopyWarning: \n",
      "A value is trying to be set on a copy of a slice from a DataFrame.\n",
      "Try using .loc[row_indexer,col_indexer] = value instead\n",
      "\n",
      "See the caveats in the documentation: https://pandas.pydata.org/pandas-docs/stable/user_guide/indexing.html#returning-a-view-versus-a-copy\n",
      "  pre_tourney_games['opponent_score'] = pre_tourney_games['opponent_score'].astype(int)\n"
     ]
    }
   ],
   "source": [
    "pre_tourney_games['opponent_score'] = pre_tourney_games['opponent_score'].astype(int)\n",
    "season_ppg_allowed = pre_tourney_games[['team', 'season','opponent_score']].groupby(['team', 'season']).mean().reset_index().rename(columns={'opponent_score': 'season_ppg_allowed'})"
   ]
  },
  {
   "cell_type": "code",
   "execution_count": 139,
   "metadata": {},
   "outputs": [],
   "source": [
    "tourney_games = tourney_games.merge(season_ppg_allowed, on=['team', 'season'], how='left')"
   ]
  },
  {
   "cell_type": "code",
   "execution_count": 140,
   "metadata": {},
   "outputs": [],
   "source": [
    "season_ppg_allowed.rename(columns={'season_ppg_allowed': 'opponent_season_ppg_allowed', 'team':'opponent'}, inplace=True)\n",
    "tourney_games = tourney_games.merge(season_ppg_allowed, on=['opponent', 'season'], how='left')"
   ]
  },
  {
   "cell_type": "code",
   "execution_count": 141,
   "metadata": {},
   "outputs": [],
   "source": [
    "working = last_10_non_tourney.groupby(['team', 'season','Win_Loss'], as_index=False).size()\n",
    "working = working.pivot_table(index=['team', 'season'], columns='Win_Loss', values='size', fill_value=0).reset_index()[['team', 'season', 'L', 'W']]\n",
    "working['last_10_win_pct'] = working['W'] / (working['W'] + working['L'])\n",
    "last_10_win_pct = working[['team', 'season', 'last_10_win_pct']]"
   ]
  },
  {
   "cell_type": "code",
   "execution_count": 142,
   "metadata": {},
   "outputs": [],
   "source": [
    "tourney_games = tourney_games.merge(last_10_win_pct, on=['team', 'season'], how='left')"
   ]
  },
  {
   "cell_type": "code",
   "execution_count": 143,
   "metadata": {},
   "outputs": [
    {
     "name": "stderr",
     "output_type": "stream",
     "text": [
      "C:\\Users\\amarl\\AppData\\Local\\Temp\\ipykernel_24184\\1411312810.py:1: SettingWithCopyWarning: \n",
      "A value is trying to be set on a copy of a slice from a DataFrame\n",
      "\n",
      "See the caveats in the documentation: https://pandas.pydata.org/pandas-docs/stable/user_guide/indexing.html#returning-a-view-versus-a-copy\n",
      "  last_10_win_pct.rename(columns={'last_10_win_pct': 'opponent_last_10_win_pct', 'team':'opponent'}, inplace=True)\n"
     ]
    }
   ],
   "source": [
    "last_10_win_pct.rename(columns={'last_10_win_pct': 'opponent_last_10_win_pct', 'team':'opponent'}, inplace=True)\n",
    "tourney_games = tourney_games.merge(last_10_win_pct, on=['opponent', 'season'], how='left')"
   ]
  },
  {
   "cell_type": "code",
   "execution_count": 144,
   "metadata": {},
   "outputs": [],
   "source": [
    "working = last_5_non_tourney.groupby(['team', 'season','Win_Loss'], as_index=False).size()\n",
    "working = working.pivot_table(index=['team', 'season'], columns='Win_Loss', values='size', fill_value=0).reset_index()[['team', 'season', 'L', 'W']]\n",
    "working['last_5_win_pct'] = working['W'] / (working['W'] + working['L'])\n",
    "last_5_win_pct = working[['team', 'season', 'last_5_win_pct']]"
   ]
  },
  {
   "cell_type": "code",
   "execution_count": 145,
   "metadata": {},
   "outputs": [],
   "source": [
    "tourney_games = tourney_games.merge(last_5_win_pct, on=['team', 'season'], how='left')"
   ]
  },
  {
   "cell_type": "code",
   "execution_count": 146,
   "metadata": {},
   "outputs": [
    {
     "name": "stderr",
     "output_type": "stream",
     "text": [
      "C:\\Users\\amarl\\AppData\\Local\\Temp\\ipykernel_24184\\489938241.py:1: SettingWithCopyWarning: \n",
      "A value is trying to be set on a copy of a slice from a DataFrame\n",
      "\n",
      "See the caveats in the documentation: https://pandas.pydata.org/pandas-docs/stable/user_guide/indexing.html#returning-a-view-versus-a-copy\n",
      "  last_5_win_pct.rename(columns={'last_5_win_pct': 'opponent_last_5_win_pct', 'team':'opponent'}, inplace=True)\n"
     ]
    }
   ],
   "source": [
    "last_5_win_pct.rename(columns={'last_5_win_pct': 'opponent_last_5_win_pct', 'team':'opponent'}, inplace=True)\n",
    "tourney_games = tourney_games.merge(last_5_win_pct, on=['opponent', 'season'], how='left')"
   ]
  },
  {
   "cell_type": "code",
   "execution_count": 147,
   "metadata": {},
   "outputs": [],
   "source": [
    "working = games_vs_tourney_teams.groupby(['team', 'season','Win_Loss'], as_index=False).size()\n",
    "working = working.pivot_table(index=['team', 'season'], columns='Win_Loss', values='size', fill_value=0).reset_index()[['team', 'season', 'L', 'W']]\n",
    "working['vs_tourney_team_win_pct'] = working['W'] / (working['W'] + working['L'])\n",
    "vs_tourney_team_win_pct = working[['team', 'season', 'vs_tourney_team_win_pct']]"
   ]
  },
  {
   "cell_type": "code",
   "execution_count": 148,
   "metadata": {},
   "outputs": [],
   "source": [
    "tourney_games = tourney_games.merge(vs_tourney_team_win_pct, on=['team', 'season'], how='left')"
   ]
  },
  {
   "cell_type": "code",
   "execution_count": 149,
   "metadata": {},
   "outputs": [
    {
     "name": "stderr",
     "output_type": "stream",
     "text": [
      "C:\\Users\\amarl\\AppData\\Local\\Temp\\ipykernel_24184\\2986988654.py:1: SettingWithCopyWarning: \n",
      "A value is trying to be set on a copy of a slice from a DataFrame\n",
      "\n",
      "See the caveats in the documentation: https://pandas.pydata.org/pandas-docs/stable/user_guide/indexing.html#returning-a-view-versus-a-copy\n",
      "  vs_tourney_team_win_pct.rename(columns={'vs_tourney_team_win_pct': 'opponent_vs_tourney_team_win_pct', 'team':'opponent'}, inplace=True)\n"
     ]
    }
   ],
   "source": [
    "vs_tourney_team_win_pct.rename(columns={'vs_tourney_team_win_pct': 'opponent_vs_tourney_team_win_pct', 'team':'opponent'}, inplace=True)\n",
    "tourney_games = tourney_games.merge(vs_tourney_team_win_pct, on=['opponent', 'season'], how='left')"
   ]
  },
  {
   "cell_type": "code",
   "execution_count": 150,
   "metadata": {},
   "outputs": [],
   "source": [
    "working = games_vs_tourney_teams.groupby(['team', 'season','Win_Loss'], as_index=False).size()\n",
    "working = working.pivot_table(index=['team', 'season'], columns='Win_Loss', values='size', fill_value=0).reset_index()[['team', 'season', 'L', 'W']]\n",
    "working['games_played_vs_tourney_teams'] = (working['W'] + working['L'])\n",
    "games_played_vs_tourney_teams = working[['team', 'season', 'games_played_vs_tourney_teams']]"
   ]
  },
  {
   "cell_type": "code",
   "execution_count": 151,
   "metadata": {},
   "outputs": [],
   "source": [
    "tourney_games = tourney_games.merge(games_played_vs_tourney_teams, on=['team', 'season'], how='left')"
   ]
  },
  {
   "cell_type": "code",
   "execution_count": 152,
   "metadata": {},
   "outputs": [
    {
     "name": "stderr",
     "output_type": "stream",
     "text": [
      "C:\\Users\\amarl\\AppData\\Local\\Temp\\ipykernel_24184\\3857983212.py:1: SettingWithCopyWarning: \n",
      "A value is trying to be set on a copy of a slice from a DataFrame\n",
      "\n",
      "See the caveats in the documentation: https://pandas.pydata.org/pandas-docs/stable/user_guide/indexing.html#returning-a-view-versus-a-copy\n",
      "  games_played_vs_tourney_teams.rename(columns={'games_played_vs_tourney_teams': 'opponent_games_played_vs_tourney_teams', 'team':'opponent'}, inplace=True)\n"
     ]
    }
   ],
   "source": [
    "games_played_vs_tourney_teams.rename(columns={'games_played_vs_tourney_teams': 'opponent_games_played_vs_tourney_teams', 'team':'opponent'}, inplace=True)\n",
    "tourney_games = tourney_games.merge(games_played_vs_tourney_teams, on=['opponent', 'season'], how='left')"
   ]
  },
  {
   "cell_type": "code",
   "execution_count": 153,
   "metadata": {},
   "outputs": [
    {
     "data": {
      "text/plain": [
       "Index(['date', 'game_type', 'team', 'conference', 'opponent', 'location',\n",
       "       'result', 'adj_offense', 'adj_defense', 'offensive_efficiency',\n",
       "       'effective_fg_percent', 'turnover_percent', 'offensive_rebound_percent',\n",
       "       'free_throw_rate', 'opponent_offensive_efficiency',\n",
       "       'opponent_effective_fg_percent', 'opponent_turnover_percent',\n",
       "       'opponent_offensive_rebound_percent', 'opponent_free_throw_rate',\n",
       "       'opponent_conference', 'season', 'Win_Loss', 'score', 'opponent_score'],\n",
       "      dtype='object')"
      ]
     },
     "execution_count": 153,
     "metadata": {},
     "output_type": "execute_result"
    }
   ],
   "source": [
    "pre_tourney_games.columns"
   ]
  },
  {
   "cell_type": "code",
   "execution_count": 154,
   "metadata": {},
   "outputs": [],
   "source": [
    "season_adj_offense = pre_tourney_games[['team', 'season','adj_offense']].groupby(['team', 'season']).mean().reset_index().rename(columns={'adj_offense': 'season_adj_offense'})"
   ]
  },
  {
   "cell_type": "code",
   "execution_count": 155,
   "metadata": {},
   "outputs": [],
   "source": [
    "tourney_games = tourney_games.merge(season_adj_offense, on=['team', 'season'], how='left')"
   ]
  },
  {
   "cell_type": "code",
   "execution_count": 156,
   "metadata": {},
   "outputs": [],
   "source": [
    "season_adj_offense.rename(columns={'season_adj_offense': 'opponent_season_adj_offense', 'team':'opponent'}, inplace=True)\n",
    "tourney_games = tourney_games.merge(season_adj_offense, on=['opponent', 'season'], how='left')"
   ]
  },
  {
   "cell_type": "code",
   "execution_count": 157,
   "metadata": {},
   "outputs": [],
   "source": [
    "season_adj_defense = pre_tourney_games[['team', 'season','adj_defense']].groupby(['team', 'season']).mean().reset_index().rename(columns={'adj_defense': 'season_adj_defense'})"
   ]
  },
  {
   "cell_type": "code",
   "execution_count": 158,
   "metadata": {},
   "outputs": [],
   "source": [
    "tourney_games = tourney_games.merge(season_adj_defense, on=['team', 'season'], how='left')"
   ]
  },
  {
   "cell_type": "code",
   "execution_count": 159,
   "metadata": {},
   "outputs": [],
   "source": [
    "season_adj_defense.rename(columns={'season_adj_defense': 'opponent_season_adj_defense', 'team':'opponent'}, inplace=True)\n",
    "tourney_games = tourney_games.merge(season_adj_defense, on=['opponent', 'season'], how='left')"
   ]
  },
  {
   "cell_type": "code",
   "execution_count": 160,
   "metadata": {},
   "outputs": [],
   "source": [
    "vs_tourney_team_adj_offense = games_vs_tourney_teams[['team', 'season','adj_offense']].groupby(['team', 'season']).mean().reset_index().rename(columns={'adj_offense': 'vs_tourney_team_adj_offense'})"
   ]
  },
  {
   "cell_type": "code",
   "execution_count": 161,
   "metadata": {},
   "outputs": [],
   "source": [
    "tourney_games = tourney_games.merge(vs_tourney_team_adj_offense, on=['team', 'season'], how='left')"
   ]
  },
  {
   "cell_type": "code",
   "execution_count": 162,
   "metadata": {},
   "outputs": [],
   "source": [
    "vs_tourney_team_adj_offense.rename(columns={'vs_tourney_team_adj_offense': 'opponent_vs_tourney_team_adj_offense', 'team':'opponent'}, inplace=True)"
   ]
  },
  {
   "cell_type": "code",
   "execution_count": 163,
   "metadata": {},
   "outputs": [],
   "source": [
    "tourney_games = tourney_games.merge(vs_tourney_team_adj_offense, on=['opponent', 'season'], how='left')"
   ]
  },
  {
   "cell_type": "code",
   "execution_count": 164,
   "metadata": {},
   "outputs": [],
   "source": [
    "vs_tourney_team_adj_defense = games_vs_tourney_teams[['team', 'season','adj_defense']].groupby(['team', 'season']).mean().reset_index().rename(columns={'adj_defense': 'vs_tourney_team_adj_defense'})"
   ]
  },
  {
   "cell_type": "code",
   "execution_count": 165,
   "metadata": {},
   "outputs": [],
   "source": [
    "tourney_games = tourney_games.merge(vs_tourney_team_adj_defense, on=['team', 'season'], how='left')"
   ]
  },
  {
   "cell_type": "code",
   "execution_count": 166,
   "metadata": {},
   "outputs": [],
   "source": [
    "vs_tourney_team_adj_defense.rename(columns={'vs_tourney_team_adj_defense': 'opponent_vs_tourney_team_adj_defense', 'team':'opponent'}, inplace=True)"
   ]
  },
  {
   "cell_type": "code",
   "execution_count": 167,
   "metadata": {},
   "outputs": [],
   "source": [
    "tourney_games = tourney_games.merge(vs_tourney_team_adj_defense, on=['opponent', 'season'], how='left')"
   ]
  },
  {
   "cell_type": "code",
   "execution_count": 168,
   "metadata": {},
   "outputs": [],
   "source": [
    "season_offensive_efficiency = pre_tourney_games[['team', 'season','offensive_efficiency']].groupby(['team', 'season']).mean().reset_index().rename(columns={'offensive_efficiency': 'season_offensive_efficiency'})"
   ]
  },
  {
   "cell_type": "code",
   "execution_count": 169,
   "metadata": {},
   "outputs": [],
   "source": [
    "tourney_games = tourney_games.merge(season_offensive_efficiency, on=['team', 'season'], how='left')"
   ]
  },
  {
   "cell_type": "code",
   "execution_count": 170,
   "metadata": {},
   "outputs": [],
   "source": [
    "season_offensive_efficiency.rename(columns={'season_offensive_efficiency': 'opponent_season_offensive_efficiency', 'team':'opponent'}, inplace=True)\n",
    "tourney_games = tourney_games.merge(season_offensive_efficiency, on=['opponent', 'season'], how='left')"
   ]
  },
  {
   "cell_type": "code",
   "execution_count": 171,
   "metadata": {},
   "outputs": [],
   "source": [
    "vs_tourney_team_offensive_efficiency = games_vs_tourney_teams[['team', 'season','offensive_efficiency']].groupby(['team', 'season']).mean().reset_index().rename(columns={'offensive_efficiency': 'vs_tourney_team_offensive_efficiency'})"
   ]
  },
  {
   "cell_type": "code",
   "execution_count": 172,
   "metadata": {},
   "outputs": [],
   "source": [
    "tourney_games = tourney_games.merge(vs_tourney_team_offensive_efficiency, on=['team', 'season'], how='left')"
   ]
  },
  {
   "cell_type": "code",
   "execution_count": 173,
   "metadata": {},
   "outputs": [],
   "source": [
    "vs_tourney_team_offensive_efficiency.rename(columns={'vs_tourney_team_offensive_efficiency': 'opponent_vs_tourney_team_offensive_efficiency', 'team':'opponent'}, inplace=True)\n",
    "tourney_games = tourney_games.merge(vs_tourney_team_offensive_efficiency, on=['opponent', 'season'], how='left')"
   ]
  },
  {
   "cell_type": "code",
   "execution_count": 174,
   "metadata": {},
   "outputs": [],
   "source": [
    "season_effective_fg_percent = pre_tourney_games[['team', 'season','effective_fg_percent']].groupby(['team', 'season']).mean().reset_index().rename(columns={'effective_fg_percent': 'season_effective_fg_percent'})"
   ]
  },
  {
   "cell_type": "code",
   "execution_count": 175,
   "metadata": {},
   "outputs": [],
   "source": [
    "tourney_games = tourney_games.merge(season_effective_fg_percent, on=['team', 'season'], how='left')"
   ]
  },
  {
   "cell_type": "code",
   "execution_count": 176,
   "metadata": {},
   "outputs": [],
   "source": [
    "season_effective_fg_percent.rename(columns={'season_effective_fg_percent': 'opponent_season_effective_fg_percent', 'team':'opponent'}, inplace=True)\n",
    "tourney_games = tourney_games.merge(season_effective_fg_percent, on=['opponent', 'season'], how='left')"
   ]
  },
  {
   "cell_type": "code",
   "execution_count": 177,
   "metadata": {},
   "outputs": [],
   "source": [
    "vs_tourney_team_effective_fg_percent = games_vs_tourney_teams[['team', 'season','effective_fg_percent']].groupby(['team', 'season']).mean().reset_index().rename(columns={'effective_fg_percent': 'vs_tourney_team_effective_fg_percent'})\n",
    "tourney_games = tourney_games.merge(vs_tourney_team_effective_fg_percent, on=['team', 'season'], how='left')\n",
    "vs_tourney_team_effective_fg_percent.rename(columns={'vs_tourney_team_effective_fg_percent': 'opponent_vs_tourney_team_effective_fg_percent', 'team':'opponent'}, inplace=True)\n",
    "tourney_games = tourney_games.merge(vs_tourney_team_effective_fg_percent, on=['opponent', 'season'], how='left')"
   ]
  },
  {
   "cell_type": "code",
   "execution_count": 178,
   "metadata": {},
   "outputs": [],
   "source": [
    "season_turnover_percent = pre_tourney_games[['team', 'season','turnover_percent']].groupby(['team', 'season']).mean().reset_index().rename(columns={'turnover_percent': 'season_turnover_percent'})\n",
    "tourney_games = tourney_games.merge(season_turnover_percent, on=['team', 'season'], how='left')\n",
    "season_turnover_percent.rename(columns={'season_turnover_percent': 'opponent_season_turnover_percent', 'team':'opponent'}, inplace=True)\n",
    "tourney_games = tourney_games.merge(season_turnover_percent, on=['opponent', 'season'], how='left')"
   ]
  },
  {
   "cell_type": "code",
   "execution_count": 179,
   "metadata": {},
   "outputs": [],
   "source": [
    "vs_tourney_team_turnover_percent = games_vs_tourney_teams[['team', 'season','turnover_percent']].groupby(['team', 'season']).mean().reset_index().rename(columns={'turnover_percent': 'vs_tourney_team_turnover_percent'})\n",
    "tourney_games = tourney_games.merge(vs_tourney_team_turnover_percent, on=['team', 'season'], how='left')\n",
    "vs_tourney_team_turnover_percent.rename(columns={'vs_tourney_team_turnover_percent': 'opponent_vs_tourney_team_turnover_percent', 'team':'opponent'}, inplace=True)\n",
    "tourney_games = tourney_games.merge(vs_tourney_team_turnover_percent, on=['opponent', 'season'], how='left')"
   ]
  },
  {
   "cell_type": "code",
   "execution_count": 180,
   "metadata": {},
   "outputs": [],
   "source": [
    "season_offensive_rebound_percent = pre_tourney_games[['team', 'season','offensive_rebound_percent']].groupby(['team', 'season']).mean().reset_index().rename(columns={'offensive_rebound_percent': 'season_offensive_rebound_percent'})\n",
    "tourney_games = tourney_games.merge(season_offensive_rebound_percent, on=['team', 'season'], how='left')\n",
    "season_offensive_rebound_percent.rename(columns={'season_offensive_rebound_percent': 'opponent_season_offensive_rebound_percent', 'team':'opponent'}, inplace=True)\n",
    "tourney_games = tourney_games.merge(season_offensive_rebound_percent, on=['opponent', 'season'], how='left')"
   ]
  },
  {
   "cell_type": "code",
   "execution_count": 181,
   "metadata": {},
   "outputs": [],
   "source": [
    "vs_tourney_team_offensive_rebound_percent = games_vs_tourney_teams[['team', 'season','offensive_rebound_percent']].groupby(['team', 'season']).mean().reset_index().rename(columns={'offensive_rebound_percent': 'vs_tourney_team_offensive_rebound_percent'})\n",
    "tourney_games = tourney_games.merge(vs_tourney_team_offensive_rebound_percent, on=['team', 'season'], how='left')\n",
    "vs_tourney_team_offensive_rebound_percent.rename(columns={'vs_tourney_team_offensive_rebound_percent': 'opponent_vs_tourney_team_offensive_rebound_percent', 'team':'opponent'}, inplace=True)\n",
    "tourney_games = tourney_games.merge(vs_tourney_team_offensive_rebound_percent, on=['opponent', 'season'], how='left')"
   ]
  },
  {
   "cell_type": "code",
   "execution_count": 182,
   "metadata": {},
   "outputs": [],
   "source": [
    "season_free_throw_rate = pre_tourney_games[['team', 'season','free_throw_rate']].groupby(['team', 'season']).mean().reset_index().rename(columns={'free_throw_rate': 'season_free_throw_rate'})\n",
    "tourney_games = tourney_games.merge(season_free_throw_rate, on=['team', 'season'], how='left')\n",
    "season_free_throw_rate.rename(columns={'season_free_throw_rate': 'opponent_season_free_throw_rate', 'team':'opponent'}, inplace=True)\n",
    "tourney_games = tourney_games.merge(season_free_throw_rate, on=['opponent', 'season'], how='left')"
   ]
  },
  {
   "cell_type": "code",
   "execution_count": 183,
   "metadata": {},
   "outputs": [],
   "source": [
    "vs_tourney_team_free_throw_rate = games_vs_tourney_teams[['team', 'season','free_throw_rate']].groupby(['team', 'season']).mean().reset_index().rename(columns={'free_throw_rate': 'vs_tourney_team_free_throw_rate'})\n",
    "tourney_games = tourney_games.merge(vs_tourney_team_free_throw_rate, on=['team', 'season'], how='left')\n",
    "vs_tourney_team_free_throw_rate.rename(columns={'vs_tourney_team_free_throw_rate': 'opponent_vs_tourney_team_free_throw_rate', 'team':'opponent'}, inplace=True)\n",
    "tourney_games = tourney_games.merge(vs_tourney_team_free_throw_rate, on=['opponent', 'season'], how='left')"
   ]
  },
  {
   "cell_type": "code",
   "execution_count": 184,
   "metadata": {},
   "outputs": [],
   "source": [
    "season_allowed_offensive_efficiency = pre_tourney_games[['team', 'season','opponent_offensive_efficiency']].groupby(['team', 'season']).mean().reset_index().rename(columns={'opponent_offensive_efficiency': 'season_allowed_offensive_efficiency'})\n",
    "tournament_games = tourney_games.merge(season_allowed_offensive_efficiency, on=['team', 'season'], how='left')\n",
    "season_allowed_offensive_efficiency.rename(columns={'season_allowed_offensive_efficiency': 'opponent_season_allowed_offensive_efficiency', 'team':'opponent'}, inplace=True)\n",
    "tourney_games = tourney_games.merge(season_allowed_offensive_efficiency, on=['opponent', 'season'], how='left')"
   ]
  },
  {
   "cell_type": "code",
   "execution_count": 185,
   "metadata": {},
   "outputs": [],
   "source": [
    "vs_tourney_team_allowed_offensive_efficiency = games_vs_tourney_teams[['team', 'season','opponent_offensive_efficiency']].groupby(['team', 'season']).mean().reset_index().rename(columns={'opponent_offensive_efficiency': 'vs_tourney_team_allowed_offensive_efficiency'})\n",
    "tourney_games = tourney_games.merge(vs_tourney_team_allowed_offensive_efficiency, on=['team', 'season'], how='left')\n",
    "vs_tourney_team_allowed_offensive_efficiency.rename(columns={'vs_tourney_team_allowed_offensive_efficiency': 'opponent_vs_tourney_team_allowed_offensive_efficiency', 'team':'opponent'}, inplace=True)\n",
    "tourney_games = tourney_games.merge(vs_tourney_team_allowed_offensive_efficiency, on=['opponent', 'season'], how='left')"
   ]
  },
  {
   "cell_type": "code",
   "execution_count": 186,
   "metadata": {},
   "outputs": [],
   "source": [
    "season_allowed_effective_fg_percent = pre_tourney_games[['team', 'season','opponent_effective_fg_percent']].groupby(['team', 'season']).mean().reset_index().rename(columns={'opponent_effective_fg_percent': 'season_allowed_effective_fg_percent'})\n",
    "tourney_games = tourney_games.merge(season_allowed_effective_fg_percent, on=['team', 'season'], how='left')\n",
    "season_allowed_effective_fg_percent.rename(columns={'season_allowed_effective_fg_percent': 'opponent_season_allowed_effective_fg_percent', 'team':'opponent'}, inplace=True)\n",
    "tourney_games = tourney_games.merge(season_allowed_effective_fg_percent, on=['opponent', 'season'], how='left')"
   ]
  },
  {
   "cell_type": "code",
   "execution_count": 187,
   "metadata": {},
   "outputs": [],
   "source": [
    "vs_tourney_team_allowed_effective_fg_percent = games_vs_tourney_teams[['team', 'season','opponent_effective_fg_percent']].groupby(['team', 'season']).mean().reset_index().rename(columns={'opponent_effective_fg_percent': 'vs_tourney_team_allowed_effective_fg_percent'})\n",
    "tourney_games = tourney_games.merge(vs_tourney_team_allowed_effective_fg_percent, on=['team', 'season'], how='left')\n",
    "vs_tourney_team_allowed_effective_fg_percent.rename(columns={'vs_tourney_team_allowed_effective_fg_percent': 'opponent_vs_tourney_team_allowed_effective_fg_percent', 'team':'opponent'}, inplace=True)\n",
    "tourney_games = tourney_games.merge(vs_tourney_team_allowed_effective_fg_percent, on=['opponent', 'season'], how='left')"
   ]
  },
  {
   "cell_type": "code",
   "execution_count": 188,
   "metadata": {},
   "outputs": [],
   "source": [
    "season_allowed_turnover_percent = pre_tourney_games[['team', 'season','opponent_turnover_percent']].groupby(['team', 'season']).mean().reset_index().rename(columns={'opponent_turnover_percent': 'season_allowed_turnover_percent'})\n",
    "tourney_games = tourney_games.merge(season_allowed_turnover_percent, on=['team', 'season'], how='left')\n",
    "season_allowed_turnover_percent.rename(columns={'season_allowed_turnover_percent': 'opponent_season_allowed_turnover_percent', 'team':'opponent'}, inplace=True)\n",
    "tourney_games = tourney_games.merge(season_allowed_turnover_percent, on=['opponent', 'season'], how='left')"
   ]
  },
  {
   "cell_type": "code",
   "execution_count": 189,
   "metadata": {},
   "outputs": [],
   "source": [
    "vs_tourney_team_allowed_turnover_percent = games_vs_tourney_teams[['team', 'season','opponent_turnover_percent']].groupby(['team', 'season']).mean().reset_index().rename(columns={'opponent_turnover_percent': 'vs_tourney_team_allowed_turnover_percent'})\n",
    "tourney_games = tourney_games.merge(vs_tourney_team_allowed_turnover_percent, on=['team', 'season'], how='left')\n",
    "vs_tourney_team_allowed_turnover_percent.rename(columns={'vs_tourney_team_allowed_turnover_percent': 'opponent_vs_tourney_team_allowed_turnover_percent', 'team':'opponent'}, inplace=True)\n",
    "tourney_games = tourney_games.merge(vs_tourney_team_allowed_turnover_percent, on=['opponent', 'season'], how='left')"
   ]
  },
  {
   "cell_type": "code",
   "execution_count": 190,
   "metadata": {},
   "outputs": [],
   "source": [
    "season_allowed_offensive_rebound_percent = pre_tourney_games[['team', 'season','opponent_offensive_rebound_percent']].groupby(['team', 'season']).mean().reset_index().rename(columns={'opponent_offensive_rebound_percent': 'season_allowed_offensive_rebound_percent'})\n",
    "tourney_games = tourney_games.merge(season_allowed_offensive_rebound_percent, on=['team', 'season'], how='left')\n",
    "season_allowed_offensive_rebound_percent.rename(columns={'season_allowed_offensive_rebound_percent': 'opponent_season_allowed_offensive_rebound_percent', 'team':'opponent'}, inplace=True)\n",
    "tourney_games = tourney_games.merge(season_allowed_offensive_rebound_percent, on=['opponent', 'season'], how='left')"
   ]
  },
  {
   "cell_type": "code",
   "execution_count": 191,
   "metadata": {},
   "outputs": [],
   "source": [
    "vs_tourney_team_allowed_offensive_rebound_percent = games_vs_tourney_teams[['team', 'season','opponent_offensive_rebound_percent']].groupby(['team', 'season']).mean().reset_index().rename(columns={'opponent_offensive_rebound_percent': 'vs_tourney_team_allowed_offensive_rebound_percent'})\n",
    "tourney_games = tourney_games.merge(vs_tourney_team_allowed_offensive_rebound_percent, on=['team', 'season'], how='left')\n",
    "vs_tourney_team_allowed_offensive_rebound_percent.rename(columns={'vs_tourney_team_allowed_offensive_rebound_percent': 'opponent_vs_tourney_team_allowed_offensive_rebound_percent', 'team':'opponent'}, inplace=True)\n",
    "tourney_games = tourney_games.merge(vs_tourney_team_allowed_offensive_rebound_percent, on=['opponent', 'season'], how='left')"
   ]
  },
  {
   "cell_type": "code",
   "execution_count": 192,
   "metadata": {},
   "outputs": [],
   "source": [
    "season_allowed_free_throw_rate = pre_tourney_games[['team', 'season','opponent_free_throw_rate']].groupby(['team', 'season']).mean().reset_index().rename(columns={'opponent_free_throw_rate': 'season_allowed_free_throw_rate'})\n",
    "tourney_games = tourney_games.merge(season_allowed_free_throw_rate, on=['team', 'season'], how='left')\n",
    "season_allowed_free_throw_rate.rename(columns={'season_allowed_free_throw_rate': 'opponent_season_allowed_free_throw_rate', 'team':'opponent'}, inplace=True)\n",
    "tourney_games = tourney_games.merge(season_allowed_free_throw_rate, on=['opponent', 'season'], how='left')"
   ]
  },
  {
   "cell_type": "code",
   "execution_count": 193,
   "metadata": {},
   "outputs": [],
   "source": [
    "vs_tourney_team_allowed_free_throw_rate = games_vs_tourney_teams[['team', 'season','opponent_free_throw_rate']].groupby(['team', 'season']).mean().reset_index().rename(columns={'opponent_free_throw_rate': 'vs_tourney_team_allowed_free_throw_rate'})\n",
    "tourney_games = tourney_games.merge(vs_tourney_team_allowed_free_throw_rate, on=['team', 'season'], how='left')\n",
    "vs_tourney_team_allowed_free_throw_rate.rename(columns={'vs_tourney_team_allowed_free_throw_rate': 'opponent_vs_tourney_team_allowed_free_throw_rate', 'team':'opponent'}, inplace=True)\n",
    "tourney_games = tourney_games.merge(vs_tourney_team_allowed_free_throw_rate, on=['opponent', 'season'], how='left')"
   ]
  },
  {
   "cell_type": "code",
   "execution_count": 196,
   "metadata": {},
   "outputs": [
    {
     "data": {
      "text/html": [
       "<div>\n",
       "<style scoped>\n",
       "    .dataframe tbody tr th:only-of-type {\n",
       "        vertical-align: middle;\n",
       "    }\n",
       "\n",
       "    .dataframe tbody tr th {\n",
       "        vertical-align: top;\n",
       "    }\n",
       "\n",
       "    .dataframe thead th {\n",
       "        text-align: right;\n",
       "    }\n",
       "</style>\n",
       "<table border=\"1\" class=\"dataframe\">\n",
       "  <thead>\n",
       "    <tr style=\"text-align: right;\">\n",
       "      <th></th>\n",
       "      <th>date</th>\n",
       "      <th>season</th>\n",
       "      <th>team</th>\n",
       "      <th>opponent</th>\n",
       "      <th>Win_Loss</th>\n",
       "      <th>regular_season_win_pct</th>\n",
       "      <th>opponent_regular_season_win_pct</th>\n",
       "      <th>season_win_pct</th>\n",
       "      <th>season_ppg</th>\n",
       "      <th>opponent_season_ppg</th>\n",
       "      <th>...</th>\n",
       "      <th>vs_tourney_team_allowed_turnover_percent</th>\n",
       "      <th>opponent_vs_tourney_team_allowed_turnover_percent</th>\n",
       "      <th>season_allowed_offensive_rebound_percent</th>\n",
       "      <th>opponent_season_allowed_offensive_rebound_percent</th>\n",
       "      <th>vs_tourney_team_allowed_offensive_rebound_percent</th>\n",
       "      <th>opponent_vs_tourney_team_allowed_offensive_rebound_percent</th>\n",
       "      <th>season_allowed_free_throw_rate</th>\n",
       "      <th>opponent_season_allowed_free_throw_rate</th>\n",
       "      <th>vs_tourney_team_allowed_free_throw_rate</th>\n",
       "      <th>opponent_vs_tourney_team_allowed_free_throw_rate</th>\n",
       "    </tr>\n",
       "  </thead>\n",
       "  <tbody>\n",
       "    <tr>\n",
       "      <th>0</th>\n",
       "      <td>3/17/23</td>\n",
       "      <td>2023</td>\n",
       "      <td>Arizona St.</td>\n",
       "      <td>TCU</td>\n",
       "      <td>L</td>\n",
       "      <td>0.645161</td>\n",
       "      <td>0.645161</td>\n",
       "      <td>0.647059</td>\n",
       "      <td>70.323529</td>\n",
       "      <td>75.181818</td>\n",
       "      <td>...</td>\n",
       "      <td>19.707143</td>\n",
       "      <td>20.100000</td>\n",
       "      <td>31.555882</td>\n",
       "      <td>30.745455</td>\n",
       "      <td>31.771429</td>\n",
       "      <td>31.752632</td>\n",
       "      <td>34.017647</td>\n",
       "      <td>30.539394</td>\n",
       "      <td>41.128571</td>\n",
       "      <td>31.342105</td>\n",
       "    </tr>\n",
       "    <tr>\n",
       "      <th>1</th>\n",
       "      <td>3/17/23</td>\n",
       "      <td>2023</td>\n",
       "      <td>TCU</td>\n",
       "      <td>Arizona St.</td>\n",
       "      <td>W</td>\n",
       "      <td>0.645161</td>\n",
       "      <td>0.645161</td>\n",
       "      <td>0.636364</td>\n",
       "      <td>75.181818</td>\n",
       "      <td>70.323529</td>\n",
       "      <td>...</td>\n",
       "      <td>20.100000</td>\n",
       "      <td>19.707143</td>\n",
       "      <td>30.745455</td>\n",
       "      <td>31.555882</td>\n",
       "      <td>31.752632</td>\n",
       "      <td>31.771429</td>\n",
       "      <td>30.539394</td>\n",
       "      <td>34.017647</td>\n",
       "      <td>31.342105</td>\n",
       "      <td>41.128571</td>\n",
       "    </tr>\n",
       "    <tr>\n",
       "      <th>2</th>\n",
       "      <td>3/23/23</td>\n",
       "      <td>2023</td>\n",
       "      <td>Arkansas</td>\n",
       "      <td>Connecticut</td>\n",
       "      <td>L</td>\n",
       "      <td>0.612903</td>\n",
       "      <td>0.774194</td>\n",
       "      <td>0.606061</td>\n",
       "      <td>74.424242</td>\n",
       "      <td>78.454545</td>\n",
       "      <td>...</td>\n",
       "      <td>18.561905</td>\n",
       "      <td>16.155556</td>\n",
       "      <td>28.193939</td>\n",
       "      <td>26.109091</td>\n",
       "      <td>29.085714</td>\n",
       "      <td>27.288889</td>\n",
       "      <td>39.651515</td>\n",
       "      <td>38.945455</td>\n",
       "      <td>44.409524</td>\n",
       "      <td>36.088889</td>\n",
       "    </tr>\n",
       "    <tr>\n",
       "      <th>3</th>\n",
       "      <td>3/23/23</td>\n",
       "      <td>2023</td>\n",
       "      <td>Connecticut</td>\n",
       "      <td>Arkansas</td>\n",
       "      <td>W</td>\n",
       "      <td>0.774194</td>\n",
       "      <td>0.612903</td>\n",
       "      <td>0.757576</td>\n",
       "      <td>78.454545</td>\n",
       "      <td>74.424242</td>\n",
       "      <td>...</td>\n",
       "      <td>16.155556</td>\n",
       "      <td>18.561905</td>\n",
       "      <td>26.109091</td>\n",
       "      <td>28.193939</td>\n",
       "      <td>27.288889</td>\n",
       "      <td>29.085714</td>\n",
       "      <td>38.945455</td>\n",
       "      <td>39.651515</td>\n",
       "      <td>36.088889</td>\n",
       "      <td>44.409524</td>\n",
       "    </tr>\n",
       "    <tr>\n",
       "      <th>4</th>\n",
       "      <td>3/18/23</td>\n",
       "      <td>2023</td>\n",
       "      <td>Arkansas</td>\n",
       "      <td>Kansas</td>\n",
       "      <td>W</td>\n",
       "      <td>0.612903</td>\n",
       "      <td>0.806452</td>\n",
       "      <td>0.606061</td>\n",
       "      <td>74.424242</td>\n",
       "      <td>74.941176</td>\n",
       "      <td>...</td>\n",
       "      <td>18.561905</td>\n",
       "      <td>19.780769</td>\n",
       "      <td>28.193939</td>\n",
       "      <td>28.105882</td>\n",
       "      <td>29.085714</td>\n",
       "      <td>29.426923</td>\n",
       "      <td>39.651515</td>\n",
       "      <td>31.544118</td>\n",
       "      <td>44.409524</td>\n",
       "      <td>31.234615</td>\n",
       "    </tr>\n",
       "    <tr>\n",
       "      <th>...</th>\n",
       "      <td>...</td>\n",
       "      <td>...</td>\n",
       "      <td>...</td>\n",
       "      <td>...</td>\n",
       "      <td>...</td>\n",
       "      <td>...</td>\n",
       "      <td>...</td>\n",
       "      <td>...</td>\n",
       "      <td>...</td>\n",
       "      <td>...</td>\n",
       "      <td>...</td>\n",
       "      <td>...</td>\n",
       "      <td>...</td>\n",
       "      <td>...</td>\n",
       "      <td>...</td>\n",
       "      <td>...</td>\n",
       "      <td>...</td>\n",
       "      <td>...</td>\n",
       "      <td>...</td>\n",
       "      <td>...</td>\n",
       "      <td>...</td>\n",
       "    </tr>\n",
       "    <tr>\n",
       "      <th>1237</th>\n",
       "      <td>3/19/15</td>\n",
       "      <td>2015</td>\n",
       "      <td>Wofford</td>\n",
       "      <td>Arkansas</td>\n",
       "      <td>L</td>\n",
       "      <td>0.793103</td>\n",
       "      <td>0.774194</td>\n",
       "      <td>0.812500</td>\n",
       "      <td>65.875000</td>\n",
       "      <td>78.029412</td>\n",
       "      <td>...</td>\n",
       "      <td>17.300000</td>\n",
       "      <td>20.100000</td>\n",
       "      <td>26.803125</td>\n",
       "      <td>34.135294</td>\n",
       "      <td>28.680000</td>\n",
       "      <td>36.235714</td>\n",
       "      <td>38.153125</td>\n",
       "      <td>39.347059</td>\n",
       "      <td>40.980000</td>\n",
       "      <td>44.550000</td>\n",
       "    </tr>\n",
       "    <tr>\n",
       "      <th>1238</th>\n",
       "      <td>3/20/15</td>\n",
       "      <td>2015</td>\n",
       "      <td>Northern Iowa</td>\n",
       "      <td>Wyoming</td>\n",
       "      <td>W</td>\n",
       "      <td>0.900000</td>\n",
       "      <td>0.689655</td>\n",
       "      <td>0.909091</td>\n",
       "      <td>65.363636</td>\n",
       "      <td>61.437500</td>\n",
       "      <td>...</td>\n",
       "      <td>17.354545</td>\n",
       "      <td>15.033333</td>\n",
       "      <td>25.645455</td>\n",
       "      <td>26.915625</td>\n",
       "      <td>27.418182</td>\n",
       "      <td>33.800000</td>\n",
       "      <td>26.939394</td>\n",
       "      <td>26.956250</td>\n",
       "      <td>32.672727</td>\n",
       "      <td>36.316667</td>\n",
       "    </tr>\n",
       "    <tr>\n",
       "      <th>1239</th>\n",
       "      <td>3/20/15</td>\n",
       "      <td>2015</td>\n",
       "      <td>Wyoming</td>\n",
       "      <td>Northern Iowa</td>\n",
       "      <td>L</td>\n",
       "      <td>0.689655</td>\n",
       "      <td>0.900000</td>\n",
       "      <td>0.718750</td>\n",
       "      <td>61.437500</td>\n",
       "      <td>65.363636</td>\n",
       "      <td>...</td>\n",
       "      <td>15.033333</td>\n",
       "      <td>17.354545</td>\n",
       "      <td>26.915625</td>\n",
       "      <td>25.645455</td>\n",
       "      <td>33.800000</td>\n",
       "      <td>27.418182</td>\n",
       "      <td>26.956250</td>\n",
       "      <td>26.939394</td>\n",
       "      <td>36.316667</td>\n",
       "      <td>32.672727</td>\n",
       "    </tr>\n",
       "    <tr>\n",
       "      <th>1240</th>\n",
       "      <td>3/26/15</td>\n",
       "      <td>2015</td>\n",
       "      <td>Arizona</td>\n",
       "      <td>Xavier</td>\n",
       "      <td>W</td>\n",
       "      <td>0.903226</td>\n",
       "      <td>0.612903</td>\n",
       "      <td>0.911765</td>\n",
       "      <td>76.441176</td>\n",
       "      <td>73.558824</td>\n",
       "      <td>...</td>\n",
       "      <td>19.175000</td>\n",
       "      <td>16.980000</td>\n",
       "      <td>21.861765</td>\n",
       "      <td>26.823529</td>\n",
       "      <td>22.400000</td>\n",
       "      <td>27.135000</td>\n",
       "      <td>36.726471</td>\n",
       "      <td>35.208824</td>\n",
       "      <td>41.068750</td>\n",
       "      <td>34.765000</td>\n",
       "    </tr>\n",
       "    <tr>\n",
       "      <th>1241</th>\n",
       "      <td>3/26/15</td>\n",
       "      <td>2015</td>\n",
       "      <td>Xavier</td>\n",
       "      <td>Arizona</td>\n",
       "      <td>L</td>\n",
       "      <td>0.612903</td>\n",
       "      <td>0.903226</td>\n",
       "      <td>0.617647</td>\n",
       "      <td>73.558824</td>\n",
       "      <td>76.441176</td>\n",
       "      <td>...</td>\n",
       "      <td>16.980000</td>\n",
       "      <td>19.175000</td>\n",
       "      <td>26.823529</td>\n",
       "      <td>21.861765</td>\n",
       "      <td>27.135000</td>\n",
       "      <td>22.400000</td>\n",
       "      <td>35.208824</td>\n",
       "      <td>36.726471</td>\n",
       "      <td>34.765000</td>\n",
       "      <td>41.068750</td>\n",
       "    </tr>\n",
       "  </tbody>\n",
       "</table>\n",
       "<p>1242 rows × 67 columns</p>\n",
       "</div>"
      ],
      "text/plain": [
       "         date  season           team       opponent Win_Loss  \\\n",
       "0     3/17/23    2023    Arizona St.            TCU        L   \n",
       "1     3/17/23    2023            TCU    Arizona St.        W   \n",
       "2     3/23/23    2023       Arkansas    Connecticut        L   \n",
       "3     3/23/23    2023    Connecticut       Arkansas        W   \n",
       "4     3/18/23    2023       Arkansas         Kansas        W   \n",
       "...       ...     ...            ...            ...      ...   \n",
       "1237  3/19/15    2015        Wofford       Arkansas        L   \n",
       "1238  3/20/15    2015  Northern Iowa        Wyoming        W   \n",
       "1239  3/20/15    2015        Wyoming  Northern Iowa        L   \n",
       "1240  3/26/15    2015        Arizona         Xavier        W   \n",
       "1241  3/26/15    2015         Xavier        Arizona        L   \n",
       "\n",
       "      regular_season_win_pct  opponent_regular_season_win_pct  season_win_pct  \\\n",
       "0                   0.645161                         0.645161        0.647059   \n",
       "1                   0.645161                         0.645161        0.636364   \n",
       "2                   0.612903                         0.774194        0.606061   \n",
       "3                   0.774194                         0.612903        0.757576   \n",
       "4                   0.612903                         0.806452        0.606061   \n",
       "...                      ...                              ...             ...   \n",
       "1237                0.793103                         0.774194        0.812500   \n",
       "1238                0.900000                         0.689655        0.909091   \n",
       "1239                0.689655                         0.900000        0.718750   \n",
       "1240                0.903226                         0.612903        0.911765   \n",
       "1241                0.612903                         0.903226        0.617647   \n",
       "\n",
       "      season_ppg  opponent_season_ppg  ...  \\\n",
       "0      70.323529            75.181818  ...   \n",
       "1      75.181818            70.323529  ...   \n",
       "2      74.424242            78.454545  ...   \n",
       "3      78.454545            74.424242  ...   \n",
       "4      74.424242            74.941176  ...   \n",
       "...          ...                  ...  ...   \n",
       "1237   65.875000            78.029412  ...   \n",
       "1238   65.363636            61.437500  ...   \n",
       "1239   61.437500            65.363636  ...   \n",
       "1240   76.441176            73.558824  ...   \n",
       "1241   73.558824            76.441176  ...   \n",
       "\n",
       "      vs_tourney_team_allowed_turnover_percent  \\\n",
       "0                                    19.707143   \n",
       "1                                    20.100000   \n",
       "2                                    18.561905   \n",
       "3                                    16.155556   \n",
       "4                                    18.561905   \n",
       "...                                        ...   \n",
       "1237                                 17.300000   \n",
       "1238                                 17.354545   \n",
       "1239                                 15.033333   \n",
       "1240                                 19.175000   \n",
       "1241                                 16.980000   \n",
       "\n",
       "      opponent_vs_tourney_team_allowed_turnover_percent  \\\n",
       "0                                             20.100000   \n",
       "1                                             19.707143   \n",
       "2                                             16.155556   \n",
       "3                                             18.561905   \n",
       "4                                             19.780769   \n",
       "...                                                 ...   \n",
       "1237                                          20.100000   \n",
       "1238                                          15.033333   \n",
       "1239                                          17.354545   \n",
       "1240                                          16.980000   \n",
       "1241                                          19.175000   \n",
       "\n",
       "      season_allowed_offensive_rebound_percent  \\\n",
       "0                                    31.555882   \n",
       "1                                    30.745455   \n",
       "2                                    28.193939   \n",
       "3                                    26.109091   \n",
       "4                                    28.193939   \n",
       "...                                        ...   \n",
       "1237                                 26.803125   \n",
       "1238                                 25.645455   \n",
       "1239                                 26.915625   \n",
       "1240                                 21.861765   \n",
       "1241                                 26.823529   \n",
       "\n",
       "      opponent_season_allowed_offensive_rebound_percent  \\\n",
       "0                                             30.745455   \n",
       "1                                             31.555882   \n",
       "2                                             26.109091   \n",
       "3                                             28.193939   \n",
       "4                                             28.105882   \n",
       "...                                                 ...   \n",
       "1237                                          34.135294   \n",
       "1238                                          26.915625   \n",
       "1239                                          25.645455   \n",
       "1240                                          26.823529   \n",
       "1241                                          21.861765   \n",
       "\n",
       "      vs_tourney_team_allowed_offensive_rebound_percent  \\\n",
       "0                                             31.771429   \n",
       "1                                             31.752632   \n",
       "2                                             29.085714   \n",
       "3                                             27.288889   \n",
       "4                                             29.085714   \n",
       "...                                                 ...   \n",
       "1237                                          28.680000   \n",
       "1238                                          27.418182   \n",
       "1239                                          33.800000   \n",
       "1240                                          22.400000   \n",
       "1241                                          27.135000   \n",
       "\n",
       "      opponent_vs_tourney_team_allowed_offensive_rebound_percent  \\\n",
       "0                                             31.752632            \n",
       "1                                             31.771429            \n",
       "2                                             27.288889            \n",
       "3                                             29.085714            \n",
       "4                                             29.426923            \n",
       "...                                                 ...            \n",
       "1237                                          36.235714            \n",
       "1238                                          33.800000            \n",
       "1239                                          27.418182            \n",
       "1240                                          27.135000            \n",
       "1241                                          22.400000            \n",
       "\n",
       "      season_allowed_free_throw_rate  opponent_season_allowed_free_throw_rate  \\\n",
       "0                          34.017647                                30.539394   \n",
       "1                          30.539394                                34.017647   \n",
       "2                          39.651515                                38.945455   \n",
       "3                          38.945455                                39.651515   \n",
       "4                          39.651515                                31.544118   \n",
       "...                              ...                                      ...   \n",
       "1237                       38.153125                                39.347059   \n",
       "1238                       26.939394                                26.956250   \n",
       "1239                       26.956250                                26.939394   \n",
       "1240                       36.726471                                35.208824   \n",
       "1241                       35.208824                                36.726471   \n",
       "\n",
       "      vs_tourney_team_allowed_free_throw_rate  \\\n",
       "0                                   41.128571   \n",
       "1                                   31.342105   \n",
       "2                                   44.409524   \n",
       "3                                   36.088889   \n",
       "4                                   44.409524   \n",
       "...                                       ...   \n",
       "1237                                40.980000   \n",
       "1238                                32.672727   \n",
       "1239                                36.316667   \n",
       "1240                                41.068750   \n",
       "1241                                34.765000   \n",
       "\n",
       "      opponent_vs_tourney_team_allowed_free_throw_rate  \n",
       "0                                            31.342105  \n",
       "1                                            41.128571  \n",
       "2                                            36.088889  \n",
       "3                                            44.409524  \n",
       "4                                            31.234615  \n",
       "...                                                ...  \n",
       "1237                                         44.550000  \n",
       "1238                                         36.316667  \n",
       "1239                                         32.672727  \n",
       "1240                                         34.765000  \n",
       "1241                                         41.068750  \n",
       "\n",
       "[1242 rows x 67 columns]"
      ]
     },
     "execution_count": 196,
     "metadata": {},
     "output_type": "execute_result"
    }
   ],
   "source": [
    "tourney_games"
   ]
  },
  {
   "cell_type": "code",
   "execution_count": 197,
   "metadata": {},
   "outputs": [
    {
     "data": {
      "text/plain": [
       "266"
      ]
     },
     "execution_count": 197,
     "metadata": {},
     "output_type": "execute_result"
    }
   ],
   "source": [
    "tourney_games.to_sql('tourney_games_v5', conn, if_exists='replace', index=False)"
   ]
  }
 ],
 "metadata": {
  "kernelspec": {
   "display_name": ".venv",
   "language": "python",
   "name": "python3"
  },
  "language_info": {
   "codemirror_mode": {
    "name": "ipython",
    "version": 3
   },
   "file_extension": ".py",
   "mimetype": "text/x-python",
   "name": "python",
   "nbconvert_exporter": "python",
   "pygments_lexer": "ipython3",
   "version": "3.10.6"
  },
  "orig_nbformat": 4
 },
 "nbformat": 4,
 "nbformat_minor": 2
}
