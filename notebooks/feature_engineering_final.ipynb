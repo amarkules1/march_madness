{
 "cells": [
  {
   "cell_type": "markdown",
   "metadata": {},
   "source": [
    "# Fields for tournament games\n",
    "\n",
    "# Informational fields:\n",
    "* date\n",
    "* season\n",
    "* team\n",
    "* opponent\n",
    "* win/loss\n",
    "\n",
    "# Predictor fields\n",
    "* regular_season_win_pct - just conference and non-conference games\n",
    "* opponent_regular_season_win_pct\n",
    "* season_win_pct - includes conference tourney games\n",
    "* opponent_season_win_pct\n",
    "* season_ppg - includes conference tourney games\n",
    "* opponent_season_ppg\n",
    "* season_ppg_allowed - includes conference tourney games\n",
    "* opponent_season_ppg_allowed\n",
    "* last_10_games_win_pct - includes conference tourney games\n",
    "* opponent_last_10_games_win_pct\n",
    "* last_5_games_win_pct - includes conference tourney games\n",
    "* opponent_last_5_games_win_pct\n",
    "* vs_tourney_team_win_pct - includes conference tourney games\n",
    "* opponent_vs_tourney_team_win_pct\n",
    "* games_played_vs_tourney_teams - includes conference tourney games\n",
    "* opponent_games_played_vs_tourney_teams\n",
    "* season_adj_offense - includes conference tourney games\n",
    "* opponent_season_adj_offense\n",
    "* vs_tourney_team_adj_offense - includes conference tourney games\n",
    "* opponent_vs_tourney_team_adj_offense\n",
    "* season_adj_defense - includes conference tourney games\n",
    "* opponent_season_adj_defense\n",
    "* vs_tourney_team_adj_defense - includes conference tourney games\n",
    "* opponent_vs_tourney_team_adj_defense\n",
    "* season_offensive_efficiency - includes conference tourney games\n",
    "* opponent_season_offensive_efficiency\n",
    "* vs_tourney_team_offensive_efficiency - includes conference tourney games\n",
    "* opponent_vs_tourney_team_offensive_efficiency\n",
    "* season_effective_field_goal_pct - includes conference tourney games\n",
    "* opponent_season_effective_field_goal_pct\n",
    "* vs_tourney_team_effective_field_goal_pct - includes conference tourney games\n",
    "* opponent_vs_tourney_team_effective_field_goal_pct\n",
    "* season_turnover_pct - includes conference tourney games\n",
    "* opponent_season_turnover_pct\n",
    "* vs_tourney_team_turnover_pct - includes conference tourney games\n",
    "* opponent_vs_tourney_team_turnover_pct\n",
    "* season_off_reb_pct - includes conference tourney games\n",
    "* opponent_season_off_reb_pct\n",
    "* vs_tourney_team_off_reb_pct - includes conference tourney games\n",
    "* opponent_vs_tourney_team_off_reb_pct\n",
    "* season_ft_rate - includes conference tourney games\n",
    "* opponent_season_ft_rate\n",
    "* vs_tourney_team_ft_rate - includes conference tourney games\n",
    "* opponent_vs_tourney_team_ft_rate\n",
    "* season_allowed_offensive_efficiency - includes conference tourney games\n",
    "* opponent_season_allowed_offensive_efficiency\n",
    "* vs_tourney_team_allowed_offensive_efficiency - includes conference tourney games\n",
    "* opponent_vs_tourney_team_allowed_offensive_efficiency\n",
    "* season_allowed_effective_field_goal_pct - includes conference tourney games\n",
    "* opponent_season_allowed_effective_field_goal_pct\n",
    "* vs_tourney_team_allowed_effective_field_goal_pct - includes conference tourney games\n",
    "* opponent_vs_tourney_team_allowed_effective_field_goal_pct\n",
    "* season_allowed_turnover_pct - includes conference tourney games\n",
    "* opponent_season_allowed_turnover_pct\n",
    "* vs_tourney_team_allowed_turnover_pct - includes conference tourney games\n",
    "* opponent_vs_tourney_team_allowed_turnover_pct\n",
    "* season_allowed_off_reb_pct - includes conference tourney games\n",
    "* opponent_season_allowed_off_reb_pct\n",
    "* vs_tourney_team_allowed_off_reb_pct - includes conference tourney games\n",
    "* opponent_vs_tourney_team_allowed_off_reb_pct\n",
    "* season_allowed_ft_rate - includes conference tourney games\n",
    "* opponent_season_allowed_ft_rate\n",
    "* vs_tourney_team_allowed_ft_rate - includes conference tourney games\n",
    "* opponent_vs_tourney_team_allowed_ft_rate\n",
    "* season_allowed_adj_offense - includes conference tourney games\n",
    "* opponent_season_allowed_adj_offense\n",
    "* vs_tourney_team_allowed_adj_offense - includes conference tourney games\n",
    "* opponent_vs_tourney_team_allowed_adj_offense\n",
    "* season_allowed_adj_defense - includes conference tourney games\n",
    "* opponent_season_allowed_adj_defense\n",
    "* vs_tourney_team_allowed_adj_defense - includes conference tourney games\n",
    "* opponent_vs_tourney_team_allowed_adj_defense"
   ]
  },
  {
   "cell_type": "code",
   "execution_count": 238,
   "metadata": {},
   "outputs": [],
   "source": [
    "import os\n",
    "import pandas as pd\n",
    "import sqlalchemy\n",
    "import sklearn\n",
    "from dotenv import load_dotenv, find_dotenv\n",
    "_ = load_dotenv(find_dotenv())\n",
    "\n",
    "connection_string = os.getenv(\"LINODE_CONN_STRING\")\n",
    "connection_string = os.getenv(\"LINODE_CONN_STRING\")\n",
    "conn = sqlalchemy.create_engine(os.getenv(\"LINODE_CONN_STRING\")).connect()"
   ]
  },
  {
   "cell_type": "code",
   "execution_count": 239,
   "metadata": {},
   "outputs": [],
   "source": [
    "all_games = pd.read_sql(\"select * from sports_data.game_stats_v2\", conn)"
   ]
  },
  {
   "cell_type": "code",
   "execution_count": 240,
   "metadata": {},
   "outputs": [],
   "source": [
    "tourney_games = all_games[all_games[\"game_type\"] == \"Post-Season Tourney\"]\n",
    "tourney_games = tourney_games[tourney_games['location'] == 'N']"
   ]
  },
  {
   "cell_type": "code",
   "execution_count": 241,
   "metadata": {},
   "outputs": [
    {
     "data": {
      "text/plain": [
       "Index(['date', 'game_type', 'team', 'conference', 'opponent', 'location',\n",
       "       'result', 'adj_offense', 'adj_defense', 'offensive_efficiency',\n",
       "       'effective_fg_percent', 'turnover_percent', 'offensive_rebound_percent',\n",
       "       'free_throw_rate', 'opponent_offensive_efficiency',\n",
       "       'opponent_effective_fg_percent', 'opponent_turnover_percent',\n",
       "       'opponent_offensive_rebound_percent', 'opponent_free_throw_rate',\n",
       "       'opponent_conference', 'season', 'Win_Loss', 'score', 'opponent_score'],\n",
       "      dtype='object')"
      ]
     },
     "execution_count": 241,
     "metadata": {},
     "output_type": "execute_result"
    }
   ],
   "source": [
    "tourney_games.columns"
   ]
  },
  {
   "cell_type": "code",
   "execution_count": 242,
   "metadata": {},
   "outputs": [],
   "source": [
    "tourney_games = tourney_games[['date', 'season', 'team', 'opponent', 'Win_Loss']]"
   ]
  },
  {
   "cell_type": "code",
   "execution_count": 243,
   "metadata": {},
   "outputs": [
    {
     "data": {
      "text/plain": [
       "array(['Non-Conference', 'Conference', 'Conference Tourney',\n",
       "       'Post-Season Tourney'], dtype=object)"
      ]
     },
     "execution_count": 243,
     "metadata": {},
     "output_type": "execute_result"
    }
   ],
   "source": [
    "all_games['game_type'].unique()"
   ]
  },
  {
   "cell_type": "code",
   "execution_count": 244,
   "metadata": {},
   "outputs": [],
   "source": [
    "regular_season_games = all_games[all_games[\"game_type\"].isin(['Non-Conference', 'Conference'])]\n",
    "pre_tourney_games = all_games[all_games[\"game_type\"].isin(['Non-Conference', 'Conference', 'Conference Tourney'])]\n",
    "last_5_non_tourney = all_games[all_games['game_type'] != 'Post-Season Tourney'].sort_values('date').groupby(['team', 'season']).tail(5).sort_values(['team', 'season', 'date'])\n",
    "last_10_non_tourney = all_games[all_games['game_type'] != 'Post-Season Tourney'].sort_values('date').groupby(['team', 'season']).tail(10).sort_values(['team', 'season', 'date'])\n",
    "all_games['opp_season'] = all_games.apply(lambda x: f\"{x['opponent']}_{x['season']}\", axis=1)\n",
    "tourney_teams = tourney_games.apply(lambda x: f\"{x['team']}_{x['season']}\", axis=1).unique()\n",
    "games_vs_tourney_teams = all_games[all_games['opp_season'].isin(tourney_teams)]"
   ]
  },
  {
   "cell_type": "code",
   "execution_count": 245,
   "metadata": {},
   "outputs": [],
   "source": [
    "working = regular_season_games.groupby(['team', 'season','Win_Loss'], as_index=False).size()\n",
    "working = working.pivot_table(index=['team', 'season'], columns='Win_Loss', values='size', fill_value=0).reset_index()[['team', 'season', 'L', 'W']]\n",
    "working['regular_season_win_pct'] = working['W'] / (working['W'] + working['L'])\n",
    "regular_season_win_pct = working[['team', 'season', 'regular_season_win_pct']]"
   ]
  },
  {
   "cell_type": "code",
   "execution_count": 246,
   "metadata": {},
   "outputs": [],
   "source": [
    "tourney_games = tourney_games.merge(regular_season_win_pct, on=['team', 'season'], how='left')"
   ]
  },
  {
   "cell_type": "code",
   "execution_count": 247,
   "metadata": {},
   "outputs": [
    {
     "name": "stderr",
     "output_type": "stream",
     "text": [
      "C:\\Users\\amarl\\AppData\\Local\\Temp\\ipykernel_24184\\1859462520.py:1: SettingWithCopyWarning: \n",
      "A value is trying to be set on a copy of a slice from a DataFrame\n",
      "\n",
      "See the caveats in the documentation: https://pandas.pydata.org/pandas-docs/stable/user_guide/indexing.html#returning-a-view-versus-a-copy\n",
      "  regular_season_win_pct.rename(columns={'regular_season_win_pct': 'opponent_regular_season_win_pct', 'team':'opponent'}, inplace=True)\n"
     ]
    }
   ],
   "source": [
    "regular_season_win_pct.rename(columns={'regular_season_win_pct': 'opponent_regular_season_win_pct', 'team':'opponent'}, inplace=True)"
   ]
  },
  {
   "cell_type": "code",
   "execution_count": 248,
   "metadata": {},
   "outputs": [
    {
     "data": {
      "text/html": [
       "<div>\n",
       "<style scoped>\n",
       "    .dataframe tbody tr th:only-of-type {\n",
       "        vertical-align: middle;\n",
       "    }\n",
       "\n",
       "    .dataframe tbody tr th {\n",
       "        vertical-align: top;\n",
       "    }\n",
       "\n",
       "    .dataframe thead th {\n",
       "        text-align: right;\n",
       "    }\n",
       "</style>\n",
       "<table border=\"1\" class=\"dataframe\">\n",
       "  <thead>\n",
       "    <tr style=\"text-align: right;\">\n",
       "      <th></th>\n",
       "      <th>date</th>\n",
       "      <th>season</th>\n",
       "      <th>team</th>\n",
       "      <th>opponent</th>\n",
       "      <th>Win_Loss</th>\n",
       "      <th>regular_season_win_pct</th>\n",
       "    </tr>\n",
       "  </thead>\n",
       "  <tbody>\n",
       "    <tr>\n",
       "      <th>0</th>\n",
       "      <td>3/17/23</td>\n",
       "      <td>2023</td>\n",
       "      <td>Arizona St.</td>\n",
       "      <td>TCU</td>\n",
       "      <td>L</td>\n",
       "      <td>0.645161</td>\n",
       "    </tr>\n",
       "    <tr>\n",
       "      <th>1</th>\n",
       "      <td>3/17/23</td>\n",
       "      <td>2023</td>\n",
       "      <td>TCU</td>\n",
       "      <td>Arizona St.</td>\n",
       "      <td>W</td>\n",
       "      <td>0.645161</td>\n",
       "    </tr>\n",
       "    <tr>\n",
       "      <th>2</th>\n",
       "      <td>3/23/23</td>\n",
       "      <td>2023</td>\n",
       "      <td>Arkansas</td>\n",
       "      <td>Connecticut</td>\n",
       "      <td>L</td>\n",
       "      <td>0.612903</td>\n",
       "    </tr>\n",
       "    <tr>\n",
       "      <th>3</th>\n",
       "      <td>3/23/23</td>\n",
       "      <td>2023</td>\n",
       "      <td>Connecticut</td>\n",
       "      <td>Arkansas</td>\n",
       "      <td>W</td>\n",
       "      <td>0.774194</td>\n",
       "    </tr>\n",
       "    <tr>\n",
       "      <th>4</th>\n",
       "      <td>3/18/23</td>\n",
       "      <td>2023</td>\n",
       "      <td>Arkansas</td>\n",
       "      <td>Kansas</td>\n",
       "      <td>W</td>\n",
       "      <td>0.612903</td>\n",
       "    </tr>\n",
       "    <tr>\n",
       "      <th>...</th>\n",
       "      <td>...</td>\n",
       "      <td>...</td>\n",
       "      <td>...</td>\n",
       "      <td>...</td>\n",
       "      <td>...</td>\n",
       "      <td>...</td>\n",
       "    </tr>\n",
       "    <tr>\n",
       "      <th>1237</th>\n",
       "      <td>3/19/15</td>\n",
       "      <td>2015</td>\n",
       "      <td>Wofford</td>\n",
       "      <td>Arkansas</td>\n",
       "      <td>L</td>\n",
       "      <td>0.793103</td>\n",
       "    </tr>\n",
       "    <tr>\n",
       "      <th>1238</th>\n",
       "      <td>3/20/15</td>\n",
       "      <td>2015</td>\n",
       "      <td>Northern Iowa</td>\n",
       "      <td>Wyoming</td>\n",
       "      <td>W</td>\n",
       "      <td>0.900000</td>\n",
       "    </tr>\n",
       "    <tr>\n",
       "      <th>1239</th>\n",
       "      <td>3/20/15</td>\n",
       "      <td>2015</td>\n",
       "      <td>Wyoming</td>\n",
       "      <td>Northern Iowa</td>\n",
       "      <td>L</td>\n",
       "      <td>0.689655</td>\n",
       "    </tr>\n",
       "    <tr>\n",
       "      <th>1240</th>\n",
       "      <td>3/26/15</td>\n",
       "      <td>2015</td>\n",
       "      <td>Arizona</td>\n",
       "      <td>Xavier</td>\n",
       "      <td>W</td>\n",
       "      <td>0.903226</td>\n",
       "    </tr>\n",
       "    <tr>\n",
       "      <th>1241</th>\n",
       "      <td>3/26/15</td>\n",
       "      <td>2015</td>\n",
       "      <td>Xavier</td>\n",
       "      <td>Arizona</td>\n",
       "      <td>L</td>\n",
       "      <td>0.612903</td>\n",
       "    </tr>\n",
       "  </tbody>\n",
       "</table>\n",
       "<p>1242 rows × 6 columns</p>\n",
       "</div>"
      ],
      "text/plain": [
       "         date  season           team       opponent Win_Loss  \\\n",
       "0     3/17/23    2023    Arizona St.            TCU        L   \n",
       "1     3/17/23    2023            TCU    Arizona St.        W   \n",
       "2     3/23/23    2023       Arkansas    Connecticut        L   \n",
       "3     3/23/23    2023    Connecticut       Arkansas        W   \n",
       "4     3/18/23    2023       Arkansas         Kansas        W   \n",
       "...       ...     ...            ...            ...      ...   \n",
       "1237  3/19/15    2015        Wofford       Arkansas        L   \n",
       "1238  3/20/15    2015  Northern Iowa        Wyoming        W   \n",
       "1239  3/20/15    2015        Wyoming  Northern Iowa        L   \n",
       "1240  3/26/15    2015        Arizona         Xavier        W   \n",
       "1241  3/26/15    2015         Xavier        Arizona        L   \n",
       "\n",
       "      regular_season_win_pct  \n",
       "0                   0.645161  \n",
       "1                   0.645161  \n",
       "2                   0.612903  \n",
       "3                   0.774194  \n",
       "4                   0.612903  \n",
       "...                      ...  \n",
       "1237                0.793103  \n",
       "1238                0.900000  \n",
       "1239                0.689655  \n",
       "1240                0.903226  \n",
       "1241                0.612903  \n",
       "\n",
       "[1242 rows x 6 columns]"
      ]
     },
     "execution_count": 248,
     "metadata": {},
     "output_type": "execute_result"
    }
   ],
   "source": [
    "tourney_games"
   ]
  },
  {
   "cell_type": "code",
   "execution_count": 249,
   "metadata": {},
   "outputs": [],
   "source": [
    "tourney_games = tourney_games.merge(regular_season_win_pct, on=['opponent', 'season'], how='left')"
   ]
  },
  {
   "cell_type": "code",
   "execution_count": 250,
   "metadata": {},
   "outputs": [],
   "source": [
    "working = pre_tourney_games.groupby(['team', 'season','Win_Loss'], as_index=False).size()\n",
    "working = working.pivot_table(index=['team', 'season'], columns='Win_Loss', values='size', fill_value=0).reset_index()[['team', 'season', 'L', 'W']]\n",
    "working['season_win_pct'] = working['W'] / (working['W'] + working['L'])\n",
    "season_win_pct = working[['team', 'season', 'season_win_pct']]"
   ]
  },
  {
   "cell_type": "code",
   "execution_count": 251,
   "metadata": {},
   "outputs": [],
   "source": [
    "tourney_games = tourney_games.merge(season_win_pct, on=['team', 'season'], how='left')"
   ]
  },
  {
   "cell_type": "code",
   "execution_count": 252,
   "metadata": {},
   "outputs": [
    {
     "name": "stderr",
     "output_type": "stream",
     "text": [
      "C:\\Users\\amarl\\AppData\\Local\\Temp\\ipykernel_24184\\1093291026.py:1: SettingWithCopyWarning: \n",
      "A value is trying to be set on a copy of a slice from a DataFrame\n",
      "\n",
      "See the caveats in the documentation: https://pandas.pydata.org/pandas-docs/stable/user_guide/indexing.html#returning-a-view-versus-a-copy\n",
      "  season_win_pct.rename(columns={'season_win_pct': 'opponent_season_win_pct', 'team':'opponent'}, inplace=True)\n"
     ]
    }
   ],
   "source": [
    "season_win_pct.rename(columns={'season_win_pct': 'opponent_season_win_pct', 'team':'opponent'}, inplace=True)"
   ]
  },
  {
   "cell_type": "code",
   "execution_count": 253,
   "metadata": {},
   "outputs": [],
   "source": [
    "tourney_games = tourney_games.merge(season_win_pct, on=['opponent', 'season'], how='left')"
   ]
  },
  {
   "cell_type": "code",
   "execution_count": 254,
   "metadata": {},
   "outputs": [
    {
     "name": "stderr",
     "output_type": "stream",
     "text": [
      "C:\\Users\\amarl\\AppData\\Local\\Temp\\ipykernel_24184\\2704502709.py:1: SettingWithCopyWarning: \n",
      "A value is trying to be set on a copy of a slice from a DataFrame.\n",
      "Try using .loc[row_indexer,col_indexer] = value instead\n",
      "\n",
      "See the caveats in the documentation: https://pandas.pydata.org/pandas-docs/stable/user_guide/indexing.html#returning-a-view-versus-a-copy\n",
      "  pre_tourney_games['score'] = pre_tourney_games['score'].astype(int)\n"
     ]
    }
   ],
   "source": [
    "pre_tourney_games['score'] = pre_tourney_games['score'].astype(int)\n",
    "season_ppg = pre_tourney_games[['team', 'season','score']].groupby(['team', 'season']).mean().reset_index().rename(columns={'score': 'season_ppg'})"
   ]
  },
  {
   "cell_type": "code",
   "execution_count": 255,
   "metadata": {},
   "outputs": [],
   "source": [
    "tourney_games = tourney_games.merge(season_ppg, on=['team', 'season'], how='left')"
   ]
  },
  {
   "cell_type": "code",
   "execution_count": 256,
   "metadata": {},
   "outputs": [],
   "source": [
    "season_ppg.rename(columns={'season_ppg': 'opponent_season_ppg', 'team':'opponent'}, inplace=True)\n",
    "tourney_games = tourney_games.merge(season_ppg, on=['opponent', 'season'], how='left')"
   ]
  },
  {
   "cell_type": "code",
   "execution_count": 257,
   "metadata": {},
   "outputs": [
    {
     "name": "stderr",
     "output_type": "stream",
     "text": [
      "C:\\Users\\amarl\\AppData\\Local\\Temp\\ipykernel_24184\\2874491460.py:1: SettingWithCopyWarning: \n",
      "A value is trying to be set on a copy of a slice from a DataFrame.\n",
      "Try using .loc[row_indexer,col_indexer] = value instead\n",
      "\n",
      "See the caveats in the documentation: https://pandas.pydata.org/pandas-docs/stable/user_guide/indexing.html#returning-a-view-versus-a-copy\n",
      "  pre_tourney_games['opponent_score'] = pre_tourney_games['opponent_score'].astype(int)\n"
     ]
    }
   ],
   "source": [
    "pre_tourney_games['opponent_score'] = pre_tourney_games['opponent_score'].astype(int)\n",
    "season_ppg_allowed = pre_tourney_games[['team', 'season','opponent_score']].groupby(['team', 'season']).mean().reset_index().rename(columns={'opponent_score': 'season_ppg_allowed'})"
   ]
  },
  {
   "cell_type": "code",
   "execution_count": 258,
   "metadata": {},
   "outputs": [],
   "source": [
    "season_ppg_std = pre_tourney_games[['team', 'season','score']].groupby(['team', 'season']).std().reset_index().rename(columns={'score': 'season_ppg_std'})\n",
    "tourney_games = tourney_games.merge(season_ppg_std, on=['team', 'season'], how='left')\n",
    "season_ppg_std.rename(columns={'season_ppg_std': 'opponent_season_ppg_std', 'team':'opponent'}, inplace=True)\n",
    "tourney_games = tourney_games.merge(season_ppg_std, on=['opponent', 'season'], how='left')"
   ]
  },
  {
   "cell_type": "code",
   "execution_count": 259,
   "metadata": {},
   "outputs": [],
   "source": [
    "season_ppg_allowed_std = pre_tourney_games[['team', 'season','opponent_score']].groupby(['team', 'season']).std().reset_index().rename(columns={'opponent_score': 'season_ppg_allowed_std'})\n",
    "tourney_games = tourney_games.merge(season_ppg_allowed_std, on=['team', 'season'], how='left')\n",
    "season_ppg_allowed_std.rename(columns={'season_ppg_allowed_std': 'opponent_season_ppg_allowed_std', 'team':'opponent'}, inplace=True)\n",
    "tourney_games = tourney_games.merge(season_ppg_allowed_std, on=['opponent', 'season'], how='left')"
   ]
  },
  {
   "cell_type": "code",
   "execution_count": 260,
   "metadata": {},
   "outputs": [],
   "source": [
    "tourney_games = tourney_games.merge(season_ppg_allowed, on=['team', 'season'], how='left')"
   ]
  },
  {
   "cell_type": "code",
   "execution_count": 261,
   "metadata": {},
   "outputs": [],
   "source": [
    "season_ppg_allowed.rename(columns={'season_ppg_allowed': 'opponent_season_ppg_allowed', 'team':'opponent'}, inplace=True)\n",
    "tourney_games = tourney_games.merge(season_ppg_allowed, on=['opponent', 'season'], how='left')"
   ]
  },
  {
   "cell_type": "code",
   "execution_count": 262,
   "metadata": {},
   "outputs": [],
   "source": [
    "working = last_10_non_tourney.groupby(['team', 'season','Win_Loss'], as_index=False).size()\n",
    "working = working.pivot_table(index=['team', 'season'], columns='Win_Loss', values='size', fill_value=0).reset_index()[['team', 'season', 'L', 'W']]\n",
    "working['last_10_win_pct'] = working['W'] / (working['W'] + working['L'])\n",
    "last_10_win_pct = working[['team', 'season', 'last_10_win_pct']]"
   ]
  },
  {
   "cell_type": "code",
   "execution_count": 263,
   "metadata": {},
   "outputs": [],
   "source": [
    "tourney_games = tourney_games.merge(last_10_win_pct, on=['team', 'season'], how='left')"
   ]
  },
  {
   "cell_type": "code",
   "execution_count": 264,
   "metadata": {},
   "outputs": [
    {
     "name": "stderr",
     "output_type": "stream",
     "text": [
      "C:\\Users\\amarl\\AppData\\Local\\Temp\\ipykernel_24184\\1411312810.py:1: SettingWithCopyWarning: \n",
      "A value is trying to be set on a copy of a slice from a DataFrame\n",
      "\n",
      "See the caveats in the documentation: https://pandas.pydata.org/pandas-docs/stable/user_guide/indexing.html#returning-a-view-versus-a-copy\n",
      "  last_10_win_pct.rename(columns={'last_10_win_pct': 'opponent_last_10_win_pct', 'team':'opponent'}, inplace=True)\n"
     ]
    }
   ],
   "source": [
    "last_10_win_pct.rename(columns={'last_10_win_pct': 'opponent_last_10_win_pct', 'team':'opponent'}, inplace=True)\n",
    "tourney_games = tourney_games.merge(last_10_win_pct, on=['opponent', 'season'], how='left')"
   ]
  },
  {
   "cell_type": "code",
   "execution_count": 265,
   "metadata": {},
   "outputs": [],
   "source": [
    "working = last_5_non_tourney.groupby(['team', 'season','Win_Loss'], as_index=False).size()\n",
    "working = working.pivot_table(index=['team', 'season'], columns='Win_Loss', values='size', fill_value=0).reset_index()[['team', 'season', 'L', 'W']]\n",
    "working['last_5_win_pct'] = working['W'] / (working['W'] + working['L'])\n",
    "last_5_win_pct = working[['team', 'season', 'last_5_win_pct']]"
   ]
  },
  {
   "cell_type": "code",
   "execution_count": 266,
   "metadata": {},
   "outputs": [],
   "source": [
    "tourney_games = tourney_games.merge(last_5_win_pct, on=['team', 'season'], how='left')"
   ]
  },
  {
   "cell_type": "code",
   "execution_count": 267,
   "metadata": {},
   "outputs": [
    {
     "name": "stderr",
     "output_type": "stream",
     "text": [
      "C:\\Users\\amarl\\AppData\\Local\\Temp\\ipykernel_24184\\489938241.py:1: SettingWithCopyWarning: \n",
      "A value is trying to be set on a copy of a slice from a DataFrame\n",
      "\n",
      "See the caveats in the documentation: https://pandas.pydata.org/pandas-docs/stable/user_guide/indexing.html#returning-a-view-versus-a-copy\n",
      "  last_5_win_pct.rename(columns={'last_5_win_pct': 'opponent_last_5_win_pct', 'team':'opponent'}, inplace=True)\n"
     ]
    }
   ],
   "source": [
    "last_5_win_pct.rename(columns={'last_5_win_pct': 'opponent_last_5_win_pct', 'team':'opponent'}, inplace=True)\n",
    "tourney_games = tourney_games.merge(last_5_win_pct, on=['opponent', 'season'], how='left')"
   ]
  },
  {
   "cell_type": "code",
   "execution_count": 268,
   "metadata": {},
   "outputs": [],
   "source": [
    "working = games_vs_tourney_teams.groupby(['team', 'season','Win_Loss'], as_index=False).size()\n",
    "working = working.pivot_table(index=['team', 'season'], columns='Win_Loss', values='size', fill_value=0).reset_index()[['team', 'season', 'L', 'W']]\n",
    "working['vs_tourney_team_win_pct'] = working['W'] / (working['W'] + working['L'])\n",
    "vs_tourney_team_win_pct = working[['team', 'season', 'vs_tourney_team_win_pct']]"
   ]
  },
  {
   "cell_type": "code",
   "execution_count": 269,
   "metadata": {},
   "outputs": [],
   "source": [
    "tourney_games = tourney_games.merge(vs_tourney_team_win_pct, on=['team', 'season'], how='left')"
   ]
  },
  {
   "cell_type": "code",
   "execution_count": 270,
   "metadata": {},
   "outputs": [
    {
     "name": "stderr",
     "output_type": "stream",
     "text": [
      "C:\\Users\\amarl\\AppData\\Local\\Temp\\ipykernel_24184\\2986988654.py:1: SettingWithCopyWarning: \n",
      "A value is trying to be set on a copy of a slice from a DataFrame\n",
      "\n",
      "See the caveats in the documentation: https://pandas.pydata.org/pandas-docs/stable/user_guide/indexing.html#returning-a-view-versus-a-copy\n",
      "  vs_tourney_team_win_pct.rename(columns={'vs_tourney_team_win_pct': 'opponent_vs_tourney_team_win_pct', 'team':'opponent'}, inplace=True)\n"
     ]
    }
   ],
   "source": [
    "vs_tourney_team_win_pct.rename(columns={'vs_tourney_team_win_pct': 'opponent_vs_tourney_team_win_pct', 'team':'opponent'}, inplace=True)\n",
    "tourney_games = tourney_games.merge(vs_tourney_team_win_pct, on=['opponent', 'season'], how='left')"
   ]
  },
  {
   "cell_type": "code",
   "execution_count": 271,
   "metadata": {},
   "outputs": [],
   "source": [
    "working = games_vs_tourney_teams.groupby(['team', 'season','Win_Loss'], as_index=False).size()\n",
    "working = working.pivot_table(index=['team', 'season'], columns='Win_Loss', values='size', fill_value=0).reset_index()[['team', 'season', 'L', 'W']]\n",
    "working['games_played_vs_tourney_teams'] = (working['W'] + working['L'])\n",
    "games_played_vs_tourney_teams = working[['team', 'season', 'games_played_vs_tourney_teams']]"
   ]
  },
  {
   "cell_type": "code",
   "execution_count": 272,
   "metadata": {},
   "outputs": [],
   "source": [
    "tourney_games = tourney_games.merge(games_played_vs_tourney_teams, on=['team', 'season'], how='left')"
   ]
  },
  {
   "cell_type": "code",
   "execution_count": 273,
   "metadata": {},
   "outputs": [
    {
     "name": "stderr",
     "output_type": "stream",
     "text": [
      "C:\\Users\\amarl\\AppData\\Local\\Temp\\ipykernel_24184\\3857983212.py:1: SettingWithCopyWarning: \n",
      "A value is trying to be set on a copy of a slice from a DataFrame\n",
      "\n",
      "See the caveats in the documentation: https://pandas.pydata.org/pandas-docs/stable/user_guide/indexing.html#returning-a-view-versus-a-copy\n",
      "  games_played_vs_tourney_teams.rename(columns={'games_played_vs_tourney_teams': 'opponent_games_played_vs_tourney_teams', 'team':'opponent'}, inplace=True)\n"
     ]
    }
   ],
   "source": [
    "games_played_vs_tourney_teams.rename(columns={'games_played_vs_tourney_teams': 'opponent_games_played_vs_tourney_teams', 'team':'opponent'}, inplace=True)\n",
    "tourney_games = tourney_games.merge(games_played_vs_tourney_teams, on=['opponent', 'season'], how='left')"
   ]
  },
  {
   "cell_type": "code",
   "execution_count": 153,
   "metadata": {},
   "outputs": [
    {
     "data": {
      "text/plain": [
       "Index(['date', 'game_type', 'team', 'conference', 'opponent', 'location',\n",
       "       'result', 'adj_offense', 'adj_defense', 'offensive_efficiency',\n",
       "       'effective_fg_percent', 'turnover_percent', 'offensive_rebound_percent',\n",
       "       'free_throw_rate', 'opponent_offensive_efficiency',\n",
       "       'opponent_effective_fg_percent', 'opponent_turnover_percent',\n",
       "       'opponent_offensive_rebound_percent', 'opponent_free_throw_rate',\n",
       "       'opponent_conference', 'season', 'Win_Loss', 'score', 'opponent_score'],\n",
       "      dtype='object')"
      ]
     },
     "execution_count": 153,
     "metadata": {},
     "output_type": "execute_result"
    }
   ],
   "source": [
    "pre_tourney_games.columns"
   ]
  },
  {
   "cell_type": "code",
   "execution_count": 274,
   "metadata": {},
   "outputs": [],
   "source": [
    "season_adj_offense = pre_tourney_games[['team', 'season','adj_offense']].groupby(['team', 'season']).mean().reset_index().rename(columns={'adj_offense': 'season_adj_offense'})"
   ]
  },
  {
   "cell_type": "code",
   "execution_count": 275,
   "metadata": {},
   "outputs": [],
   "source": [
    "tourney_games = tourney_games.merge(season_adj_offense, on=['team', 'season'], how='left')"
   ]
  },
  {
   "cell_type": "code",
   "execution_count": 276,
   "metadata": {},
   "outputs": [],
   "source": [
    "season_adj_offense.rename(columns={'season_adj_offense': 'opponent_season_adj_offense', 'team':'opponent'}, inplace=True)\n",
    "tourney_games = tourney_games.merge(season_adj_offense, on=['opponent', 'season'], how='left')"
   ]
  },
  {
   "cell_type": "code",
   "execution_count": 277,
   "metadata": {},
   "outputs": [],
   "source": [
    "season_adj_offense_std = pre_tourney_games[['team', 'season','adj_offense']].groupby(['team', 'season']).std().reset_index().rename(columns={'adj_offense': 'season_adj_offense_std'})\n",
    "tourney_games = tourney_games.merge(season_adj_offense_std, on=['team', 'season'], how='left')\n",
    "season_adj_offense_std.rename(columns={'season_adj_offense_std': 'opponent_season_adj_offense_std', 'team':'opponent'}, inplace=True)\n",
    "tourney_games = tourney_games.merge(season_adj_offense_std, on=['opponent', 'season'], how='left')"
   ]
  },
  {
   "cell_type": "code",
   "execution_count": 278,
   "metadata": {},
   "outputs": [],
   "source": [
    "season_adj_defense = pre_tourney_games[['team', 'season','adj_defense']].groupby(['team', 'season']).mean().reset_index().rename(columns={'adj_defense': 'season_adj_defense'})"
   ]
  },
  {
   "cell_type": "code",
   "execution_count": 279,
   "metadata": {},
   "outputs": [],
   "source": [
    "tourney_games = tourney_games.merge(season_adj_defense, on=['team', 'season'], how='left')"
   ]
  },
  {
   "cell_type": "code",
   "execution_count": 280,
   "metadata": {},
   "outputs": [],
   "source": [
    "season_adj_defense.rename(columns={'season_adj_defense': 'opponent_season_adj_defense', 'team':'opponent'}, inplace=True)\n",
    "tourney_games = tourney_games.merge(season_adj_defense, on=['opponent', 'season'], how='left')"
   ]
  },
  {
   "cell_type": "code",
   "execution_count": 281,
   "metadata": {},
   "outputs": [],
   "source": [
    "season_adj_defense_std = pre_tourney_games[['team', 'season','adj_defense']].groupby(['team', 'season']).std().reset_index().rename(columns={'adj_defense': 'season_adj_defense_std'})\n",
    "tourney_games = tourney_games.merge(season_adj_defense_std, on=['team', 'season'], how='left')\n",
    "season_adj_defense_std.rename(columns={'season_adj_defense_std': 'opponent_season_adj_defense_std', 'team':'opponent'}, inplace=True)\n",
    "tourney_games = tourney_games.merge(season_adj_defense_std, on=['opponent', 'season'], how='left')"
   ]
  },
  {
   "cell_type": "code",
   "execution_count": 282,
   "metadata": {},
   "outputs": [],
   "source": [
    "vs_tourney_team_adj_offense = games_vs_tourney_teams[['team', 'season','adj_offense']].groupby(['team', 'season']).mean().reset_index().rename(columns={'adj_offense': 'vs_tourney_team_adj_offense'})"
   ]
  },
  {
   "cell_type": "code",
   "execution_count": 283,
   "metadata": {},
   "outputs": [],
   "source": [
    "tourney_games = tourney_games.merge(vs_tourney_team_adj_offense, on=['team', 'season'], how='left')"
   ]
  },
  {
   "cell_type": "code",
   "execution_count": 284,
   "metadata": {},
   "outputs": [],
   "source": [
    "vs_tourney_team_adj_offense.rename(columns={'vs_tourney_team_adj_offense': 'opponent_vs_tourney_team_adj_offense', 'team':'opponent'}, inplace=True)"
   ]
  },
  {
   "cell_type": "code",
   "execution_count": 285,
   "metadata": {},
   "outputs": [],
   "source": [
    "tourney_games = tourney_games.merge(vs_tourney_team_adj_offense, on=['opponent', 'season'], how='left')"
   ]
  },
  {
   "cell_type": "code",
   "execution_count": 286,
   "metadata": {},
   "outputs": [],
   "source": [
    "vs_tourney_team_adj_offense_std = games_vs_tourney_teams[['team', 'season','adj_offense']].groupby(['team', 'season']).std().reset_index().rename(columns={'adj_offense': 'vs_tourney_team_adj_offense_std'})\n",
    "tourney_games = tourney_games.merge(vs_tourney_team_adj_offense_std, on=['team', 'season'], how='left')\n",
    "vs_tourney_team_adj_offense_std.rename(columns={'vs_tourney_team_adj_offense_std': 'opponent_vs_tourney_team_adj_offense_std', 'team':'opponent'}, inplace=True)\n",
    "tourney_games = tourney_games.merge(vs_tourney_team_adj_offense_std, on=['opponent', 'season'], how='left')"
   ]
  },
  {
   "cell_type": "code",
   "execution_count": 287,
   "metadata": {},
   "outputs": [],
   "source": [
    "vs_tourney_team_adj_defense = games_vs_tourney_teams[['team', 'season','adj_defense']].groupby(['team', 'season']).mean().reset_index().rename(columns={'adj_defense': 'vs_tourney_team_adj_defense'})"
   ]
  },
  {
   "cell_type": "code",
   "execution_count": 288,
   "metadata": {},
   "outputs": [],
   "source": [
    "tourney_games = tourney_games.merge(vs_tourney_team_adj_defense, on=['team', 'season'], how='left')"
   ]
  },
  {
   "cell_type": "code",
   "execution_count": 289,
   "metadata": {},
   "outputs": [],
   "source": [
    "vs_tourney_team_adj_defense.rename(columns={'vs_tourney_team_adj_defense': 'opponent_vs_tourney_team_adj_defense', 'team':'opponent'}, inplace=True)"
   ]
  },
  {
   "cell_type": "code",
   "execution_count": 290,
   "metadata": {},
   "outputs": [],
   "source": [
    "tourney_games = tourney_games.merge(vs_tourney_team_adj_defense, on=['opponent', 'season'], how='left')"
   ]
  },
  {
   "cell_type": "code",
   "execution_count": 291,
   "metadata": {},
   "outputs": [],
   "source": [
    "vs_tourney_team_adj_defense_std = games_vs_tourney_teams[['team', 'season','adj_defense']].groupby(['team', 'season']).std().reset_index().rename(columns={'adj_defense': 'vs_tourney_team_adj_defense_std'})\n",
    "tourney_games = tourney_games.merge(vs_tourney_team_adj_defense_std, on=['team', 'season'], how='left')\n",
    "vs_tourney_team_adj_defense_std.rename(columns={'vs_tourney_team_adj_defense_std': 'opponent_vs_tourney_team_adj_defense_std', 'team':'opponent'}, inplace=True)\n",
    "tourney_games = tourney_games.merge(vs_tourney_team_adj_defense_std, on=['opponent', 'season'], how='left')"
   ]
  },
  {
   "cell_type": "code",
   "execution_count": 292,
   "metadata": {},
   "outputs": [],
   "source": [
    "season_offensive_efficiency = pre_tourney_games[['team', 'season','offensive_efficiency']].groupby(['team', 'season']).mean().reset_index().rename(columns={'offensive_efficiency': 'season_offensive_efficiency'})"
   ]
  },
  {
   "cell_type": "code",
   "execution_count": 293,
   "metadata": {},
   "outputs": [],
   "source": [
    "tourney_games = tourney_games.merge(season_offensive_efficiency, on=['team', 'season'], how='left')"
   ]
  },
  {
   "cell_type": "code",
   "execution_count": 294,
   "metadata": {},
   "outputs": [],
   "source": [
    "season_offensive_efficiency.rename(columns={'season_offensive_efficiency': 'opponent_season_offensive_efficiency', 'team':'opponent'}, inplace=True)\n",
    "tourney_games = tourney_games.merge(season_offensive_efficiency, on=['opponent', 'season'], how='left')"
   ]
  },
  {
   "cell_type": "code",
   "execution_count": 296,
   "metadata": {},
   "outputs": [],
   "source": [
    "season_offensive_efficiency_std = pre_tourney_games[['team', 'season','offensive_efficiency']].groupby(['team', 'season']).std().reset_index().rename(columns={'offensive_efficiency': 'season_offensive_efficiency_std'})\n",
    "tourney_games = tourney_games.merge(season_offensive_efficiency_std, on=['team', 'season'], how='left')\n",
    "season_offensive_efficiency_std.rename(columns={'season_offensive_efficiency_std': 'opponent_season_offensive_efficiency_std', 'team':'opponent'}, inplace=True)\n",
    "tourney_games = tourney_games.merge(season_offensive_efficiency_std, on=['opponent', 'season'], how='left')"
   ]
  },
  {
   "cell_type": "code",
   "execution_count": 297,
   "metadata": {},
   "outputs": [],
   "source": [
    "vs_tourney_team_offensive_efficiency = games_vs_tourney_teams[['team', 'season','offensive_efficiency']].groupby(['team', 'season']).mean().reset_index().rename(columns={'offensive_efficiency': 'vs_tourney_team_offensive_efficiency'})"
   ]
  },
  {
   "cell_type": "code",
   "execution_count": 298,
   "metadata": {},
   "outputs": [],
   "source": [
    "tourney_games = tourney_games.merge(vs_tourney_team_offensive_efficiency, on=['team', 'season'], how='left')"
   ]
  },
  {
   "cell_type": "code",
   "execution_count": 299,
   "metadata": {},
   "outputs": [],
   "source": [
    "vs_tourney_team_offensive_efficiency.rename(columns={'vs_tourney_team_offensive_efficiency': 'opponent_vs_tourney_team_offensive_efficiency', 'team':'opponent'}, inplace=True)\n",
    "tourney_games = tourney_games.merge(vs_tourney_team_offensive_efficiency, on=['opponent', 'season'], how='left')"
   ]
  },
  {
   "cell_type": "code",
   "execution_count": 300,
   "metadata": {},
   "outputs": [],
   "source": [
    "vs_tourney_team_offensive_efficiency_std = games_vs_tourney_teams[['team', 'season','offensive_efficiency']].groupby(['team', 'season']).std().reset_index().rename(columns={'offensive_efficiency': 'vs_tourney_team_offensive_efficiency_std'})\n",
    "tourney_games = tourney_games.merge(vs_tourney_team_offensive_efficiency_std, on=['team', 'season'], how='left')\n",
    "vs_tourney_team_offensive_efficiency_std.rename(columns={'vs_tourney_team_offensive_efficiency_std': 'opponent_vs_tourney_team_offensive_efficiency_std', 'team':'opponent'}, inplace=True)\n",
    "tourney_games = tourney_games.merge(vs_tourney_team_offensive_efficiency_std, on=['opponent', 'season'], how='left')"
   ]
  },
  {
   "cell_type": "code",
   "execution_count": 301,
   "metadata": {},
   "outputs": [],
   "source": [
    "season_effective_fg_percent = pre_tourney_games[['team', 'season','effective_fg_percent']].groupby(['team', 'season']).mean().reset_index().rename(columns={'effective_fg_percent': 'season_effective_fg_percent'})"
   ]
  },
  {
   "cell_type": "code",
   "execution_count": 302,
   "metadata": {},
   "outputs": [],
   "source": [
    "tourney_games = tourney_games.merge(season_effective_fg_percent, on=['team', 'season'], how='left')"
   ]
  },
  {
   "cell_type": "code",
   "execution_count": 303,
   "metadata": {},
   "outputs": [],
   "source": [
    "season_effective_fg_percent.rename(columns={'season_effective_fg_percent': 'opponent_season_effective_fg_percent', 'team':'opponent'}, inplace=True)\n",
    "tourney_games = tourney_games.merge(season_effective_fg_percent, on=['opponent', 'season'], how='left')"
   ]
  },
  {
   "cell_type": "code",
   "execution_count": 304,
   "metadata": {},
   "outputs": [],
   "source": [
    "season_effective_fg_percent_std = pre_tourney_games[['team', 'season','effective_fg_percent']].groupby(['team', 'season']).std().reset_index().rename(columns={'effective_fg_percent': 'season_effective_fg_percent_std'})\n",
    "tourney_games = tourney_games.merge(season_effective_fg_percent_std, on=['team', 'season'], how='left')\n",
    "season_effective_fg_percent_std.rename(columns={'season_effective_fg_percent_std': 'opponent_season_effective_fg_percent_std', 'team':'opponent'}, inplace=True)\n",
    "tourney_games = tourney_games.merge(season_effective_fg_percent_std, on=['opponent', 'season'], how='left')"
   ]
  },
  {
   "cell_type": "code",
   "execution_count": 305,
   "metadata": {},
   "outputs": [],
   "source": [
    "vs_tourney_team_effective_fg_percent = games_vs_tourney_teams[['team', 'season','effective_fg_percent']].groupby(['team', 'season']).mean().reset_index().rename(columns={'effective_fg_percent': 'vs_tourney_team_effective_fg_percent'})\n",
    "tourney_games = tourney_games.merge(vs_tourney_team_effective_fg_percent, on=['team', 'season'], how='left')\n",
    "vs_tourney_team_effective_fg_percent.rename(columns={'vs_tourney_team_effective_fg_percent': 'opponent_vs_tourney_team_effective_fg_percent', 'team':'opponent'}, inplace=True)\n",
    "tourney_games = tourney_games.merge(vs_tourney_team_effective_fg_percent, on=['opponent', 'season'], how='left')"
   ]
  },
  {
   "cell_type": "code",
   "execution_count": 306,
   "metadata": {},
   "outputs": [],
   "source": [
    "vs_tourney_team_effective_fg_percent_std = games_vs_tourney_teams[['team', 'season','effective_fg_percent']].groupby(['team', 'season']).std().reset_index().rename(columns={'effective_fg_percent': 'vs_tourney_team_effective_fg_percent_std'})\n",
    "tourney_games = tourney_games.merge(vs_tourney_team_effective_fg_percent_std, on=['team', 'season'], how='left')\n",
    "vs_tourney_team_effective_fg_percent_std.rename(columns={'vs_tourney_team_effective_fg_percent_std': 'opponent_vs_tourney_team_effective_fg_percent_std', 'team':'opponent'}, inplace=True)\n",
    "tourney_games = tourney_games.merge(vs_tourney_team_effective_fg_percent_std, on=['opponent', 'season'], how='left')"
   ]
  },
  {
   "cell_type": "code",
   "execution_count": 307,
   "metadata": {},
   "outputs": [],
   "source": [
    "season_turnover_percent = pre_tourney_games[['team', 'season','turnover_percent']].groupby(['team', 'season']).mean().reset_index().rename(columns={'turnover_percent': 'season_turnover_percent'})\n",
    "tourney_games = tourney_games.merge(season_turnover_percent, on=['team', 'season'], how='left')\n",
    "season_turnover_percent.rename(columns={'season_turnover_percent': 'opponent_season_turnover_percent', 'team':'opponent'}, inplace=True)\n",
    "tourney_games = tourney_games.merge(season_turnover_percent, on=['opponent', 'season'], how='left')"
   ]
  },
  {
   "cell_type": "code",
   "execution_count": 308,
   "metadata": {},
   "outputs": [],
   "source": [
    "season_turnover_percent_std = pre_tourney_games[['team', 'season','turnover_percent']].groupby(['team', 'season']).std().reset_index().rename(columns={'turnover_percent': 'season_turnover_percent_std'})\n",
    "tourney_games = tourney_games.merge(season_turnover_percent_std, on=['team', 'season'], how='left')\n",
    "season_turnover_percent_std.rename(columns={'season_turnover_percent_std': 'opponent_season_turnover_percent_std', 'team':'opponent'}, inplace=True)\n",
    "tourney_games = tourney_games.merge(season_turnover_percent_std, on=['opponent', 'season'], how='left')"
   ]
  },
  {
   "cell_type": "code",
   "execution_count": 309,
   "metadata": {},
   "outputs": [],
   "source": [
    "vs_tourney_team_turnover_percent = games_vs_tourney_teams[['team', 'season','turnover_percent']].groupby(['team', 'season']).mean().reset_index().rename(columns={'turnover_percent': 'vs_tourney_team_turnover_percent'})\n",
    "tourney_games = tourney_games.merge(vs_tourney_team_turnover_percent, on=['team', 'season'], how='left')\n",
    "vs_tourney_team_turnover_percent.rename(columns={'vs_tourney_team_turnover_percent': 'opponent_vs_tourney_team_turnover_percent', 'team':'opponent'}, inplace=True)\n",
    "tourney_games = tourney_games.merge(vs_tourney_team_turnover_percent, on=['opponent', 'season'], how='left')"
   ]
  },
  {
   "cell_type": "code",
   "execution_count": 310,
   "metadata": {},
   "outputs": [],
   "source": [
    "vs_tourney_team_turnover_percent_std = games_vs_tourney_teams[['team', 'season','turnover_percent']].groupby(['team', 'season']).std().reset_index().rename(columns={'turnover_percent': 'vs_tourney_team_turnover_percent_std'})\n",
    "tourney_games = tourney_games.merge(vs_tourney_team_turnover_percent_std, on=['team', 'season'], how='left')\n",
    "vs_tourney_team_turnover_percent_std.rename(columns={'vs_tourney_team_turnover_percent_std': 'opponent_vs_tourney_team_turnover_percent_std', 'team':'opponent'}, inplace=True)\n",
    "tourney_games = tourney_games.merge(vs_tourney_team_turnover_percent_std, on=['opponent', 'season'], how='left')"
   ]
  },
  {
   "cell_type": "code",
   "execution_count": 311,
   "metadata": {},
   "outputs": [],
   "source": [
    "season_offensive_rebound_percent = pre_tourney_games[['team', 'season','offensive_rebound_percent']].groupby(['team', 'season']).mean().reset_index().rename(columns={'offensive_rebound_percent': 'season_offensive_rebound_percent'})\n",
    "tourney_games = tourney_games.merge(season_offensive_rebound_percent, on=['team', 'season'], how='left')\n",
    "season_offensive_rebound_percent.rename(columns={'season_offensive_rebound_percent': 'opponent_season_offensive_rebound_percent', 'team':'opponent'}, inplace=True)\n",
    "tourney_games = tourney_games.merge(season_offensive_rebound_percent, on=['opponent', 'season'], how='left')"
   ]
  },
  {
   "cell_type": "code",
   "execution_count": 312,
   "metadata": {},
   "outputs": [],
   "source": [
    "season_offensive_rebound_percent_std = pre_tourney_games[['team', 'season','offensive_rebound_percent']].groupby(['team', 'season']).std().reset_index().rename(columns={'offensive_rebound_percent': 'season_offensive_rebound_percent_std'})\n",
    "tourney_games = tourney_games.merge(season_offensive_rebound_percent_std, on=['team', 'season'], how='left')\n",
    "season_offensive_rebound_percent_std.rename(columns={'season_offensive_rebound_percent_std': 'opponent_season_offensive_rebound_percent_std', 'team':'opponent'}, inplace=True)\n",
    "tourney_games = tourney_games.merge(season_offensive_rebound_percent_std, on=['opponent', 'season'], how='left')"
   ]
  },
  {
   "cell_type": "code",
   "execution_count": 313,
   "metadata": {},
   "outputs": [],
   "source": [
    "vs_tourney_team_offensive_rebound_percent = games_vs_tourney_teams[['team', 'season','offensive_rebound_percent']].groupby(['team', 'season']).mean().reset_index().rename(columns={'offensive_rebound_percent': 'vs_tourney_team_offensive_rebound_percent'})\n",
    "tourney_games = tourney_games.merge(vs_tourney_team_offensive_rebound_percent, on=['team', 'season'], how='left')\n",
    "vs_tourney_team_offensive_rebound_percent.rename(columns={'vs_tourney_team_offensive_rebound_percent': 'opponent_vs_tourney_team_offensive_rebound_percent', 'team':'opponent'}, inplace=True)\n",
    "tourney_games = tourney_games.merge(vs_tourney_team_offensive_rebound_percent, on=['opponent', 'season'], how='left')"
   ]
  },
  {
   "cell_type": "code",
   "execution_count": 314,
   "metadata": {},
   "outputs": [],
   "source": [
    "vs_tourney_team_offensive_rebound_percent_std = games_vs_tourney_teams[['team', 'season','offensive_rebound_percent']].groupby(['team', 'season']).std().reset_index().rename(columns={'offensive_rebound_percent': 'vs_tourney_team_offensive_rebound_percent_std'})\n",
    "tourney_games = tourney_games.merge(vs_tourney_team_offensive_rebound_percent_std, on=['team', 'season'], how='left')\n",
    "vs_tourney_team_offensive_rebound_percent_std.rename(columns={'vs_tourney_team_offensive_rebound_percent_std': 'opponent_vs_tourney_team_offensive_rebound_percent_std', 'team':'opponent'}, inplace=True)\n",
    "tourney_games = tourney_games.merge(vs_tourney_team_offensive_rebound_percent_std, on=['opponent', 'season'], how='left')"
   ]
  },
  {
   "cell_type": "code",
   "execution_count": 315,
   "metadata": {},
   "outputs": [],
   "source": [
    "season_free_throw_rate = pre_tourney_games[['team', 'season','free_throw_rate']].groupby(['team', 'season']).mean().reset_index().rename(columns={'free_throw_rate': 'season_free_throw_rate'})\n",
    "tourney_games = tourney_games.merge(season_free_throw_rate, on=['team', 'season'], how='left')\n",
    "season_free_throw_rate.rename(columns={'season_free_throw_rate': 'opponent_season_free_throw_rate', 'team':'opponent'}, inplace=True)\n",
    "tourney_games = tourney_games.merge(season_free_throw_rate, on=['opponent', 'season'], how='left')"
   ]
  },
  {
   "cell_type": "code",
   "execution_count": 316,
   "metadata": {},
   "outputs": [],
   "source": [
    "season_free_throw_rate_std = pre_tourney_games[['team', 'season','free_throw_rate']].groupby(['team', 'season']).std().reset_index().rename(columns={'free_throw_rate': 'season_free_throw_rate_std'})\n",
    "tourney_games = tourney_games.merge(season_free_throw_rate_std, on=['team', 'season'], how='left')\n",
    "season_free_throw_rate_std.rename(columns={'season_free_throw_rate_std': 'opponent_season_free_throw_rate_std', 'team':'opponent'}, inplace=True)\n",
    "tourney_games = tourney_games.merge(season_free_throw_rate_std, on=['opponent', 'season'], how='left')"
   ]
  },
  {
   "cell_type": "code",
   "execution_count": 317,
   "metadata": {},
   "outputs": [],
   "source": [
    "vs_tourney_team_free_throw_rate = games_vs_tourney_teams[['team', 'season','free_throw_rate']].groupby(['team', 'season']).mean().reset_index().rename(columns={'free_throw_rate': 'vs_tourney_team_free_throw_rate'})\n",
    "tourney_games = tourney_games.merge(vs_tourney_team_free_throw_rate, on=['team', 'season'], how='left')\n",
    "vs_tourney_team_free_throw_rate.rename(columns={'vs_tourney_team_free_throw_rate': 'opponent_vs_tourney_team_free_throw_rate', 'team':'opponent'}, inplace=True)\n",
    "tourney_games = tourney_games.merge(vs_tourney_team_free_throw_rate, on=['opponent', 'season'], how='left')"
   ]
  },
  {
   "cell_type": "code",
   "execution_count": 318,
   "metadata": {},
   "outputs": [],
   "source": [
    "vs_tourney_team_free_throw_rate_std = games_vs_tourney_teams[['team', 'season','free_throw_rate']].groupby(['team', 'season']).std().reset_index().rename(columns={'free_throw_rate': 'vs_tourney_team_free_throw_rate_std'})\n",
    "tourney_games = tourney_games.merge(vs_tourney_team_free_throw_rate_std, on=['team', 'season'], how='left')\n",
    "vs_tourney_team_free_throw_rate_std.rename(columns={'vs_tourney_team_free_throw_rate_std': 'opponent_vs_tourney_team_free_throw_rate_std', 'team':'opponent'}, inplace=True)\n",
    "tourney_games = tourney_games.merge(vs_tourney_team_free_throw_rate_std, on=['opponent', 'season'], how='left')"
   ]
  },
  {
   "cell_type": "code",
   "execution_count": 319,
   "metadata": {},
   "outputs": [],
   "source": [
    "season_allowed_offensive_efficiency = pre_tourney_games[['team', 'season','opponent_offensive_efficiency']].groupby(['team', 'season']).mean().reset_index().rename(columns={'opponent_offensive_efficiency': 'season_allowed_offensive_efficiency'})\n",
    "tournament_games = tourney_games.merge(season_allowed_offensive_efficiency, on=['team', 'season'], how='left')\n",
    "season_allowed_offensive_efficiency.rename(columns={'season_allowed_offensive_efficiency': 'opponent_season_allowed_offensive_efficiency', 'team':'opponent'}, inplace=True)\n",
    "tourney_games = tourney_games.merge(season_allowed_offensive_efficiency, on=['opponent', 'season'], how='left')"
   ]
  },
  {
   "cell_type": "code",
   "execution_count": 320,
   "metadata": {},
   "outputs": [],
   "source": [
    "season_allowed_offensive_efficiency_std = pre_tourney_games[['team', 'season','opponent_offensive_efficiency']].groupby(['team', 'season']).std().reset_index().rename(columns={'opponent_offensive_efficiency': 'season_allowed_offensive_efficiency_std'})\n",
    "tourney_games = tourney_games.merge(season_allowed_offensive_efficiency_std, on=['team', 'season'], how='left')\n",
    "season_allowed_offensive_efficiency_std.rename(columns={'season_allowed_offensive_efficiency_std': 'opponent_season_allowed_offensive_efficiency_std', 'team':'opponent'}, inplace=True)\n",
    "tourney_games = tourney_games.merge(season_allowed_offensive_efficiency_std, on=['opponent', 'season'], how='left')"
   ]
  },
  {
   "cell_type": "code",
   "execution_count": 321,
   "metadata": {},
   "outputs": [],
   "source": [
    "vs_tourney_team_allowed_offensive_efficiency = games_vs_tourney_teams[['team', 'season','opponent_offensive_efficiency']].groupby(['team', 'season']).mean().reset_index().rename(columns={'opponent_offensive_efficiency': 'vs_tourney_team_allowed_offensive_efficiency'})\n",
    "tourney_games = tourney_games.merge(vs_tourney_team_allowed_offensive_efficiency, on=['team', 'season'], how='left')\n",
    "vs_tourney_team_allowed_offensive_efficiency.rename(columns={'vs_tourney_team_allowed_offensive_efficiency': 'opponent_vs_tourney_team_allowed_offensive_efficiency', 'team':'opponent'}, inplace=True)\n",
    "tourney_games = tourney_games.merge(vs_tourney_team_allowed_offensive_efficiency, on=['opponent', 'season'], how='left')"
   ]
  },
  {
   "cell_type": "code",
   "execution_count": 323,
   "metadata": {},
   "outputs": [],
   "source": [
    "vs_tourney_team_allowed_offensive_efficiency_std = games_vs_tourney_teams[['team', 'season','opponent_offensive_efficiency']].groupby(['team', 'season']).std().reset_index().rename(columns={'opponent_offensive_efficiency': 'vs_tourney_team_allowed_offensive_efficiency_std'})\n",
    "tourney_games = tourney_games.merge(vs_tourney_team_allowed_offensive_efficiency_std, on=['team', 'season'], how='left')\n",
    "vs_tourney_team_allowed_offensive_efficiency_std.rename(columns={'vs_tourney_team_allowed_offensive_efficiency_std': 'opponent_vs_tourney_team_allowed_offensive_efficiency_std', 'team':'opponent'}, inplace=True)\n",
    "tourney_games = tourney_games.merge(vs_tourney_team_allowed_offensive_efficiency_std, on=['opponent', 'season'], how='left')"
   ]
  },
  {
   "cell_type": "code",
   "execution_count": 324,
   "metadata": {},
   "outputs": [],
   "source": [
    "season_allowed_effective_fg_percent = pre_tourney_games[['team', 'season','opponent_effective_fg_percent']].groupby(['team', 'season']).mean().reset_index().rename(columns={'opponent_effective_fg_percent': 'season_allowed_effective_fg_percent'})\n",
    "tourney_games = tourney_games.merge(season_allowed_effective_fg_percent, on=['team', 'season'], how='left')\n",
    "season_allowed_effective_fg_percent.rename(columns={'season_allowed_effective_fg_percent': 'opponent_season_allowed_effective_fg_percent', 'team':'opponent'}, inplace=True)\n",
    "tourney_games = tourney_games.merge(season_allowed_effective_fg_percent, on=['opponent', 'season'], how='left')"
   ]
  },
  {
   "cell_type": "code",
   "execution_count": 325,
   "metadata": {},
   "outputs": [],
   "source": [
    "season_allowed_effective_fg_percent_std = pre_tourney_games[['team', 'season','opponent_effective_fg_percent']].groupby(['team', 'season']).std().reset_index().rename(columns={'opponent_effective_fg_percent': 'season_allowed_effective_fg_percent_std'})\n",
    "tourney_games = tourney_games.merge(season_allowed_effective_fg_percent_std, on=['team', 'season'], how='left')\n",
    "season_allowed_effective_fg_percent_std.rename(columns={'season_allowed_effective_fg_percent_std': 'opponent_season_allowed_effective_fg_percent_std', 'team':'opponent'}, inplace=True)\n",
    "tourney_games = tourney_games.merge(season_allowed_effective_fg_percent_std, on=['opponent', 'season'], how='left')"
   ]
  },
  {
   "cell_type": "code",
   "execution_count": 326,
   "metadata": {},
   "outputs": [],
   "source": [
    "vs_tourney_team_allowed_effective_fg_percent = games_vs_tourney_teams[['team', 'season','opponent_effective_fg_percent']].groupby(['team', 'season']).mean().reset_index().rename(columns={'opponent_effective_fg_percent': 'vs_tourney_team_allowed_effective_fg_percent'})\n",
    "tourney_games = tourney_games.merge(vs_tourney_team_allowed_effective_fg_percent, on=['team', 'season'], how='left')\n",
    "vs_tourney_team_allowed_effective_fg_percent.rename(columns={'vs_tourney_team_allowed_effective_fg_percent': 'opponent_vs_tourney_team_allowed_effective_fg_percent', 'team':'opponent'}, inplace=True)\n",
    "tourney_games = tourney_games.merge(vs_tourney_team_allowed_effective_fg_percent, on=['opponent', 'season'], how='left')"
   ]
  },
  {
   "cell_type": "code",
   "execution_count": 327,
   "metadata": {},
   "outputs": [],
   "source": [
    "vs_tourney_team_allowed_effective_fg_percent_std = games_vs_tourney_teams[['team', 'season','opponent_effective_fg_percent']].groupby(['team', 'season']).std().reset_index().rename(columns={'opponent_effective_fg_percent': 'vs_tourney_team_allowed_effective_fg_percent_std'})\n",
    "tourney_games = tourney_games.merge(vs_tourney_team_allowed_effective_fg_percent_std, on=['team', 'season'], how='left')\n",
    "vs_tourney_team_allowed_effective_fg_percent_std.rename(columns={'vs_tourney_team_allowed_effective_fg_percent_std': 'opponent_vs_tourney_team_allowed_effective_fg_percent_std', 'team':'opponent'}, inplace=True)\n",
    "tourney_games = tourney_games.merge(vs_tourney_team_allowed_effective_fg_percent_std, on=['opponent', 'season'], how='left')"
   ]
  },
  {
   "cell_type": "code",
   "execution_count": 328,
   "metadata": {},
   "outputs": [],
   "source": [
    "season_allowed_turnover_percent = pre_tourney_games[['team', 'season','opponent_turnover_percent']].groupby(['team', 'season']).mean().reset_index().rename(columns={'opponent_turnover_percent': 'season_allowed_turnover_percent'})\n",
    "tourney_games = tourney_games.merge(season_allowed_turnover_percent, on=['team', 'season'], how='left')\n",
    "season_allowed_turnover_percent.rename(columns={'season_allowed_turnover_percent': 'opponent_season_allowed_turnover_percent', 'team':'opponent'}, inplace=True)\n",
    "tourney_games = tourney_games.merge(season_allowed_turnover_percent, on=['opponent', 'season'], how='left')"
   ]
  },
  {
   "cell_type": "code",
   "execution_count": 329,
   "metadata": {},
   "outputs": [],
   "source": [
    "season_allowed_turnover_percent_std = pre_tourney_games[['team', 'season','opponent_turnover_percent']].groupby(['team', 'season']).std().reset_index().rename(columns={'opponent_turnover_percent': 'season_allowed_turnover_percent_std'})\n",
    "tourney_games = tourney_games.merge(season_allowed_turnover_percent_std, on=['team', 'season'], how='left')\n",
    "season_allowed_turnover_percent_std.rename(columns={'season_allowed_turnover_percent_std': 'opponent_season_allowed_turnover_percent_std', 'team':'opponent'}, inplace=True)\n",
    "tourney_games = tourney_games.merge(season_allowed_turnover_percent_std, on=['opponent', 'season'], how='left')"
   ]
  },
  {
   "cell_type": "code",
   "execution_count": 330,
   "metadata": {},
   "outputs": [],
   "source": [
    "vs_tourney_team_allowed_turnover_percent = games_vs_tourney_teams[['team', 'season','opponent_turnover_percent']].groupby(['team', 'season']).mean().reset_index().rename(columns={'opponent_turnover_percent': 'vs_tourney_team_allowed_turnover_percent'})\n",
    "tourney_games = tourney_games.merge(vs_tourney_team_allowed_turnover_percent, on=['team', 'season'], how='left')\n",
    "vs_tourney_team_allowed_turnover_percent.rename(columns={'vs_tourney_team_allowed_turnover_percent': 'opponent_vs_tourney_team_allowed_turnover_percent', 'team':'opponent'}, inplace=True)\n",
    "tourney_games = tourney_games.merge(vs_tourney_team_allowed_turnover_percent, on=['opponent', 'season'], how='left')"
   ]
  },
  {
   "cell_type": "code",
   "execution_count": 331,
   "metadata": {},
   "outputs": [],
   "source": [
    "vs_tourney_team_allowed_turnover_percent_std = games_vs_tourney_teams[['team', 'season','opponent_turnover_percent']].groupby(['team', 'season']).std().reset_index().rename(columns={'opponent_turnover_percent': 'vs_tourney_team_allowed_turnover_percent_std'})\n",
    "tourney_games = tourney_games.merge(vs_tourney_team_allowed_turnover_percent_std, on=['team', 'season'], how='left')\n",
    "vs_tourney_team_allowed_turnover_percent_std.rename(columns={'vs_tourney_team_allowed_turnover_percent_std': 'opponent_vs_tourney_team_allowed_turnover_percent_std', 'team':'opponent'}, inplace=True)\n",
    "tourney_games = tourney_games.merge(vs_tourney_team_allowed_turnover_percent_std, on=['opponent', 'season'], how='left')"
   ]
  },
  {
   "cell_type": "code",
   "execution_count": 332,
   "metadata": {},
   "outputs": [],
   "source": [
    "season_allowed_offensive_rebound_percent = pre_tourney_games[['team', 'season','opponent_offensive_rebound_percent']].groupby(['team', 'season']).mean().reset_index().rename(columns={'opponent_offensive_rebound_percent': 'season_allowed_offensive_rebound_percent'})\n",
    "tourney_games = tourney_games.merge(season_allowed_offensive_rebound_percent, on=['team', 'season'], how='left')\n",
    "season_allowed_offensive_rebound_percent.rename(columns={'season_allowed_offensive_rebound_percent': 'opponent_season_allowed_offensive_rebound_percent', 'team':'opponent'}, inplace=True)\n",
    "tourney_games = tourney_games.merge(season_allowed_offensive_rebound_percent, on=['opponent', 'season'], how='left')"
   ]
  },
  {
   "cell_type": "code",
   "execution_count": 333,
   "metadata": {},
   "outputs": [],
   "source": [
    "season_allowed_offensive_rebound_percent_std = pre_tourney_games[['team', 'season','opponent_offensive_rebound_percent']].groupby(['team', 'season']).std().reset_index().rename(columns={'opponent_offensive_rebound_percent': 'season_allowed_offensive_rebound_percent_std'})\n",
    "tourney_games = tourney_games.merge(season_allowed_offensive_rebound_percent_std, on=['team', 'season'], how='left')\n",
    "season_allowed_offensive_rebound_percent_std.rename(columns={'season_allowed_offensive_rebound_percent_std': 'opponent_season_allowed_offensive_rebound_percent_std', 'team':'opponent'}, inplace=True)\n",
    "tourney_games = tourney_games.merge(season_allowed_offensive_rebound_percent_std, on=['opponent', 'season'], how='left')"
   ]
  },
  {
   "cell_type": "code",
   "execution_count": 334,
   "metadata": {},
   "outputs": [],
   "source": [
    "vs_tourney_team_allowed_offensive_rebound_percent = games_vs_tourney_teams[['team', 'season','opponent_offensive_rebound_percent']].groupby(['team', 'season']).mean().reset_index().rename(columns={'opponent_offensive_rebound_percent': 'vs_tourney_team_allowed_offensive_rebound_percent'})\n",
    "tourney_games = tourney_games.merge(vs_tourney_team_allowed_offensive_rebound_percent, on=['team', 'season'], how='left')\n",
    "vs_tourney_team_allowed_offensive_rebound_percent.rename(columns={'vs_tourney_team_allowed_offensive_rebound_percent': 'opponent_vs_tourney_team_allowed_offensive_rebound_percent', 'team':'opponent'}, inplace=True)\n",
    "tourney_games = tourney_games.merge(vs_tourney_team_allowed_offensive_rebound_percent, on=['opponent', 'season'], how='left')"
   ]
  },
  {
   "cell_type": "code",
   "execution_count": 335,
   "metadata": {},
   "outputs": [],
   "source": [
    "vs_tourney_team_allowed_offensive_rebound_percent_std = games_vs_tourney_teams[['team', 'season','opponent_offensive_rebound_percent']].groupby(['team', 'season']).std().reset_index().rename(columns={'opponent_offensive_rebound_percent': 'vs_tourney_team_allowed_offensive_rebound_percent_std'})\n",
    "tourney_games = tourney_games.merge(vs_tourney_team_allowed_offensive_rebound_percent_std, on=['team', 'season'], how='left')\n",
    "vs_tourney_team_allowed_offensive_rebound_percent_std.rename(columns={'vs_tourney_team_allowed_offensive_rebound_percent_std': 'opponent_vs_tourney_team_allowed_offensive_rebound_percent_std', 'team':'opponent'}, inplace=True)\n",
    "tourney_games = tourney_games.merge(vs_tourney_team_allowed_offensive_rebound_percent_std, on=['opponent', 'season'], how='left')"
   ]
  },
  {
   "cell_type": "code",
   "execution_count": 336,
   "metadata": {},
   "outputs": [],
   "source": [
    "season_allowed_free_throw_rate = pre_tourney_games[['team', 'season','opponent_free_throw_rate']].groupby(['team', 'season']).mean().reset_index().rename(columns={'opponent_free_throw_rate': 'season_allowed_free_throw_rate'})\n",
    "tourney_games = tourney_games.merge(season_allowed_free_throw_rate, on=['team', 'season'], how='left')\n",
    "season_allowed_free_throw_rate.rename(columns={'season_allowed_free_throw_rate': 'opponent_season_allowed_free_throw_rate', 'team':'opponent'}, inplace=True)\n",
    "tourney_games = tourney_games.merge(season_allowed_free_throw_rate, on=['opponent', 'season'], how='left')"
   ]
  },
  {
   "cell_type": "code",
   "execution_count": 337,
   "metadata": {},
   "outputs": [],
   "source": [
    "season_allowed_free_throw_rate_std = pre_tourney_games[['team', 'season','opponent_free_throw_rate']].groupby(['team', 'season']).std().reset_index().rename(columns={'opponent_free_throw_rate': 'season_allowed_free_throw_rate_std'})\n",
    "tourney_games = tourney_games.merge(season_allowed_free_throw_rate_std, on=['team', 'season'], how='left')\n",
    "season_allowed_free_throw_rate_std.rename(columns={'season_allowed_free_throw_rate_std': 'opponent_season_allowed_free_throw_rate_std', 'team':'opponent'}, inplace=True)\n",
    "tourney_games = tourney_games.merge(season_allowed_free_throw_rate_std, on=['opponent', 'season'], how='left')"
   ]
  },
  {
   "cell_type": "code",
   "execution_count": 338,
   "metadata": {},
   "outputs": [],
   "source": [
    "vs_tourney_team_allowed_free_throw_rate = games_vs_tourney_teams[['team', 'season','opponent_free_throw_rate']].groupby(['team', 'season']).mean().reset_index().rename(columns={'opponent_free_throw_rate': 'vs_tourney_team_allowed_free_throw_rate'})\n",
    "tourney_games = tourney_games.merge(vs_tourney_team_allowed_free_throw_rate, on=['team', 'season'], how='left')\n",
    "vs_tourney_team_allowed_free_throw_rate.rename(columns={'vs_tourney_team_allowed_free_throw_rate': 'opponent_vs_tourney_team_allowed_free_throw_rate', 'team':'opponent'}, inplace=True)\n",
    "tourney_games = tourney_games.merge(vs_tourney_team_allowed_free_throw_rate, on=['opponent', 'season'], how='left')"
   ]
  },
  {
   "cell_type": "code",
   "execution_count": 339,
   "metadata": {},
   "outputs": [],
   "source": [
    "vs_tourney_team_allowed_free_throw_rate_std = games_vs_tourney_teams[['team', 'season','opponent_free_throw_rate']].groupby(['team', 'season']).std().reset_index().rename(columns={'opponent_free_throw_rate': 'vs_tourney_team_allowed_free_throw_rate_std'})\n",
    "tourney_games = tourney_games.merge(vs_tourney_team_allowed_free_throw_rate_std, on=['team', 'season'], how='left')\n",
    "vs_tourney_team_allowed_free_throw_rate_std.rename(columns={'vs_tourney_team_allowed_free_throw_rate_std': 'opponent_vs_tourney_team_allowed_free_throw_rate_std', 'team':'opponent'}, inplace=True)\n",
    "tourney_games = tourney_games.merge(vs_tourney_team_allowed_free_throw_rate_std, on=['opponent', 'season'], how='left')"
   ]
  },
  {
   "cell_type": "code",
   "execution_count": 340,
   "metadata": {},
   "outputs": [
    {
     "data": {
      "text/html": [
       "<div>\n",
       "<style scoped>\n",
       "    .dataframe tbody tr th:only-of-type {\n",
       "        vertical-align: middle;\n",
       "    }\n",
       "\n",
       "    .dataframe tbody tr th {\n",
       "        vertical-align: top;\n",
       "    }\n",
       "\n",
       "    .dataframe thead th {\n",
       "        text-align: right;\n",
       "    }\n",
       "</style>\n",
       "<table border=\"1\" class=\"dataframe\">\n",
       "  <thead>\n",
       "    <tr style=\"text-align: right;\">\n",
       "      <th></th>\n",
       "      <th>date</th>\n",
       "      <th>season</th>\n",
       "      <th>team</th>\n",
       "      <th>opponent</th>\n",
       "      <th>Win_Loss</th>\n",
       "      <th>regular_season_win_pct</th>\n",
       "      <th>opponent_regular_season_win_pct</th>\n",
       "      <th>season_win_pct</th>\n",
       "      <th>opponent_season_win_pct</th>\n",
       "      <th>season_ppg</th>\n",
       "      <th>...</th>\n",
       "      <th>vs_tourney_team_allowed_offensive_rebound_percent_std</th>\n",
       "      <th>opponent_vs_tourney_team_allowed_offensive_rebound_percent_std</th>\n",
       "      <th>season_allowed_free_throw_rate</th>\n",
       "      <th>opponent_season_allowed_free_throw_rate</th>\n",
       "      <th>season_allowed_free_throw_rate_std</th>\n",
       "      <th>opponent_season_allowed_free_throw_rate_std</th>\n",
       "      <th>vs_tourney_team_allowed_free_throw_rate</th>\n",
       "      <th>opponent_vs_tourney_team_allowed_free_throw_rate</th>\n",
       "      <th>vs_tourney_team_allowed_free_throw_rate_std</th>\n",
       "      <th>opponent_vs_tourney_team_allowed_free_throw_rate_std</th>\n",
       "    </tr>\n",
       "  </thead>\n",
       "  <tbody>\n",
       "    <tr>\n",
       "      <th>0</th>\n",
       "      <td>3/17/23</td>\n",
       "      <td>2023</td>\n",
       "      <td>Arizona St.</td>\n",
       "      <td>TCU</td>\n",
       "      <td>L</td>\n",
       "      <td>0.645161</td>\n",
       "      <td>0.645161</td>\n",
       "      <td>0.647059</td>\n",
       "      <td>0.636364</td>\n",
       "      <td>70.323529</td>\n",
       "      <td>...</td>\n",
       "      <td>9.837169</td>\n",
       "      <td>7.243569</td>\n",
       "      <td>34.017647</td>\n",
       "      <td>30.539394</td>\n",
       "      <td>13.112554</td>\n",
       "      <td>11.704725</td>\n",
       "      <td>41.128571</td>\n",
       "      <td>31.342105</td>\n",
       "      <td>13.387217</td>\n",
       "      <td>12.412866</td>\n",
       "    </tr>\n",
       "    <tr>\n",
       "      <th>1</th>\n",
       "      <td>3/17/23</td>\n",
       "      <td>2023</td>\n",
       "      <td>TCU</td>\n",
       "      <td>Arizona St.</td>\n",
       "      <td>W</td>\n",
       "      <td>0.645161</td>\n",
       "      <td>0.645161</td>\n",
       "      <td>0.636364</td>\n",
       "      <td>0.647059</td>\n",
       "      <td>75.181818</td>\n",
       "      <td>...</td>\n",
       "      <td>7.243569</td>\n",
       "      <td>9.837169</td>\n",
       "      <td>30.539394</td>\n",
       "      <td>34.017647</td>\n",
       "      <td>11.704725</td>\n",
       "      <td>13.112554</td>\n",
       "      <td>31.342105</td>\n",
       "      <td>41.128571</td>\n",
       "      <td>12.412866</td>\n",
       "      <td>13.387217</td>\n",
       "    </tr>\n",
       "    <tr>\n",
       "      <th>2</th>\n",
       "      <td>3/23/23</td>\n",
       "      <td>2023</td>\n",
       "      <td>Arkansas</td>\n",
       "      <td>Connecticut</td>\n",
       "      <td>L</td>\n",
       "      <td>0.612903</td>\n",
       "      <td>0.774194</td>\n",
       "      <td>0.606061</td>\n",
       "      <td>0.757576</td>\n",
       "      <td>74.424242</td>\n",
       "      <td>...</td>\n",
       "      <td>10.429204</td>\n",
       "      <td>8.318787</td>\n",
       "      <td>39.651515</td>\n",
       "      <td>38.945455</td>\n",
       "      <td>15.859976</td>\n",
       "      <td>12.471620</td>\n",
       "      <td>44.409524</td>\n",
       "      <td>36.088889</td>\n",
       "      <td>14.042824</td>\n",
       "      <td>12.828089</td>\n",
       "    </tr>\n",
       "    <tr>\n",
       "      <th>3</th>\n",
       "      <td>3/23/23</td>\n",
       "      <td>2023</td>\n",
       "      <td>Connecticut</td>\n",
       "      <td>Arkansas</td>\n",
       "      <td>W</td>\n",
       "      <td>0.774194</td>\n",
       "      <td>0.612903</td>\n",
       "      <td>0.757576</td>\n",
       "      <td>0.606061</td>\n",
       "      <td>78.454545</td>\n",
       "      <td>...</td>\n",
       "      <td>8.318787</td>\n",
       "      <td>10.429204</td>\n",
       "      <td>38.945455</td>\n",
       "      <td>39.651515</td>\n",
       "      <td>12.471620</td>\n",
       "      <td>15.859976</td>\n",
       "      <td>36.088889</td>\n",
       "      <td>44.409524</td>\n",
       "      <td>12.828089</td>\n",
       "      <td>14.042824</td>\n",
       "    </tr>\n",
       "    <tr>\n",
       "      <th>4</th>\n",
       "      <td>3/18/23</td>\n",
       "      <td>2023</td>\n",
       "      <td>Arkansas</td>\n",
       "      <td>Kansas</td>\n",
       "      <td>W</td>\n",
       "      <td>0.612903</td>\n",
       "      <td>0.806452</td>\n",
       "      <td>0.606061</td>\n",
       "      <td>0.794118</td>\n",
       "      <td>74.424242</td>\n",
       "      <td>...</td>\n",
       "      <td>10.429204</td>\n",
       "      <td>9.762604</td>\n",
       "      <td>39.651515</td>\n",
       "      <td>31.544118</td>\n",
       "      <td>15.859976</td>\n",
       "      <td>13.034946</td>\n",
       "      <td>44.409524</td>\n",
       "      <td>31.234615</td>\n",
       "      <td>14.042824</td>\n",
       "      <td>12.978380</td>\n",
       "    </tr>\n",
       "    <tr>\n",
       "      <th>...</th>\n",
       "      <td>...</td>\n",
       "      <td>...</td>\n",
       "      <td>...</td>\n",
       "      <td>...</td>\n",
       "      <td>...</td>\n",
       "      <td>...</td>\n",
       "      <td>...</td>\n",
       "      <td>...</td>\n",
       "      <td>...</td>\n",
       "      <td>...</td>\n",
       "      <td>...</td>\n",
       "      <td>...</td>\n",
       "      <td>...</td>\n",
       "      <td>...</td>\n",
       "      <td>...</td>\n",
       "      <td>...</td>\n",
       "      <td>...</td>\n",
       "      <td>...</td>\n",
       "      <td>...</td>\n",
       "      <td>...</td>\n",
       "      <td>...</td>\n",
       "    </tr>\n",
       "    <tr>\n",
       "      <th>1237</th>\n",
       "      <td>3/19/15</td>\n",
       "      <td>2015</td>\n",
       "      <td>Wofford</td>\n",
       "      <td>Arkansas</td>\n",
       "      <td>L</td>\n",
       "      <td>0.793103</td>\n",
       "      <td>0.774194</td>\n",
       "      <td>0.812500</td>\n",
       "      <td>0.764706</td>\n",
       "      <td>65.875000</td>\n",
       "      <td>...</td>\n",
       "      <td>12.114537</td>\n",
       "      <td>11.733490</td>\n",
       "      <td>38.153125</td>\n",
       "      <td>39.347059</td>\n",
       "      <td>18.369768</td>\n",
       "      <td>15.406261</td>\n",
       "      <td>40.980000</td>\n",
       "      <td>44.550000</td>\n",
       "      <td>9.949724</td>\n",
       "      <td>16.126889</td>\n",
       "    </tr>\n",
       "    <tr>\n",
       "      <th>1238</th>\n",
       "      <td>3/20/15</td>\n",
       "      <td>2015</td>\n",
       "      <td>Northern Iowa</td>\n",
       "      <td>Wyoming</td>\n",
       "      <td>W</td>\n",
       "      <td>0.900000</td>\n",
       "      <td>0.689655</td>\n",
       "      <td>0.909091</td>\n",
       "      <td>0.718750</td>\n",
       "      <td>65.363636</td>\n",
       "      <td>...</td>\n",
       "      <td>8.244491</td>\n",
       "      <td>5.935992</td>\n",
       "      <td>26.939394</td>\n",
       "      <td>26.956250</td>\n",
       "      <td>12.266034</td>\n",
       "      <td>11.951216</td>\n",
       "      <td>32.672727</td>\n",
       "      <td>36.316667</td>\n",
       "      <td>10.988639</td>\n",
       "      <td>14.345092</td>\n",
       "    </tr>\n",
       "    <tr>\n",
       "      <th>1239</th>\n",
       "      <td>3/20/15</td>\n",
       "      <td>2015</td>\n",
       "      <td>Wyoming</td>\n",
       "      <td>Northern Iowa</td>\n",
       "      <td>L</td>\n",
       "      <td>0.689655</td>\n",
       "      <td>0.900000</td>\n",
       "      <td>0.718750</td>\n",
       "      <td>0.909091</td>\n",
       "      <td>61.437500</td>\n",
       "      <td>...</td>\n",
       "      <td>5.935992</td>\n",
       "      <td>8.244491</td>\n",
       "      <td>26.956250</td>\n",
       "      <td>26.939394</td>\n",
       "      <td>11.951216</td>\n",
       "      <td>12.266034</td>\n",
       "      <td>36.316667</td>\n",
       "      <td>32.672727</td>\n",
       "      <td>14.345092</td>\n",
       "      <td>10.988639</td>\n",
       "    </tr>\n",
       "    <tr>\n",
       "      <th>1240</th>\n",
       "      <td>3/26/15</td>\n",
       "      <td>2015</td>\n",
       "      <td>Arizona</td>\n",
       "      <td>Xavier</td>\n",
       "      <td>W</td>\n",
       "      <td>0.903226</td>\n",
       "      <td>0.612903</td>\n",
       "      <td>0.911765</td>\n",
       "      <td>0.617647</td>\n",
       "      <td>76.441176</td>\n",
       "      <td>...</td>\n",
       "      <td>8.705554</td>\n",
       "      <td>7.500967</td>\n",
       "      <td>36.726471</td>\n",
       "      <td>35.208824</td>\n",
       "      <td>14.133054</td>\n",
       "      <td>16.421777</td>\n",
       "      <td>41.068750</td>\n",
       "      <td>34.765000</td>\n",
       "      <td>14.598206</td>\n",
       "      <td>17.383182</td>\n",
       "    </tr>\n",
       "    <tr>\n",
       "      <th>1241</th>\n",
       "      <td>3/26/15</td>\n",
       "      <td>2015</td>\n",
       "      <td>Xavier</td>\n",
       "      <td>Arizona</td>\n",
       "      <td>L</td>\n",
       "      <td>0.612903</td>\n",
       "      <td>0.903226</td>\n",
       "      <td>0.617647</td>\n",
       "      <td>0.911765</td>\n",
       "      <td>73.558824</td>\n",
       "      <td>...</td>\n",
       "      <td>7.500967</td>\n",
       "      <td>8.705554</td>\n",
       "      <td>35.208824</td>\n",
       "      <td>36.726471</td>\n",
       "      <td>16.421777</td>\n",
       "      <td>14.133054</td>\n",
       "      <td>34.765000</td>\n",
       "      <td>41.068750</td>\n",
       "      <td>17.383182</td>\n",
       "      <td>14.598206</td>\n",
       "    </tr>\n",
       "  </tbody>\n",
       "</table>\n",
       "<p>1242 rows × 120 columns</p>\n",
       "</div>"
      ],
      "text/plain": [
       "         date  season           team       opponent Win_Loss  \\\n",
       "0     3/17/23    2023    Arizona St.            TCU        L   \n",
       "1     3/17/23    2023            TCU    Arizona St.        W   \n",
       "2     3/23/23    2023       Arkansas    Connecticut        L   \n",
       "3     3/23/23    2023    Connecticut       Arkansas        W   \n",
       "4     3/18/23    2023       Arkansas         Kansas        W   \n",
       "...       ...     ...            ...            ...      ...   \n",
       "1237  3/19/15    2015        Wofford       Arkansas        L   \n",
       "1238  3/20/15    2015  Northern Iowa        Wyoming        W   \n",
       "1239  3/20/15    2015        Wyoming  Northern Iowa        L   \n",
       "1240  3/26/15    2015        Arizona         Xavier        W   \n",
       "1241  3/26/15    2015         Xavier        Arizona        L   \n",
       "\n",
       "      regular_season_win_pct  opponent_regular_season_win_pct  season_win_pct  \\\n",
       "0                   0.645161                         0.645161        0.647059   \n",
       "1                   0.645161                         0.645161        0.636364   \n",
       "2                   0.612903                         0.774194        0.606061   \n",
       "3                   0.774194                         0.612903        0.757576   \n",
       "4                   0.612903                         0.806452        0.606061   \n",
       "...                      ...                              ...             ...   \n",
       "1237                0.793103                         0.774194        0.812500   \n",
       "1238                0.900000                         0.689655        0.909091   \n",
       "1239                0.689655                         0.900000        0.718750   \n",
       "1240                0.903226                         0.612903        0.911765   \n",
       "1241                0.612903                         0.903226        0.617647   \n",
       "\n",
       "      opponent_season_win_pct  season_ppg  ...  \\\n",
       "0                    0.636364   70.323529  ...   \n",
       "1                    0.647059   75.181818  ...   \n",
       "2                    0.757576   74.424242  ...   \n",
       "3                    0.606061   78.454545  ...   \n",
       "4                    0.794118   74.424242  ...   \n",
       "...                       ...         ...  ...   \n",
       "1237                 0.764706   65.875000  ...   \n",
       "1238                 0.718750   65.363636  ...   \n",
       "1239                 0.909091   61.437500  ...   \n",
       "1240                 0.617647   76.441176  ...   \n",
       "1241                 0.911765   73.558824  ...   \n",
       "\n",
       "      vs_tourney_team_allowed_offensive_rebound_percent_std  \\\n",
       "0                                              9.837169       \n",
       "1                                              7.243569       \n",
       "2                                             10.429204       \n",
       "3                                              8.318787       \n",
       "4                                             10.429204       \n",
       "...                                                 ...       \n",
       "1237                                          12.114537       \n",
       "1238                                           8.244491       \n",
       "1239                                           5.935992       \n",
       "1240                                           8.705554       \n",
       "1241                                           7.500967       \n",
       "\n",
       "      opponent_vs_tourney_team_allowed_offensive_rebound_percent_std  \\\n",
       "0                                              7.243569                \n",
       "1                                              9.837169                \n",
       "2                                              8.318787                \n",
       "3                                             10.429204                \n",
       "4                                              9.762604                \n",
       "...                                                 ...                \n",
       "1237                                          11.733490                \n",
       "1238                                           5.935992                \n",
       "1239                                           8.244491                \n",
       "1240                                           7.500967                \n",
       "1241                                           8.705554                \n",
       "\n",
       "      season_allowed_free_throw_rate  opponent_season_allowed_free_throw_rate  \\\n",
       "0                          34.017647                                30.539394   \n",
       "1                          30.539394                                34.017647   \n",
       "2                          39.651515                                38.945455   \n",
       "3                          38.945455                                39.651515   \n",
       "4                          39.651515                                31.544118   \n",
       "...                              ...                                      ...   \n",
       "1237                       38.153125                                39.347059   \n",
       "1238                       26.939394                                26.956250   \n",
       "1239                       26.956250                                26.939394   \n",
       "1240                       36.726471                                35.208824   \n",
       "1241                       35.208824                                36.726471   \n",
       "\n",
       "      season_allowed_free_throw_rate_std  \\\n",
       "0                              13.112554   \n",
       "1                              11.704725   \n",
       "2                              15.859976   \n",
       "3                              12.471620   \n",
       "4                              15.859976   \n",
       "...                                  ...   \n",
       "1237                           18.369768   \n",
       "1238                           12.266034   \n",
       "1239                           11.951216   \n",
       "1240                           14.133054   \n",
       "1241                           16.421777   \n",
       "\n",
       "      opponent_season_allowed_free_throw_rate_std  \\\n",
       "0                                       11.704725   \n",
       "1                                       13.112554   \n",
       "2                                       12.471620   \n",
       "3                                       15.859976   \n",
       "4                                       13.034946   \n",
       "...                                           ...   \n",
       "1237                                    15.406261   \n",
       "1238                                    11.951216   \n",
       "1239                                    12.266034   \n",
       "1240                                    16.421777   \n",
       "1241                                    14.133054   \n",
       "\n",
       "      vs_tourney_team_allowed_free_throw_rate  \\\n",
       "0                                   41.128571   \n",
       "1                                   31.342105   \n",
       "2                                   44.409524   \n",
       "3                                   36.088889   \n",
       "4                                   44.409524   \n",
       "...                                       ...   \n",
       "1237                                40.980000   \n",
       "1238                                32.672727   \n",
       "1239                                36.316667   \n",
       "1240                                41.068750   \n",
       "1241                                34.765000   \n",
       "\n",
       "      opponent_vs_tourney_team_allowed_free_throw_rate  \\\n",
       "0                                            31.342105   \n",
       "1                                            41.128571   \n",
       "2                                            36.088889   \n",
       "3                                            44.409524   \n",
       "4                                            31.234615   \n",
       "...                                                ...   \n",
       "1237                                         44.550000   \n",
       "1238                                         36.316667   \n",
       "1239                                         32.672727   \n",
       "1240                                         34.765000   \n",
       "1241                                         41.068750   \n",
       "\n",
       "      vs_tourney_team_allowed_free_throw_rate_std  \\\n",
       "0                                       13.387217   \n",
       "1                                       12.412866   \n",
       "2                                       14.042824   \n",
       "3                                       12.828089   \n",
       "4                                       14.042824   \n",
       "...                                           ...   \n",
       "1237                                     9.949724   \n",
       "1238                                    10.988639   \n",
       "1239                                    14.345092   \n",
       "1240                                    14.598206   \n",
       "1241                                    17.383182   \n",
       "\n",
       "      opponent_vs_tourney_team_allowed_free_throw_rate_std  \n",
       "0                                             12.412866     \n",
       "1                                             13.387217     \n",
       "2                                             12.828089     \n",
       "3                                             14.042824     \n",
       "4                                             12.978380     \n",
       "...                                                 ...     \n",
       "1237                                          16.126889     \n",
       "1238                                          14.345092     \n",
       "1239                                          10.988639     \n",
       "1240                                          17.383182     \n",
       "1241                                          14.598206     \n",
       "\n",
       "[1242 rows x 120 columns]"
      ]
     },
     "execution_count": 340,
     "metadata": {},
     "output_type": "execute_result"
    }
   ],
   "source": [
    "tourney_games"
   ]
  },
  {
   "cell_type": "code",
   "execution_count": 341,
   "metadata": {},
   "outputs": [
    {
     "data": {
      "text/plain": [
       "154"
      ]
     },
     "execution_count": 341,
     "metadata": {},
     "output_type": "execute_result"
    }
   ],
   "source": [
    "tourney_games.to_sql('tourney_games_v6', conn, if_exists='replace', index=False, schema='sports_data')"
   ]
  },
  {
   "cell_type": "code",
   "execution_count": 199,
   "metadata": {},
   "outputs": [],
   "source": [
    "conn.commit()"
   ]
  },
  {
   "cell_type": "code",
   "execution_count": null,
   "metadata": {},
   "outputs": [],
   "source": []
  }
 ],
 "metadata": {
  "kernelspec": {
   "display_name": ".venv",
   "language": "python",
   "name": "python3"
  },
  "language_info": {
   "codemirror_mode": {
    "name": "ipython",
    "version": 3
   },
   "file_extension": ".py",
   "mimetype": "text/x-python",
   "name": "python",
   "nbconvert_exporter": "python",
   "pygments_lexer": "ipython3",
   "version": "3.10.6"
  },
  "orig_nbformat": 4
 },
 "nbformat": 4,
 "nbformat_minor": 2
}
