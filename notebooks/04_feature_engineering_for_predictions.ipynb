{
 "cells": [
  {
   "cell_type": "markdown",
   "metadata": {},
   "source": [
    "# Fields for tournament games\n",
    "\n",
    "# Informational fields:\n",
    "* date\n",
    "* season\n",
    "* team\n",
    "* opponent\n",
    "* win/loss\n",
    "\n",
    "# Predictor fields\n",
    "* regular_season_win_pct - just conference and non-conference games\n",
    "* opponent_regular_season_win_pct\n",
    "* season_win_pct - includes conference tourney games\n",
    "* opponent_season_win_pct\n",
    "* season_ppg - includes conference tourney games\n",
    "* opponent_season_ppg\n",
    "* season_ppg_allowed - includes conference tourney games\n",
    "* opponent_season_ppg_allowed\n",
    "* last_10_games_win_pct - includes conference tourney games\n",
    "* opponent_last_10_games_win_pct\n",
    "* last_5_games_win_pct - includes conference tourney games\n",
    "* opponent_last_5_games_win_pct\n",
    "* vs_tourney_team_win_pct - includes conference tourney games\n",
    "* opponent_vs_tourney_team_win_pct\n",
    "* games_played_vs_tourney_teams - includes conference tourney games\n",
    "* opponent_games_played_vs_tourney_teams\n",
    "* season_adj_offense - includes conference tourney games\n",
    "* opponent_season_adj_offense\n",
    "* vs_tourney_team_adj_offense - includes conference tourney games\n",
    "* opponent_vs_tourney_team_adj_offense\n",
    "* season_adj_defense - includes conference tourney games\n",
    "* opponent_season_adj_defense\n",
    "* vs_tourney_team_adj_defense - includes conference tourney games\n",
    "* opponent_vs_tourney_team_adj_defense\n",
    "* season_offensive_efficiency - includes conference tourney games\n",
    "* opponent_season_offensive_efficiency\n",
    "* vs_tourney_team_offensive_efficiency - includes conference tourney games\n",
    "* opponent_vs_tourney_team_offensive_efficiency\n",
    "* season_effective_field_goal_pct - includes conference tourney games\n",
    "* opponent_season_effective_field_goal_pct\n",
    "* vs_tourney_team_effective_field_goal_pct - includes conference tourney games\n",
    "* opponent_vs_tourney_team_effective_field_goal_pct\n",
    "* season_turnover_pct - includes conference tourney games\n",
    "* opponent_season_turnover_pct\n",
    "* vs_tourney_team_turnover_pct - includes conference tourney games\n",
    "* opponent_vs_tourney_team_turnover_pct\n",
    "* season_off_reb_pct - includes conference tourney games\n",
    "* opponent_season_off_reb_pct\n",
    "* vs_tourney_team_off_reb_pct - includes conference tourney games\n",
    "* opponent_vs_tourney_team_off_reb_pct\n",
    "* season_ft_rate - includes conference tourney games\n",
    "* opponent_season_ft_rate\n",
    "* vs_tourney_team_ft_rate - includes conference tourney games\n",
    "* opponent_vs_tourney_team_ft_rate\n",
    "* season_allowed_offensive_efficiency - includes conference tourney games\n",
    "* opponent_season_allowed_offensive_efficiency\n",
    "* vs_tourney_team_allowed_offensive_efficiency - includes conference tourney games\n",
    "* opponent_vs_tourney_team_allowed_offensive_efficiency\n",
    "* season_allowed_effective_field_goal_pct - includes conference tourney games\n",
    "* opponent_season_allowed_effective_field_goal_pct\n",
    "* vs_tourney_team_allowed_effective_field_goal_pct - includes conference tourney games\n",
    "* opponent_vs_tourney_team_allowed_effective_field_goal_pct\n",
    "* season_allowed_turnover_pct - includes conference tourney games\n",
    "* opponent_season_allowed_turnover_pct\n",
    "* vs_tourney_team_allowed_turnover_pct - includes conference tourney games\n",
    "* opponent_vs_tourney_team_allowed_turnover_pct\n",
    "* season_allowed_off_reb_pct - includes conference tourney games\n",
    "* opponent_season_allowed_off_reb_pct\n",
    "* vs_tourney_team_allowed_off_reb_pct - includes conference tourney games\n",
    "* opponent_vs_tourney_team_allowed_off_reb_pct\n",
    "* season_allowed_ft_rate - includes conference tourney games\n",
    "* opponent_season_allowed_ft_rate\n",
    "* vs_tourney_team_allowed_ft_rate - includes conference tourney games\n",
    "* opponent_vs_tourney_team_allowed_ft_rate\n",
    "* season_allowed_adj_offense - includes conference tourney games\n",
    "* opponent_season_allowed_adj_offense\n",
    "* vs_tourney_team_allowed_adj_offense - includes conference tourney games\n",
    "* opponent_vs_tourney_team_allowed_adj_offense\n",
    "* season_allowed_adj_defense - includes conference tourney games\n",
    "* opponent_season_allowed_adj_defense\n",
    "* vs_tourney_team_allowed_adj_defense - includes conference tourney games\n",
    "* opponent_vs_tourney_team_allowed_adj_defense"
   ]
  },
  {
   "cell_type": "code",
   "execution_count": 211,
   "metadata": {},
   "outputs": [],
   "source": [
    "import os\n",
    "import pandas as pd\n",
    "import sqlalchemy\n",
    "import sklearn\n",
    "from dotenv import load_dotenv, find_dotenv\n",
    "_ = load_dotenv(find_dotenv())\n",
    "\n",
    "connection_string = os.getenv(\"LINODE_CONN_STRING\")\n",
    "connection_string = os.getenv(\"LINODE_CONN_STRING\")\n",
    "conn = sqlalchemy.create_engine(os.getenv(\"LINODE_CONN_STRING\")).connect()"
   ]
  },
  {
   "cell_type": "code",
   "execution_count": 212,
   "metadata": {},
   "outputs": [],
   "source": [
    "all_games = pd.read_sql(\"select * from sports_data.game_stats_v3 where season='2024'\", conn)"
   ]
  },
  {
   "cell_type": "code",
   "execution_count": 213,
   "metadata": {},
   "outputs": [],
   "source": [
    "march_madness_teams = [\n",
    "    'Connecticut',\n",
    "    'Stetson',\n",
    "    'Florida Atlantic',\n",
    "    'Northwestern',\n",
    "    'San Diego St.',\n",
    "    'UAB',\n",
    "    'Auburn',\n",
    "    'Yale',\n",
    "    'BYU',\n",
    "    'Duquesne',\n",
    "    'Illinois',\n",
    "    'Morehead St.',\n",
    "    'Washington St.',\n",
    "    'Drake',\n",
    "    'Iowa St.',\n",
    "    'South Dakota St.',\n",
    "    'North Carolina',\n",
    "    'Howard',\n",
    "    'Wagner',\n",
    "    'Mississippi St.',\n",
    "    'Michigan St.',\n",
    "    \"Saint Mary's\",\n",
    "    'Grand Canyon',\n",
    "    'Alabama',\n",
    "    'College of Charleston',\n",
    "    'Clemson',\n",
    "    'New Mexico',\n",
    "    'Baylor',\n",
    "    'Colgate',\n",
    "    'Dayton',\n",
    "    'Nevada',\n",
    "    'Arizona',\n",
    "    'Long Beach St.',\n",
    "    'Houston',\n",
    "    'Longwood',\n",
    "    'Nebraska',\n",
    "    'Texas A&M',\n",
    "    'Wisconsin',\n",
    "    'James Madison',\n",
    "    'Duke',\n",
    "    'Vermont',\n",
    "    'Texas Tech',\n",
    "    'North Carolina St.',\n",
    "    'Kentucky',\n",
    "    \"Oakland\",\n",
    "    'Florida',\n",
    "    'Boise St.',\n",
    "    'Colorado',\n",
    "    'Marquette',\n",
    "    'Western Kentucky',\n",
    "    'Purdue',\n",
    "    'Montana St.',\n",
    "    'Grambling St.',\n",
    "    'Utah St.',\n",
    "    'TCU',\n",
    "    'Gonzaga',\n",
    "    'McNeese St.',\n",
    "    'Kansas',\n",
    "    'Samford',\n",
    "    'South Carolina',\n",
    "    'Oregon',\n",
    "    'Creighton',\n",
    "    'Akron',\n",
    "    'Texas',\n",
    "    'Virginia',\n",
    "    'Colorado St.',\n",
    "    'Tennessee',\n",
    "    \"Saint Peter's\"\n",
    "]"
   ]
  },
  {
   "cell_type": "code",
   "execution_count": 214,
   "metadata": {},
   "outputs": [],
   "source": [
    "import itertools\n",
    "teams = all_games['team'].unique()\n",
    "df = pd.DataFrame(list(itertools.product(march_madness_teams,march_madness_teams)),columns=['team','opponent'])"
   ]
  },
  {
   "cell_type": "code",
   "execution_count": 215,
   "metadata": {},
   "outputs": [],
   "source": [
    "df = df[df['team']!=df['opponent']] "
   ]
  },
  {
   "cell_type": "code",
   "execution_count": 216,
   "metadata": {},
   "outputs": [
    {
     "data": {
      "text/html": [
       "<div>\n",
       "<style scoped>\n",
       "    .dataframe tbody tr th:only-of-type {\n",
       "        vertical-align: middle;\n",
       "    }\n",
       "\n",
       "    .dataframe tbody tr th {\n",
       "        vertical-align: top;\n",
       "    }\n",
       "\n",
       "    .dataframe thead th {\n",
       "        text-align: right;\n",
       "    }\n",
       "</style>\n",
       "<table border=\"1\" class=\"dataframe\">\n",
       "  <thead>\n",
       "    <tr style=\"text-align: right;\">\n",
       "      <th></th>\n",
       "      <th>team</th>\n",
       "      <th>opponent</th>\n",
       "    </tr>\n",
       "  </thead>\n",
       "  <tbody>\n",
       "    <tr>\n",
       "      <th>1</th>\n",
       "      <td>Connecticut</td>\n",
       "      <td>Stetson</td>\n",
       "    </tr>\n",
       "    <tr>\n",
       "      <th>2</th>\n",
       "      <td>Connecticut</td>\n",
       "      <td>Florida Atlantic</td>\n",
       "    </tr>\n",
       "    <tr>\n",
       "      <th>3</th>\n",
       "      <td>Connecticut</td>\n",
       "      <td>Northwestern</td>\n",
       "    </tr>\n",
       "    <tr>\n",
       "      <th>4</th>\n",
       "      <td>Connecticut</td>\n",
       "      <td>San Diego St.</td>\n",
       "    </tr>\n",
       "    <tr>\n",
       "      <th>5</th>\n",
       "      <td>Connecticut</td>\n",
       "      <td>UAB</td>\n",
       "    </tr>\n",
       "    <tr>\n",
       "      <th>...</th>\n",
       "      <td>...</td>\n",
       "      <td>...</td>\n",
       "    </tr>\n",
       "    <tr>\n",
       "      <th>4618</th>\n",
       "      <td>Saint Peter's</td>\n",
       "      <td>Akron</td>\n",
       "    </tr>\n",
       "    <tr>\n",
       "      <th>4619</th>\n",
       "      <td>Saint Peter's</td>\n",
       "      <td>Texas</td>\n",
       "    </tr>\n",
       "    <tr>\n",
       "      <th>4620</th>\n",
       "      <td>Saint Peter's</td>\n",
       "      <td>Virginia</td>\n",
       "    </tr>\n",
       "    <tr>\n",
       "      <th>4621</th>\n",
       "      <td>Saint Peter's</td>\n",
       "      <td>Colorado St.</td>\n",
       "    </tr>\n",
       "    <tr>\n",
       "      <th>4622</th>\n",
       "      <td>Saint Peter's</td>\n",
       "      <td>Tennessee</td>\n",
       "    </tr>\n",
       "  </tbody>\n",
       "</table>\n",
       "<p>4556 rows × 2 columns</p>\n",
       "</div>"
      ],
      "text/plain": [
       "               team          opponent\n",
       "1       Connecticut           Stetson\n",
       "2       Connecticut  Florida Atlantic\n",
       "3       Connecticut      Northwestern\n",
       "4       Connecticut     San Diego St.\n",
       "5       Connecticut               UAB\n",
       "...             ...               ...\n",
       "4618  Saint Peter's             Akron\n",
       "4619  Saint Peter's             Texas\n",
       "4620  Saint Peter's          Virginia\n",
       "4621  Saint Peter's      Colorado St.\n",
       "4622  Saint Peter's         Tennessee\n",
       "\n",
       "[4556 rows x 2 columns]"
      ]
     },
     "execution_count": 216,
     "metadata": {},
     "output_type": "execute_result"
    }
   ],
   "source": [
    "df"
   ]
  },
  {
   "cell_type": "code",
   "execution_count": 217,
   "metadata": {},
   "outputs": [],
   "source": [
    "tourney_games = df\n",
    "tourney_games['season'] = 2024\n",
    "tourney_games['date'] = '2024-04-20'\n",
    "tourney_games['Win_Loss'] = 'UNK'"
   ]
  },
  {
   "cell_type": "code",
   "execution_count": 218,
   "metadata": {},
   "outputs": [],
   "source": [
    "tourney_games = tourney_games[['date', 'season', 'team', 'opponent', 'Win_Loss']]"
   ]
  },
  {
   "cell_type": "code",
   "execution_count": 219,
   "metadata": {},
   "outputs": [
    {
     "data": {
      "text/plain": [
       "array(['Conference', 'Non-Conference', 'Conference Tourney'], dtype=object)"
      ]
     },
     "execution_count": 219,
     "metadata": {},
     "output_type": "execute_result"
    }
   ],
   "source": [
    "all_games['game_type'].unique()"
   ]
  },
  {
   "cell_type": "code",
   "execution_count": 220,
   "metadata": {},
   "outputs": [],
   "source": [
    "regular_season_games = all_games[all_games[\"game_type\"].isin(['Non-Conference', 'Conference'])]\n",
    "pre_tourney_games = all_games[all_games[\"game_type\"].isin(['Non-Conference', 'Conference', 'Conference Tourney'])]\n",
    "last_5_non_tourney = all_games[all_games['game_type'] != 'Post-Season Tourney'].sort_values('date').groupby(['team', 'season']).tail(5).sort_values(['team', 'season', 'date'])\n",
    "last_10_non_tourney = all_games[all_games['game_type'] != 'Post-Season Tourney'].sort_values('date').groupby(['team', 'season']).tail(10).sort_values(['team', 'season', 'date'])\n",
    "all_games['opp_season'] = all_games.apply(lambda x: f\"{x['opponent']}_{x['season']}\", axis=1)\n",
    "tourney_teams = tourney_games.apply(lambda x: f\"{x['team']}_{x['season']}\", axis=1).unique()\n",
    "games_vs_tourney_teams = all_games[all_games['opp_season'].isin(tourney_teams)]"
   ]
  },
  {
   "cell_type": "code",
   "execution_count": 221,
   "metadata": {},
   "outputs": [],
   "source": [
    "working = regular_season_games.groupby(['team', 'season','Win_Loss'], as_index=False).size()\n",
    "working = working.pivot_table(index=['team', 'season'], columns='Win_Loss', values='size', fill_value=0).reset_index()[['team', 'season', 'L', 'W']]\n",
    "working['regular_season_win_pct'] = working['W'] / (working['W'] + working['L'])\n",
    "regular_season_win_pct = working[['team', 'season', 'regular_season_win_pct']]"
   ]
  },
  {
   "cell_type": "code",
   "execution_count": 222,
   "metadata": {},
   "outputs": [],
   "source": [
    "tourney_games = tourney_games.merge(regular_season_win_pct, on=['team', 'season'], how='left')"
   ]
  },
  {
   "cell_type": "code",
   "execution_count": 223,
   "metadata": {},
   "outputs": [
    {
     "name": "stderr",
     "output_type": "stream",
     "text": [
      "C:\\Users\\amarl\\AppData\\Local\\Temp\\ipykernel_28816\\1859462520.py:1: SettingWithCopyWarning: \n",
      "A value is trying to be set on a copy of a slice from a DataFrame\n",
      "\n",
      "See the caveats in the documentation: https://pandas.pydata.org/pandas-docs/stable/user_guide/indexing.html#returning-a-view-versus-a-copy\n",
      "  regular_season_win_pct.rename(columns={'regular_season_win_pct': 'opponent_regular_season_win_pct', 'team':'opponent'}, inplace=True)\n"
     ]
    }
   ],
   "source": [
    "regular_season_win_pct.rename(columns={'regular_season_win_pct': 'opponent_regular_season_win_pct', 'team':'opponent'}, inplace=True)"
   ]
  },
  {
   "cell_type": "code",
   "execution_count": 224,
   "metadata": {},
   "outputs": [
    {
     "data": {
      "text/html": [
       "<div>\n",
       "<style scoped>\n",
       "    .dataframe tbody tr th:only-of-type {\n",
       "        vertical-align: middle;\n",
       "    }\n",
       "\n",
       "    .dataframe tbody tr th {\n",
       "        vertical-align: top;\n",
       "    }\n",
       "\n",
       "    .dataframe thead th {\n",
       "        text-align: right;\n",
       "    }\n",
       "</style>\n",
       "<table border=\"1\" class=\"dataframe\">\n",
       "  <thead>\n",
       "    <tr style=\"text-align: right;\">\n",
       "      <th></th>\n",
       "      <th>date</th>\n",
       "      <th>season</th>\n",
       "      <th>team</th>\n",
       "      <th>opponent</th>\n",
       "      <th>Win_Loss</th>\n",
       "      <th>regular_season_win_pct</th>\n",
       "    </tr>\n",
       "  </thead>\n",
       "  <tbody>\n",
       "    <tr>\n",
       "      <th>0</th>\n",
       "      <td>2024-04-20</td>\n",
       "      <td>2024</td>\n",
       "      <td>Connecticut</td>\n",
       "      <td>Stetson</td>\n",
       "      <td>UNK</td>\n",
       "      <td>0.903226</td>\n",
       "    </tr>\n",
       "    <tr>\n",
       "      <th>1</th>\n",
       "      <td>2024-04-20</td>\n",
       "      <td>2024</td>\n",
       "      <td>Connecticut</td>\n",
       "      <td>Florida Atlantic</td>\n",
       "      <td>UNK</td>\n",
       "      <td>0.903226</td>\n",
       "    </tr>\n",
       "    <tr>\n",
       "      <th>2</th>\n",
       "      <td>2024-04-20</td>\n",
       "      <td>2024</td>\n",
       "      <td>Connecticut</td>\n",
       "      <td>Northwestern</td>\n",
       "      <td>UNK</td>\n",
       "      <td>0.903226</td>\n",
       "    </tr>\n",
       "    <tr>\n",
       "      <th>3</th>\n",
       "      <td>2024-04-20</td>\n",
       "      <td>2024</td>\n",
       "      <td>Connecticut</td>\n",
       "      <td>San Diego St.</td>\n",
       "      <td>UNK</td>\n",
       "      <td>0.903226</td>\n",
       "    </tr>\n",
       "    <tr>\n",
       "      <th>4</th>\n",
       "      <td>2024-04-20</td>\n",
       "      <td>2024</td>\n",
       "      <td>Connecticut</td>\n",
       "      <td>UAB</td>\n",
       "      <td>UNK</td>\n",
       "      <td>0.903226</td>\n",
       "    </tr>\n",
       "    <tr>\n",
       "      <th>...</th>\n",
       "      <td>...</td>\n",
       "      <td>...</td>\n",
       "      <td>...</td>\n",
       "      <td>...</td>\n",
       "      <td>...</td>\n",
       "      <td>...</td>\n",
       "    </tr>\n",
       "    <tr>\n",
       "      <th>4551</th>\n",
       "      <td>2024-04-20</td>\n",
       "      <td>2024</td>\n",
       "      <td>Saint Peter's</td>\n",
       "      <td>Akron</td>\n",
       "      <td>UNK</td>\n",
       "      <td>0.535714</td>\n",
       "    </tr>\n",
       "    <tr>\n",
       "      <th>4552</th>\n",
       "      <td>2024-04-20</td>\n",
       "      <td>2024</td>\n",
       "      <td>Saint Peter's</td>\n",
       "      <td>Texas</td>\n",
       "      <td>UNK</td>\n",
       "      <td>0.535714</td>\n",
       "    </tr>\n",
       "    <tr>\n",
       "      <th>4553</th>\n",
       "      <td>2024-04-20</td>\n",
       "      <td>2024</td>\n",
       "      <td>Saint Peter's</td>\n",
       "      <td>Virginia</td>\n",
       "      <td>UNK</td>\n",
       "      <td>0.535714</td>\n",
       "    </tr>\n",
       "    <tr>\n",
       "      <th>4554</th>\n",
       "      <td>2024-04-20</td>\n",
       "      <td>2024</td>\n",
       "      <td>Saint Peter's</td>\n",
       "      <td>Colorado St.</td>\n",
       "      <td>UNK</td>\n",
       "      <td>0.535714</td>\n",
       "    </tr>\n",
       "    <tr>\n",
       "      <th>4555</th>\n",
       "      <td>2024-04-20</td>\n",
       "      <td>2024</td>\n",
       "      <td>Saint Peter's</td>\n",
       "      <td>Tennessee</td>\n",
       "      <td>UNK</td>\n",
       "      <td>0.535714</td>\n",
       "    </tr>\n",
       "  </tbody>\n",
       "</table>\n",
       "<p>4556 rows × 6 columns</p>\n",
       "</div>"
      ],
      "text/plain": [
       "            date  season           team          opponent Win_Loss  \\\n",
       "0     2024-04-20    2024    Connecticut           Stetson      UNK   \n",
       "1     2024-04-20    2024    Connecticut  Florida Atlantic      UNK   \n",
       "2     2024-04-20    2024    Connecticut      Northwestern      UNK   \n",
       "3     2024-04-20    2024    Connecticut     San Diego St.      UNK   \n",
       "4     2024-04-20    2024    Connecticut               UAB      UNK   \n",
       "...          ...     ...            ...               ...      ...   \n",
       "4551  2024-04-20    2024  Saint Peter's             Akron      UNK   \n",
       "4552  2024-04-20    2024  Saint Peter's             Texas      UNK   \n",
       "4553  2024-04-20    2024  Saint Peter's          Virginia      UNK   \n",
       "4554  2024-04-20    2024  Saint Peter's      Colorado St.      UNK   \n",
       "4555  2024-04-20    2024  Saint Peter's         Tennessee      UNK   \n",
       "\n",
       "      regular_season_win_pct  \n",
       "0                   0.903226  \n",
       "1                   0.903226  \n",
       "2                   0.903226  \n",
       "3                   0.903226  \n",
       "4                   0.903226  \n",
       "...                      ...  \n",
       "4551                0.535714  \n",
       "4552                0.535714  \n",
       "4553                0.535714  \n",
       "4554                0.535714  \n",
       "4555                0.535714  \n",
       "\n",
       "[4556 rows x 6 columns]"
      ]
     },
     "execution_count": 224,
     "metadata": {},
     "output_type": "execute_result"
    }
   ],
   "source": [
    "tourney_games"
   ]
  },
  {
   "cell_type": "code",
   "execution_count": 225,
   "metadata": {},
   "outputs": [],
   "source": [
    "tourney_games = tourney_games.merge(regular_season_win_pct, on=['opponent', 'season'], how='left')"
   ]
  },
  {
   "cell_type": "code",
   "execution_count": 226,
   "metadata": {},
   "outputs": [],
   "source": [
    "working = pre_tourney_games.groupby(['team', 'season','Win_Loss'], as_index=False).size()\n",
    "working = working.pivot_table(index=['team', 'season'], columns='Win_Loss', values='size', fill_value=0).reset_index()[['team', 'season', 'L', 'W']]\n",
    "working['season_win_pct'] = working['W'] / (working['W'] + working['L'])\n",
    "season_win_pct = working[['team', 'season', 'season_win_pct']]"
   ]
  },
  {
   "cell_type": "code",
   "execution_count": 227,
   "metadata": {},
   "outputs": [],
   "source": [
    "tourney_games = tourney_games.merge(season_win_pct, on=['team', 'season'], how='left')"
   ]
  },
  {
   "cell_type": "code",
   "execution_count": 228,
   "metadata": {},
   "outputs": [
    {
     "name": "stderr",
     "output_type": "stream",
     "text": [
      "C:\\Users\\amarl\\AppData\\Local\\Temp\\ipykernel_28816\\1093291026.py:1: SettingWithCopyWarning: \n",
      "A value is trying to be set on a copy of a slice from a DataFrame\n",
      "\n",
      "See the caveats in the documentation: https://pandas.pydata.org/pandas-docs/stable/user_guide/indexing.html#returning-a-view-versus-a-copy\n",
      "  season_win_pct.rename(columns={'season_win_pct': 'opponent_season_win_pct', 'team':'opponent'}, inplace=True)\n"
     ]
    }
   ],
   "source": [
    "season_win_pct.rename(columns={'season_win_pct': 'opponent_season_win_pct', 'team':'opponent'}, inplace=True)"
   ]
  },
  {
   "cell_type": "code",
   "execution_count": 229,
   "metadata": {},
   "outputs": [],
   "source": [
    "tourney_games = tourney_games.merge(season_win_pct, on=['opponent', 'season'], how='left')"
   ]
  },
  {
   "cell_type": "code",
   "execution_count": 230,
   "metadata": {},
   "outputs": [],
   "source": [
    "pre_tourney_games['score'] = pre_tourney_games['score'].astype(int)\n",
    "season_ppg = pre_tourney_games[['team', 'season','score']].groupby(['team', 'season']).mean().reset_index().rename(columns={'score': 'season_ppg'})"
   ]
  },
  {
   "cell_type": "code",
   "execution_count": 231,
   "metadata": {},
   "outputs": [],
   "source": [
    "tourney_games = tourney_games.merge(season_ppg, on=['team', 'season'], how='left')"
   ]
  },
  {
   "cell_type": "code",
   "execution_count": 232,
   "metadata": {},
   "outputs": [],
   "source": [
    "season_ppg.rename(columns={'season_ppg': 'opponent_season_ppg', 'team':'opponent'}, inplace=True)\n",
    "tourney_games = tourney_games.merge(season_ppg, on=['opponent', 'season'], how='left')"
   ]
  },
  {
   "cell_type": "code",
   "execution_count": 233,
   "metadata": {},
   "outputs": [],
   "source": [
    "pre_tourney_games['opponent_score'] = pre_tourney_games['opponent_score'].astype(int)\n",
    "season_ppg_allowed = pre_tourney_games[['team', 'season','opponent_score']].groupby(['team', 'season']).mean().reset_index().rename(columns={'opponent_score': 'season_ppg_allowed'})"
   ]
  },
  {
   "cell_type": "code",
   "execution_count": 234,
   "metadata": {},
   "outputs": [],
   "source": [
    "season_ppg_std = pre_tourney_games[['team', 'season','score']].groupby(['team', 'season']).std().reset_index().rename(columns={'score': 'season_ppg_std'})\n",
    "tourney_games = tourney_games.merge(season_ppg_std, on=['team', 'season'], how='left')\n",
    "season_ppg_std.rename(columns={'season_ppg_std': 'opponent_season_ppg_std', 'team':'opponent'}, inplace=True)\n",
    "tourney_games = tourney_games.merge(season_ppg_std, on=['opponent', 'season'], how='left')"
   ]
  },
  {
   "cell_type": "code",
   "execution_count": 235,
   "metadata": {},
   "outputs": [],
   "source": [
    "season_ppg_allowed_std = pre_tourney_games[['team', 'season','opponent_score']].groupby(['team', 'season']).std().reset_index().rename(columns={'opponent_score': 'season_ppg_allowed_std'})\n",
    "tourney_games = tourney_games.merge(season_ppg_allowed_std, on=['team', 'season'], how='left')\n",
    "season_ppg_allowed_std.rename(columns={'season_ppg_allowed_std': 'opponent_season_ppg_allowed_std', 'team':'opponent'}, inplace=True)\n",
    "tourney_games = tourney_games.merge(season_ppg_allowed_std, on=['opponent', 'season'], how='left')"
   ]
  },
  {
   "cell_type": "code",
   "execution_count": 236,
   "metadata": {},
   "outputs": [],
   "source": [
    "tourney_games = tourney_games.merge(season_ppg_allowed, on=['team', 'season'], how='left')"
   ]
  },
  {
   "cell_type": "code",
   "execution_count": 237,
   "metadata": {},
   "outputs": [],
   "source": [
    "season_ppg_allowed.rename(columns={'season_ppg_allowed': 'opponent_season_ppg_allowed', 'team':'opponent'}, inplace=True)\n",
    "tourney_games = tourney_games.merge(season_ppg_allowed, on=['opponent', 'season'], how='left')"
   ]
  },
  {
   "cell_type": "code",
   "execution_count": 238,
   "metadata": {},
   "outputs": [],
   "source": [
    "working = last_10_non_tourney.groupby(['team', 'season','Win_Loss'], as_index=False).size()\n",
    "working = working.pivot_table(index=['team', 'season'], columns='Win_Loss', values='size', fill_value=0).reset_index()[['team', 'season', 'L', 'W']]\n",
    "working['last_10_win_pct'] = working['W'] / (working['W'] + working['L'])\n",
    "last_10_win_pct = working[['team', 'season', 'last_10_win_pct']]"
   ]
  },
  {
   "cell_type": "code",
   "execution_count": 239,
   "metadata": {},
   "outputs": [],
   "source": [
    "tourney_games = tourney_games.merge(last_10_win_pct, on=['team', 'season'], how='left')"
   ]
  },
  {
   "cell_type": "code",
   "execution_count": 240,
   "metadata": {},
   "outputs": [
    {
     "name": "stderr",
     "output_type": "stream",
     "text": [
      "C:\\Users\\amarl\\AppData\\Local\\Temp\\ipykernel_28816\\1411312810.py:1: SettingWithCopyWarning: \n",
      "A value is trying to be set on a copy of a slice from a DataFrame\n",
      "\n",
      "See the caveats in the documentation: https://pandas.pydata.org/pandas-docs/stable/user_guide/indexing.html#returning-a-view-versus-a-copy\n",
      "  last_10_win_pct.rename(columns={'last_10_win_pct': 'opponent_last_10_win_pct', 'team':'opponent'}, inplace=True)\n"
     ]
    }
   ],
   "source": [
    "last_10_win_pct.rename(columns={'last_10_win_pct': 'opponent_last_10_win_pct', 'team':'opponent'}, inplace=True)\n",
    "tourney_games = tourney_games.merge(last_10_win_pct, on=['opponent', 'season'], how='left')"
   ]
  },
  {
   "cell_type": "code",
   "execution_count": 241,
   "metadata": {},
   "outputs": [],
   "source": [
    "working = last_5_non_tourney.groupby(['team', 'season','Win_Loss'], as_index=False).size()\n",
    "working = working.pivot_table(index=['team', 'season'], columns='Win_Loss', values='size', fill_value=0).reset_index()[['team', 'season', 'L', 'W']]\n",
    "working['last_5_win_pct'] = working['W'] / (working['W'] + working['L'])\n",
    "last_5_win_pct = working[['team', 'season', 'last_5_win_pct']]"
   ]
  },
  {
   "cell_type": "code",
   "execution_count": 242,
   "metadata": {},
   "outputs": [],
   "source": [
    "tourney_games = tourney_games.merge(last_5_win_pct, on=['team', 'season'], how='left')"
   ]
  },
  {
   "cell_type": "code",
   "execution_count": 243,
   "metadata": {},
   "outputs": [
    {
     "name": "stderr",
     "output_type": "stream",
     "text": [
      "C:\\Users\\amarl\\AppData\\Local\\Temp\\ipykernel_28816\\489938241.py:1: SettingWithCopyWarning: \n",
      "A value is trying to be set on a copy of a slice from a DataFrame\n",
      "\n",
      "See the caveats in the documentation: https://pandas.pydata.org/pandas-docs/stable/user_guide/indexing.html#returning-a-view-versus-a-copy\n",
      "  last_5_win_pct.rename(columns={'last_5_win_pct': 'opponent_last_5_win_pct', 'team':'opponent'}, inplace=True)\n"
     ]
    }
   ],
   "source": [
    "last_5_win_pct.rename(columns={'last_5_win_pct': 'opponent_last_5_win_pct', 'team':'opponent'}, inplace=True)\n",
    "tourney_games = tourney_games.merge(last_5_win_pct, on=['opponent', 'season'], how='left')"
   ]
  },
  {
   "cell_type": "code",
   "execution_count": 244,
   "metadata": {},
   "outputs": [],
   "source": [
    "working = games_vs_tourney_teams.groupby(['team', 'season','Win_Loss'], as_index=False).size()\n",
    "working = working.pivot_table(index=['team', 'season'], columns='Win_Loss', values='size', fill_value=0).reset_index()[['team', 'season', 'L', 'W']]\n",
    "working['vs_tourney_team_win_pct'] = working['W'] / (working['W'] + working['L'])\n",
    "vs_tourney_team_win_pct = working[['team', 'season', 'vs_tourney_team_win_pct']]"
   ]
  },
  {
   "cell_type": "code",
   "execution_count": 245,
   "metadata": {},
   "outputs": [],
   "source": [
    "tourney_games = tourney_games.merge(vs_tourney_team_win_pct, on=['team', 'season'], how='left')"
   ]
  },
  {
   "cell_type": "code",
   "execution_count": 246,
   "metadata": {},
   "outputs": [
    {
     "name": "stderr",
     "output_type": "stream",
     "text": [
      "C:\\Users\\amarl\\AppData\\Local\\Temp\\ipykernel_28816\\2986988654.py:1: SettingWithCopyWarning: \n",
      "A value is trying to be set on a copy of a slice from a DataFrame\n",
      "\n",
      "See the caveats in the documentation: https://pandas.pydata.org/pandas-docs/stable/user_guide/indexing.html#returning-a-view-versus-a-copy\n",
      "  vs_tourney_team_win_pct.rename(columns={'vs_tourney_team_win_pct': 'opponent_vs_tourney_team_win_pct', 'team':'opponent'}, inplace=True)\n"
     ]
    }
   ],
   "source": [
    "vs_tourney_team_win_pct.rename(columns={'vs_tourney_team_win_pct': 'opponent_vs_tourney_team_win_pct', 'team':'opponent'}, inplace=True)\n",
    "tourney_games = tourney_games.merge(vs_tourney_team_win_pct, on=['opponent', 'season'], how='left')"
   ]
  },
  {
   "cell_type": "code",
   "execution_count": 247,
   "metadata": {},
   "outputs": [],
   "source": [
    "working = games_vs_tourney_teams.groupby(['team', 'season','Win_Loss'], as_index=False).size()\n",
    "working = working.pivot_table(index=['team', 'season'], columns='Win_Loss', values='size', fill_value=0).reset_index()[['team', 'season', 'L', 'W']]\n",
    "working['games_played_vs_tourney_teams'] = (working['W'] + working['L'])\n",
    "games_played_vs_tourney_teams = working[['team', 'season', 'games_played_vs_tourney_teams']]"
   ]
  },
  {
   "cell_type": "code",
   "execution_count": 248,
   "metadata": {},
   "outputs": [],
   "source": [
    "tourney_games = tourney_games.merge(games_played_vs_tourney_teams, on=['team', 'season'], how='left')"
   ]
  },
  {
   "cell_type": "code",
   "execution_count": 249,
   "metadata": {},
   "outputs": [
    {
     "name": "stderr",
     "output_type": "stream",
     "text": [
      "C:\\Users\\amarl\\AppData\\Local\\Temp\\ipykernel_28816\\3857983212.py:1: SettingWithCopyWarning: \n",
      "A value is trying to be set on a copy of a slice from a DataFrame\n",
      "\n",
      "See the caveats in the documentation: https://pandas.pydata.org/pandas-docs/stable/user_guide/indexing.html#returning-a-view-versus-a-copy\n",
      "  games_played_vs_tourney_teams.rename(columns={'games_played_vs_tourney_teams': 'opponent_games_played_vs_tourney_teams', 'team':'opponent'}, inplace=True)\n"
     ]
    }
   ],
   "source": [
    "games_played_vs_tourney_teams.rename(columns={'games_played_vs_tourney_teams': 'opponent_games_played_vs_tourney_teams', 'team':'opponent'}, inplace=True)\n",
    "tourney_games = tourney_games.merge(games_played_vs_tourney_teams, on=['opponent', 'season'], how='left')"
   ]
  },
  {
   "cell_type": "code",
   "execution_count": 250,
   "metadata": {},
   "outputs": [
    {
     "data": {
      "text/plain": [
       "Index(['date', 'game_type', 'team', 'conference', 'opponent', 'location',\n",
       "       'result', 'adj_offense', 'adj_defense', 'offensive_efficiency',\n",
       "       'effective_fg_percent', 'turnover_percent', 'offensive_rebound_percent',\n",
       "       'free_throw_rate', 'opponent_offensive_efficiency',\n",
       "       'opponent_effective_fg_percent', 'opponent_turnover_percent',\n",
       "       'opponent_offensive_rebound_percent', 'opponent_free_throw_rate',\n",
       "       'opponent_conference', 'season', 'Win_Loss', 'score', 'opponent_score'],\n",
       "      dtype='object')"
      ]
     },
     "execution_count": 250,
     "metadata": {},
     "output_type": "execute_result"
    }
   ],
   "source": [
    "pre_tourney_games.columns"
   ]
  },
  {
   "cell_type": "code",
   "execution_count": 251,
   "metadata": {},
   "outputs": [],
   "source": [
    "season_adj_offense = pre_tourney_games[['team', 'season','adj_offense']].groupby(['team', 'season']).mean().reset_index().rename(columns={'adj_offense': 'season_adj_offense'})"
   ]
  },
  {
   "cell_type": "code",
   "execution_count": 252,
   "metadata": {},
   "outputs": [],
   "source": [
    "tourney_games = tourney_games.merge(season_adj_offense, on=['team', 'season'], how='left')"
   ]
  },
  {
   "cell_type": "code",
   "execution_count": 253,
   "metadata": {},
   "outputs": [],
   "source": [
    "season_adj_offense.rename(columns={'season_adj_offense': 'opponent_season_adj_offense', 'team':'opponent'}, inplace=True)\n",
    "tourney_games = tourney_games.merge(season_adj_offense, on=['opponent', 'season'], how='left')"
   ]
  },
  {
   "cell_type": "code",
   "execution_count": 254,
   "metadata": {},
   "outputs": [],
   "source": [
    "season_adj_offense_std = pre_tourney_games[['team', 'season','adj_offense']].groupby(['team', 'season']).std().reset_index().rename(columns={'adj_offense': 'season_adj_offense_std'})\n",
    "tourney_games = tourney_games.merge(season_adj_offense_std, on=['team', 'season'], how='left')\n",
    "season_adj_offense_std.rename(columns={'season_adj_offense_std': 'opponent_season_adj_offense_std', 'team':'opponent'}, inplace=True)\n",
    "tourney_games = tourney_games.merge(season_adj_offense_std, on=['opponent', 'season'], how='left')"
   ]
  },
  {
   "cell_type": "code",
   "execution_count": 255,
   "metadata": {},
   "outputs": [],
   "source": [
    "season_adj_defense = pre_tourney_games[['team', 'season','adj_defense']].groupby(['team', 'season']).mean().reset_index().rename(columns={'adj_defense': 'season_adj_defense'})"
   ]
  },
  {
   "cell_type": "code",
   "execution_count": 256,
   "metadata": {},
   "outputs": [],
   "source": [
    "tourney_games = tourney_games.merge(season_adj_defense, on=['team', 'season'], how='left')"
   ]
  },
  {
   "cell_type": "code",
   "execution_count": 257,
   "metadata": {},
   "outputs": [],
   "source": [
    "season_adj_defense.rename(columns={'season_adj_defense': 'opponent_season_adj_defense', 'team':'opponent'}, inplace=True)\n",
    "tourney_games = tourney_games.merge(season_adj_defense, on=['opponent', 'season'], how='left')"
   ]
  },
  {
   "cell_type": "code",
   "execution_count": 258,
   "metadata": {},
   "outputs": [],
   "source": [
    "season_adj_defense_std = pre_tourney_games[['team', 'season','adj_defense']].groupby(['team', 'season']).std().reset_index().rename(columns={'adj_defense': 'season_adj_defense_std'})\n",
    "tourney_games = tourney_games.merge(season_adj_defense_std, on=['team', 'season'], how='left')\n",
    "season_adj_defense_std.rename(columns={'season_adj_defense_std': 'opponent_season_adj_defense_std', 'team':'opponent'}, inplace=True)\n",
    "tourney_games = tourney_games.merge(season_adj_defense_std, on=['opponent', 'season'], how='left')"
   ]
  },
  {
   "cell_type": "code",
   "execution_count": 259,
   "metadata": {},
   "outputs": [],
   "source": [
    "vs_tourney_team_adj_offense = games_vs_tourney_teams[['team', 'season','adj_offense']].groupby(['team', 'season']).mean().reset_index().rename(columns={'adj_offense': 'vs_tourney_team_adj_offense'})"
   ]
  },
  {
   "cell_type": "code",
   "execution_count": 260,
   "metadata": {},
   "outputs": [],
   "source": [
    "tourney_games = tourney_games.merge(vs_tourney_team_adj_offense, on=['team', 'season'], how='left')"
   ]
  },
  {
   "cell_type": "code",
   "execution_count": 261,
   "metadata": {},
   "outputs": [],
   "source": [
    "vs_tourney_team_adj_offense.rename(columns={'vs_tourney_team_adj_offense': 'opponent_vs_tourney_team_adj_offense', 'team':'opponent'}, inplace=True)"
   ]
  },
  {
   "cell_type": "code",
   "execution_count": 262,
   "metadata": {},
   "outputs": [],
   "source": [
    "tourney_games = tourney_games.merge(vs_tourney_team_adj_offense, on=['opponent', 'season'], how='left')"
   ]
  },
  {
   "cell_type": "code",
   "execution_count": 263,
   "metadata": {},
   "outputs": [],
   "source": [
    "vs_tourney_team_adj_offense_std = games_vs_tourney_teams[['team', 'season','adj_offense']].groupby(['team', 'season']).std().reset_index().rename(columns={'adj_offense': 'vs_tourney_team_adj_offense_std'})\n",
    "tourney_games = tourney_games.merge(vs_tourney_team_adj_offense_std, on=['team', 'season'], how='left')\n",
    "vs_tourney_team_adj_offense_std.rename(columns={'vs_tourney_team_adj_offense_std': 'opponent_vs_tourney_team_adj_offense_std', 'team':'opponent'}, inplace=True)\n",
    "tourney_games = tourney_games.merge(vs_tourney_team_adj_offense_std, on=['opponent', 'season'], how='left')"
   ]
  },
  {
   "cell_type": "code",
   "execution_count": 264,
   "metadata": {},
   "outputs": [],
   "source": [
    "vs_tourney_team_adj_defense = games_vs_tourney_teams[['team', 'season','adj_defense']].groupby(['team', 'season']).mean().reset_index().rename(columns={'adj_defense': 'vs_tourney_team_adj_defense'})"
   ]
  },
  {
   "cell_type": "code",
   "execution_count": 265,
   "metadata": {},
   "outputs": [],
   "source": [
    "tourney_games = tourney_games.merge(vs_tourney_team_adj_defense, on=['team', 'season'], how='left')"
   ]
  },
  {
   "cell_type": "code",
   "execution_count": 266,
   "metadata": {},
   "outputs": [],
   "source": [
    "vs_tourney_team_adj_defense.rename(columns={'vs_tourney_team_adj_defense': 'opponent_vs_tourney_team_adj_defense', 'team':'opponent'}, inplace=True)"
   ]
  },
  {
   "cell_type": "code",
   "execution_count": 267,
   "metadata": {},
   "outputs": [],
   "source": [
    "tourney_games = tourney_games.merge(vs_tourney_team_adj_defense, on=['opponent', 'season'], how='left')"
   ]
  },
  {
   "cell_type": "code",
   "execution_count": 268,
   "metadata": {},
   "outputs": [],
   "source": [
    "vs_tourney_team_adj_defense_std = games_vs_tourney_teams[['team', 'season','adj_defense']].groupby(['team', 'season']).std().reset_index().rename(columns={'adj_defense': 'vs_tourney_team_adj_defense_std'})\n",
    "tourney_games = tourney_games.merge(vs_tourney_team_adj_defense_std, on=['team', 'season'], how='left')\n",
    "vs_tourney_team_adj_defense_std.rename(columns={'vs_tourney_team_adj_defense_std': 'opponent_vs_tourney_team_adj_defense_std', 'team':'opponent'}, inplace=True)\n",
    "tourney_games = tourney_games.merge(vs_tourney_team_adj_defense_std, on=['opponent', 'season'], how='left')"
   ]
  },
  {
   "cell_type": "code",
   "execution_count": 269,
   "metadata": {},
   "outputs": [],
   "source": [
    "season_offensive_efficiency = pre_tourney_games[['team', 'season','offensive_efficiency']].groupby(['team', 'season']).mean().reset_index().rename(columns={'offensive_efficiency': 'season_offensive_efficiency'})"
   ]
  },
  {
   "cell_type": "code",
   "execution_count": 270,
   "metadata": {},
   "outputs": [],
   "source": [
    "tourney_games = tourney_games.merge(season_offensive_efficiency, on=['team', 'season'], how='left')"
   ]
  },
  {
   "cell_type": "code",
   "execution_count": 271,
   "metadata": {},
   "outputs": [],
   "source": [
    "season_offensive_efficiency.rename(columns={'season_offensive_efficiency': 'opponent_season_offensive_efficiency', 'team':'opponent'}, inplace=True)\n",
    "tourney_games = tourney_games.merge(season_offensive_efficiency, on=['opponent', 'season'], how='left')"
   ]
  },
  {
   "cell_type": "code",
   "execution_count": 272,
   "metadata": {},
   "outputs": [],
   "source": [
    "season_offensive_efficiency_std = pre_tourney_games[['team', 'season','offensive_efficiency']].groupby(['team', 'season']).std().reset_index().rename(columns={'offensive_efficiency': 'season_offensive_efficiency_std'})\n",
    "tourney_games = tourney_games.merge(season_offensive_efficiency_std, on=['team', 'season'], how='left')\n",
    "season_offensive_efficiency_std.rename(columns={'season_offensive_efficiency_std': 'opponent_season_offensive_efficiency_std', 'team':'opponent'}, inplace=True)\n",
    "tourney_games = tourney_games.merge(season_offensive_efficiency_std, on=['opponent', 'season'], how='left')"
   ]
  },
  {
   "cell_type": "code",
   "execution_count": 273,
   "metadata": {},
   "outputs": [],
   "source": [
    "vs_tourney_team_offensive_efficiency = games_vs_tourney_teams[['team', 'season','offensive_efficiency']].groupby(['team', 'season']).mean().reset_index().rename(columns={'offensive_efficiency': 'vs_tourney_team_offensive_efficiency'})"
   ]
  },
  {
   "cell_type": "code",
   "execution_count": 274,
   "metadata": {},
   "outputs": [],
   "source": [
    "tourney_games = tourney_games.merge(vs_tourney_team_offensive_efficiency, on=['team', 'season'], how='left')"
   ]
  },
  {
   "cell_type": "code",
   "execution_count": 275,
   "metadata": {},
   "outputs": [],
   "source": [
    "vs_tourney_team_offensive_efficiency.rename(columns={'vs_tourney_team_offensive_efficiency': 'opponent_vs_tourney_team_offensive_efficiency', 'team':'opponent'}, inplace=True)\n",
    "tourney_games = tourney_games.merge(vs_tourney_team_offensive_efficiency, on=['opponent', 'season'], how='left')"
   ]
  },
  {
   "cell_type": "code",
   "execution_count": 276,
   "metadata": {},
   "outputs": [],
   "source": [
    "vs_tourney_team_offensive_efficiency_std = games_vs_tourney_teams[['team', 'season','offensive_efficiency']].groupby(['team', 'season']).std().reset_index().rename(columns={'offensive_efficiency': 'vs_tourney_team_offensive_efficiency_std'})\n",
    "tourney_games = tourney_games.merge(vs_tourney_team_offensive_efficiency_std, on=['team', 'season'], how='left')\n",
    "vs_tourney_team_offensive_efficiency_std.rename(columns={'vs_tourney_team_offensive_efficiency_std': 'opponent_vs_tourney_team_offensive_efficiency_std', 'team':'opponent'}, inplace=True)\n",
    "tourney_games = tourney_games.merge(vs_tourney_team_offensive_efficiency_std, on=['opponent', 'season'], how='left')"
   ]
  },
  {
   "cell_type": "code",
   "execution_count": 277,
   "metadata": {},
   "outputs": [],
   "source": [
    "season_effective_fg_percent = pre_tourney_games[['team', 'season','effective_fg_percent']].groupby(['team', 'season']).mean().reset_index().rename(columns={'effective_fg_percent': 'season_effective_fg_percent'})"
   ]
  },
  {
   "cell_type": "code",
   "execution_count": 278,
   "metadata": {},
   "outputs": [],
   "source": [
    "tourney_games = tourney_games.merge(season_effective_fg_percent, on=['team', 'season'], how='left')"
   ]
  },
  {
   "cell_type": "code",
   "execution_count": 279,
   "metadata": {},
   "outputs": [],
   "source": [
    "season_effective_fg_percent.rename(columns={'season_effective_fg_percent': 'opponent_season_effective_fg_percent', 'team':'opponent'}, inplace=True)\n",
    "tourney_games = tourney_games.merge(season_effective_fg_percent, on=['opponent', 'season'], how='left')"
   ]
  },
  {
   "cell_type": "code",
   "execution_count": 280,
   "metadata": {},
   "outputs": [],
   "source": [
    "season_effective_fg_percent_std = pre_tourney_games[['team', 'season','effective_fg_percent']].groupby(['team', 'season']).std().reset_index().rename(columns={'effective_fg_percent': 'season_effective_fg_percent_std'})\n",
    "tourney_games = tourney_games.merge(season_effective_fg_percent_std, on=['team', 'season'], how='left')\n",
    "season_effective_fg_percent_std.rename(columns={'season_effective_fg_percent_std': 'opponent_season_effective_fg_percent_std', 'team':'opponent'}, inplace=True)\n",
    "tourney_games = tourney_games.merge(season_effective_fg_percent_std, on=['opponent', 'season'], how='left')"
   ]
  },
  {
   "cell_type": "code",
   "execution_count": 281,
   "metadata": {},
   "outputs": [],
   "source": [
    "vs_tourney_team_effective_fg_percent = games_vs_tourney_teams[['team', 'season','effective_fg_percent']].groupby(['team', 'season']).mean().reset_index().rename(columns={'effective_fg_percent': 'vs_tourney_team_effective_fg_percent'})\n",
    "tourney_games = tourney_games.merge(vs_tourney_team_effective_fg_percent, on=['team', 'season'], how='left')\n",
    "vs_tourney_team_effective_fg_percent.rename(columns={'vs_tourney_team_effective_fg_percent': 'opponent_vs_tourney_team_effective_fg_percent', 'team':'opponent'}, inplace=True)\n",
    "tourney_games = tourney_games.merge(vs_tourney_team_effective_fg_percent, on=['opponent', 'season'], how='left')"
   ]
  },
  {
   "cell_type": "code",
   "execution_count": 282,
   "metadata": {},
   "outputs": [],
   "source": [
    "vs_tourney_team_effective_fg_percent_std = games_vs_tourney_teams[['team', 'season','effective_fg_percent']].groupby(['team', 'season']).std().reset_index().rename(columns={'effective_fg_percent': 'vs_tourney_team_effective_fg_percent_std'})\n",
    "tourney_games = tourney_games.merge(vs_tourney_team_effective_fg_percent_std, on=['team', 'season'], how='left')\n",
    "vs_tourney_team_effective_fg_percent_std.rename(columns={'vs_tourney_team_effective_fg_percent_std': 'opponent_vs_tourney_team_effective_fg_percent_std', 'team':'opponent'}, inplace=True)\n",
    "tourney_games = tourney_games.merge(vs_tourney_team_effective_fg_percent_std, on=['opponent', 'season'], how='left')"
   ]
  },
  {
   "cell_type": "code",
   "execution_count": 283,
   "metadata": {},
   "outputs": [],
   "source": [
    "season_turnover_percent = pre_tourney_games[['team', 'season','turnover_percent']].groupby(['team', 'season']).mean().reset_index().rename(columns={'turnover_percent': 'season_turnover_percent'})\n",
    "tourney_games = tourney_games.merge(season_turnover_percent, on=['team', 'season'], how='left')\n",
    "season_turnover_percent.rename(columns={'season_turnover_percent': 'opponent_season_turnover_percent', 'team':'opponent'}, inplace=True)\n",
    "tourney_games = tourney_games.merge(season_turnover_percent, on=['opponent', 'season'], how='left')"
   ]
  },
  {
   "cell_type": "code",
   "execution_count": 284,
   "metadata": {},
   "outputs": [],
   "source": [
    "season_turnover_percent_std = pre_tourney_games[['team', 'season','turnover_percent']].groupby(['team', 'season']).std().reset_index().rename(columns={'turnover_percent': 'season_turnover_percent_std'})\n",
    "tourney_games = tourney_games.merge(season_turnover_percent_std, on=['team', 'season'], how='left')\n",
    "season_turnover_percent_std.rename(columns={'season_turnover_percent_std': 'opponent_season_turnover_percent_std', 'team':'opponent'}, inplace=True)\n",
    "tourney_games = tourney_games.merge(season_turnover_percent_std, on=['opponent', 'season'], how='left')"
   ]
  },
  {
   "cell_type": "code",
   "execution_count": 285,
   "metadata": {},
   "outputs": [],
   "source": [
    "vs_tourney_team_turnover_percent = games_vs_tourney_teams[['team', 'season','turnover_percent']].groupby(['team', 'season']).mean().reset_index().rename(columns={'turnover_percent': 'vs_tourney_team_turnover_percent'})\n",
    "tourney_games = tourney_games.merge(vs_tourney_team_turnover_percent, on=['team', 'season'], how='left')\n",
    "vs_tourney_team_turnover_percent.rename(columns={'vs_tourney_team_turnover_percent': 'opponent_vs_tourney_team_turnover_percent', 'team':'opponent'}, inplace=True)\n",
    "tourney_games = tourney_games.merge(vs_tourney_team_turnover_percent, on=['opponent', 'season'], how='left')"
   ]
  },
  {
   "cell_type": "code",
   "execution_count": 286,
   "metadata": {},
   "outputs": [],
   "source": [
    "vs_tourney_team_turnover_percent_std = games_vs_tourney_teams[['team', 'season','turnover_percent']].groupby(['team', 'season']).std().reset_index().rename(columns={'turnover_percent': 'vs_tourney_team_turnover_percent_std'})\n",
    "tourney_games = tourney_games.merge(vs_tourney_team_turnover_percent_std, on=['team', 'season'], how='left')\n",
    "vs_tourney_team_turnover_percent_std.rename(columns={'vs_tourney_team_turnover_percent_std': 'opponent_vs_tourney_team_turnover_percent_std', 'team':'opponent'}, inplace=True)\n",
    "tourney_games = tourney_games.merge(vs_tourney_team_turnover_percent_std, on=['opponent', 'season'], how='left')"
   ]
  },
  {
   "cell_type": "code",
   "execution_count": 287,
   "metadata": {},
   "outputs": [],
   "source": [
    "season_offensive_rebound_percent = pre_tourney_games[['team', 'season','offensive_rebound_percent']].groupby(['team', 'season']).mean().reset_index().rename(columns={'offensive_rebound_percent': 'season_offensive_rebound_percent'})\n",
    "tourney_games = tourney_games.merge(season_offensive_rebound_percent, on=['team', 'season'], how='left')\n",
    "season_offensive_rebound_percent.rename(columns={'season_offensive_rebound_percent': 'opponent_season_offensive_rebound_percent', 'team':'opponent'}, inplace=True)\n",
    "tourney_games = tourney_games.merge(season_offensive_rebound_percent, on=['opponent', 'season'], how='left')"
   ]
  },
  {
   "cell_type": "code",
   "execution_count": 288,
   "metadata": {},
   "outputs": [],
   "source": [
    "season_offensive_rebound_percent_std = pre_tourney_games[['team', 'season','offensive_rebound_percent']].groupby(['team', 'season']).std().reset_index().rename(columns={'offensive_rebound_percent': 'season_offensive_rebound_percent_std'})\n",
    "tourney_games = tourney_games.merge(season_offensive_rebound_percent_std, on=['team', 'season'], how='left')\n",
    "season_offensive_rebound_percent_std.rename(columns={'season_offensive_rebound_percent_std': 'opponent_season_offensive_rebound_percent_std', 'team':'opponent'}, inplace=True)\n",
    "tourney_games = tourney_games.merge(season_offensive_rebound_percent_std, on=['opponent', 'season'], how='left')"
   ]
  },
  {
   "cell_type": "code",
   "execution_count": 289,
   "metadata": {},
   "outputs": [],
   "source": [
    "vs_tourney_team_offensive_rebound_percent = games_vs_tourney_teams[['team', 'season','offensive_rebound_percent']].groupby(['team', 'season']).mean().reset_index().rename(columns={'offensive_rebound_percent': 'vs_tourney_team_offensive_rebound_percent'})\n",
    "tourney_games = tourney_games.merge(vs_tourney_team_offensive_rebound_percent, on=['team', 'season'], how='left')\n",
    "vs_tourney_team_offensive_rebound_percent.rename(columns={'vs_tourney_team_offensive_rebound_percent': 'opponent_vs_tourney_team_offensive_rebound_percent', 'team':'opponent'}, inplace=True)\n",
    "tourney_games = tourney_games.merge(vs_tourney_team_offensive_rebound_percent, on=['opponent', 'season'], how='left')"
   ]
  },
  {
   "cell_type": "code",
   "execution_count": 290,
   "metadata": {},
   "outputs": [],
   "source": [
    "vs_tourney_team_offensive_rebound_percent_std = games_vs_tourney_teams[['team', 'season','offensive_rebound_percent']].groupby(['team', 'season']).std().reset_index().rename(columns={'offensive_rebound_percent': 'vs_tourney_team_offensive_rebound_percent_std'})\n",
    "tourney_games = tourney_games.merge(vs_tourney_team_offensive_rebound_percent_std, on=['team', 'season'], how='left')\n",
    "vs_tourney_team_offensive_rebound_percent_std.rename(columns={'vs_tourney_team_offensive_rebound_percent_std': 'opponent_vs_tourney_team_offensive_rebound_percent_std', 'team':'opponent'}, inplace=True)\n",
    "tourney_games = tourney_games.merge(vs_tourney_team_offensive_rebound_percent_std, on=['opponent', 'season'], how='left')"
   ]
  },
  {
   "cell_type": "code",
   "execution_count": 291,
   "metadata": {},
   "outputs": [],
   "source": [
    "season_free_throw_rate = pre_tourney_games[['team', 'season','free_throw_rate']].groupby(['team', 'season']).mean().reset_index().rename(columns={'free_throw_rate': 'season_free_throw_rate'})\n",
    "tourney_games = tourney_games.merge(season_free_throw_rate, on=['team', 'season'], how='left')\n",
    "season_free_throw_rate.rename(columns={'season_free_throw_rate': 'opponent_season_free_throw_rate', 'team':'opponent'}, inplace=True)\n",
    "tourney_games = tourney_games.merge(season_free_throw_rate, on=['opponent', 'season'], how='left')"
   ]
  },
  {
   "cell_type": "code",
   "execution_count": 292,
   "metadata": {},
   "outputs": [],
   "source": [
    "season_free_throw_rate_std = pre_tourney_games[['team', 'season','free_throw_rate']].groupby(['team', 'season']).std().reset_index().rename(columns={'free_throw_rate': 'season_free_throw_rate_std'})\n",
    "tourney_games = tourney_games.merge(season_free_throw_rate_std, on=['team', 'season'], how='left')\n",
    "season_free_throw_rate_std.rename(columns={'season_free_throw_rate_std': 'opponent_season_free_throw_rate_std', 'team':'opponent'}, inplace=True)\n",
    "tourney_games = tourney_games.merge(season_free_throw_rate_std, on=['opponent', 'season'], how='left')"
   ]
  },
  {
   "cell_type": "code",
   "execution_count": 293,
   "metadata": {},
   "outputs": [],
   "source": [
    "vs_tourney_team_free_throw_rate = games_vs_tourney_teams[['team', 'season','free_throw_rate']].groupby(['team', 'season']).mean().reset_index().rename(columns={'free_throw_rate': 'vs_tourney_team_free_throw_rate'})\n",
    "tourney_games = tourney_games.merge(vs_tourney_team_free_throw_rate, on=['team', 'season'], how='left')\n",
    "vs_tourney_team_free_throw_rate.rename(columns={'vs_tourney_team_free_throw_rate': 'opponent_vs_tourney_team_free_throw_rate', 'team':'opponent'}, inplace=True)\n",
    "tourney_games = tourney_games.merge(vs_tourney_team_free_throw_rate, on=['opponent', 'season'], how='left')"
   ]
  },
  {
   "cell_type": "code",
   "execution_count": 294,
   "metadata": {},
   "outputs": [],
   "source": [
    "vs_tourney_team_free_throw_rate_std = games_vs_tourney_teams[['team', 'season','free_throw_rate']].groupby(['team', 'season']).std().reset_index().rename(columns={'free_throw_rate': 'vs_tourney_team_free_throw_rate_std'})\n",
    "tourney_games = tourney_games.merge(vs_tourney_team_free_throw_rate_std, on=['team', 'season'], how='left')\n",
    "vs_tourney_team_free_throw_rate_std.rename(columns={'vs_tourney_team_free_throw_rate_std': 'opponent_vs_tourney_team_free_throw_rate_std', 'team':'opponent'}, inplace=True)\n",
    "tourney_games = tourney_games.merge(vs_tourney_team_free_throw_rate_std, on=['opponent', 'season'], how='left')"
   ]
  },
  {
   "cell_type": "code",
   "execution_count": 295,
   "metadata": {},
   "outputs": [],
   "source": [
    "season_allowed_offensive_efficiency = pre_tourney_games[['team', 'season','opponent_offensive_efficiency']].groupby(['team', 'season']).mean().reset_index().rename(columns={'opponent_offensive_efficiency': 'season_allowed_offensive_efficiency'})\n",
    "tournament_games = tourney_games.merge(season_allowed_offensive_efficiency, on=['team', 'season'], how='left')\n",
    "season_allowed_offensive_efficiency.rename(columns={'season_allowed_offensive_efficiency': 'opponent_season_allowed_offensive_efficiency', 'team':'opponent'}, inplace=True)\n",
    "tourney_games = tourney_games.merge(season_allowed_offensive_efficiency, on=['opponent', 'season'], how='left')"
   ]
  },
  {
   "cell_type": "code",
   "execution_count": 296,
   "metadata": {},
   "outputs": [],
   "source": [
    "season_allowed_offensive_efficiency_std = pre_tourney_games[['team', 'season','opponent_offensive_efficiency']].groupby(['team', 'season']).std().reset_index().rename(columns={'opponent_offensive_efficiency': 'season_allowed_offensive_efficiency_std'})\n",
    "tourney_games = tourney_games.merge(season_allowed_offensive_efficiency_std, on=['team', 'season'], how='left')\n",
    "season_allowed_offensive_efficiency_std.rename(columns={'season_allowed_offensive_efficiency_std': 'opponent_season_allowed_offensive_efficiency_std', 'team':'opponent'}, inplace=True)\n",
    "tourney_games = tourney_games.merge(season_allowed_offensive_efficiency_std, on=['opponent', 'season'], how='left')"
   ]
  },
  {
   "cell_type": "code",
   "execution_count": 297,
   "metadata": {},
   "outputs": [],
   "source": [
    "vs_tourney_team_allowed_offensive_efficiency = games_vs_tourney_teams[['team', 'season','opponent_offensive_efficiency']].groupby(['team', 'season']).mean().reset_index().rename(columns={'opponent_offensive_efficiency': 'vs_tourney_team_allowed_offensive_efficiency'})\n",
    "tourney_games = tourney_games.merge(vs_tourney_team_allowed_offensive_efficiency, on=['team', 'season'], how='left')\n",
    "vs_tourney_team_allowed_offensive_efficiency.rename(columns={'vs_tourney_team_allowed_offensive_efficiency': 'opponent_vs_tourney_team_allowed_offensive_efficiency', 'team':'opponent'}, inplace=True)\n",
    "tourney_games = tourney_games.merge(vs_tourney_team_allowed_offensive_efficiency, on=['opponent', 'season'], how='left')"
   ]
  },
  {
   "cell_type": "code",
   "execution_count": 298,
   "metadata": {},
   "outputs": [],
   "source": [
    "vs_tourney_team_allowed_offensive_efficiency_std = games_vs_tourney_teams[['team', 'season','opponent_offensive_efficiency']].groupby(['team', 'season']).std().reset_index().rename(columns={'opponent_offensive_efficiency': 'vs_tourney_team_allowed_offensive_efficiency_std'})\n",
    "tourney_games = tourney_games.merge(vs_tourney_team_allowed_offensive_efficiency_std, on=['team', 'season'], how='left')\n",
    "vs_tourney_team_allowed_offensive_efficiency_std.rename(columns={'vs_tourney_team_allowed_offensive_efficiency_std': 'opponent_vs_tourney_team_allowed_offensive_efficiency_std', 'team':'opponent'}, inplace=True)\n",
    "tourney_games = tourney_games.merge(vs_tourney_team_allowed_offensive_efficiency_std, on=['opponent', 'season'], how='left')"
   ]
  },
  {
   "cell_type": "code",
   "execution_count": 299,
   "metadata": {},
   "outputs": [],
   "source": [
    "season_allowed_effective_fg_percent = pre_tourney_games[['team', 'season','opponent_effective_fg_percent']].groupby(['team', 'season']).mean().reset_index().rename(columns={'opponent_effective_fg_percent': 'season_allowed_effective_fg_percent'})\n",
    "tourney_games = tourney_games.merge(season_allowed_effective_fg_percent, on=['team', 'season'], how='left')\n",
    "season_allowed_effective_fg_percent.rename(columns={'season_allowed_effective_fg_percent': 'opponent_season_allowed_effective_fg_percent', 'team':'opponent'}, inplace=True)\n",
    "tourney_games = tourney_games.merge(season_allowed_effective_fg_percent, on=['opponent', 'season'], how='left')"
   ]
  },
  {
   "cell_type": "code",
   "execution_count": 300,
   "metadata": {},
   "outputs": [],
   "source": [
    "season_allowed_effective_fg_percent_std = pre_tourney_games[['team', 'season','opponent_effective_fg_percent']].groupby(['team', 'season']).std().reset_index().rename(columns={'opponent_effective_fg_percent': 'season_allowed_effective_fg_percent_std'})\n",
    "tourney_games = tourney_games.merge(season_allowed_effective_fg_percent_std, on=['team', 'season'], how='left')\n",
    "season_allowed_effective_fg_percent_std.rename(columns={'season_allowed_effective_fg_percent_std': 'opponent_season_allowed_effective_fg_percent_std', 'team':'opponent'}, inplace=True)\n",
    "tourney_games = tourney_games.merge(season_allowed_effective_fg_percent_std, on=['opponent', 'season'], how='left')"
   ]
  },
  {
   "cell_type": "code",
   "execution_count": 301,
   "metadata": {},
   "outputs": [],
   "source": [
    "vs_tourney_team_allowed_effective_fg_percent = games_vs_tourney_teams[['team', 'season','opponent_effective_fg_percent']].groupby(['team', 'season']).mean().reset_index().rename(columns={'opponent_effective_fg_percent': 'vs_tourney_team_allowed_effective_fg_percent'})\n",
    "tourney_games = tourney_games.merge(vs_tourney_team_allowed_effective_fg_percent, on=['team', 'season'], how='left')\n",
    "vs_tourney_team_allowed_effective_fg_percent.rename(columns={'vs_tourney_team_allowed_effective_fg_percent': 'opponent_vs_tourney_team_allowed_effective_fg_percent', 'team':'opponent'}, inplace=True)\n",
    "tourney_games = tourney_games.merge(vs_tourney_team_allowed_effective_fg_percent, on=['opponent', 'season'], how='left')"
   ]
  },
  {
   "cell_type": "code",
   "execution_count": 302,
   "metadata": {},
   "outputs": [],
   "source": [
    "vs_tourney_team_allowed_effective_fg_percent_std = games_vs_tourney_teams[['team', 'season','opponent_effective_fg_percent']].groupby(['team', 'season']).std().reset_index().rename(columns={'opponent_effective_fg_percent': 'vs_tourney_team_allowed_effective_fg_percent_std'})\n",
    "tourney_games = tourney_games.merge(vs_tourney_team_allowed_effective_fg_percent_std, on=['team', 'season'], how='left')\n",
    "vs_tourney_team_allowed_effective_fg_percent_std.rename(columns={'vs_tourney_team_allowed_effective_fg_percent_std': 'opponent_vs_tourney_team_allowed_effective_fg_percent_std', 'team':'opponent'}, inplace=True)\n",
    "tourney_games = tourney_games.merge(vs_tourney_team_allowed_effective_fg_percent_std, on=['opponent', 'season'], how='left')"
   ]
  },
  {
   "cell_type": "code",
   "execution_count": 303,
   "metadata": {},
   "outputs": [],
   "source": [
    "season_allowed_turnover_percent = pre_tourney_games[['team', 'season','opponent_turnover_percent']].groupby(['team', 'season']).mean().reset_index().rename(columns={'opponent_turnover_percent': 'season_allowed_turnover_percent'})\n",
    "tourney_games = tourney_games.merge(season_allowed_turnover_percent, on=['team', 'season'], how='left')\n",
    "season_allowed_turnover_percent.rename(columns={'season_allowed_turnover_percent': 'opponent_season_allowed_turnover_percent', 'team':'opponent'}, inplace=True)\n",
    "tourney_games = tourney_games.merge(season_allowed_turnover_percent, on=['opponent', 'season'], how='left')"
   ]
  },
  {
   "cell_type": "code",
   "execution_count": 304,
   "metadata": {},
   "outputs": [],
   "source": [
    "season_allowed_turnover_percent_std = pre_tourney_games[['team', 'season','opponent_turnover_percent']].groupby(['team', 'season']).std().reset_index().rename(columns={'opponent_turnover_percent': 'season_allowed_turnover_percent_std'})\n",
    "tourney_games = tourney_games.merge(season_allowed_turnover_percent_std, on=['team', 'season'], how='left')\n",
    "season_allowed_turnover_percent_std.rename(columns={'season_allowed_turnover_percent_std': 'opponent_season_allowed_turnover_percent_std', 'team':'opponent'}, inplace=True)\n",
    "tourney_games = tourney_games.merge(season_allowed_turnover_percent_std, on=['opponent', 'season'], how='left')"
   ]
  },
  {
   "cell_type": "code",
   "execution_count": 305,
   "metadata": {},
   "outputs": [],
   "source": [
    "vs_tourney_team_allowed_turnover_percent = games_vs_tourney_teams[['team', 'season','opponent_turnover_percent']].groupby(['team', 'season']).mean().reset_index().rename(columns={'opponent_turnover_percent': 'vs_tourney_team_allowed_turnover_percent'})\n",
    "tourney_games = tourney_games.merge(vs_tourney_team_allowed_turnover_percent, on=['team', 'season'], how='left')\n",
    "vs_tourney_team_allowed_turnover_percent.rename(columns={'vs_tourney_team_allowed_turnover_percent': 'opponent_vs_tourney_team_allowed_turnover_percent', 'team':'opponent'}, inplace=True)\n",
    "tourney_games = tourney_games.merge(vs_tourney_team_allowed_turnover_percent, on=['opponent', 'season'], how='left')"
   ]
  },
  {
   "cell_type": "code",
   "execution_count": 306,
   "metadata": {},
   "outputs": [],
   "source": [
    "vs_tourney_team_allowed_turnover_percent_std = games_vs_tourney_teams[['team', 'season','opponent_turnover_percent']].groupby(['team', 'season']).std().reset_index().rename(columns={'opponent_turnover_percent': 'vs_tourney_team_allowed_turnover_percent_std'})\n",
    "tourney_games = tourney_games.merge(vs_tourney_team_allowed_turnover_percent_std, on=['team', 'season'], how='left')\n",
    "vs_tourney_team_allowed_turnover_percent_std.rename(columns={'vs_tourney_team_allowed_turnover_percent_std': 'opponent_vs_tourney_team_allowed_turnover_percent_std', 'team':'opponent'}, inplace=True)\n",
    "tourney_games = tourney_games.merge(vs_tourney_team_allowed_turnover_percent_std, on=['opponent', 'season'], how='left')"
   ]
  },
  {
   "cell_type": "code",
   "execution_count": 307,
   "metadata": {},
   "outputs": [],
   "source": [
    "season_allowed_offensive_rebound_percent = pre_tourney_games[['team', 'season','opponent_offensive_rebound_percent']].groupby(['team', 'season']).mean().reset_index().rename(columns={'opponent_offensive_rebound_percent': 'season_allowed_offensive_rebound_percent'})\n",
    "tourney_games = tourney_games.merge(season_allowed_offensive_rebound_percent, on=['team', 'season'], how='left')\n",
    "season_allowed_offensive_rebound_percent.rename(columns={'season_allowed_offensive_rebound_percent': 'opponent_season_allowed_offensive_rebound_percent', 'team':'opponent'}, inplace=True)\n",
    "tourney_games = tourney_games.merge(season_allowed_offensive_rebound_percent, on=['opponent', 'season'], how='left')"
   ]
  },
  {
   "cell_type": "code",
   "execution_count": 308,
   "metadata": {},
   "outputs": [],
   "source": [
    "season_allowed_offensive_rebound_percent_std = pre_tourney_games[['team', 'season','opponent_offensive_rebound_percent']].groupby(['team', 'season']).std().reset_index().rename(columns={'opponent_offensive_rebound_percent': 'season_allowed_offensive_rebound_percent_std'})\n",
    "tourney_games = tourney_games.merge(season_allowed_offensive_rebound_percent_std, on=['team', 'season'], how='left')\n",
    "season_allowed_offensive_rebound_percent_std.rename(columns={'season_allowed_offensive_rebound_percent_std': 'opponent_season_allowed_offensive_rebound_percent_std', 'team':'opponent'}, inplace=True)\n",
    "tourney_games = tourney_games.merge(season_allowed_offensive_rebound_percent_std, on=['opponent', 'season'], how='left')"
   ]
  },
  {
   "cell_type": "code",
   "execution_count": 309,
   "metadata": {},
   "outputs": [],
   "source": [
    "vs_tourney_team_allowed_offensive_rebound_percent = games_vs_tourney_teams[['team', 'season','opponent_offensive_rebound_percent']].groupby(['team', 'season']).mean().reset_index().rename(columns={'opponent_offensive_rebound_percent': 'vs_tourney_team_allowed_offensive_rebound_percent'})\n",
    "tourney_games = tourney_games.merge(vs_tourney_team_allowed_offensive_rebound_percent, on=['team', 'season'], how='left')\n",
    "vs_tourney_team_allowed_offensive_rebound_percent.rename(columns={'vs_tourney_team_allowed_offensive_rebound_percent': 'opponent_vs_tourney_team_allowed_offensive_rebound_percent', 'team':'opponent'}, inplace=True)\n",
    "tourney_games = tourney_games.merge(vs_tourney_team_allowed_offensive_rebound_percent, on=['opponent', 'season'], how='left')"
   ]
  },
  {
   "cell_type": "code",
   "execution_count": 310,
   "metadata": {},
   "outputs": [],
   "source": [
    "vs_tourney_team_allowed_offensive_rebound_percent_std = games_vs_tourney_teams[['team', 'season','opponent_offensive_rebound_percent']].groupby(['team', 'season']).std().reset_index().rename(columns={'opponent_offensive_rebound_percent': 'vs_tourney_team_allowed_offensive_rebound_percent_std'})\n",
    "tourney_games = tourney_games.merge(vs_tourney_team_allowed_offensive_rebound_percent_std, on=['team', 'season'], how='left')\n",
    "vs_tourney_team_allowed_offensive_rebound_percent_std.rename(columns={'vs_tourney_team_allowed_offensive_rebound_percent_std': 'opponent_vs_tourney_team_allowed_offensive_rebound_percent_std', 'team':'opponent'}, inplace=True)\n",
    "tourney_games = tourney_games.merge(vs_tourney_team_allowed_offensive_rebound_percent_std, on=['opponent', 'season'], how='left')"
   ]
  },
  {
   "cell_type": "code",
   "execution_count": 311,
   "metadata": {},
   "outputs": [],
   "source": [
    "season_allowed_free_throw_rate = pre_tourney_games[['team', 'season','opponent_free_throw_rate']].groupby(['team', 'season']).mean().reset_index().rename(columns={'opponent_free_throw_rate': 'season_allowed_free_throw_rate'})\n",
    "tourney_games = tourney_games.merge(season_allowed_free_throw_rate, on=['team', 'season'], how='left')\n",
    "season_allowed_free_throw_rate.rename(columns={'season_allowed_free_throw_rate': 'opponent_season_allowed_free_throw_rate', 'team':'opponent'}, inplace=True)\n",
    "tourney_games = tourney_games.merge(season_allowed_free_throw_rate, on=['opponent', 'season'], how='left')"
   ]
  },
  {
   "cell_type": "code",
   "execution_count": 312,
   "metadata": {},
   "outputs": [],
   "source": [
    "season_allowed_free_throw_rate_std = pre_tourney_games[['team', 'season','opponent_free_throw_rate']].groupby(['team', 'season']).std().reset_index().rename(columns={'opponent_free_throw_rate': 'season_allowed_free_throw_rate_std'})\n",
    "tourney_games = tourney_games.merge(season_allowed_free_throw_rate_std, on=['team', 'season'], how='left')\n",
    "season_allowed_free_throw_rate_std.rename(columns={'season_allowed_free_throw_rate_std': 'opponent_season_allowed_free_throw_rate_std', 'team':'opponent'}, inplace=True)\n",
    "tourney_games = tourney_games.merge(season_allowed_free_throw_rate_std, on=['opponent', 'season'], how='left')"
   ]
  },
  {
   "cell_type": "code",
   "execution_count": 313,
   "metadata": {},
   "outputs": [],
   "source": [
    "vs_tourney_team_allowed_free_throw_rate = games_vs_tourney_teams[['team', 'season','opponent_free_throw_rate']].groupby(['team', 'season']).mean().reset_index().rename(columns={'opponent_free_throw_rate': 'vs_tourney_team_allowed_free_throw_rate'})\n",
    "tourney_games = tourney_games.merge(vs_tourney_team_allowed_free_throw_rate, on=['team', 'season'], how='left')\n",
    "vs_tourney_team_allowed_free_throw_rate.rename(columns={'vs_tourney_team_allowed_free_throw_rate': 'opponent_vs_tourney_team_allowed_free_throw_rate', 'team':'opponent'}, inplace=True)\n",
    "tourney_games = tourney_games.merge(vs_tourney_team_allowed_free_throw_rate, on=['opponent', 'season'], how='left')"
   ]
  },
  {
   "cell_type": "code",
   "execution_count": 314,
   "metadata": {},
   "outputs": [],
   "source": [
    "vs_tourney_team_allowed_free_throw_rate_std = games_vs_tourney_teams[['team', 'season','opponent_free_throw_rate']].groupby(['team', 'season']).std().reset_index().rename(columns={'opponent_free_throw_rate': 'vs_tourney_team_allowed_free_throw_rate_std'})\n",
    "tourney_games = tourney_games.merge(vs_tourney_team_allowed_free_throw_rate_std, on=['team', 'season'], how='left')\n",
    "vs_tourney_team_allowed_free_throw_rate_std.rename(columns={'vs_tourney_team_allowed_free_throw_rate_std': 'opponent_vs_tourney_team_allowed_free_throw_rate_std', 'team':'opponent'}, inplace=True)\n",
    "tourney_games = tourney_games.merge(vs_tourney_team_allowed_free_throw_rate_std, on=['opponent', 'season'], how='left')"
   ]
  },
  {
   "cell_type": "code",
   "execution_count": 315,
   "metadata": {},
   "outputs": [
    {
     "data": {
      "text/html": [
       "<div>\n",
       "<style scoped>\n",
       "    .dataframe tbody tr th:only-of-type {\n",
       "        vertical-align: middle;\n",
       "    }\n",
       "\n",
       "    .dataframe tbody tr th {\n",
       "        vertical-align: top;\n",
       "    }\n",
       "\n",
       "    .dataframe thead th {\n",
       "        text-align: right;\n",
       "    }\n",
       "</style>\n",
       "<table border=\"1\" class=\"dataframe\">\n",
       "  <thead>\n",
       "    <tr style=\"text-align: right;\">\n",
       "      <th></th>\n",
       "      <th>date</th>\n",
       "      <th>season</th>\n",
       "      <th>team</th>\n",
       "      <th>opponent</th>\n",
       "      <th>Win_Loss</th>\n",
       "      <th>regular_season_win_pct</th>\n",
       "      <th>opponent_regular_season_win_pct</th>\n",
       "      <th>season_win_pct</th>\n",
       "      <th>opponent_season_win_pct</th>\n",
       "      <th>season_ppg</th>\n",
       "      <th>...</th>\n",
       "      <th>vs_tourney_team_allowed_offensive_rebound_percent_std</th>\n",
       "      <th>opponent_vs_tourney_team_allowed_offensive_rebound_percent_std</th>\n",
       "      <th>season_allowed_free_throw_rate</th>\n",
       "      <th>opponent_season_allowed_free_throw_rate</th>\n",
       "      <th>season_allowed_free_throw_rate_std</th>\n",
       "      <th>opponent_season_allowed_free_throw_rate_std</th>\n",
       "      <th>vs_tourney_team_allowed_free_throw_rate</th>\n",
       "      <th>opponent_vs_tourney_team_allowed_free_throw_rate</th>\n",
       "      <th>vs_tourney_team_allowed_free_throw_rate_std</th>\n",
       "      <th>opponent_vs_tourney_team_allowed_free_throw_rate_std</th>\n",
       "    </tr>\n",
       "  </thead>\n",
       "  <tbody>\n",
       "    <tr>\n",
       "      <th>0</th>\n",
       "      <td>2024-04-20</td>\n",
       "      <td>2024</td>\n",
       "      <td>Connecticut</td>\n",
       "      <td>Stetson</td>\n",
       "      <td>UNK</td>\n",
       "      <td>0.903226</td>\n",
       "      <td>0.571429</td>\n",
       "      <td>0.911765</td>\n",
       "      <td>0.612903</td>\n",
       "      <td>81.470588</td>\n",
       "      <td>...</td>\n",
       "      <td>8.502908</td>\n",
       "      <td>NaN</td>\n",
       "      <td>33.261765</td>\n",
       "      <td>26.690323</td>\n",
       "      <td>14.750799</td>\n",
       "      <td>16.745096</td>\n",
       "      <td>26.633333</td>\n",
       "      <td>26.300000</td>\n",
       "      <td>10.737318</td>\n",
       "      <td>NaN</td>\n",
       "    </tr>\n",
       "    <tr>\n",
       "      <th>1</th>\n",
       "      <td>2024-04-20</td>\n",
       "      <td>2024</td>\n",
       "      <td>Connecticut</td>\n",
       "      <td>Florida Atlantic</td>\n",
       "      <td>UNK</td>\n",
       "      <td>0.903226</td>\n",
       "      <td>0.774194</td>\n",
       "      <td>0.911765</td>\n",
       "      <td>0.757576</td>\n",
       "      <td>81.470588</td>\n",
       "      <td>...</td>\n",
       "      <td>8.502908</td>\n",
       "      <td>12.417515</td>\n",
       "      <td>33.261765</td>\n",
       "      <td>27.621212</td>\n",
       "      <td>14.750799</td>\n",
       "      <td>10.817629</td>\n",
       "      <td>26.633333</td>\n",
       "      <td>29.166667</td>\n",
       "      <td>10.737318</td>\n",
       "      <td>4.735258</td>\n",
       "    </tr>\n",
       "    <tr>\n",
       "      <th>2</th>\n",
       "      <td>2024-04-20</td>\n",
       "      <td>2024</td>\n",
       "      <td>Connecticut</td>\n",
       "      <td>Northwestern</td>\n",
       "      <td>UNK</td>\n",
       "      <td>0.903226</td>\n",
       "      <td>0.677419</td>\n",
       "      <td>0.911765</td>\n",
       "      <td>0.656250</td>\n",
       "      <td>81.470588</td>\n",
       "      <td>...</td>\n",
       "      <td>8.502908</td>\n",
       "      <td>10.744819</td>\n",
       "      <td>33.261765</td>\n",
       "      <td>39.984375</td>\n",
       "      <td>14.750799</td>\n",
       "      <td>15.558902</td>\n",
       "      <td>26.633333</td>\n",
       "      <td>45.600000</td>\n",
       "      <td>10.737318</td>\n",
       "      <td>15.623409</td>\n",
       "    </tr>\n",
       "    <tr>\n",
       "      <th>3</th>\n",
       "      <td>2024-04-20</td>\n",
       "      <td>2024</td>\n",
       "      <td>Connecticut</td>\n",
       "      <td>San Diego St.</td>\n",
       "      <td>UNK</td>\n",
       "      <td>0.903226</td>\n",
       "      <td>0.689655</td>\n",
       "      <td>0.911765</td>\n",
       "      <td>0.687500</td>\n",
       "      <td>81.470588</td>\n",
       "      <td>...</td>\n",
       "      <td>8.502908</td>\n",
       "      <td>8.363348</td>\n",
       "      <td>33.261765</td>\n",
       "      <td>33.890625</td>\n",
       "      <td>14.750799</td>\n",
       "      <td>13.853341</td>\n",
       "      <td>26.633333</td>\n",
       "      <td>37.670588</td>\n",
       "      <td>10.737318</td>\n",
       "      <td>12.926995</td>\n",
       "    </tr>\n",
       "    <tr>\n",
       "      <th>4</th>\n",
       "      <td>2024-04-20</td>\n",
       "      <td>2024</td>\n",
       "      <td>Connecticut</td>\n",
       "      <td>UAB</td>\n",
       "      <td>UNK</td>\n",
       "      <td>0.903226</td>\n",
       "      <td>0.633333</td>\n",
       "      <td>0.911765</td>\n",
       "      <td>0.666667</td>\n",
       "      <td>81.470588</td>\n",
       "      <td>...</td>\n",
       "      <td>8.502908</td>\n",
       "      <td>11.758274</td>\n",
       "      <td>33.261765</td>\n",
       "      <td>31.912121</td>\n",
       "      <td>14.750799</td>\n",
       "      <td>11.336825</td>\n",
       "      <td>26.633333</td>\n",
       "      <td>26.300000</td>\n",
       "      <td>10.737318</td>\n",
       "      <td>12.981910</td>\n",
       "    </tr>\n",
       "    <tr>\n",
       "      <th>...</th>\n",
       "      <td>...</td>\n",
       "      <td>...</td>\n",
       "      <td>...</td>\n",
       "      <td>...</td>\n",
       "      <td>...</td>\n",
       "      <td>...</td>\n",
       "      <td>...</td>\n",
       "      <td>...</td>\n",
       "      <td>...</td>\n",
       "      <td>...</td>\n",
       "      <td>...</td>\n",
       "      <td>...</td>\n",
       "      <td>...</td>\n",
       "      <td>...</td>\n",
       "      <td>...</td>\n",
       "      <td>...</td>\n",
       "      <td>...</td>\n",
       "      <td>...</td>\n",
       "      <td>...</td>\n",
       "      <td>...</td>\n",
       "      <td>...</td>\n",
       "    </tr>\n",
       "    <tr>\n",
       "      <th>4551</th>\n",
       "      <td>2024-04-20</td>\n",
       "      <td>2024</td>\n",
       "      <td>Saint Peter's</td>\n",
       "      <td>Akron</td>\n",
       "      <td>UNK</td>\n",
       "      <td>0.535714</td>\n",
       "      <td>0.655172</td>\n",
       "      <td>0.580645</td>\n",
       "      <td>0.687500</td>\n",
       "      <td>65.096774</td>\n",
       "      <td>...</td>\n",
       "      <td>NaN</td>\n",
       "      <td>5.230280</td>\n",
       "      <td>43.580645</td>\n",
       "      <td>29.456250</td>\n",
       "      <td>17.358311</td>\n",
       "      <td>12.703516</td>\n",
       "      <td>54.900000</td>\n",
       "      <td>25.925000</td>\n",
       "      <td>NaN</td>\n",
       "      <td>1.862570</td>\n",
       "    </tr>\n",
       "    <tr>\n",
       "      <th>4552</th>\n",
       "      <td>2024-04-20</td>\n",
       "      <td>2024</td>\n",
       "      <td>Saint Peter's</td>\n",
       "      <td>Texas</td>\n",
       "      <td>UNK</td>\n",
       "      <td>0.535714</td>\n",
       "      <td>0.645161</td>\n",
       "      <td>0.580645</td>\n",
       "      <td>0.625000</td>\n",
       "      <td>65.096774</td>\n",
       "      <td>...</td>\n",
       "      <td>NaN</td>\n",
       "      <td>8.157814</td>\n",
       "      <td>43.580645</td>\n",
       "      <td>36.103125</td>\n",
       "      <td>17.358311</td>\n",
       "      <td>17.665704</td>\n",
       "      <td>54.900000</td>\n",
       "      <td>37.475000</td>\n",
       "      <td>NaN</td>\n",
       "      <td>19.921853</td>\n",
       "    </tr>\n",
       "    <tr>\n",
       "      <th>4553</th>\n",
       "      <td>2024-04-20</td>\n",
       "      <td>2024</td>\n",
       "      <td>Saint Peter's</td>\n",
       "      <td>Virginia</td>\n",
       "      <td>UNK</td>\n",
       "      <td>0.535714</td>\n",
       "      <td>0.709677</td>\n",
       "      <td>0.580645</td>\n",
       "      <td>0.696970</td>\n",
       "      <td>65.096774</td>\n",
       "      <td>...</td>\n",
       "      <td>NaN</td>\n",
       "      <td>13.600745</td>\n",
       "      <td>43.580645</td>\n",
       "      <td>26.496970</td>\n",
       "      <td>17.358311</td>\n",
       "      <td>14.178516</td>\n",
       "      <td>54.900000</td>\n",
       "      <td>22.866667</td>\n",
       "      <td>NaN</td>\n",
       "      <td>9.858372</td>\n",
       "    </tr>\n",
       "    <tr>\n",
       "      <th>4554</th>\n",
       "      <td>2024-04-20</td>\n",
       "      <td>2024</td>\n",
       "      <td>Saint Peter's</td>\n",
       "      <td>Colorado St.</td>\n",
       "      <td>UNK</td>\n",
       "      <td>0.535714</td>\n",
       "      <td>0.689655</td>\n",
       "      <td>0.580645</td>\n",
       "      <td>0.687500</td>\n",
       "      <td>65.096774</td>\n",
       "      <td>...</td>\n",
       "      <td>NaN</td>\n",
       "      <td>6.981861</td>\n",
       "      <td>43.580645</td>\n",
       "      <td>32.500000</td>\n",
       "      <td>17.358311</td>\n",
       "      <td>15.214509</td>\n",
       "      <td>54.900000</td>\n",
       "      <td>34.906667</td>\n",
       "      <td>NaN</td>\n",
       "      <td>16.404941</td>\n",
       "    </tr>\n",
       "    <tr>\n",
       "      <th>4555</th>\n",
       "      <td>2024-04-20</td>\n",
       "      <td>2024</td>\n",
       "      <td>Saint Peter's</td>\n",
       "      <td>Tennessee</td>\n",
       "      <td>UNK</td>\n",
       "      <td>0.535714</td>\n",
       "      <td>0.774194</td>\n",
       "      <td>0.580645</td>\n",
       "      <td>0.750000</td>\n",
       "      <td>65.096774</td>\n",
       "      <td>...</td>\n",
       "      <td>NaN</td>\n",
       "      <td>7.262681</td>\n",
       "      <td>43.580645</td>\n",
       "      <td>36.350000</td>\n",
       "      <td>17.358311</td>\n",
       "      <td>14.961779</td>\n",
       "      <td>54.900000</td>\n",
       "      <td>42.338889</td>\n",
       "      <td>NaN</td>\n",
       "      <td>15.924164</td>\n",
       "    </tr>\n",
       "  </tbody>\n",
       "</table>\n",
       "<p>4556 rows × 120 columns</p>\n",
       "</div>"
      ],
      "text/plain": [
       "            date  season           team          opponent Win_Loss  \\\n",
       "0     2024-04-20    2024    Connecticut           Stetson      UNK   \n",
       "1     2024-04-20    2024    Connecticut  Florida Atlantic      UNK   \n",
       "2     2024-04-20    2024    Connecticut      Northwestern      UNK   \n",
       "3     2024-04-20    2024    Connecticut     San Diego St.      UNK   \n",
       "4     2024-04-20    2024    Connecticut               UAB      UNK   \n",
       "...          ...     ...            ...               ...      ...   \n",
       "4551  2024-04-20    2024  Saint Peter's             Akron      UNK   \n",
       "4552  2024-04-20    2024  Saint Peter's             Texas      UNK   \n",
       "4553  2024-04-20    2024  Saint Peter's          Virginia      UNK   \n",
       "4554  2024-04-20    2024  Saint Peter's      Colorado St.      UNK   \n",
       "4555  2024-04-20    2024  Saint Peter's         Tennessee      UNK   \n",
       "\n",
       "      regular_season_win_pct  opponent_regular_season_win_pct  season_win_pct  \\\n",
       "0                   0.903226                         0.571429        0.911765   \n",
       "1                   0.903226                         0.774194        0.911765   \n",
       "2                   0.903226                         0.677419        0.911765   \n",
       "3                   0.903226                         0.689655        0.911765   \n",
       "4                   0.903226                         0.633333        0.911765   \n",
       "...                      ...                              ...             ...   \n",
       "4551                0.535714                         0.655172        0.580645   \n",
       "4552                0.535714                         0.645161        0.580645   \n",
       "4553                0.535714                         0.709677        0.580645   \n",
       "4554                0.535714                         0.689655        0.580645   \n",
       "4555                0.535714                         0.774194        0.580645   \n",
       "\n",
       "      opponent_season_win_pct  season_ppg  ...  \\\n",
       "0                    0.612903   81.470588  ...   \n",
       "1                    0.757576   81.470588  ...   \n",
       "2                    0.656250   81.470588  ...   \n",
       "3                    0.687500   81.470588  ...   \n",
       "4                    0.666667   81.470588  ...   \n",
       "...                       ...         ...  ...   \n",
       "4551                 0.687500   65.096774  ...   \n",
       "4552                 0.625000   65.096774  ...   \n",
       "4553                 0.696970   65.096774  ...   \n",
       "4554                 0.687500   65.096774  ...   \n",
       "4555                 0.750000   65.096774  ...   \n",
       "\n",
       "      vs_tourney_team_allowed_offensive_rebound_percent_std  \\\n",
       "0                                              8.502908       \n",
       "1                                              8.502908       \n",
       "2                                              8.502908       \n",
       "3                                              8.502908       \n",
       "4                                              8.502908       \n",
       "...                                                 ...       \n",
       "4551                                                NaN       \n",
       "4552                                                NaN       \n",
       "4553                                                NaN       \n",
       "4554                                                NaN       \n",
       "4555                                                NaN       \n",
       "\n",
       "      opponent_vs_tourney_team_allowed_offensive_rebound_percent_std  \\\n",
       "0                                                   NaN                \n",
       "1                                             12.417515                \n",
       "2                                             10.744819                \n",
       "3                                              8.363348                \n",
       "4                                             11.758274                \n",
       "...                                                 ...                \n",
       "4551                                           5.230280                \n",
       "4552                                           8.157814                \n",
       "4553                                          13.600745                \n",
       "4554                                           6.981861                \n",
       "4555                                           7.262681                \n",
       "\n",
       "      season_allowed_free_throw_rate  opponent_season_allowed_free_throw_rate  \\\n",
       "0                          33.261765                                26.690323   \n",
       "1                          33.261765                                27.621212   \n",
       "2                          33.261765                                39.984375   \n",
       "3                          33.261765                                33.890625   \n",
       "4                          33.261765                                31.912121   \n",
       "...                              ...                                      ...   \n",
       "4551                       43.580645                                29.456250   \n",
       "4552                       43.580645                                36.103125   \n",
       "4553                       43.580645                                26.496970   \n",
       "4554                       43.580645                                32.500000   \n",
       "4555                       43.580645                                36.350000   \n",
       "\n",
       "      season_allowed_free_throw_rate_std  \\\n",
       "0                              14.750799   \n",
       "1                              14.750799   \n",
       "2                              14.750799   \n",
       "3                              14.750799   \n",
       "4                              14.750799   \n",
       "...                                  ...   \n",
       "4551                           17.358311   \n",
       "4552                           17.358311   \n",
       "4553                           17.358311   \n",
       "4554                           17.358311   \n",
       "4555                           17.358311   \n",
       "\n",
       "      opponent_season_allowed_free_throw_rate_std  \\\n",
       "0                                       16.745096   \n",
       "1                                       10.817629   \n",
       "2                                       15.558902   \n",
       "3                                       13.853341   \n",
       "4                                       11.336825   \n",
       "...                                           ...   \n",
       "4551                                    12.703516   \n",
       "4552                                    17.665704   \n",
       "4553                                    14.178516   \n",
       "4554                                    15.214509   \n",
       "4555                                    14.961779   \n",
       "\n",
       "      vs_tourney_team_allowed_free_throw_rate  \\\n",
       "0                                   26.633333   \n",
       "1                                   26.633333   \n",
       "2                                   26.633333   \n",
       "3                                   26.633333   \n",
       "4                                   26.633333   \n",
       "...                                       ...   \n",
       "4551                                54.900000   \n",
       "4552                                54.900000   \n",
       "4553                                54.900000   \n",
       "4554                                54.900000   \n",
       "4555                                54.900000   \n",
       "\n",
       "      opponent_vs_tourney_team_allowed_free_throw_rate  \\\n",
       "0                                            26.300000   \n",
       "1                                            29.166667   \n",
       "2                                            45.600000   \n",
       "3                                            37.670588   \n",
       "4                                            26.300000   \n",
       "...                                                ...   \n",
       "4551                                         25.925000   \n",
       "4552                                         37.475000   \n",
       "4553                                         22.866667   \n",
       "4554                                         34.906667   \n",
       "4555                                         42.338889   \n",
       "\n",
       "      vs_tourney_team_allowed_free_throw_rate_std  \\\n",
       "0                                       10.737318   \n",
       "1                                       10.737318   \n",
       "2                                       10.737318   \n",
       "3                                       10.737318   \n",
       "4                                       10.737318   \n",
       "...                                           ...   \n",
       "4551                                          NaN   \n",
       "4552                                          NaN   \n",
       "4553                                          NaN   \n",
       "4554                                          NaN   \n",
       "4555                                          NaN   \n",
       "\n",
       "      opponent_vs_tourney_team_allowed_free_throw_rate_std  \n",
       "0                                                   NaN     \n",
       "1                                              4.735258     \n",
       "2                                             15.623409     \n",
       "3                                             12.926995     \n",
       "4                                             12.981910     \n",
       "...                                                 ...     \n",
       "4551                                           1.862570     \n",
       "4552                                          19.921853     \n",
       "4553                                           9.858372     \n",
       "4554                                          16.404941     \n",
       "4555                                          15.924164     \n",
       "\n",
       "[4556 rows x 120 columns]"
      ]
     },
     "execution_count": 315,
     "metadata": {},
     "output_type": "execute_result"
    }
   ],
   "source": [
    "tourney_games"
   ]
  },
  {
   "cell_type": "code",
   "execution_count": 316,
   "metadata": {},
   "outputs": [
    {
     "data": {
      "text/plain": [
       "204"
      ]
     },
     "execution_count": 316,
     "metadata": {},
     "output_type": "execute_result"
    }
   ],
   "source": [
    "tourney_games.to_sql('tourney_games_2024_potential', conn, if_exists='replace', index=False, schema='sports_data')"
   ]
  },
  {
   "cell_type": "code",
   "execution_count": 317,
   "metadata": {},
   "outputs": [],
   "source": [
    "conn.commit()"
   ]
  },
  {
   "cell_type": "code",
   "execution_count": null,
   "metadata": {},
   "outputs": [],
   "source": []
  }
 ],
 "metadata": {
  "kernelspec": {
   "display_name": ".venv",
   "language": "python",
   "name": "python3"
  },
  "language_info": {
   "codemirror_mode": {
    "name": "ipython",
    "version": 3
   },
   "file_extension": ".py",
   "mimetype": "text/x-python",
   "name": "python",
   "nbconvert_exporter": "python",
   "pygments_lexer": "ipython3",
   "version": "3.10.6"
  },
  "orig_nbformat": 4
 },
 "nbformat": 4,
 "nbformat_minor": 2
}
