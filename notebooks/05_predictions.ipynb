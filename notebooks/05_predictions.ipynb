{
 "cells": [
  {
   "cell_type": "code",
   "execution_count": 45,
   "metadata": {},
   "outputs": [],
   "source": [
    "import os\n",
    "import pandas as pd\n",
    "import numpy as np\n",
    "import sqlalchemy\n",
    "import sklearn\n",
    "from dotenv import load_dotenv, find_dotenv\n",
    "_ = load_dotenv(find_dotenv())\n",
    "\n",
    "connection_string = os.getenv(\"LINODE_CONN_STRING\")\n",
    "connection_string = os.getenv(\"LINODE_CONN_STRING\")\n",
    "conn = sqlalchemy.create_engine(os.getenv(\"LINODE_CONN_STRING\")).connect()"
   ]
  },
  {
   "cell_type": "code",
   "execution_count": 47,
   "metadata": {},
   "outputs": [],
   "source": [
    "data = pd.read_sql(\"select * from sports_data.tourney_games_through_2023_final\", conn)"
   ]
  },
  {
   "cell_type": "code",
   "execution_count": 48,
   "metadata": {},
   "outputs": [],
   "source": [
    "data = data.replace(np.NaN, 0)"
   ]
  },
  {
   "cell_type": "code",
   "execution_count": 49,
   "metadata": {},
   "outputs": [],
   "source": [
    "data['Win_Loss_Flag'] = data['Win_Loss'].apply(lambda x: 1 if x == 'W' else 0)"
   ]
  },
  {
   "cell_type": "code",
   "execution_count": 50,
   "metadata": {},
   "outputs": [
    {
     "data": {
      "text/plain": [
       "Index(['date', 'season', 'team', 'opponent', 'Win_Loss',\n",
       "       'regular_season_win_pct', 'opponent_regular_season_win_pct',\n",
       "       'season_win_pct', 'opponent_season_win_pct', 'season_ppg',\n",
       "       ...\n",
       "       'opponent_season_allowed_free_throw_rate_std',\n",
       "       'vs_tourney_team_allowed_free_throw_rate',\n",
       "       'opponent_vs_tourney_team_allowed_free_throw_rate',\n",
       "       'vs_tourney_team_allowed_free_throw_rate_std',\n",
       "       'opponent_vs_tourney_team_allowed_free_throw_rate_std',\n",
       "       'last_10_allowed_free_throw_rate',\n",
       "       'opponent_last_10_allowed_free_throw_rate',\n",
       "       'last_10_allowed_free_throw_rate_std',\n",
       "       'opponent_last_10_allowed_free_throw_rate_std', 'Win_Loss_Flag'],\n",
       "      dtype='object', length=177)"
      ]
     },
     "execution_count": 50,
     "metadata": {},
     "output_type": "execute_result"
    }
   ],
   "source": [
    "data.columns"
   ]
  },
  {
   "cell_type": "code",
   "execution_count": 51,
   "metadata": {},
   "outputs": [],
   "source": [
    "predictor_cols = data.columns.to_list()"
   ]
  },
  {
   "cell_type": "code",
   "execution_count": 52,
   "metadata": {},
   "outputs": [],
   "source": [
    "predictor_cols.remove('Win_Loss')\n",
    "predictor_cols.remove('Win_Loss_Flag')\n",
    "# 'date', 'season', 'team', 'opponent'\n",
    "predictor_cols.remove('date')\n",
    "predictor_cols.remove('season')\n",
    "predictor_cols.remove('team')\n",
    "predictor_cols.remove('opponent')"
   ]
  },
  {
   "cell_type": "code",
   "execution_count": 53,
   "metadata": {},
   "outputs": [],
   "source": [
    "predictors = data[predictor_cols]\n",
    "predictors_and_response = pd.concat([predictors, data['Win_Loss_Flag']], axis=1)"
   ]
  },
  {
   "cell_type": "code",
   "execution_count": 54,
   "metadata": {},
   "outputs": [],
   "source": [
    "prediction_data = data[predictor_cols]\n",
    "prediction_data_normalized = (prediction_data-prediction_data.mean())/prediction_data.std()"
   ]
  },
  {
   "cell_type": "code",
   "execution_count": 55,
   "metadata": {},
   "outputs": [
    {
     "data": {
      "text/plain": [
       "0       0\n",
       "1       1\n",
       "2       1\n",
       "3       0\n",
       "4       1\n",
       "       ..\n",
       "2211    0\n",
       "2212    1\n",
       "2213    0\n",
       "2214    1\n",
       "2215    0\n",
       "Name: Win_Loss_Flag, Length: 2216, dtype: int64"
      ]
     },
     "execution_count": 55,
     "metadata": {},
     "output_type": "execute_result"
    }
   ],
   "source": [
    "data['Win_Loss_Flag']"
   ]
  },
  {
   "cell_type": "code",
   "execution_count": 56,
   "metadata": {},
   "outputs": [],
   "source": [
    "from sklearn.linear_model import LogisticRegression\n",
    "clf = LogisticRegression(random_state=0).fit(prediction_data_normalized, data['Win_Loss_Flag'])"
   ]
  },
  {
   "cell_type": "code",
   "execution_count": 57,
   "metadata": {},
   "outputs": [],
   "source": [
    "linreg_no_val_predictions = clf.predict(prediction_data_normalized)"
   ]
  },
  {
   "cell_type": "code",
   "execution_count": 58,
   "metadata": {},
   "outputs": [
    {
     "data": {
      "text/plain": [
       "<sklearn.metrics._plot.confusion_matrix.ConfusionMatrixDisplay at 0x25c24f2bd00>"
      ]
     },
     "execution_count": 58,
     "metadata": {},
     "output_type": "execute_result"
    },
    {
     "data": {
      "image/png": "[encoded data removed]",
      "text/plain": [
       "<Figure size 640x480 with 2 Axes>"
      ]
     },
     "metadata": {},
     "output_type": "display_data"
    }
   ],
   "source": [
    "sklearn.metrics.ConfusionMatrixDisplay(sklearn.metrics.confusion_matrix(data['Win_Loss_Flag'], linreg_no_val_predictions)).plot()"
   ]
  },
  {
   "cell_type": "code",
   "execution_count": 59,
   "metadata": {},
   "outputs": [],
   "source": [
    "def proper_cross_validation(clf, X, y, k=5):\n",
    "    from sklearn.model_selection import KFold\n",
    "    kf = KFold(n_splits=k)\n",
    "    confusion_matrices = []\n",
    "    for train_index, test_index in kf.split(X):\n",
    "        X_train, X_test = X.iloc[train_index], X.iloc[test_index]\n",
    "        y_train, y_test = y.iloc[train_index], y.iloc[test_index]\n",
    "        clf.fit(X_train, y_train)\n",
    "        confusion_matrices.append(sklearn.metrics.confusion_matrix(y_test, clf.predict(X_test)))\n",
    "    total_confusion_matrix = sum(confusion_matrices)\n",
    "    return total_confusion_matrix"
   ]
  },
  {
   "cell_type": "code",
   "execution_count": 60,
   "metadata": {},
   "outputs": [],
   "source": [
    "cms = proper_cross_validation(LogisticRegression(random_state=0), prediction_data_normalized, data['Win_Loss_Flag'])"
   ]
  },
  {
   "cell_type": "code",
   "execution_count": 61,
   "metadata": {},
   "outputs": [
    {
     "data": {
      "text/plain": [
       "<sklearn.metrics._plot.confusion_matrix.ConfusionMatrixDisplay at 0x25c20d94e50>"
      ]
     },
     "execution_count": 61,
     "metadata": {},
     "output_type": "execute_result"
    },
    {
     "data": {
      "image/png": "[encoded data removed]",
      "text/plain": [
       "<Figure size 640x480 with 2 Axes>"
      ]
     },
     "metadata": {},
     "output_type": "display_data"
    }
   ],
   "source": [
    "sklearn.metrics.ConfusionMatrixDisplay(cms).plot()"
   ]
  },
  {
   "cell_type": "code",
   "execution_count": 62,
   "metadata": {},
   "outputs": [
    {
     "data": {
      "text/plain": [
       "array([[869, 239],\n",
       "       [235, 873]], dtype=int64)"
      ]
     },
     "execution_count": 62,
     "metadata": {},
     "output_type": "execute_result"
    }
   ],
   "source": [
    "cms"
   ]
  },
  {
   "cell_type": "code",
   "execution_count": 63,
   "metadata": {},
   "outputs": [],
   "source": [
    "def expected_games_right(confusion_matrix):\n",
    "    accuracy = (confusion_matrix[0,0] + confusion_matrix[1,1]) / confusion_matrix.sum()\n",
    "    print(f\"accuracy: {accuracy}\")\n",
    "    gr = 32.0 * accuracy\n",
    "    gr = gr + (16 * (accuracy ** 2))\n",
    "    gr = gr + (8 * (accuracy ** 3))\n",
    "    gr = gr + (4 * (accuracy ** 4))\n",
    "    gr = gr + (2 * (accuracy ** 5))\n",
    "    gr = gr + (1 * (accuracy ** 6))\n",
    "    return gr"
   ]
  },
  {
   "cell_type": "code",
   "execution_count": 64,
   "metadata": {},
   "outputs": [],
   "source": [
    "def expected_score(confusion_matrix):\n",
    "    accuracy = (confusion_matrix[0,0] + confusion_matrix[1,1]) / confusion_matrix.sum()\n",
    "    gr = 32.0 * accuracy\n",
    "    gr = gr + (32 * (accuracy ** 2))\n",
    "    gr = gr + (32 * (accuracy ** 3))\n",
    "    gr = gr + (32 * (accuracy ** 4))\n",
    "    gr = gr + (32 * (accuracy ** 5))\n",
    "    gr = gr + (32 * (accuracy ** 6))\n",
    "    return gr"
   ]
  },
  {
   "cell_type": "code",
   "execution_count": 65,
   "metadata": {},
   "outputs": [
    {
     "name": "stdout",
     "output_type": "stream",
     "text": [
      "accuracy: 0.7861010830324909\n"
     ]
    },
    {
     "data": {
      "text/plain": [
       "41.2925380709715"
      ]
     },
     "execution_count": 65,
     "metadata": {},
     "output_type": "execute_result"
    }
   ],
   "source": [
    "expected_games_right(cms)"
   ]
  },
  {
   "cell_type": "code",
   "execution_count": 66,
   "metadata": {},
   "outputs": [
    {
     "data": {
      "text/plain": [
       "89.8516395553321"
      ]
     },
     "execution_count": 66,
     "metadata": {},
     "output_type": "execute_result"
    }
   ],
   "source": [
    "expected_score(cms)"
   ]
  },
  {
   "cell_type": "code",
   "execution_count": 82,
   "metadata": {},
   "outputs": [
    {
     "name": "stdout",
     "output_type": "stream",
     "text": [
      "accuracy: 0.7870036101083032\n",
      "expected games correct: 41.3696474430498\n",
      "expected score: 90.14320860460079\n"
     ]
    },
    {
     "data": {
      "image/png": "[encoded data removed]",
      "text/plain": [
       "<Figure size 640x480 with 2 Axes>"
      ]
     },
     "metadata": {},
     "output_type": "display_data"
    }
   ],
   "source": [
    "from sklearn.decomposition import PCA\n",
    "from sklearn.neural_network import MLPClassifier\n",
    "pca = PCA(n_components=171)\n",
    "pca.fit(prediction_data_normalized)\n",
    "# tol=0.000001, max_iter=30000, solver=\"liblinear\"\n",
    "cms = proper_cross_validation(LogisticRegression(max_iter=30000), pd.DataFrame(pca.transform(prediction_data_normalized)), data['Win_Loss_Flag'])\n",
    "sklearn.metrics.ConfusionMatrixDisplay(cms).plot()\n",
    "print(f\"expected games correct: {expected_games_right(cms)}\")\n",
    "print(f\"expected score: {expected_score(cms)}\")"
   ]
  },
  {
   "cell_type": "code",
   "execution_count": 84,
   "metadata": {},
   "outputs": [
    {
     "name": "stdout",
     "output_type": "stream",
     "text": [
      "accuracy: 0.5049638989169675\n",
      "accuracy: 0.6696750902527075\n",
      "accuracy: 0.6814079422382672\n",
      "accuracy: 0.7066787003610109\n",
      "accuracy: 0.7084837545126353\n",
      "accuracy: 0.7111913357400722\n",
      "accuracy: 0.7120938628158845\n"
     ]
    },
    {
     "name": "stderr",
     "output_type": "stream",
     "text": [
      "C:\\Users\\amarl\\AppData\\Local\\Temp\\ipykernel_3144\\1570475966.py:6: FutureWarning: The behavior of DataFrame concatenation with empty or all-NA entries is deprecated. In a future version, this will no longer exclude empty or all-NA columns when determining the result dtypes. To retain the old behavior, exclude the relevant entries before the concat operation.\n",
      "  results_df = pd.concat([results_df, pd.DataFrame({\"n_components\": [i], \"expected_games_right\": [expected_games_right(cms)], \"expected_score\": [expected_score(cms)]})])\n"
     ]
    },
    {
     "name": "stdout",
     "output_type": "stream",
     "text": [
      "accuracy: 0.7274368231046932\n",
      "accuracy: 0.7324007220216606\n",
      "accuracy: 0.7319494584837545\n",
      "accuracy: 0.7405234657039711\n",
      "accuracy: 0.7396209386281588\n",
      "accuracy: 0.7355595667870036\n",
      "accuracy: 0.7396209386281588\n",
      "accuracy: 0.7378158844765343\n",
      "accuracy: 0.7378158844765343\n",
      "accuracy: 0.7414259927797834\n",
      "accuracy: 0.7427797833935018\n",
      "accuracy: 0.7414259927797834\n",
      "accuracy: 0.7423285198555957\n",
      "accuracy: 0.7351083032490975\n",
      "accuracy: 0.7369133574007221\n",
      "accuracy: 0.7382671480144405\n",
      "accuracy: 0.7373646209386282\n",
      "accuracy: 0.7360108303249098\n",
      "accuracy: 0.7369133574007221\n",
      "accuracy: 0.7387184115523465\n",
      "accuracy: 0.7369133574007221\n",
      "accuracy: 0.7319494584837545\n",
      "accuracy: 0.7314981949458483\n",
      "accuracy: 0.7278880866425993\n",
      "accuracy: 0.7274368231046932\n",
      "accuracy: 0.73014440433213\n",
      "accuracy: 0.7265342960288809\n",
      "accuracy: 0.7283393501805054\n",
      "accuracy: 0.7274368231046932\n",
      "accuracy: 0.726985559566787\n",
      "accuracy: 0.7287906137184116\n",
      "accuracy: 0.7324007220216606\n",
      "accuracy: 0.7310469314079422\n",
      "accuracy: 0.7296931407942239\n",
      "accuracy: 0.7274368231046932\n",
      "accuracy: 0.7296931407942239\n",
      "accuracy: 0.7287906137184116\n",
      "accuracy: 0.7265342960288809\n",
      "accuracy: 0.7247292418772563\n",
      "accuracy: 0.7287906137184116\n",
      "accuracy: 0.7342057761732852\n",
      "accuracy: 0.7378158844765343\n",
      "accuracy: 0.7373646209386282\n",
      "accuracy: 0.7369133574007221\n",
      "accuracy: 0.7414259927797834\n",
      "accuracy: 0.7382671480144405\n",
      "accuracy: 0.7382671480144405\n",
      "accuracy: 0.7396209386281588\n",
      "accuracy: 0.740072202166065\n",
      "accuracy: 0.7427797833935018\n",
      "accuracy: 0.7396209386281588\n",
      "accuracy: 0.7373646209386282\n",
      "accuracy: 0.7369133574007221\n",
      "accuracy: 0.7387184115523465\n",
      "accuracy: 0.7414259927797834\n",
      "accuracy: 0.7378158844765343\n",
      "accuracy: 0.7364620938628159\n",
      "accuracy: 0.7355595667870036\n",
      "accuracy: 0.7378158844765343\n",
      "accuracy: 0.7409747292418772\n",
      "accuracy: 0.7382671480144405\n",
      "accuracy: 0.7427797833935018\n",
      "accuracy: 0.7373646209386282\n",
      "accuracy: 0.7391696750902527\n",
      "accuracy: 0.740072202166065\n",
      "accuracy: 0.7364620938628159\n",
      "accuracy: 0.7391696750902527\n",
      "accuracy: 0.7369133574007221\n",
      "accuracy: 0.7373646209386282\n",
      "accuracy: 0.7382671480144405\n",
      "accuracy: 0.7441335740072202\n",
      "accuracy: 0.740072202166065\n",
      "accuracy: 0.7387184115523465\n",
      "accuracy: 0.740072202166065\n",
      "accuracy: 0.7369133574007221\n",
      "accuracy: 0.7364620938628159\n",
      "accuracy: 0.7373646209386282\n",
      "accuracy: 0.7414259927797834\n",
      "accuracy: 0.7436823104693141\n",
      "accuracy: 0.7445848375451264\n",
      "accuracy: 0.7418772563176895\n",
      "accuracy: 0.7513537906137184\n",
      "accuracy: 0.7554151624548736\n",
      "accuracy: 0.7477436823104693\n",
      "accuracy: 0.7540613718411552\n",
      "accuracy: 0.7554151624548736\n",
      "accuracy: 0.7554151624548736\n",
      "accuracy: 0.7585740072202166\n",
      "accuracy: 0.7554151624548736\n",
      "accuracy: 0.7576714801444043\n",
      "accuracy: 0.7522563176895307\n",
      "accuracy: 0.7563176895306859\n",
      "accuracy: 0.7576714801444043\n",
      "accuracy: 0.7554151624548736\n",
      "accuracy: 0.7527075812274369\n",
      "accuracy: 0.7540613718411552\n",
      "accuracy: 0.7481949458483754\n",
      "accuracy: 0.7527075812274369\n",
      "accuracy: 0.7518050541516246\n",
      "accuracy: 0.7481949458483754\n",
      "accuracy: 0.746841155234657\n",
      "accuracy: 0.7513537906137184\n",
      "accuracy: 0.7509025270758123\n",
      "accuracy: 0.7495487364620939\n",
      "accuracy: 0.7463898916967509\n",
      "accuracy: 0.7459386281588448\n",
      "accuracy: 0.7459386281588448\n",
      "accuracy: 0.7477436823104693\n",
      "accuracy: 0.7509025270758123\n",
      "accuracy: 0.7495487364620939\n",
      "accuracy: 0.7463898916967509\n",
      "accuracy: 0.7603790613718412\n",
      "accuracy: 0.7648916967509025\n",
      "accuracy: 0.7594765342960289\n",
      "accuracy: 0.7590252707581228\n",
      "accuracy: 0.759927797833935\n",
      "accuracy: 0.7572202166064982\n",
      "accuracy: 0.756768953068592\n",
      "accuracy: 0.7644404332129964\n",
      "accuracy: 0.7639891696750902\n",
      "accuracy: 0.7630866425992779\n",
      "accuracy: 0.759927797833935\n",
      "accuracy: 0.7617328519855595\n",
      "accuracy: 0.7675992779783394\n",
      "accuracy: 0.7671480144404332\n",
      "accuracy: 0.7671480144404332\n",
      "accuracy: 0.7666967509025271\n",
      "accuracy: 0.7648916967509025\n",
      "accuracy: 0.7648916967509025\n",
      "accuracy: 0.7689530685920578\n",
      "accuracy: 0.7671480144404332\n",
      "accuracy: 0.769404332129964\n",
      "accuracy: 0.7689530685920578\n",
      "accuracy: 0.76985559566787\n",
      "accuracy: 0.7739169675090253\n",
      "accuracy: 0.7815884476534296\n",
      "accuracy: 0.7861010830324909\n",
      "accuracy: 0.7865523465703971\n",
      "accuracy: 0.7842960288808665\n",
      "accuracy: 0.7842960288808665\n",
      "accuracy: 0.7824909747292419\n",
      "accuracy: 0.782942238267148\n",
      "accuracy: 0.7833935018050542\n",
      "accuracy: 0.7833935018050542\n",
      "accuracy: 0.7838447653429603\n",
      "accuracy: 0.7842960288808665\n",
      "accuracy: 0.7815884476534296\n",
      "accuracy: 0.7815884476534296\n",
      "accuracy: 0.7833935018050542\n",
      "accuracy: 0.7865523465703971\n",
      "accuracy: 0.7870036101083032\n",
      "accuracy: 0.7865523465703971\n",
      "accuracy: 0.7851985559566786\n",
      "accuracy: 0.7851985559566786\n",
      "accuracy: 0.7856498194945848\n",
      "accuracy: 0.7856498194945848\n",
      "accuracy: 0.7851985559566786\n",
      "accuracy: 0.7861010830324909\n",
      "accuracy: 0.7838447653429603\n",
      "accuracy: 0.7861010830324909\n",
      "accuracy: 0.7865523465703971\n",
      "accuracy: 0.7861010830324909\n",
      "accuracy: 0.7870036101083032\n",
      "accuracy: 0.7870036101083032\n"
     ]
    }
   ],
   "source": [
    "results_df = pd.DataFrame(columns=[\"n_components\", \"expected_games_right\", \"expected_score\"])\n",
    "for i in range(1, 172):\n",
    "    pca = PCA(n_components=i)\n",
    "    pca.fit(prediction_data_normalized)\n",
    "    cms = proper_cross_validation(LogisticRegression(max_iter=30000), pd.DataFrame(pca.transform(prediction_data_normalized)), data['Win_Loss_Flag'])\n",
    "    results_df = pd.concat([results_df, pd.DataFrame({\"n_components\": [i], \"expected_games_right\": [expected_games_right(cms)], \"expected_score\": [expected_score(cms)]})])"
   ]
  },
  {
   "cell_type": "code",
   "execution_count": 87,
   "metadata": {},
   "outputs": [
    {
     "data": {
      "text/html": [
       "<div>\n",
       "<style scoped>\n",
       "    .dataframe tbody tr th:only-of-type {\n",
       "        vertical-align: middle;\n",
       "    }\n",
       "\n",
       "    .dataframe tbody tr th {\n",
       "        vertical-align: top;\n",
       "    }\n",
       "\n",
       "    .dataframe thead th {\n",
       "        text-align: right;\n",
       "    }\n",
       "</style>\n",
       "<table border=\"1\" class=\"dataframe\">\n",
       "  <thead>\n",
       "    <tr style=\"text-align: right;\">\n",
       "      <th></th>\n",
       "      <th>n_components</th>\n",
       "      <th>expected_games_right</th>\n",
       "      <th>expected_score</th>\n",
       "    </tr>\n",
       "  </thead>\n",
       "  <tbody>\n",
       "    <tr>\n",
       "      <th>0</th>\n",
       "      <td>142</td>\n",
       "      <td>40.261872</td>\n",
       "      <td>86.004380</td>\n",
       "    </tr>\n",
       "    <tr>\n",
       "      <th>0</th>\n",
       "      <td>143</td>\n",
       "      <td>40.908579</td>\n",
       "      <td>88.407541</td>\n",
       "    </tr>\n",
       "    <tr>\n",
       "      <th>0</th>\n",
       "      <td>144</td>\n",
       "      <td>41.292538</td>\n",
       "      <td>89.851640</td>\n",
       "    </tr>\n",
       "    <tr>\n",
       "      <th>0</th>\n",
       "      <td>145</td>\n",
       "      <td>41.331079</td>\n",
       "      <td>89.997309</td>\n",
       "    </tr>\n",
       "    <tr>\n",
       "      <th>0</th>\n",
       "      <td>146</td>\n",
       "      <td>41.138638</td>\n",
       "      <td>89.271259</td>\n",
       "    </tr>\n",
       "    <tr>\n",
       "      <th>0</th>\n",
       "      <td>147</td>\n",
       "      <td>41.138638</td>\n",
       "      <td>89.271259</td>\n",
       "    </tr>\n",
       "    <tr>\n",
       "      <th>0</th>\n",
       "      <td>148</td>\n",
       "      <td>40.985160</td>\n",
       "      <td>88.694537</td>\n",
       "    </tr>\n",
       "    <tr>\n",
       "      <th>0</th>\n",
       "      <td>149</td>\n",
       "      <td>41.023490</td>\n",
       "      <td>88.838376</td>\n",
       "    </tr>\n",
       "    <tr>\n",
       "      <th>0</th>\n",
       "      <td>150</td>\n",
       "      <td>41.061846</td>\n",
       "      <td>88.982442</td>\n",
       "    </tr>\n",
       "    <tr>\n",
       "      <th>0</th>\n",
       "      <td>151</td>\n",
       "      <td>41.061846</td>\n",
       "      <td>88.982442</td>\n",
       "    </tr>\n",
       "    <tr>\n",
       "      <th>0</th>\n",
       "      <td>152</td>\n",
       "      <td>41.100229</td>\n",
       "      <td>89.126737</td>\n",
       "    </tr>\n",
       "    <tr>\n",
       "      <th>0</th>\n",
       "      <td>153</td>\n",
       "      <td>41.138638</td>\n",
       "      <td>89.271259</td>\n",
       "    </tr>\n",
       "    <tr>\n",
       "      <th>0</th>\n",
       "      <td>154</td>\n",
       "      <td>40.908579</td>\n",
       "      <td>88.407541</td>\n",
       "    </tr>\n",
       "    <tr>\n",
       "      <th>0</th>\n",
       "      <td>155</td>\n",
       "      <td>40.908579</td>\n",
       "      <td>88.407541</td>\n",
       "    </tr>\n",
       "    <tr>\n",
       "      <th>0</th>\n",
       "      <td>156</td>\n",
       "      <td>41.061846</td>\n",
       "      <td>88.982442</td>\n",
       "    </tr>\n",
       "    <tr>\n",
       "      <th>0</th>\n",
       "      <td>157</td>\n",
       "      <td>41.331079</td>\n",
       "      <td>89.997309</td>\n",
       "    </tr>\n",
       "    <tr>\n",
       "      <th>0</th>\n",
       "      <td>158</td>\n",
       "      <td>41.369647</td>\n",
       "      <td>90.143209</td>\n",
       "    </tr>\n",
       "    <tr>\n",
       "      <th>0</th>\n",
       "      <td>159</td>\n",
       "      <td>41.331079</td>\n",
       "      <td>89.997309</td>\n",
       "    </tr>\n",
       "    <tr>\n",
       "      <th>0</th>\n",
       "      <td>160</td>\n",
       "      <td>41.215535</td>\n",
       "      <td>89.560991</td>\n",
       "    </tr>\n",
       "    <tr>\n",
       "      <th>0</th>\n",
       "      <td>161</td>\n",
       "      <td>41.215535</td>\n",
       "      <td>89.560991</td>\n",
       "    </tr>\n",
       "    <tr>\n",
       "      <th>0</th>\n",
       "      <td>162</td>\n",
       "      <td>41.254023</td>\n",
       "      <td>89.706200</td>\n",
       "    </tr>\n",
       "    <tr>\n",
       "      <th>0</th>\n",
       "      <td>163</td>\n",
       "      <td>41.254023</td>\n",
       "      <td>89.706200</td>\n",
       "    </tr>\n",
       "    <tr>\n",
       "      <th>0</th>\n",
       "      <td>164</td>\n",
       "      <td>41.215535</td>\n",
       "      <td>89.560991</td>\n",
       "    </tr>\n",
       "    <tr>\n",
       "      <th>0</th>\n",
       "      <td>165</td>\n",
       "      <td>41.292538</td>\n",
       "      <td>89.851640</td>\n",
       "    </tr>\n",
       "    <tr>\n",
       "      <th>0</th>\n",
       "      <td>166</td>\n",
       "      <td>41.100229</td>\n",
       "      <td>89.126737</td>\n",
       "    </tr>\n",
       "    <tr>\n",
       "      <th>0</th>\n",
       "      <td>167</td>\n",
       "      <td>41.292538</td>\n",
       "      <td>89.851640</td>\n",
       "    </tr>\n",
       "    <tr>\n",
       "      <th>0</th>\n",
       "      <td>168</td>\n",
       "      <td>41.331079</td>\n",
       "      <td>89.997309</td>\n",
       "    </tr>\n",
       "    <tr>\n",
       "      <th>0</th>\n",
       "      <td>169</td>\n",
       "      <td>41.292538</td>\n",
       "      <td>89.851640</td>\n",
       "    </tr>\n",
       "    <tr>\n",
       "      <th>0</th>\n",
       "      <td>170</td>\n",
       "      <td>41.369647</td>\n",
       "      <td>90.143209</td>\n",
       "    </tr>\n",
       "    <tr>\n",
       "      <th>0</th>\n",
       "      <td>171</td>\n",
       "      <td>41.369647</td>\n",
       "      <td>90.143209</td>\n",
       "    </tr>\n",
       "  </tbody>\n",
       "</table>\n",
       "</div>"
      ],
      "text/plain": [
       "  n_components  expected_games_right  expected_score\n",
       "0          142             40.261872       86.004380\n",
       "0          143             40.908579       88.407541\n",
       "0          144             41.292538       89.851640\n",
       "0          145             41.331079       89.997309\n",
       "0          146             41.138638       89.271259\n",
       "0          147             41.138638       89.271259\n",
       "0          148             40.985160       88.694537\n",
       "0          149             41.023490       88.838376\n",
       "0          150             41.061846       88.982442\n",
       "0          151             41.061846       88.982442\n",
       "0          152             41.100229       89.126737\n",
       "0          153             41.138638       89.271259\n",
       "0          154             40.908579       88.407541\n",
       "0          155             40.908579       88.407541\n",
       "0          156             41.061846       88.982442\n",
       "0          157             41.331079       89.997309\n",
       "0          158             41.369647       90.143209\n",
       "0          159             41.331079       89.997309\n",
       "0          160             41.215535       89.560991\n",
       "0          161             41.215535       89.560991\n",
       "0          162             41.254023       89.706200\n",
       "0          163             41.254023       89.706200\n",
       "0          164             41.215535       89.560991\n",
       "0          165             41.292538       89.851640\n",
       "0          166             41.100229       89.126737\n",
       "0          167             41.292538       89.851640\n",
       "0          168             41.331079       89.997309\n",
       "0          169             41.292538       89.851640\n",
       "0          170             41.369647       90.143209\n",
       "0          171             41.369647       90.143209"
      ]
     },
     "execution_count": 87,
     "metadata": {},
     "output_type": "execute_result"
    }
   ],
   "source": [
    "results_df.tail(30)"
   ]
  },
  {
   "cell_type": "code",
   "execution_count": 88,
   "metadata": {},
   "outputs": [],
   "source": [
    "new_data = pd.read_sql(\"select * from sports_data.tourney_games_2024_potential\", conn)\n",
    "new_data = new_data.replace(np.NaN, 0)"
   ]
  },
  {
   "cell_type": "code",
   "execution_count": 153,
   "metadata": {},
   "outputs": [],
   "source": [
    "wk = new_data[new_data['team'].str.contains('Conn')]\n",
    "a = wk[wk['opponent'].str.contains('Hou')].head()[['season_ppg', 'season_ppg_allowed','opponent_season_ppg', 'opponent_season_ppg_allowed']]\n"
   ]
  },
  {
   "cell_type": "code",
   "execution_count": 156,
   "metadata": {},
   "outputs": [
    {
     "data": {
      "text/plain": [
       "32    136.705882\n",
       "dtype: float64"
      ]
     },
     "execution_count": 156,
     "metadata": {},
     "output_type": "execute_result"
    }
   ],
   "source": [
    "(a['season_ppg'] + a['opponent_season_ppg'] + a['season_ppg_allowed'] + a['opponent_season_ppg_allowed']) / 2"
   ]
  },
  {
   "cell_type": "code",
   "execution_count": 89,
   "metadata": {},
   "outputs": [],
   "source": [
    "pca = PCA(n_components=171)\n",
    "pca.fit(prediction_data_normalized)\n",
    "# tol=0.000001, max_iter=30000, solver=\"liblinear\"\n",
    "cms = proper_cross_validation(LogisticRegression(max_iter=30000), pd.DataFrame(pca.transform(prediction_data_normalized)), data['Win_Loss_Flag'])\n",
    "clf = LogisticRegression(random_state=0).fit(pd.DataFrame(pca.transform(prediction_data_normalized)), data['Win_Loss_Flag'])"
   ]
  },
  {
   "cell_type": "code",
   "execution_count": 91,
   "metadata": {},
   "outputs": [],
   "source": [
    "new_prediction_data = new_data[predictor_cols]\n",
    "new_prediction_data_normalized = (new_prediction_data-prediction_data.mean())/prediction_data.std()\n",
    "new_data_pca = pca.transform(new_prediction_data_normalized)"
   ]
  },
  {
   "cell_type": "code",
   "execution_count": 92,
   "metadata": {},
   "outputs": [],
   "source": [
    "new_data['prediction'] = clf.predict(new_data_pca)\n",
    "new_data['prediction_lose'] = [x[0] for x in clf.predict_proba(new_data_pca)]\n",
    "new_data['prediction_win'] = [x[1] for x in clf.predict_proba(new_data_pca)]\n",
    "preds = new_data[['season', 'team', 'opponent', 'prediction', 'prediction_lose', 'prediction_win']]"
   ]
  },
  {
   "cell_type": "code",
   "execution_count": 164,
   "metadata": {},
   "outputs": [
    {
     "data": {
      "text/html": [
       "<div>\n",
       "<style scoped>\n",
       "    .dataframe tbody tr th:only-of-type {\n",
       "        vertical-align: middle;\n",
       "    }\n",
       "\n",
       "    .dataframe tbody tr th {\n",
       "        vertical-align: top;\n",
       "    }\n",
       "\n",
       "    .dataframe thead th {\n",
       "        text-align: right;\n",
       "    }\n",
       "</style>\n",
       "<table border=\"1\" class=\"dataframe\">\n",
       "  <thead>\n",
       "    <tr style=\"text-align: right;\">\n",
       "      <th></th>\n",
       "      <th>season</th>\n",
       "      <th>team</th>\n",
       "      <th>opponent</th>\n",
       "      <th>prediction</th>\n",
       "      <th>prediction_lose</th>\n",
       "      <th>prediction_win</th>\n",
       "    </tr>\n",
       "  </thead>\n",
       "  <tbody>\n",
       "    <tr>\n",
       "      <th>32</th>\n",
       "      <td>2024</td>\n",
       "      <td>Connecticut</td>\n",
       "      <td>Houston</td>\n",
       "      <td>0</td>\n",
       "      <td>0.538391</td>\n",
       "      <td>0.461609</td>\n",
       "    </tr>\n",
       "  </tbody>\n",
       "</table>\n",
       "</div>"
      ],
      "text/plain": [
       "    season         team opponent  prediction  prediction_lose  prediction_win\n",
       "32    2024  Connecticut  Houston           0         0.538391        0.461609"
      ]
     },
     "execution_count": 164,
     "metadata": {},
     "output_type": "execute_result"
    }
   ],
   "source": [
    "wk = preds[preds['team'].str.contains('Conn')]\n",
    "wk[wk['opponent'].str.contains('Houston')]"
   ]
  }
 ],
 "metadata": {
  "kernelspec": {
   "display_name": ".venv",
   "language": "python",
   "name": "python3"
  },
  "language_info": {
   "codemirror_mode": {
    "name": "ipython",
    "version": 3
   },
   "file_extension": ".py",
   "mimetype": "text/x-python",
   "name": "python",
   "nbconvert_exporter": "python",
   "pygments_lexer": "ipython3",
   "version": "3.10.6"
  },
  "orig_nbformat": 4
 },
 "nbformat": 4,
 "nbformat_minor": 2
}
