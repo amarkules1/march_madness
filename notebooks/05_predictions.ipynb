{
 "cells": [
  {
   "cell_type": "code",
   "execution_count": 1,
   "metadata": {},
   "outputs": [],
   "source": [
    "import os\n",
    "import pandas as pd\n",
    "import numpy as np\n",
    "import sqlalchemy\n",
    "import sklearn\n",
    "from dotenv import load_dotenv, find_dotenv\n",
    "_ = load_dotenv(find_dotenv())\n",
    "\n",
    "connection_string = os.getenv(\"LINODE_CONN_STRING\")\n",
    "connection_string = os.getenv(\"LINODE_CONN_STRING\")\n",
    "conn = sqlalchemy.create_engine(os.getenv(\"LINODE_CONN_STRING\")).connect()"
   ]
  },
  {
   "cell_type": "code",
   "execution_count": 2,
   "metadata": {},
   "outputs": [],
   "source": [
    "data = pd.read_sql(\"select * from sports_data.tourney_games_through_2024_final\", conn)"
   ]
  },
  {
   "cell_type": "code",
   "execution_count": 3,
   "metadata": {},
   "outputs": [],
   "source": [
    "data = data.replace(np.NaN, 0)"
   ]
  },
  {
   "cell_type": "code",
   "execution_count": 4,
   "metadata": {},
   "outputs": [],
   "source": [
    "data['Win_Loss_Flag'] = data['Win_Loss'].apply(lambda x: 1 if x == 'W' else 0)"
   ]
  },
  {
   "cell_type": "code",
   "execution_count": 5,
   "metadata": {},
   "outputs": [
    {
     "data": {
      "text/plain": [
       "Index(['date', 'season', 'team', 'opponent', 'Win_Loss',\n",
       "       'regular_season_win_pct', 'opponent_regular_season_win_pct',\n",
       "       'season_win_pct', 'opponent_season_win_pct', 'season_ppg',\n",
       "       ...\n",
       "       'opponent_season_allowed_free_throw_rate_std',\n",
       "       'vs_tourney_team_allowed_free_throw_rate',\n",
       "       'opponent_vs_tourney_team_allowed_free_throw_rate',\n",
       "       'vs_tourney_team_allowed_free_throw_rate_std',\n",
       "       'opponent_vs_tourney_team_allowed_free_throw_rate_std',\n",
       "       'last_10_allowed_free_throw_rate',\n",
       "       'opponent_last_10_allowed_free_throw_rate',\n",
       "       'last_10_allowed_free_throw_rate_std',\n",
       "       'opponent_last_10_allowed_free_throw_rate_std', 'Win_Loss_Flag'],\n",
       "      dtype='object', length=177)"
      ]
     },
     "execution_count": 5,
     "metadata": {},
     "output_type": "execute_result"
    }
   ],
   "source": [
    "data.columns"
   ]
  },
  {
   "cell_type": "code",
   "execution_count": 6,
   "metadata": {},
   "outputs": [],
   "source": [
    "predictor_cols = data.columns.to_list()"
   ]
  },
  {
   "cell_type": "code",
   "execution_count": 7,
   "metadata": {},
   "outputs": [],
   "source": [
    "predictor_cols.remove('Win_Loss')\n",
    "predictor_cols.remove('Win_Loss_Flag')\n",
    "# 'date', 'season', 'team', 'opponent'\n",
    "predictor_cols.remove('date')\n",
    "predictor_cols.remove('season')\n",
    "predictor_cols.remove('team')\n",
    "predictor_cols.remove('opponent')"
   ]
  },
  {
   "cell_type": "code",
   "execution_count": 8,
   "metadata": {},
   "outputs": [],
   "source": [
    "predictors = data[predictor_cols]\n",
    "predictors_and_response = pd.concat([predictors, data['Win_Loss_Flag']], axis=1)"
   ]
  },
  {
   "cell_type": "code",
   "execution_count": 9,
   "metadata": {},
   "outputs": [],
   "source": [
    "prediction_data = data[predictor_cols]\n",
    "prediction_data_normalized = (prediction_data-prediction_data.mean())/prediction_data.std()"
   ]
  },
  {
   "cell_type": "code",
   "execution_count": 10,
   "metadata": {},
   "outputs": [
    {
     "data": {
      "text/plain": [
       "0       0\n",
       "1       1\n",
       "2       1\n",
       "3       0\n",
       "4       1\n",
       "       ..\n",
       "2381    0\n",
       "2382    1\n",
       "2383    0\n",
       "2384    1\n",
       "2385    0\n",
       "Name: Win_Loss_Flag, Length: 2386, dtype: int64"
      ]
     },
     "execution_count": 10,
     "metadata": {},
     "output_type": "execute_result"
    }
   ],
   "source": [
    "data['Win_Loss_Flag']"
   ]
  },
  {
   "cell_type": "code",
   "execution_count": 11,
   "metadata": {},
   "outputs": [],
   "source": [
    "from sklearn.linear_model import LogisticRegression\n",
    "clf = LogisticRegression(random_state=0).fit(prediction_data_normalized, data['Win_Loss_Flag'])"
   ]
  },
  {
   "cell_type": "code",
   "execution_count": 12,
   "metadata": {},
   "outputs": [],
   "source": [
    "linreg_no_val_predictions = clf.predict(prediction_data_normalized)"
   ]
  },
  {
   "cell_type": "code",
   "execution_count": 13,
   "metadata": {},
   "outputs": [
    {
     "data": {
      "text/plain": [
       "<sklearn.metrics._plot.confusion_matrix.ConfusionMatrixDisplay at 0x214a2f7fee0>"
      ]
     },
     "execution_count": 13,
     "metadata": {},
     "output_type": "execute_result"
    },
    {
     "data": {
      "image/png": "[encoded data removed]",
      "text/plain": [
       "<Figure size 640x480 with 2 Axes>"
      ]
     },
     "metadata": {},
     "output_type": "display_data"
    }
   ],
   "source": [
    "sklearn.metrics.ConfusionMatrixDisplay(sklearn.metrics.confusion_matrix(data['Win_Loss_Flag'], linreg_no_val_predictions)).plot()"
   ]
  },
  {
   "cell_type": "code",
   "execution_count": 14,
   "metadata": {},
   "outputs": [],
   "source": [
    "def proper_cross_validation(clf, X, y, k=5):\n",
    "    from sklearn.model_selection import KFold\n",
    "    kf = KFold(n_splits=k)\n",
    "    confusion_matrices = []\n",
    "    for train_index, test_index in kf.split(X):\n",
    "        X_train, X_test = X.iloc[train_index], X.iloc[test_index]\n",
    "        y_train, y_test = y.iloc[train_index], y.iloc[test_index]\n",
    "        clf.fit(X_train, y_train)\n",
    "        confusion_matrices.append(sklearn.metrics.confusion_matrix(y_test, clf.predict(X_test)))\n",
    "    total_confusion_matrix = sum(confusion_matrices)\n",
    "    return total_confusion_matrix"
   ]
  },
  {
   "cell_type": "code",
   "execution_count": 15,
   "metadata": {},
   "outputs": [],
   "source": [
    "cms = proper_cross_validation(LogisticRegression(random_state=0), prediction_data_normalized, data['Win_Loss_Flag'])"
   ]
  },
  {
   "cell_type": "code",
   "execution_count": 16,
   "metadata": {},
   "outputs": [
    {
     "data": {
      "text/plain": [
       "<sklearn.metrics._plot.confusion_matrix.ConfusionMatrixDisplay at 0x214a7411630>"
      ]
     },
     "execution_count": 16,
     "metadata": {},
     "output_type": "execute_result"
    },
    {
     "data": {
      "image/png": "[encoded data removed]",
      "text/plain": [
       "<Figure size 640x480 with 2 Axes>"
      ]
     },
     "metadata": {},
     "output_type": "display_data"
    }
   ],
   "source": [
    "sklearn.metrics.ConfusionMatrixDisplay(cms).plot()"
   ]
  },
  {
   "cell_type": "code",
   "execution_count": 17,
   "metadata": {},
   "outputs": [
    {
     "data": {
      "text/plain": [
       "array([[936, 257],\n",
       "       [259, 934]], dtype=int64)"
      ]
     },
     "execution_count": 17,
     "metadata": {},
     "output_type": "execute_result"
    }
   ],
   "source": [
    "cms"
   ]
  },
  {
   "cell_type": "code",
   "execution_count": 18,
   "metadata": {},
   "outputs": [],
   "source": [
    "def expected_games_right(confusion_matrix):\n",
    "    accuracy = (confusion_matrix[0,0] + confusion_matrix[1,1]) / confusion_matrix.sum()\n",
    "    print(f\"accuracy: {accuracy}\")\n",
    "    gr = 32.0 * accuracy\n",
    "    gr = gr + (16 * (accuracy ** 2))\n",
    "    gr = gr + (8 * (accuracy ** 3))\n",
    "    gr = gr + (4 * (accuracy ** 4))\n",
    "    gr = gr + (2 * (accuracy ** 5))\n",
    "    gr = gr + (1 * (accuracy ** 6))\n",
    "    return gr"
   ]
  },
  {
   "cell_type": "code",
   "execution_count": 19,
   "metadata": {},
   "outputs": [],
   "source": [
    "def expected_score(confusion_matrix):\n",
    "    accuracy = (confusion_matrix[0,0] + confusion_matrix[1,1]) / confusion_matrix.sum()\n",
    "    gr = 32.0 * accuracy\n",
    "    gr = gr + (32 * (accuracy ** 2))\n",
    "    gr = gr + (32 * (accuracy ** 3))\n",
    "    gr = gr + (32 * (accuracy ** 4))\n",
    "    gr = gr + (32 * (accuracy ** 5))\n",
    "    gr = gr + (32 * (accuracy ** 6))\n",
    "    return gr"
   ]
  },
  {
   "cell_type": "code",
   "execution_count": 20,
   "metadata": {},
   "outputs": [
    {
     "name": "stdout",
     "output_type": "stream",
     "text": [
      "accuracy: 0.7837384744341995\n"
     ]
    },
    {
     "data": {
      "text/plain": [
       "41.091185477242014"
      ]
     },
     "execution_count": 20,
     "metadata": {},
     "output_type": "execute_result"
    }
   ],
   "source": [
    "expected_games_right(cms)"
   ]
  },
  {
   "cell_type": "code",
   "execution_count": 21,
   "metadata": {},
   "outputs": [
    {
     "data": {
      "text/plain": [
       "89.09272898953914"
      ]
     },
     "execution_count": 21,
     "metadata": {},
     "output_type": "execute_result"
    }
   ],
   "source": [
    "expected_score(cms)"
   ]
  },
  {
   "cell_type": "code",
   "execution_count": 22,
   "metadata": {},
   "outputs": [
    {
     "name": "stdout",
     "output_type": "stream",
     "text": [
      "accuracy: 0.7841575859178541\n",
      "expected games correct: 41.12685121438517\n",
      "expected score: 89.22689695884328\n"
     ]
    },
    {
     "data": {
      "image/png": "[encoded data removed]",
      "text/plain": [
       "<Figure size 640x480 with 2 Axes>"
      ]
     },
     "metadata": {},
     "output_type": "display_data"
    }
   ],
   "source": [
    "from sklearn.decomposition import PCA\n",
    "from sklearn.neural_network import MLPClassifier\n",
    "pca = PCA(n_components=171)\n",
    "pca.fit(prediction_data_normalized)\n",
    "# tol=0.000001, max_iter=30000, solver=\"liblinear\"\n",
    "cms = proper_cross_validation(LogisticRegression(max_iter=30000), pd.DataFrame(pca.transform(prediction_data_normalized)), data['Win_Loss_Flag'])\n",
    "sklearn.metrics.ConfusionMatrixDisplay(cms).plot()\n",
    "print(f\"expected games correct: {expected_games_right(cms)}\")\n",
    "print(f\"expected score: {expected_score(cms)}\")"
   ]
  },
  {
   "cell_type": "code",
   "execution_count": 23,
   "metadata": {},
   "outputs": [
    {
     "name": "stdout",
     "output_type": "stream",
     "text": [
      "accuracy: 0.5092204526404024\n",
      "accuracy: 0.6077116512992456\n",
      "accuracy: 0.6810561609388097\n",
      "accuracy: 0.7045264040234702\n",
      "accuracy: 0.702430846605197\n",
      "accuracy: 0.7095557418273261\n"
     ]
    },
    {
     "name": "stderr",
     "output_type": "stream",
     "text": [
      "C:\\Users\\amarl\\AppData\\Local\\Temp\\ipykernel_6600\\1570475966.py:6: FutureWarning: The behavior of DataFrame concatenation with empty or all-NA entries is deprecated. In a future version, this will no longer exclude empty or all-NA columns when determining the result dtypes. To retain the old behavior, exclude the relevant entries before the concat operation.\n",
      "  results_df = pd.concat([results_df, pd.DataFrame({\"n_components\": [i], \"expected_games_right\": [expected_games_right(cms)], \"expected_score\": [expected_score(cms)]})])\n"
     ]
    },
    {
     "name": "stdout",
     "output_type": "stream",
     "text": [
      "accuracy: 0.712070410729254\n",
      "accuracy: 0.7263202011735121\n",
      "accuracy: 0.7309304274937133\n",
      "accuracy: 0.7305113160100587\n",
      "accuracy: 0.731349538977368\n",
      "accuracy: 0.7330259849119866\n",
      "accuracy: 0.7380553227158424\n",
      "accuracy: 0.7372170997485331\n",
      "accuracy: 0.7376362112321878\n",
      "accuracy: 0.7367979882648784\n",
      "accuracy: 0.7384744341994971\n",
      "accuracy: 0.7372170997485331\n",
      "accuracy: 0.739731768650461\n",
      "accuracy: 0.7380553227158424\n",
      "accuracy: 0.7372170997485331\n",
      "accuracy: 0.7363788767812238\n",
      "accuracy: 0.7405699916177704\n",
      "accuracy: 0.740989103101425\n",
      "accuracy: 0.7405699916177704\n",
      "accuracy: 0.742246437552389\n",
      "accuracy: 0.7380553227158424\n",
      "accuracy: 0.7376362112321878\n",
      "accuracy: 0.7338642078792958\n",
      "accuracy: 0.7321877619446773\n",
      "accuracy: 0.7284157585917854\n",
      "accuracy: 0.7330259849119866\n",
      "accuracy: 0.732606873428332\n",
      "accuracy: 0.7330259849119866\n",
      "accuracy: 0.731349538977368\n",
      "accuracy: 0.7367979882648784\n",
      "accuracy: 0.7317686504610227\n",
      "accuracy: 0.7363788767812238\n",
      "accuracy: 0.7263202011735121\n",
      "accuracy: 0.7338642078792958\n",
      "accuracy: 0.732606873428332\n",
      "accuracy: 0.732606873428332\n",
      "accuracy: 0.7284157585917854\n",
      "accuracy: 0.7238055322715843\n",
      "accuracy: 0.7288348700754401\n",
      "accuracy: 0.740989103101425\n",
      "accuracy: 0.7321877619446773\n",
      "accuracy: 0.7384744341994971\n",
      "accuracy: 0.7414082145850797\n",
      "accuracy: 0.7430846605196982\n",
      "accuracy: 0.740989103101425\n",
      "accuracy: 0.739731768650461\n",
      "accuracy: 0.7430846605196982\n",
      "accuracy: 0.7384744341994971\n",
      "accuracy: 0.7405699916177704\n",
      "accuracy: 0.7393126571668064\n",
      "accuracy: 0.7430846605196982\n",
      "accuracy: 0.7435037720033529\n",
      "accuracy: 0.740989103101425\n",
      "accuracy: 0.7455993294216261\n",
      "accuracy: 0.7414082145850797\n",
      "accuracy: 0.7439228834870075\n",
      "accuracy: 0.7472757753562448\n",
      "accuracy: 0.7435037720033529\n",
      "accuracy: 0.7455993294216261\n",
      "accuracy: 0.742246437552389\n",
      "accuracy: 0.7476948868398994\n",
      "accuracy: 0.7418273260687342\n",
      "accuracy: 0.7464375523889355\n",
      "accuracy: 0.7435037720033529\n",
      "accuracy: 0.7426655490360435\n",
      "accuracy: 0.7418273260687342\n",
      "accuracy: 0.7435037720033529\n",
      "accuracy: 0.7414082145850797\n",
      "accuracy: 0.740989103101425\n",
      "accuracy: 0.7393126571668064\n",
      "accuracy: 0.7468566638725901\n",
      "accuracy: 0.7426655490360435\n",
      "accuracy: 0.7468566638725901\n",
      "accuracy: 0.7430846605196982\n",
      "accuracy: 0.7564962279966471\n",
      "accuracy: 0.7497904442581727\n",
      "accuracy: 0.7476948868398994\n",
      "accuracy: 0.7426655490360435\n",
      "accuracy: 0.7468566638725901\n",
      "accuracy: 0.7447611064543168\n",
      "accuracy: 0.7468566638725901\n",
      "accuracy: 0.7414082145850797\n",
      "accuracy: 0.7376362112321878\n",
      "accuracy: 0.757753562447611\n",
      "accuracy: 0.7569153394803018\n",
      "accuracy: 0.7514668901927913\n",
      "accuracy: 0.7514668901927913\n",
      "accuracy: 0.760268231349539\n",
      "accuracy: 0.7535624476110645\n",
      "accuracy: 0.7523051131601006\n",
      "accuracy: 0.759010896898575\n",
      "accuracy: 0.7531433361274099\n",
      "accuracy: 0.7594300083822296\n",
      "accuracy: 0.7560771165129925\n",
      "accuracy: 0.7548197820620285\n",
      "accuracy: 0.7556580050293378\n",
      "accuracy: 0.7585917854149203\n",
      "accuracy: 0.7585917854149203\n",
      "accuracy: 0.7594300083822296\n",
      "accuracy: 0.757753562447611\n",
      "accuracy: 0.7564962279966471\n",
      "accuracy: 0.7581726739312658\n",
      "accuracy: 0.7585917854149203\n",
      "accuracy: 0.7552388935456832\n",
      "accuracy: 0.7564962279966471\n",
      "accuracy: 0.7573344509639565\n",
      "accuracy: 0.7573344509639565\n",
      "accuracy: 0.7581726739312658\n",
      "accuracy: 0.7535624476110645\n",
      "accuracy: 0.7560771165129925\n",
      "accuracy: 0.7552388935456832\n",
      "accuracy: 0.7581726739312658\n",
      "accuracy: 0.759010896898575\n",
      "accuracy: 0.760268231349539\n",
      "accuracy: 0.7615255658005029\n",
      "accuracy: 0.7615255658005029\n",
      "accuracy: 0.7652975691533948\n",
      "accuracy: 0.7682313495389773\n",
      "accuracy: 0.7720033528918693\n",
      "accuracy: 0.7711651299245599\n",
      "accuracy: 0.7736797988264879\n",
      "accuracy: 0.7724224643755239\n",
      "accuracy: 0.7761944677284157\n",
      "accuracy: 0.7757753562447611\n",
      "accuracy: 0.7724224643755239\n",
      "accuracy: 0.7720033528918693\n",
      "accuracy: 0.7732606873428332\n",
      "accuracy: 0.7736797988264879\n",
      "accuracy: 0.7665549036043587\n",
      "accuracy: 0.7678122380553227\n",
      "accuracy: 0.7661357921207042\n",
      "accuracy: 0.7669740150880134\n",
      "accuracy: 0.7707460184409053\n",
      "accuracy: 0.7694886839899413\n",
      "accuracy: 0.7707460184409053\n",
      "accuracy: 0.7757753562447611\n",
      "accuracy: 0.787929589270746\n",
      "accuracy: 0.7883487007544007\n",
      "accuracy: 0.7866722548197821\n",
      "accuracy: 0.7862531433361274\n",
      "accuracy: 0.7820620284995808\n",
      "accuracy: 0.7824811399832355\n",
      "accuracy: 0.7824811399832355\n",
      "accuracy: 0.7841575859178541\n",
      "accuracy: 0.7841575859178541\n",
      "accuracy: 0.7829002514668902\n",
      "accuracy: 0.7845766974015088\n",
      "accuracy: 0.7858340318524728\n",
      "accuracy: 0.7816429170159263\n",
      "accuracy: 0.7820620284995808\n",
      "accuracy: 0.7837384744341995\n",
      "accuracy: 0.7820620284995808\n",
      "accuracy: 0.7845766974015088\n",
      "accuracy: 0.7824811399832355\n",
      "accuracy: 0.7833193629505448\n",
      "accuracy: 0.7824811399832355\n",
      "accuracy: 0.7820620284995808\n",
      "accuracy: 0.7841575859178541\n",
      "accuracy: 0.7841575859178541\n",
      "accuracy: 0.780804694048617\n",
      "accuracy: 0.7829002514668902\n",
      "accuracy: 0.7837384744341995\n",
      "accuracy: 0.7816429170159263\n",
      "accuracy: 0.7824811399832355\n",
      "accuracy: 0.7841575859178541\n"
     ]
    }
   ],
   "source": [
    "results_df = pd.DataFrame(columns=[\"n_components\", \"expected_games_right\", \"expected_score\"])\n",
    "for i in range(1, 172):\n",
    "    pca = PCA(n_components=i)\n",
    "    pca.fit(prediction_data_normalized)\n",
    "    cms = proper_cross_validation(LogisticRegression(max_iter=30000), pd.DataFrame(pca.transform(prediction_data_normalized)), data['Win_Loss_Flag'])\n",
    "    results_df = pd.concat([results_df, pd.DataFrame({\"n_components\": [i], \"expected_games_right\": [expected_games_right(cms)], \"expected_score\": [expected_score(cms)]})])"
   ]
  },
  {
   "cell_type": "code",
   "execution_count": 24,
   "metadata": {},
   "outputs": [
    {
     "data": {
      "text/html": [
       "<div>\n",
       "<style scoped>\n",
       "    .dataframe tbody tr th:only-of-type {\n",
       "        vertical-align: middle;\n",
       "    }\n",
       "\n",
       "    .dataframe tbody tr th {\n",
       "        vertical-align: top;\n",
       "    }\n",
       "\n",
       "    .dataframe thead th {\n",
       "        text-align: right;\n",
       "    }\n",
       "</style>\n",
       "<table border=\"1\" class=\"dataframe\">\n",
       "  <thead>\n",
       "    <tr style=\"text-align: right;\">\n",
       "      <th></th>\n",
       "      <th>n_components</th>\n",
       "      <th>expected_games_right</th>\n",
       "      <th>expected_score</th>\n",
       "    </tr>\n",
       "  </thead>\n",
       "  <tbody>\n",
       "    <tr>\n",
       "      <th>0</th>\n",
       "      <td>142</td>\n",
       "      <td>40.417843</td>\n",
       "      <td>86.580620</td>\n",
       "    </tr>\n",
       "    <tr>\n",
       "      <th>0</th>\n",
       "      <td>143</td>\n",
       "      <td>41.448871</td>\n",
       "      <td>90.443313</td>\n",
       "    </tr>\n",
       "    <tr>\n",
       "      <th>0</th>\n",
       "      <td>144</td>\n",
       "      <td>41.484766</td>\n",
       "      <td>90.579465</td>\n",
       "    </tr>\n",
       "    <tr>\n",
       "      <th>0</th>\n",
       "      <td>145</td>\n",
       "      <td>41.341325</td>\n",
       "      <td>90.036054</td>\n",
       "    </tr>\n",
       "    <tr>\n",
       "      <th>0</th>\n",
       "      <td>146</td>\n",
       "      <td>41.305522</td>\n",
       "      <td>89.900699</td>\n",
       "    </tr>\n",
       "    <tr>\n",
       "      <th>0</th>\n",
       "      <td>147</td>\n",
       "      <td>40.948750</td>\n",
       "      <td>88.558023</td>\n",
       "    </tr>\n",
       "    <tr>\n",
       "      <th>0</th>\n",
       "      <td>148</td>\n",
       "      <td>40.984325</td>\n",
       "      <td>88.691405</td>\n",
       "    </tr>\n",
       "    <tr>\n",
       "      <th>0</th>\n",
       "      <td>149</td>\n",
       "      <td>40.984325</td>\n",
       "      <td>88.691405</td>\n",
       "    </tr>\n",
       "    <tr>\n",
       "      <th>0</th>\n",
       "      <td>150</td>\n",
       "      <td>41.126851</td>\n",
       "      <td>89.226897</td>\n",
       "    </tr>\n",
       "    <tr>\n",
       "      <th>0</th>\n",
       "      <td>151</td>\n",
       "      <td>41.126851</td>\n",
       "      <td>89.226897</td>\n",
       "    </tr>\n",
       "    <tr>\n",
       "      <th>0</th>\n",
       "      <td>152</td>\n",
       "      <td>41.019922</td>\n",
       "      <td>88.824983</td>\n",
       "    </tr>\n",
       "    <tr>\n",
       "      <th>0</th>\n",
       "      <td>153</td>\n",
       "      <td>41.162540</td>\n",
       "      <td>89.361262</td>\n",
       "    </tr>\n",
       "    <tr>\n",
       "      <th>0</th>\n",
       "      <td>154</td>\n",
       "      <td>41.269742</td>\n",
       "      <td>89.765543</td>\n",
       "    </tr>\n",
       "    <tr>\n",
       "      <th>0</th>\n",
       "      <td>155</td>\n",
       "      <td>40.913198</td>\n",
       "      <td>88.424836</td>\n",
       "    </tr>\n",
       "    <tr>\n",
       "      <th>0</th>\n",
       "      <td>156</td>\n",
       "      <td>40.948750</td>\n",
       "      <td>88.558023</td>\n",
       "    </tr>\n",
       "    <tr>\n",
       "      <th>0</th>\n",
       "      <td>157</td>\n",
       "      <td>41.091185</td>\n",
       "      <td>89.092729</td>\n",
       "    </tr>\n",
       "    <tr>\n",
       "      <th>0</th>\n",
       "      <td>158</td>\n",
       "      <td>40.948750</td>\n",
       "      <td>88.558023</td>\n",
       "    </tr>\n",
       "    <tr>\n",
       "      <th>0</th>\n",
       "      <td>159</td>\n",
       "      <td>41.162540</td>\n",
       "      <td>89.361262</td>\n",
       "    </tr>\n",
       "    <tr>\n",
       "      <th>0</th>\n",
       "      <td>160</td>\n",
       "      <td>40.984325</td>\n",
       "      <td>88.691405</td>\n",
       "    </tr>\n",
       "    <tr>\n",
       "      <th>0</th>\n",
       "      <td>161</td>\n",
       "      <td>41.055543</td>\n",
       "      <td>88.958758</td>\n",
       "    </tr>\n",
       "    <tr>\n",
       "      <th>0</th>\n",
       "      <td>162</td>\n",
       "      <td>40.984325</td>\n",
       "      <td>88.691405</td>\n",
       "    </tr>\n",
       "    <tr>\n",
       "      <th>0</th>\n",
       "      <td>163</td>\n",
       "      <td>40.948750</td>\n",
       "      <td>88.558023</td>\n",
       "    </tr>\n",
       "    <tr>\n",
       "      <th>0</th>\n",
       "      <td>164</td>\n",
       "      <td>41.126851</td>\n",
       "      <td>89.226897</td>\n",
       "    </tr>\n",
       "    <tr>\n",
       "      <th>0</th>\n",
       "      <td>165</td>\n",
       "      <td>41.126851</td>\n",
       "      <td>89.226897</td>\n",
       "    </tr>\n",
       "    <tr>\n",
       "      <th>0</th>\n",
       "      <td>166</td>\n",
       "      <td>40.842162</td>\n",
       "      <td>88.159049</td>\n",
       "    </tr>\n",
       "    <tr>\n",
       "      <th>0</th>\n",
       "      <td>167</td>\n",
       "      <td>41.019922</td>\n",
       "      <td>88.824983</td>\n",
       "    </tr>\n",
       "    <tr>\n",
       "      <th>0</th>\n",
       "      <td>168</td>\n",
       "      <td>41.091185</td>\n",
       "      <td>89.092729</td>\n",
       "    </tr>\n",
       "    <tr>\n",
       "      <th>0</th>\n",
       "      <td>169</td>\n",
       "      <td>40.913198</td>\n",
       "      <td>88.424836</td>\n",
       "    </tr>\n",
       "    <tr>\n",
       "      <th>0</th>\n",
       "      <td>170</td>\n",
       "      <td>40.984325</td>\n",
       "      <td>88.691405</td>\n",
       "    </tr>\n",
       "    <tr>\n",
       "      <th>0</th>\n",
       "      <td>171</td>\n",
       "      <td>41.126851</td>\n",
       "      <td>89.226897</td>\n",
       "    </tr>\n",
       "  </tbody>\n",
       "</table>\n",
       "</div>"
      ],
      "text/plain": [
       "  n_components  expected_games_right  expected_score\n",
       "0          142             40.417843       86.580620\n",
       "0          143             41.448871       90.443313\n",
       "0          144             41.484766       90.579465\n",
       "0          145             41.341325       90.036054\n",
       "0          146             41.305522       89.900699\n",
       "0          147             40.948750       88.558023\n",
       "0          148             40.984325       88.691405\n",
       "0          149             40.984325       88.691405\n",
       "0          150             41.126851       89.226897\n",
       "0          151             41.126851       89.226897\n",
       "0          152             41.019922       88.824983\n",
       "0          153             41.162540       89.361262\n",
       "0          154             41.269742       89.765543\n",
       "0          155             40.913198       88.424836\n",
       "0          156             40.948750       88.558023\n",
       "0          157             41.091185       89.092729\n",
       "0          158             40.948750       88.558023\n",
       "0          159             41.162540       89.361262\n",
       "0          160             40.984325       88.691405\n",
       "0          161             41.055543       88.958758\n",
       "0          162             40.984325       88.691405\n",
       "0          163             40.948750       88.558023\n",
       "0          164             41.126851       89.226897\n",
       "0          165             41.126851       89.226897\n",
       "0          166             40.842162       88.159049\n",
       "0          167             41.019922       88.824983\n",
       "0          168             41.091185       89.092729\n",
       "0          169             40.913198       88.424836\n",
       "0          170             40.984325       88.691405\n",
       "0          171             41.126851       89.226897"
      ]
     },
     "execution_count": 24,
     "metadata": {},
     "output_type": "execute_result"
    }
   ],
   "source": [
    "results_df.tail(30)"
   ]
  },
  {
   "cell_type": "code",
   "execution_count": null,
   "metadata": {},
   "outputs": [],
   "source": [
    "new_data = pd.read_sql(\"select * from sports_data.tourney_games_2025_potential\", conn)\n",
    "new_data = new_data.replace(np.NaN, 0)"
   ]
  },
  {
   "cell_type": "code",
   "execution_count": 153,
   "metadata": {},
   "outputs": [],
   "source": [
    "wk = new_data[new_data['team'].str.contains('Conn')]\n",
    "a = wk[wk['opponent'].str.contains('Hou')].head()[['season_ppg', 'season_ppg_allowed','opponent_season_ppg', 'opponent_season_ppg_allowed']]\n"
   ]
  },
  {
   "cell_type": "code",
   "execution_count": 156,
   "metadata": {},
   "outputs": [
    {
     "data": {
      "text/plain": [
       "32    136.705882\n",
       "dtype: float64"
      ]
     },
     "execution_count": 156,
     "metadata": {},
     "output_type": "execute_result"
    }
   ],
   "source": [
    "(a['season_ppg'] + a['opponent_season_ppg'] + a['season_ppg_allowed'] + a['opponent_season_ppg_allowed']) / 2"
   ]
  },
  {
   "cell_type": "code",
   "execution_count": 89,
   "metadata": {},
   "outputs": [],
   "source": [
    "pca = PCA(n_components=171)\n",
    "pca.fit(prediction_data_normalized)\n",
    "# tol=0.000001, max_iter=30000, solver=\"liblinear\"\n",
    "cms = proper_cross_validation(LogisticRegression(max_iter=30000), pd.DataFrame(pca.transform(prediction_data_normalized)), data['Win_Loss_Flag'])\n",
    "clf = LogisticRegression(random_state=0).fit(pd.DataFrame(pca.transform(prediction_data_normalized)), data['Win_Loss_Flag'])"
   ]
  },
  {
   "cell_type": "code",
   "execution_count": 91,
   "metadata": {},
   "outputs": [],
   "source": [
    "new_prediction_data = new_data[predictor_cols]\n",
    "new_prediction_data_normalized = (new_prediction_data-prediction_data.mean())/prediction_data.std()\n",
    "new_data_pca = pca.transform(new_prediction_data_normalized)"
   ]
  },
  {
   "cell_type": "code",
   "execution_count": 92,
   "metadata": {},
   "outputs": [],
   "source": [
    "new_data['prediction'] = clf.predict(new_data_pca)\n",
    "new_data['prediction_lose'] = [x[0] for x in clf.predict_proba(new_data_pca)]\n",
    "new_data['prediction_win'] = [x[1] for x in clf.predict_proba(new_data_pca)]\n",
    "preds = new_data[['season', 'team', 'opponent', 'prediction', 'prediction_lose', 'prediction_win']]"
   ]
  },
  {
   "cell_type": "code",
   "execution_count": 164,
   "metadata": {},
   "outputs": [
    {
     "data": {
      "text/html": [
       "<div>\n",
       "<style scoped>\n",
       "    .dataframe tbody tr th:only-of-type {\n",
       "        vertical-align: middle;\n",
       "    }\n",
       "\n",
       "    .dataframe tbody tr th {\n",
       "        vertical-align: top;\n",
       "    }\n",
       "\n",
       "    .dataframe thead th {\n",
       "        text-align: right;\n",
       "    }\n",
       "</style>\n",
       "<table border=\"1\" class=\"dataframe\">\n",
       "  <thead>\n",
       "    <tr style=\"text-align: right;\">\n",
       "      <th></th>\n",
       "      <th>season</th>\n",
       "      <th>team</th>\n",
       "      <th>opponent</th>\n",
       "      <th>prediction</th>\n",
       "      <th>prediction_lose</th>\n",
       "      <th>prediction_win</th>\n",
       "    </tr>\n",
       "  </thead>\n",
       "  <tbody>\n",
       "    <tr>\n",
       "      <th>32</th>\n",
       "      <td>2024</td>\n",
       "      <td>Connecticut</td>\n",
       "      <td>Houston</td>\n",
       "      <td>0</td>\n",
       "      <td>0.538391</td>\n",
       "      <td>0.461609</td>\n",
       "    </tr>\n",
       "  </tbody>\n",
       "</table>\n",
       "</div>"
      ],
      "text/plain": [
       "    season         team opponent  prediction  prediction_lose  prediction_win\n",
       "32    2024  Connecticut  Houston           0         0.538391        0.461609"
      ]
     },
     "execution_count": 164,
     "metadata": {},
     "output_type": "execute_result"
    }
   ],
   "source": [
    "wk = preds[preds['team'].str.contains('Conn')]\n",
    "wk[wk['opponent'].str.contains('Houston')]"
   ]
  }
 ],
 "metadata": {
  "kernelspec": {
   "display_name": ".venv",
   "language": "python",
   "name": "python3"
  },
  "language_info": {
   "codemirror_mode": {
    "name": "ipython",
    "version": 3
   },
   "file_extension": ".py",
   "mimetype": "text/x-python",
   "name": "python",
   "nbconvert_exporter": "python",
   "pygments_lexer": "ipython3",
   "version": "3.10.6"
  },
  "orig_nbformat": 4
 },
 "nbformat": 4,
 "nbformat_minor": 2
}
