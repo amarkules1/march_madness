{
 "cells": [
  {
   "cell_type": "code",
   "execution_count": 1,
   "metadata": {},
   "outputs": [],
   "source": [
    "import os\n",
    "import pandas as pd\n",
    "import numpy as np\n",
    "import sqlalchemy\n",
    "import sklearn\n",
    "from dotenv import load_dotenv, find_dotenv\n",
    "_ = load_dotenv(find_dotenv())\n",
    "\n",
    "connection_string = os.getenv(\"LINODE_CONN_STRING\")\n",
    "connection_string = os.getenv(\"LINODE_CONN_STRING\")\n",
    "conn = sqlalchemy.create_engine(os.getenv(\"LINODE_CONN_STRING\")).connect()"
   ]
  },
  {
   "cell_type": "code",
   "execution_count": 2,
   "metadata": {},
   "outputs": [],
   "source": [
    "data = pd.read_sql(\"select * from sports_data.tourney_games_through_2024_final\", conn)"
   ]
  },
  {
   "cell_type": "code",
   "execution_count": 3,
   "metadata": {},
   "outputs": [
    {
     "name": "stderr",
     "output_type": "stream",
     "text": [
      "C:\\Users\\amarl\\AppData\\Local\\Temp\\ipykernel_23768\\736794659.py:1: UserWarning: Could not infer format, so each element will be parsed individually, falling back to `dateutil`. To ensure parsing is consistent and as-expected, please specify a format.\n",
      "  data['date'] = pd.to_datetime(data['date'])\n"
     ]
    }
   ],
   "source": [
    "data['date'] = pd.to_datetime(data['date'])"
   ]
  },
  {
   "cell_type": "code",
   "execution_count": 4,
   "metadata": {},
   "outputs": [],
   "source": [
    "# we want games that hapened later in the tourney to be more important\n",
    "# for each season, find the min tourney game date, if a game happened after that date, duplicate it once for every day after the first game\n",
    "# rough approximation of the fact that each round is worth 2x the points of the previous round\n",
    "data_duplicated = data[data['season'] == 1999] # should give us the headers n types but no data\n",
    "for season in data['season'].unique():\n",
    "    season_data = data[data['season'] == season]\n",
    "    min_date = season_data['date'].min()\n",
    "    for index, row in season_data.iterrows():\n",
    "        if row['date'] > min_date:\n",
    "            for i in range((row['date'] - min_date).days):\n",
    "                data_duplicated = pd.concat([data_duplicated, row.to_frame().T], ignore_index=True) \n",
    "    "
   ]
  },
  {
   "cell_type": "code",
   "execution_count": 5,
   "metadata": {},
   "outputs": [],
   "source": [
    "data = data_duplicated"
   ]
  },
  {
   "cell_type": "code",
   "execution_count": 6,
   "metadata": {},
   "outputs": [
    {
     "name": "stderr",
     "output_type": "stream",
     "text": [
      "C:\\Users\\amarl\\AppData\\Local\\Temp\\ipykernel_23768\\3053523796.py:1: FutureWarning: Downcasting behavior in `replace` is deprecated and will be removed in a future version. To retain the old behavior, explicitly call `result.infer_objects(copy=False)`. To opt-in to the future behavior, set `pd.set_option('future.no_silent_downcasting', True)`\n",
      "  data = data.replace(np.NaN, 0)\n"
     ]
    }
   ],
   "source": [
    "data = data.replace(np.NaN, 0)"
   ]
  },
  {
   "cell_type": "code",
   "execution_count": 7,
   "metadata": {},
   "outputs": [
    {
     "name": "stderr",
     "output_type": "stream",
     "text": [
      "C:\\Users\\amarl\\AppData\\Local\\Temp\\ipykernel_23768\\2660330131.py:1: PerformanceWarning: DataFrame is highly fragmented.  This is usually the result of calling `frame.insert` many times, which has poor performance.  Consider joining all columns at once using pd.concat(axis=1) instead. To get a de-fragmented frame, use `newframe = frame.copy()`\n",
      "  data['Win_Loss_Flag'] = data['Win_Loss'].apply(lambda x: 1 if x == 'W' else 0)\n"
     ]
    }
   ],
   "source": [
    "data['Win_Loss_Flag'] = data['Win_Loss'].apply(lambda x: 1 if x == 'W' else 0)"
   ]
  },
  {
   "cell_type": "code",
   "execution_count": 8,
   "metadata": {},
   "outputs": [
    {
     "data": {
      "text/plain": [
       "Index(['date', 'season', 'team', 'opponent', 'Win_Loss',\n",
       "       'regular_season_win_pct', 'opponent_regular_season_win_pct',\n",
       "       'season_win_pct', 'opponent_season_win_pct', 'season_ppg',\n",
       "       ...\n",
       "       'opponent_season_allowed_free_throw_rate_std',\n",
       "       'vs_tourney_team_allowed_free_throw_rate',\n",
       "       'opponent_vs_tourney_team_allowed_free_throw_rate',\n",
       "       'vs_tourney_team_allowed_free_throw_rate_std',\n",
       "       'opponent_vs_tourney_team_allowed_free_throw_rate_std',\n",
       "       'last_10_allowed_free_throw_rate',\n",
       "       'opponent_last_10_allowed_free_throw_rate',\n",
       "       'last_10_allowed_free_throw_rate_std',\n",
       "       'opponent_last_10_allowed_free_throw_rate_std', 'Win_Loss_Flag'],\n",
       "      dtype='object', length=177)"
      ]
     },
     "execution_count": 8,
     "metadata": {},
     "output_type": "execute_result"
    }
   ],
   "source": [
    "data.columns"
   ]
  },
  {
   "cell_type": "code",
   "execution_count": 9,
   "metadata": {},
   "outputs": [],
   "source": [
    "predictor_cols = data.columns.to_list()"
   ]
  },
  {
   "cell_type": "code",
   "execution_count": 10,
   "metadata": {},
   "outputs": [],
   "source": [
    "predictor_cols.remove('Win_Loss')\n",
    "predictor_cols.remove('Win_Loss_Flag')\n",
    "# 'date', 'season', 'team', 'opponent'\n",
    "predictor_cols.remove('date')\n",
    "predictor_cols.remove('season')\n",
    "predictor_cols.remove('team')\n",
    "predictor_cols.remove('opponent')"
   ]
  },
  {
   "cell_type": "code",
   "execution_count": 11,
   "metadata": {},
   "outputs": [],
   "source": [
    "predictors = data[predictor_cols]\n",
    "predictors_and_response = pd.concat([predictors, data['Win_Loss_Flag']], axis=1)"
   ]
  },
  {
   "cell_type": "code",
   "execution_count": 12,
   "metadata": {},
   "outputs": [],
   "source": [
    "prediction_data = data[predictor_cols]\n",
    "prediction_data_normalized = (prediction_data-prediction_data.mean())/prediction_data.std()"
   ]
  },
  {
   "cell_type": "code",
   "execution_count": 13,
   "metadata": {},
   "outputs": [
    {
     "data": {
      "text/plain": [
       "0        1\n",
       "1        0\n",
       "2        1\n",
       "3        0\n",
       "4        0\n",
       "        ..\n",
       "12945    0\n",
       "12946    0\n",
       "12947    0\n",
       "12948    0\n",
       "12949    0\n",
       "Name: Win_Loss_Flag, Length: 12950, dtype: int64"
      ]
     },
     "execution_count": 13,
     "metadata": {},
     "output_type": "execute_result"
    }
   ],
   "source": [
    "data['Win_Loss_Flag']"
   ]
  },
  {
   "cell_type": "code",
   "execution_count": 14,
   "metadata": {},
   "outputs": [
    {
     "name": "stderr",
     "output_type": "stream",
     "text": [
      "c:\\Users\\amarl\\dev\\python\\march_madness\\.venv\\lib\\site-packages\\sklearn\\linear_model\\_logistic.py:469: ConvergenceWarning: lbfgs failed to converge (status=1):\n",
      "STOP: TOTAL NO. of ITERATIONS REACHED LIMIT.\n",
      "\n",
      "Increase the number of iterations (max_iter) or scale the data as shown in:\n",
      "    https://scikit-learn.org/stable/modules/preprocessing.html\n",
      "Please also refer to the documentation for alternative solver options:\n",
      "    https://scikit-learn.org/stable/modules/linear_model.html#logistic-regression\n",
      "  n_iter_i = _check_optimize_result(\n"
     ]
    }
   ],
   "source": [
    "from sklearn.linear_model import LogisticRegression\n",
    "clf = LogisticRegression(random_state=0).fit(prediction_data_normalized, data['Win_Loss_Flag'])"
   ]
  },
  {
   "cell_type": "code",
   "execution_count": 15,
   "metadata": {},
   "outputs": [],
   "source": [
    "linreg_no_val_predictions = clf.predict(prediction_data_normalized)"
   ]
  },
  {
   "cell_type": "code",
   "execution_count": 16,
   "metadata": {},
   "outputs": [
    {
     "data": {
      "text/plain": [
       "<sklearn.metrics._plot.confusion_matrix.ConfusionMatrixDisplay at 0x23e78228b20>"
      ]
     },
     "execution_count": 16,
     "metadata": {},
     "output_type": "execute_result"
    },
    {
     "data": {
      "image/png": "[encoded data removed]",
      "text/plain": [
       "<Figure size 640x480 with 2 Axes>"
      ]
     },
     "metadata": {},
     "output_type": "display_data"
    }
   ],
   "source": [
    "sklearn.metrics.ConfusionMatrixDisplay(sklearn.metrics.confusion_matrix(data['Win_Loss_Flag'], linreg_no_val_predictions)).plot()"
   ]
  },
  {
   "cell_type": "code",
   "execution_count": 17,
   "metadata": {},
   "outputs": [],
   "source": [
    "def proper_cross_validation(clf, X, y, k=5):\n",
    "    from sklearn.model_selection import KFold\n",
    "    kf = KFold(n_splits=k)\n",
    "    confusion_matrices = []\n",
    "    for train_index, test_index in kf.split(X):\n",
    "        X_train, X_test = X.iloc[train_index], X.iloc[test_index]\n",
    "        y_train, y_test = y.iloc[train_index], y.iloc[test_index]\n",
    "        clf.fit(X_train, y_train)\n",
    "        confusion_matrices.append(sklearn.metrics.confusion_matrix(y_test, clf.predict(X_test)))\n",
    "    total_confusion_matrix = sum(confusion_matrices)\n",
    "    return total_confusion_matrix"
   ]
  },
  {
   "cell_type": "code",
   "execution_count": 18,
   "metadata": {},
   "outputs": [
    {
     "name": "stderr",
     "output_type": "stream",
     "text": [
      "c:\\Users\\amarl\\dev\\python\\march_madness\\.venv\\lib\\site-packages\\sklearn\\linear_model\\_logistic.py:469: ConvergenceWarning: lbfgs failed to converge (status=1):\n",
      "STOP: TOTAL NO. of ITERATIONS REACHED LIMIT.\n",
      "\n",
      "Increase the number of iterations (max_iter) or scale the data as shown in:\n",
      "    https://scikit-learn.org/stable/modules/preprocessing.html\n",
      "Please also refer to the documentation for alternative solver options:\n",
      "    https://scikit-learn.org/stable/modules/linear_model.html#logistic-regression\n",
      "  n_iter_i = _check_optimize_result(\n",
      "c:\\Users\\amarl\\dev\\python\\march_madness\\.venv\\lib\\site-packages\\sklearn\\linear_model\\_logistic.py:469: ConvergenceWarning: lbfgs failed to converge (status=1):\n",
      "STOP: TOTAL NO. of ITERATIONS REACHED LIMIT.\n",
      "\n",
      "Increase the number of iterations (max_iter) or scale the data as shown in:\n",
      "    https://scikit-learn.org/stable/modules/preprocessing.html\n",
      "Please also refer to the documentation for alternative solver options:\n",
      "    https://scikit-learn.org/stable/modules/linear_model.html#logistic-regression\n",
      "  n_iter_i = _check_optimize_result(\n",
      "c:\\Users\\amarl\\dev\\python\\march_madness\\.venv\\lib\\site-packages\\sklearn\\linear_model\\_logistic.py:469: ConvergenceWarning: lbfgs failed to converge (status=1):\n",
      "STOP: TOTAL NO. of ITERATIONS REACHED LIMIT.\n",
      "\n",
      "Increase the number of iterations (max_iter) or scale the data as shown in:\n",
      "    https://scikit-learn.org/stable/modules/preprocessing.html\n",
      "Please also refer to the documentation for alternative solver options:\n",
      "    https://scikit-learn.org/stable/modules/linear_model.html#logistic-regression\n",
      "  n_iter_i = _check_optimize_result(\n",
      "c:\\Users\\amarl\\dev\\python\\march_madness\\.venv\\lib\\site-packages\\sklearn\\linear_model\\_logistic.py:469: ConvergenceWarning: lbfgs failed to converge (status=1):\n",
      "STOP: TOTAL NO. of ITERATIONS REACHED LIMIT.\n",
      "\n",
      "Increase the number of iterations (max_iter) or scale the data as shown in:\n",
      "    https://scikit-learn.org/stable/modules/preprocessing.html\n",
      "Please also refer to the documentation for alternative solver options:\n",
      "    https://scikit-learn.org/stable/modules/linear_model.html#logistic-regression\n",
      "  n_iter_i = _check_optimize_result(\n",
      "c:\\Users\\amarl\\dev\\python\\march_madness\\.venv\\lib\\site-packages\\sklearn\\linear_model\\_logistic.py:469: ConvergenceWarning: lbfgs failed to converge (status=1):\n",
      "STOP: TOTAL NO. of ITERATIONS REACHED LIMIT.\n",
      "\n",
      "Increase the number of iterations (max_iter) or scale the data as shown in:\n",
      "    https://scikit-learn.org/stable/modules/preprocessing.html\n",
      "Please also refer to the documentation for alternative solver options:\n",
      "    https://scikit-learn.org/stable/modules/linear_model.html#logistic-regression\n",
      "  n_iter_i = _check_optimize_result(\n"
     ]
    }
   ],
   "source": [
    "cms = proper_cross_validation(LogisticRegression(random_state=0), prediction_data_normalized, data['Win_Loss_Flag'])"
   ]
  },
  {
   "cell_type": "code",
   "execution_count": 19,
   "metadata": {},
   "outputs": [
    {
     "data": {
      "text/plain": [
       "<sklearn.metrics._plot.confusion_matrix.ConfusionMatrixDisplay at 0x23e012c3130>"
      ]
     },
     "execution_count": 19,
     "metadata": {},
     "output_type": "execute_result"
    },
    {
     "data": {
      "image/png": "[encoded data removed]",
      "text/plain": [
       "<Figure size 640x480 with 2 Axes>"
      ]
     },
     "metadata": {},
     "output_type": "display_data"
    }
   ],
   "source": [
    "sklearn.metrics.ConfusionMatrixDisplay(cms).plot()"
   ]
  },
  {
   "cell_type": "code",
   "execution_count": 20,
   "metadata": {},
   "outputs": [
    {
     "data": {
      "text/plain": [
       "array([[4940, 1535],\n",
       "       [1533, 4942]], dtype=int64)"
      ]
     },
     "execution_count": 20,
     "metadata": {},
     "output_type": "execute_result"
    }
   ],
   "source": [
    "cms"
   ]
  },
  {
   "cell_type": "code",
   "execution_count": 21,
   "metadata": {},
   "outputs": [],
   "source": [
    "def expected_games_right(confusion_matrix):\n",
    "    accuracy = (confusion_matrix[0,0] + confusion_matrix[1,1]) / confusion_matrix.sum()\n",
    "    print(f\"accuracy: {accuracy}\")\n",
    "    gr = 32.0 * accuracy\n",
    "    gr = gr + (16 * (accuracy ** 2))\n",
    "    gr = gr + (8 * (accuracy ** 3))\n",
    "    gr = gr + (4 * (accuracy ** 4))\n",
    "    gr = gr + (2 * (accuracy ** 5))\n",
    "    gr = gr + (1 * (accuracy ** 6))\n",
    "    return gr"
   ]
  },
  {
   "cell_type": "code",
   "execution_count": 22,
   "metadata": {},
   "outputs": [],
   "source": [
    "def expected_score(confusion_matrix):\n",
    "    accuracy = (confusion_matrix[0,0] + confusion_matrix[1,1]) / confusion_matrix.sum()\n",
    "    gr = 32.0 * accuracy\n",
    "    gr = gr + (32 * (accuracy ** 2))\n",
    "    gr = gr + (32 * (accuracy ** 3))\n",
    "    gr = gr + (32 * (accuracy ** 4))\n",
    "    gr = gr + (32 * (accuracy ** 5))\n",
    "    gr = gr + (32 * (accuracy ** 6))\n",
    "    return gr"
   ]
  },
  {
   "cell_type": "code",
   "execution_count": 23,
   "metadata": {},
   "outputs": [
    {
     "name": "stdout",
     "output_type": "stream",
     "text": [
      "accuracy: 0.7630888030888031\n"
     ]
    },
    {
     "data": {
      "text/plain": [
       "39.36176982036296"
      ]
     },
     "execution_count": 23,
     "metadata": {},
     "output_type": "execute_result"
    }
   ],
   "source": [
    "expected_games_right(cms)"
   ]
  },
  {
   "cell_type": "code",
   "execution_count": 24,
   "metadata": {},
   "outputs": [
    {
     "data": {
      "text/plain": [
       "82.720510900379"
      ]
     },
     "execution_count": 24,
     "metadata": {},
     "output_type": "execute_result"
    }
   ],
   "source": [
    "expected_score(cms)"
   ]
  },
  {
   "cell_type": "code",
   "execution_count": 25,
   "metadata": {},
   "outputs": [
    {
     "name": "stdout",
     "output_type": "stream",
     "text": [
      "accuracy: 0.7596138996138996\n",
      "expected games correct: 39.076024499159395\n",
      "expected score: 81.69283937035448\n"
     ]
    },
    {
     "data": {
      "image/png": "[encoded data removed]",
      "text/plain": [
       "<Figure size 640x480 with 2 Axes>"
      ]
     },
     "metadata": {},
     "output_type": "display_data"
    }
   ],
   "source": [
    "from sklearn.decomposition import PCA\n",
    "from sklearn.neural_network import MLPClassifier\n",
    "pca = PCA(n_components=171)\n",
    "pca.fit(prediction_data_normalized)\n",
    "# tol=0.000001, max_iter=30000, solver=\"liblinear\"\n",
    "cms = proper_cross_validation(LogisticRegression(max_iter=30000), pd.DataFrame(pca.transform(prediction_data_normalized)), data['Win_Loss_Flag'])\n",
    "sklearn.metrics.ConfusionMatrixDisplay(cms).plot()\n",
    "print(f\"expected games correct: {expected_games_right(cms)}\")\n",
    "print(f\"expected score: {expected_score(cms)}\")"
   ]
  },
  {
   "cell_type": "code",
   "execution_count": 26,
   "metadata": {},
   "outputs": [],
   "source": [
    "results_df = pd.DataFrame(columns=[\"n_components\", \"expected_games_right\", \"expected_score\"])\n",
    "# for i in range(1, 172):\n",
    "#     pca = PCA(n_components=i)\n",
    "#     pca.fit(prediction_data_normalized)\n",
    "#     cms = proper_cross_validation(LogisticRegression(max_iter=30000), pd.DataFrame(pca.transform(prediction_data_normalized)), data['Win_Loss_Flag'])\n",
    "#     results_df = pd.concat([results_df, pd.DataFrame({\"n_components\": [i], \"expected_games_right\": [expected_games_right(cms)], \"expected_score\": [expected_score(cms)]})])"
   ]
  },
  {
   "cell_type": "code",
   "execution_count": 27,
   "metadata": {},
   "outputs": [
    {
     "data": {
      "application/vnd.microsoft.datawrangler.viewer.v0+json": {
       "columns": [
        {
         "name": "index",
         "rawType": "int64",
         "type": "integer"
        },
        {
         "name": "n_components",
         "rawType": "object",
         "type": "string"
        },
        {
         "name": "expected_games_right",
         "rawType": "object",
         "type": "string"
        },
        {
         "name": "expected_score",
         "rawType": "object",
         "type": "string"
        }
       ],
       "conversionMethod": "pd.DataFrame",
       "ref": "16cb42f4-0ec2-4923-b3af-ffe3b69e7b74",
       "rows": [],
       "shape": {
        "columns": 3,
        "rows": 0
       }
      },
      "text/html": [
       "<div>\n",
       "<style scoped>\n",
       "    .dataframe tbody tr th:only-of-type {\n",
       "        vertical-align: middle;\n",
       "    }\n",
       "\n",
       "    .dataframe tbody tr th {\n",
       "        vertical-align: top;\n",
       "    }\n",
       "\n",
       "    .dataframe thead th {\n",
       "        text-align: right;\n",
       "    }\n",
       "</style>\n",
       "<table border=\"1\" class=\"dataframe\">\n",
       "  <thead>\n",
       "    <tr style=\"text-align: right;\">\n",
       "      <th></th>\n",
       "      <th>n_components</th>\n",
       "      <th>expected_games_right</th>\n",
       "      <th>expected_score</th>\n",
       "    </tr>\n",
       "  </thead>\n",
       "  <tbody>\n",
       "  </tbody>\n",
       "</table>\n",
       "</div>"
      ],
      "text/plain": [
       "Empty DataFrame\n",
       "Columns: [n_components, expected_games_right, expected_score]\n",
       "Index: []"
      ]
     },
     "execution_count": 27,
     "metadata": {},
     "output_type": "execute_result"
    }
   ],
   "source": [
    "results_df.tail(30)"
   ]
  },
  {
   "cell_type": "code",
   "execution_count": 28,
   "metadata": {},
   "outputs": [],
   "source": [
    "import pandas as pd\n",
    "new_data = pd.read_sql(\"select * from sports_data.tourney_games_2025_potential\", conn)\n",
    "new_data = new_data.replace(np.NaN, 0)"
   ]
  },
  {
   "cell_type": "code",
   "execution_count": 29,
   "metadata": {},
   "outputs": [],
   "source": [
    "wk = new_data[new_data['team'].str.contains('Conn')]\n",
    "a = wk[wk['opponent'].str.contains('Hou')].head()[['season_ppg', 'season_ppg_allowed','opponent_season_ppg', 'opponent_season_ppg_allowed']]\n"
   ]
  },
  {
   "cell_type": "code",
   "execution_count": 30,
   "metadata": {},
   "outputs": [
    {
     "data": {
      "text/plain": [
       "1390    137.90508\n",
       "dtype: float64"
      ]
     },
     "execution_count": 30,
     "metadata": {},
     "output_type": "execute_result"
    }
   ],
   "source": [
    "(a['season_ppg'] + a['opponent_season_ppg'] + a['season_ppg_allowed'] + a['opponent_season_ppg_allowed']) / 2"
   ]
  },
  {
   "cell_type": "code",
   "execution_count": 33,
   "metadata": {},
   "outputs": [],
   "source": [
    "from sklearn.decomposition import PCA\n",
    "from sklearn.ensemble import RandomForestClassifier\n",
    "pca = PCA(n_components=171)\n",
    "pca.fit(prediction_data_normalized)\n",
    "# tol=0.000001, max_iter=30000, solver=\"liblinear\"\n",
    "# cms = proper_cross_validation(RandomForestClassifier(n_estimators=10000, n_jobs=12), pd.DataFrame(pca.transform(prediction_data_normalized)), data['Win_Loss_Flag'])\n",
    "clf = RandomForestClassifier(n_estimators=10000, n_jobs=14).fit(pd.DataFrame(pca.transform(prediction_data_normalized)), data['Win_Loss_Flag'])"
   ]
  },
  {
   "cell_type": "code",
   "execution_count": 34,
   "metadata": {},
   "outputs": [],
   "source": [
    "new_prediction_data = new_data[predictor_cols]\n",
    "new_prediction_data_normalized = (new_prediction_data-prediction_data.mean())/prediction_data.std()\n",
    "new_data_pca = pca.transform(new_prediction_data_normalized)"
   ]
  },
  {
   "cell_type": "code",
   "execution_count": 35,
   "metadata": {},
   "outputs": [],
   "source": [
    "new_data['prediction'] = clf.predict(new_data_pca)\n",
    "new_data['prediction_lose'] = [x[0] for x in clf.predict_proba(new_data_pca)]\n",
    "new_data['prediction_win'] = [x[1] for x in clf.predict_proba(new_data_pca)]\n",
    "preds = new_data[['season', 'team', 'opponent', 'prediction', 'prediction_lose', 'prediction_win']]"
   ]
  },
  {
   "cell_type": "code",
   "execution_count": 36,
   "metadata": {},
   "outputs": [
    {
     "data": {
      "application/vnd.microsoft.datawrangler.viewer.v0+json": {
       "columns": [
        {
         "name": "index",
         "rawType": "int64",
         "type": "integer"
        },
        {
         "name": "season",
         "rawType": "int64",
         "type": "integer"
        },
        {
         "name": "team",
         "rawType": "object",
         "type": "string"
        },
        {
         "name": "opponent",
         "rawType": "object",
         "type": "string"
        },
        {
         "name": "prediction",
         "rawType": "int64",
         "type": "integer"
        },
        {
         "name": "prediction_lose",
         "rawType": "float64",
         "type": "float"
        },
        {
         "name": "prediction_win",
         "rawType": "float64",
         "type": "float"
        }
       ],
       "conversionMethod": "pd.DataFrame",
       "ref": "aca8d9ed-710f-48ca-b801-909ae29e7441",
       "rows": [
        [
         "33",
         "2025",
         "Auburn",
         "Duke",
         "0",
         "0.5498",
         "0.4502"
        ]
       ],
       "shape": {
        "columns": 6,
        "rows": 1
       }
      },
      "text/html": [
       "<div>\n",
       "<style scoped>\n",
       "    .dataframe tbody tr th:only-of-type {\n",
       "        vertical-align: middle;\n",
       "    }\n",
       "\n",
       "    .dataframe tbody tr th {\n",
       "        vertical-align: top;\n",
       "    }\n",
       "\n",
       "    .dataframe thead th {\n",
       "        text-align: right;\n",
       "    }\n",
       "</style>\n",
       "<table border=\"1\" class=\"dataframe\">\n",
       "  <thead>\n",
       "    <tr style=\"text-align: right;\">\n",
       "      <th></th>\n",
       "      <th>season</th>\n",
       "      <th>team</th>\n",
       "      <th>opponent</th>\n",
       "      <th>prediction</th>\n",
       "      <th>prediction_lose</th>\n",
       "      <th>prediction_win</th>\n",
       "    </tr>\n",
       "  </thead>\n",
       "  <tbody>\n",
       "    <tr>\n",
       "      <th>33</th>\n",
       "      <td>2025</td>\n",
       "      <td>Auburn</td>\n",
       "      <td>Duke</td>\n",
       "      <td>0</td>\n",
       "      <td>0.5498</td>\n",
       "      <td>0.4502</td>\n",
       "    </tr>\n",
       "  </tbody>\n",
       "</table>\n",
       "</div>"
      ],
      "text/plain": [
       "    season    team opponent  prediction  prediction_lose  prediction_win\n",
       "33    2025  Auburn     Duke           0           0.5498          0.4502"
      ]
     },
     "execution_count": 36,
     "metadata": {},
     "output_type": "execute_result"
    }
   ],
   "source": [
    "wk = preds[preds['team'].str.contains('Aub')]\n",
    "wk[wk['opponent'].str.contains('Duke')]"
   ]
  },
  {
   "cell_type": "code",
   "execution_count": 42,
   "metadata": {},
   "outputs": [
    {
     "data": {
      "text/plain": [
       "556"
      ]
     },
     "execution_count": 42,
     "metadata": {},
     "output_type": "execute_result"
    }
   ],
   "source": [
    "preds.to_sql(\"tourney_predictions_2025\", conn, if_exists=\"replace\", index=False, schema=\"sports_data\")"
   ]
  },
  {
   "cell_type": "code",
   "execution_count": 43,
   "metadata": {},
   "outputs": [],
   "source": [
    "conn.commit()"
   ]
  },
  {
   "cell_type": "code",
   "execution_count": 58,
   "metadata": {},
   "outputs": [
    {
     "name": "stdout",
     "output_type": "stream",
     "text": [
      "0: 0.07875309648747868, 0.07875309648747868\n",
      "1: 0.06235214268614444, 0.1411052391736231\n",
      "2: 0.061709063658295496, 0.2028143028319186\n",
      "3: 0.04369072390650818, 0.24650502673842678\n",
      "4: 0.03451228079723793, 0.28101730753566473\n",
      "5: 0.032633254197327266, 0.313650561732992\n",
      "6: 0.03184942162400082, 0.34549998335699283\n",
      "7: 0.027809295174391818, 0.3733092785313846\n",
      "8: 0.022691424353875986, 0.3960007028852606\n",
      "9: 0.022571737126863015, 0.4185724400121236\n",
      "10: 0.021381095214624106, 0.43995353522674774\n",
      "11: 0.020933778730977577, 0.4608873139577253\n",
      "12: 0.019184344584340953, 0.48007165854206624\n",
      "13: 0.01887287697876088, 0.4989445355208271\n",
      "14: 0.016776856516154143, 0.5157213920369813\n",
      "15: 0.015925518997980705, 0.531646911034962\n",
      "16: 0.015486511676009793, 0.5471334227109718\n",
      "17: 0.013329144275629945, 0.5604625669866017\n",
      "18: 0.013010498232614529, 0.5734730652192163\n",
      "19: 0.0122446074714682, 0.5857176726906844\n",
      "20: 0.01221421103670464, 0.597931883727389\n",
      "21: 0.011535492442485338, 0.6094673761698743\n",
      "22: 0.01127900790922708, 0.6207463840791014\n",
      "23: 0.010873912755517233, 0.6316202968346186\n",
      "24: 0.01072009106253141, 0.64234038789715\n",
      "25: 0.010276631407232392, 0.6526170193043823\n",
      "26: 0.009686648614182222, 0.6623036679185645\n",
      "27: 0.009080317343130234, 0.6713839852616947\n",
      "28: 0.009027697046421939, 0.6804116823081167\n",
      "29: 0.008740903097529805, 0.6891525854056465\n",
      "30: 0.008640964255348075, 0.6977935496609946\n",
      "31: 0.008553150257439347, 0.7063466999184339\n",
      "32: 0.008099480698630392, 0.7144461806170643\n",
      "33: 0.008033065216681932, 0.7224792458337462\n",
      "34: 0.007588426337807444, 0.7300676721715537\n",
      "35: 0.007573994858264737, 0.7376416670298184\n",
      "36: 0.007336710139618186, 0.7449783771694366\n",
      "37: 0.007285950579029124, 0.7522643277484657\n",
      "38: 0.006906469085642185, 0.7591707968341079\n",
      "39: 0.006625519251685442, 0.7657963160857933\n",
      "40: 0.0065943564942779285, 0.7723906725800713\n",
      "41: 0.006206127043378762, 0.7785967996234501\n",
      "42: 0.005976109623821274, 0.7845729092472713\n",
      "43: 0.005738244070202706, 0.790311153317474\n",
      "44: 0.0055139328733351195, 0.7958250861908092\n",
      "45: 0.00526782534706771, 0.8010929115378769\n",
      "46: 0.005130558803068726, 0.8062234703409455\n",
      "47: 0.005066742323952636, 0.8112902126648982\n",
      "48: 0.004953568317517906, 0.8162437809824161\n",
      "49: 0.004759422626868364, 0.8210032036092845\n",
      "50: 0.0046666841146430155, 0.8256698877239275\n",
      "51: 0.004608891250701203, 0.8302787789746287\n",
      "52: 0.004347455760361642, 0.8346262347349903\n",
      "53: 0.004330251698857501, 0.8389564864338478\n",
      "54: 0.0043132957447526675, 0.8432697821786005\n",
      "55: 0.004209442179871178, 0.8474792243584717\n",
      "56: 0.004166755896052913, 0.8516459802545245\n",
      "57: 0.004103844461031101, 0.8557498247155556\n",
      "58: 0.004018580476556033, 0.8597684051921116\n",
      "59: 0.0038746731325137412, 0.8636430783246254\n",
      "60: 0.0038363756065434187, 0.8674794539311688\n",
      "61: 0.0037966707708206896, 0.8712761247019895\n",
      "62: 0.0036724786709586474, 0.8749486033729481\n",
      "63: 0.003484321338181136, 0.8784329247111292\n",
      "64: 0.003431117571480604, 0.8818640422826098\n",
      "65: 0.003288233626457046, 0.8851522759090669\n",
      "66: 0.003208059742396369, 0.8883603356514632\n",
      "67: 0.003137156026855848, 0.891497491678319\n",
      "68: 0.0030814306219172838, 0.8945789223002363\n",
      "69: 0.003034927799255326, 0.8976138500994916\n",
      "70: 0.0029434861715036302, 0.9005573362709952\n",
      "71: 0.0028496016333815176, 0.9034069379043768\n",
      "72: 0.0027372943355500967, 0.9061442322399269\n",
      "73: 0.002682372214796265, 0.9088266044547232\n",
      "74: 0.002634873682133323, 0.9114614781368565\n",
      "75: 0.0025938446793684193, 0.9140553228162249\n",
      "76: 0.0025274961744911483, 0.916582818990716\n",
      "77: 0.0025256990405211907, 0.9191085180312373\n",
      "78: 0.0024847961393330955, 0.9215933141705703\n",
      "79: 0.0024291753521358023, 0.9240224895227062\n",
      "80: 0.002336168749719051, 0.9263586582724253\n",
      "81: 0.0022989767942942717, 0.9286576350667195\n",
      "82: 0.0022146230456447373, 0.9308722581123643\n",
      "83: 0.002167531429317706, 0.933039789541682\n",
      "84: 0.0020506377920367653, 0.9350904273337187\n",
      "85: 0.0020258614562561252, 0.9371162887899749\n",
      "86: 0.0019770613111344004, 0.9390933501011093\n",
      "87: 0.001962940949413643, 0.9410562910505229\n",
      "88: 0.001925577073849431, 0.9429818681243723\n",
      "89: 0.0018950293121107946, 0.9448768974364832\n",
      "90: 0.0018419196675459818, 0.9467188171040292\n",
      "91: 0.0018146716429882476, 0.9485334887470174\n",
      "92: 0.0017350890447131832, 0.9502685777917306\n",
      "93: 0.0016952430852719923, 0.9519638208770026\n",
      "94: 0.0016391124195848504, 0.9536029332965874\n",
      "95: 0.0016355462890640562, 0.9552384795856514\n",
      "96: 0.0015950433889927187, 0.9568335229746442\n",
      "97: 0.001558373578391771, 0.9583918965530359\n",
      "98: 0.0015174868179879558, 0.9599093833710238\n",
      "99: 0.0014821035786586393, 0.9613914869496825\n",
      "100: 0.001458054184878448, 0.9628495411345609\n",
      "101: 0.0014324315362965897, 0.9642819726708575\n",
      "102: 0.0014130163792364556, 0.9656949890500939\n",
      "103: 0.0013847629312148514, 0.9670797519813087\n",
      "104: 0.0013515201106548645, 0.9684312720919636\n",
      "105: 0.0012592374825258356, 0.9696905095744894\n",
      "106: 0.0012481442142480874, 0.9709386537887376\n",
      "107: 0.0011944117765033378, 0.9721330655652409\n",
      "108: 0.0011653515854055038, 0.9732984171506465\n",
      "109: 0.0011317348584821013, 0.9744301520091285\n",
      "110: 0.0011068278873187707, 0.9755369798964473\n",
      "111: 0.001049414819297378, 0.9765863947157446\n",
      "112: 0.0010439201769913047, 0.9776303148927359\n",
      "113: 0.0010127257514720232, 0.9786430406442079\n",
      "114: 0.001008237656961931, 0.9796512783011698\n",
      "115: 0.000990219497397097, 0.9806414977985669\n",
      "116: 0.0009584025870547242, 0.9815999003856216\n",
      "117: 0.0009012058394085977, 0.9825011062250302\n",
      "118: 0.0008934679024476323, 0.9833945741274778\n",
      "119: 0.0008491915203288539, 0.9842437656478066\n",
      "120: 0.0007868277723288385, 0.9850305934201354\n",
      "121: 0.0007803861565892949, 0.9858109795767247\n",
      "122: 0.0007461856751020346, 0.9865571652518267\n",
      "123: 0.0007309783065145544, 0.9872881435583413\n",
      "124: 0.0006803238793887881, 0.98796846743773\n",
      "125: 0.0006749569830049653, 0.988643424420735\n",
      "126: 0.0006653921094800419, 0.9893088165302151\n",
      "127: 0.0006283466441111052, 0.9899371631743262\n",
      "128: 0.0005855823913854197, 0.9905227455657116\n",
      "129: 0.0005777579923407624, 0.9911005035580523\n",
      "130: 0.0005591974805356869, 0.991659701038588\n",
      "131: 0.000548864755894421, 0.9922085657944825\n",
      "132: 0.000511007325523039, 0.9927195731200055\n",
      "133: 0.0005008007186131187, 0.9932203738386186\n",
      "134: 0.0004879060095799811, 0.9937082798481985\n",
      "135: 0.0004632385015279603, 0.9941715183497265\n",
      "136: 0.00044045027819033215, 0.9946119686279168\n",
      "137: 0.0004295016053374504, 0.9950414702332543\n",
      "138: 0.0004237855291635187, 0.9954652557624178\n",
      "139: 0.0004087683517451167, 0.9958740241141629\n",
      "140: 0.0003721987951237288, 0.9962462229092867\n",
      "141: 0.0003595859273041319, 0.9966058088365908\n",
      "142: 0.00034414219245930134, 0.99694995102905\n",
      "143: 0.00034089186346882076, 0.9972908428925189\n",
      "144: 0.0003035655978655942, 0.9975944084903845\n",
      "145: 0.0002727756542054244, 0.99786718414459\n",
      "146: 0.0002654069594883445, 0.9981325911040783\n",
      "147: 0.00023067543919676645, 0.998363266543275\n",
      "148: 0.00017783699469797835, 0.998541103537973\n",
      "149: 0.00017170519321646886, 0.9987128087311895\n",
      "150: 0.00013741595931396827, 0.9988502246905034\n",
      "151: 0.0001316623177293701, 0.9989818870082328\n",
      "152: 0.00012008924367539882, 0.9991019762519081\n",
      "153: 0.00011569798860774489, 0.9992176742405159\n",
      "154: 0.00010657504212657399, 0.9993242492826424\n",
      "155: 9.491678411953368e-05, 0.999419166066762\n",
      "156: 8.298197918979104e-05, 0.9995021480459517\n",
      "157: 7.227018285166316e-05, 0.9995744182288033\n",
      "158: 5.254409161328657e-05, 0.9996269623204166\n",
      "159: 4.736837253678592e-05, 0.9996743306929534\n",
      "160: 4.573107628799384e-05, 0.9997200617692414\n",
      "161: 4.275281012005223e-05, 0.9997628145793614\n",
      "162: 3.8765327440813056e-05, 0.9998015799068023\n",
      "163: 3.764196304921939e-05, 0.9998392218698515\n",
      "164: 3.726167443977041e-05, 0.9998764835442913\n",
      "165: 3.0382968201063124e-05, 0.9999068665124923\n",
      "166: 2.706045410457847e-05, 0.9999339269665969\n",
      "167: 2.533625930959612e-05, 0.9999592632259064\n",
      "168: 1.5022917338140441e-05, 0.9999742861432446\n",
      "169: 1.3573402424009974e-05, 0.9999878595456686\n",
      "170: 1.2140454330467793e-05, 0.9999999999999991\n"
     ]
    }
   ],
   "source": [
    "pca = PCA(n_components=171)\n",
    "pca.fit(prediction_data_normalized)\n",
    "\n",
    "ev = 0.0\n",
    "for i in range(171):\n",
    "    val = pca.explained_variance_ratio_[i]\n",
    "    ev += val\n",
    "    print(f\"{i}: {val}, {ev}\")"
   ]
  },
  {
   "cell_type": "code",
   "execution_count": 172,
   "metadata": {},
   "outputs": [],
   "source": [
    "from sklearn.ensemble import RandomForestClassifier\n",
    "pca = PCA(n_components=171)\n",
    "pca.fit(prediction_data_normalized)\n",
    "\n",
    "cms = proper_cross_validation(RandomForestClassifier(n_estimators=10000, n_jobs=12), pd.DataFrame(pca.transform(prediction_data_normalized)), data['Win_Loss_Flag'])"
   ]
  },
  {
   "cell_type": "code",
   "execution_count": 31,
   "metadata": {},
   "outputs": [],
   "source": [
    "#tol=0.000001, max_iter=30000, solver=\"liblinear\"\n",
    "pca = PCA(n_components=171)\n",
    "pca.fit(prediction_data_normalized)\n",
    "\n",
    "cms = proper_cross_validation(LogisticRegression(tol=0.000001, max_iter=60000, solver=\"liblinear\"), pd.DataFrame(pca.transform(prediction_data_normalized)), data['Win_Loss_Flag'])"
   ]
  },
  {
   "cell_type": "code",
   "execution_count": 32,
   "metadata": {},
   "outputs": [
    {
     "name": "stdout",
     "output_type": "stream",
     "text": [
      "accuracy: 0.7596138996138996\n"
     ]
    },
    {
     "data": {
      "text/plain": [
       "39.076024499159395"
      ]
     },
     "execution_count": 32,
     "metadata": {},
     "output_type": "execute_result"
    }
   ],
   "source": [
    "expected_games_right(cms)"
   ]
  },
  {
   "cell_type": "code",
   "execution_count": null,
   "metadata": {},
   "outputs": [],
   "source": []
  },
  {
   "cell_type": "code",
   "execution_count": 67,
   "metadata": {},
   "outputs": [],
   "source": [
    "from sklearn.ensemble import HistGradientBoostingClassifier\n",
    "pca = PCA(n_components=171)\n",
    "pca.fit(prediction_data_normalized)\n",
    "\n",
    "cms = proper_cross_validation(HistGradientBoostingClassifier(), pd.DataFrame(pca.transform(prediction_data_normalized)), data['Win_Loss_Flag'])"
   ]
  },
  {
   "cell_type": "code",
   "execution_count": 68,
   "metadata": {},
   "outputs": [
    {
     "name": "stdout",
     "output_type": "stream",
     "text": [
      "accuracy: 0.7527242246437552\n"
     ]
    },
    {
     "data": {
      "text/plain": [
       "38.51388462511549"
      ]
     },
     "execution_count": 68,
     "metadata": {},
     "output_type": "execute_result"
    }
   ],
   "source": [
    "expected_games_right(cms)"
   ]
  }
 ],
 "metadata": {
  "kernelspec": {
   "display_name": ".venv",
   "language": "python",
   "name": "python3"
  },
  "language_info": {
   "codemirror_mode": {
    "name": "ipython",
    "version": 3
   },
   "file_extension": ".py",
   "mimetype": "text/x-python",
   "name": "python",
   "nbconvert_exporter": "python",
   "pygments_lexer": "ipython3",
   "version": "3.10.6"
  },
  "orig_nbformat": 4
 },
 "nbformat": 4,
 "nbformat_minor": 2
}
