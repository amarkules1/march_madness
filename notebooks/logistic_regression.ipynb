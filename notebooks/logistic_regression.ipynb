{
 "cells": [
  {
   "cell_type": "code",
   "execution_count": 1,
   "metadata": {},
   "outputs": [],
   "source": [
    "import os\n",
    "import pandas as pd\n",
    "import sqlalchemy\n",
    "import sklearn\n",
    "from dotenv import load_dotenv, find_dotenv\n",
    "_ = load_dotenv(find_dotenv())\n",
    "\n",
    "connection_string = os.getenv(\"LINODE_CONN_STRING\")\n",
    "connection_string = os.getenv(\"LINODE_CONN_STRING\")\n",
    "conn = sqlalchemy.create_engine(os.getenv(\"LINODE_CONN_STRING\")).connect()"
   ]
  },
  {
   "cell_type": "code",
   "execution_count": 72,
   "metadata": {},
   "outputs": [],
   "source": [
    "data = pd.read_sql(\"select * from sports_data.tourney_games_with_season_stats\", conn)"
   ]
  },
  {
   "cell_type": "code",
   "execution_count": 73,
   "metadata": {},
   "outputs": [],
   "source": [
    "data['Win_Loss_Flag'] = data['Win_Loss'].apply(lambda x: 1 if x == 'W' else 0)"
   ]
  },
  {
   "cell_type": "code",
   "execution_count": 74,
   "metadata": {},
   "outputs": [],
   "source": [
    "predictor_columns = data.columns[8:-1]\n",
    "predictors = data[predictor_columns]\n",
    "predictors_and_response = pd.concat([predictors, data['Win_Loss_Flag']], axis=1)"
   ]
  },
  {
   "cell_type": "code",
   "execution_count": 75,
   "metadata": {},
   "outputs": [
    {
     "data": {
      "text/plain": [
       "Win_Loss_Flag                                  1.000000\n",
       "adj_offense_team                               0.270970\n",
       "adj_defense_opponent                           0.225174\n",
       "offensive_efficiency_team                      0.196490\n",
       "opponent_offensive_efficiency_opponent         0.123610\n",
       "effective_fg_percent_team                      0.116454\n",
       "opponent_effective_fg_percent_opponent         0.112050\n",
       "turnover_percent_opponent                      0.106504\n",
       "offensive_rebound_percent_team                 0.104910\n",
       "opponent_free_throw_rate_opponent              0.070684\n",
       "free_throw_rate_opponent                       0.066086\n",
       "opponent_turnover_percent_team                 0.033527\n",
       "opponent_offensive_rebound_percent_opponent    0.001040\n",
       "opponent_offensive_rebound_percent_team       -0.001040\n",
       "opponent_turnover_percent_opponent            -0.033527\n",
       "free_throw_rate_team                          -0.066086\n",
       "opponent_free_throw_rate_team                 -0.070684\n",
       "offensive_rebound_percent_opponent            -0.104910\n",
       "turnover_percent_team                         -0.106504\n",
       "opponent_effective_fg_percent_team            -0.112050\n",
       "effective_fg_percent_opponent                 -0.116454\n",
       "opponent_offensive_efficiency_team            -0.123610\n",
       "offensive_efficiency_opponent                 -0.196490\n",
       "adj_defense_team                              -0.225174\n",
       "adj_offense_opponent                          -0.270970\n",
       "Name: Win_Loss_Flag, dtype: float64"
      ]
     },
     "execution_count": 75,
     "metadata": {},
     "output_type": "execute_result"
    }
   ],
   "source": [
    "predictors_and_response.corr(numeric_only=True)['Win_Loss_Flag'].sort_values(ascending=False)"
   ]
  },
  {
   "cell_type": "code",
   "execution_count": 76,
   "metadata": {},
   "outputs": [],
   "source": [
    "corrs = predictors_and_response.corr(numeric_only=True)['Win_Loss_Flag']\n",
    "corrs = corrs[corrs > 0.02]\n",
    "corrs = corrs[corrs.index != 'Win_Loss_Flag']\n",
    "effective_predictors = corrs.index.tolist()"
   ]
  },
  {
   "cell_type": "code",
   "execution_count": 77,
   "metadata": {},
   "outputs": [
    {
     "data": {
      "text/plain": [
       "11"
      ]
     },
     "execution_count": 77,
     "metadata": {},
     "output_type": "execute_result"
    }
   ],
   "source": [
    "len(effective_predictors)"
   ]
  },
  {
   "cell_type": "code",
   "execution_count": 78,
   "metadata": {},
   "outputs": [],
   "source": [
    "prediction_data = data[effective_predictors]\n",
    "prediction_data_normalized = (prediction_data-prediction_data.mean())/prediction_data.std()"
   ]
  },
  {
   "cell_type": "code",
   "execution_count": 79,
   "metadata": {},
   "outputs": [
    {
     "data": {
      "text/html": [
       "<div>\n",
       "<style scoped>\n",
       "    .dataframe tbody tr th:only-of-type {\n",
       "        vertical-align: middle;\n",
       "    }\n",
       "\n",
       "    .dataframe tbody tr th {\n",
       "        vertical-align: top;\n",
       "    }\n",
       "\n",
       "    .dataframe thead th {\n",
       "        text-align: right;\n",
       "    }\n",
       "</style>\n",
       "<table border=\"1\" class=\"dataframe\">\n",
       "  <thead>\n",
       "    <tr style=\"text-align: right;\">\n",
       "      <th></th>\n",
       "      <th>adj_offense_team</th>\n",
       "      <th>offensive_efficiency_team</th>\n",
       "      <th>effective_fg_percent_team</th>\n",
       "      <th>offensive_rebound_percent_team</th>\n",
       "      <th>opponent_turnover_percent_team</th>\n",
       "      <th>adj_defense_opponent</th>\n",
       "      <th>turnover_percent_opponent</th>\n",
       "      <th>free_throw_rate_opponent</th>\n",
       "      <th>opponent_offensive_efficiency_opponent</th>\n",
       "      <th>opponent_effective_fg_percent_opponent</th>\n",
       "      <th>opponent_free_throw_rate_opponent</th>\n",
       "    </tr>\n",
       "  </thead>\n",
       "  <tbody>\n",
       "    <tr>\n",
       "      <th>0</th>\n",
       "      <td>-0.927835</td>\n",
       "      <td>-1.624681</td>\n",
       "      <td>-1.649647</td>\n",
       "      <td>-0.387095</td>\n",
       "      <td>0.617680</td>\n",
       "      <td>-0.591715</td>\n",
       "      <td>-0.114575</td>\n",
       "      <td>-0.058197</td>\n",
       "      <td>-0.464621</td>\n",
       "      <td>0.068223</td>\n",
       "      <td>-0.223741</td>\n",
       "    </tr>\n",
       "    <tr>\n",
       "      <th>1</th>\n",
       "      <td>-0.212381</td>\n",
       "      <td>-0.766889</td>\n",
       "      <td>-0.859129</td>\n",
       "      <td>0.315748</td>\n",
       "      <td>1.201215</td>\n",
       "      <td>-0.385921</td>\n",
       "      <td>-0.239694</td>\n",
       "      <td>-0.604433</td>\n",
       "      <td>-0.172103</td>\n",
       "      <td>-0.505183</td>\n",
       "      <td>0.359243</td>\n",
       "    </tr>\n",
       "    <tr>\n",
       "      <th>2</th>\n",
       "      <td>-0.195177</td>\n",
       "      <td>-0.715680</td>\n",
       "      <td>-0.196766</td>\n",
       "      <td>-0.101264</td>\n",
       "      <td>0.512527</td>\n",
       "      <td>-0.642958</td>\n",
       "      <td>0.836021</td>\n",
       "      <td>-0.578729</td>\n",
       "      <td>-0.571980</td>\n",
       "      <td>-0.983478</td>\n",
       "      <td>1.185184</td>\n",
       "    </tr>\n",
       "    <tr>\n",
       "      <th>3</th>\n",
       "      <td>1.053736</td>\n",
       "      <td>0.897114</td>\n",
       "      <td>0.248055</td>\n",
       "      <td>1.953495</td>\n",
       "      <td>0.069976</td>\n",
       "      <td>-0.749431</td>\n",
       "      <td>0.594703</td>\n",
       "      <td>0.817571</td>\n",
       "      <td>-0.412882</td>\n",
       "      <td>-0.499381</td>\n",
       "      <td>1.303525</td>\n",
       "    </tr>\n",
       "    <tr>\n",
       "      <th>4</th>\n",
       "      <td>-0.195177</td>\n",
       "      <td>-0.715680</td>\n",
       "      <td>-0.196766</td>\n",
       "      <td>-0.101264</td>\n",
       "      <td>0.512527</td>\n",
       "      <td>-0.790995</td>\n",
       "      <td>0.111636</td>\n",
       "      <td>-0.887965</td>\n",
       "      <td>-0.300158</td>\n",
       "      <td>-0.272603</td>\n",
       "      <td>-0.055341</td>\n",
       "    </tr>\n",
       "    <tr>\n",
       "      <th>...</th>\n",
       "      <td>...</td>\n",
       "      <td>...</td>\n",
       "      <td>...</td>\n",
       "      <td>...</td>\n",
       "      <td>...</td>\n",
       "      <td>...</td>\n",
       "      <td>...</td>\n",
       "      <td>...</td>\n",
       "      <td>...</td>\n",
       "      <td>...</td>\n",
       "      <td>...</td>\n",
       "    </tr>\n",
       "    <tr>\n",
       "      <th>1237</th>\n",
       "      <td>-1.426319</td>\n",
       "      <td>-0.604308</td>\n",
       "      <td>-0.281490</td>\n",
       "      <td>-0.531916</td>\n",
       "      <td>0.416185</td>\n",
       "      <td>0.157309</td>\n",
       "      <td>-0.374213</td>\n",
       "      <td>0.576946</td>\n",
       "      <td>0.324425</td>\n",
       "      <td>0.265386</td>\n",
       "      <td>1.252496</td>\n",
       "    </tr>\n",
       "    <tr>\n",
       "      <th>1238</th>\n",
       "      <td>0.367438</td>\n",
       "      <td>0.559941</td>\n",
       "      <td>1.489443</td>\n",
       "      <td>-1.255623</td>\n",
       "      <td>0.119701</td>\n",
       "      <td>0.328140</td>\n",
       "      <td>0.726266</td>\n",
       "      <td>1.420357</td>\n",
       "      <td>-0.523980</td>\n",
       "      <td>-0.440797</td>\n",
       "      <td>-0.824305</td>\n",
       "    </tr>\n",
       "    <tr>\n",
       "      <th>1239</th>\n",
       "      <td>-1.387000</td>\n",
       "      <td>-1.206570</td>\n",
       "      <td>-0.153137</td>\n",
       "      <td>-2.031117</td>\n",
       "      <td>-0.428632</td>\n",
       "      <td>-0.632140</td>\n",
       "      <td>0.312622</td>\n",
       "      <td>1.204664</td>\n",
       "      <td>-1.084201</td>\n",
       "      <td>-1.145650</td>\n",
       "      <td>-0.827130</td>\n",
       "    </tr>\n",
       "    <tr>\n",
       "      <th>1240</th>\n",
       "      <td>0.519922</td>\n",
       "      <td>0.775015</td>\n",
       "      <td>0.189707</td>\n",
       "      <td>0.712305</td>\n",
       "      <td>0.844513</td>\n",
       "      <td>0.025232</td>\n",
       "      <td>0.429733</td>\n",
       "      <td>0.886730</td>\n",
       "      <td>0.583046</td>\n",
       "      <td>0.949030</td>\n",
       "      <td>0.558894</td>\n",
       "    </tr>\n",
       "    <tr>\n",
       "      <th>1241</th>\n",
       "      <td>0.451776</td>\n",
       "      <td>-0.039776</td>\n",
       "      <td>0.234877</td>\n",
       "      <td>0.056866</td>\n",
       "      <td>0.091621</td>\n",
       "      <td>-1.686247</td>\n",
       "      <td>-0.329901</td>\n",
       "      <td>2.555247</td>\n",
       "      <td>-2.214709</td>\n",
       "      <td>-1.354452</td>\n",
       "      <td>0.813264</td>\n",
       "    </tr>\n",
       "  </tbody>\n",
       "</table>\n",
       "<p>1242 rows × 11 columns</p>\n",
       "</div>"
      ],
      "text/plain": [
       "      adj_offense_team  offensive_efficiency_team  effective_fg_percent_team  \\\n",
       "0            -0.927835                  -1.624681                  -1.649647   \n",
       "1            -0.212381                  -0.766889                  -0.859129   \n",
       "2            -0.195177                  -0.715680                  -0.196766   \n",
       "3             1.053736                   0.897114                   0.248055   \n",
       "4            -0.195177                  -0.715680                  -0.196766   \n",
       "...                ...                        ...                        ...   \n",
       "1237         -1.426319                  -0.604308                  -0.281490   \n",
       "1238          0.367438                   0.559941                   1.489443   \n",
       "1239         -1.387000                  -1.206570                  -0.153137   \n",
       "1240          0.519922                   0.775015                   0.189707   \n",
       "1241          0.451776                  -0.039776                   0.234877   \n",
       "\n",
       "      offensive_rebound_percent_team  opponent_turnover_percent_team  \\\n",
       "0                          -0.387095                        0.617680   \n",
       "1                           0.315748                        1.201215   \n",
       "2                          -0.101264                        0.512527   \n",
       "3                           1.953495                        0.069976   \n",
       "4                          -0.101264                        0.512527   \n",
       "...                              ...                             ...   \n",
       "1237                       -0.531916                        0.416185   \n",
       "1238                       -1.255623                        0.119701   \n",
       "1239                       -2.031117                       -0.428632   \n",
       "1240                        0.712305                        0.844513   \n",
       "1241                        0.056866                        0.091621   \n",
       "\n",
       "      adj_defense_opponent  turnover_percent_opponent  \\\n",
       "0                -0.591715                  -0.114575   \n",
       "1                -0.385921                  -0.239694   \n",
       "2                -0.642958                   0.836021   \n",
       "3                -0.749431                   0.594703   \n",
       "4                -0.790995                   0.111636   \n",
       "...                    ...                        ...   \n",
       "1237              0.157309                  -0.374213   \n",
       "1238              0.328140                   0.726266   \n",
       "1239             -0.632140                   0.312622   \n",
       "1240              0.025232                   0.429733   \n",
       "1241             -1.686247                  -0.329901   \n",
       "\n",
       "      free_throw_rate_opponent  opponent_offensive_efficiency_opponent  \\\n",
       "0                    -0.058197                               -0.464621   \n",
       "1                    -0.604433                               -0.172103   \n",
       "2                    -0.578729                               -0.571980   \n",
       "3                     0.817571                               -0.412882   \n",
       "4                    -0.887965                               -0.300158   \n",
       "...                        ...                                     ...   \n",
       "1237                  0.576946                                0.324425   \n",
       "1238                  1.420357                               -0.523980   \n",
       "1239                  1.204664                               -1.084201   \n",
       "1240                  0.886730                                0.583046   \n",
       "1241                  2.555247                               -2.214709   \n",
       "\n",
       "      opponent_effective_fg_percent_opponent  \\\n",
       "0                                   0.068223   \n",
       "1                                  -0.505183   \n",
       "2                                  -0.983478   \n",
       "3                                  -0.499381   \n",
       "4                                  -0.272603   \n",
       "...                                      ...   \n",
       "1237                                0.265386   \n",
       "1238                               -0.440797   \n",
       "1239                               -1.145650   \n",
       "1240                                0.949030   \n",
       "1241                               -1.354452   \n",
       "\n",
       "      opponent_free_throw_rate_opponent  \n",
       "0                             -0.223741  \n",
       "1                              0.359243  \n",
       "2                              1.185184  \n",
       "3                              1.303525  \n",
       "4                             -0.055341  \n",
       "...                                 ...  \n",
       "1237                           1.252496  \n",
       "1238                          -0.824305  \n",
       "1239                          -0.827130  \n",
       "1240                           0.558894  \n",
       "1241                           0.813264  \n",
       "\n",
       "[1242 rows x 11 columns]"
      ]
     },
     "execution_count": 79,
     "metadata": {},
     "output_type": "execute_result"
    }
   ],
   "source": [
    "prediction_data_normalized"
   ]
  },
  {
   "cell_type": "code",
   "execution_count": 80,
   "metadata": {},
   "outputs": [],
   "source": [
    "from sklearn.linear_model import LogisticRegression\n",
    "clf = LogisticRegression(random_state=0).fit(prediction_data_normalized, data['Win_Loss_Flag'])"
   ]
  },
  {
   "cell_type": "code",
   "execution_count": 81,
   "metadata": {},
   "outputs": [],
   "source": [
    "data['predicted_outcome'] = clf.predict(prediction_data_normalized)"
   ]
  },
  {
   "cell_type": "code",
   "execution_count": 82,
   "metadata": {},
   "outputs": [
    {
     "data": {
      "text/plain": [
       "<sklearn.metrics._plot.confusion_matrix.ConfusionMatrixDisplay at 0x21132217c70>"
      ]
     },
     "execution_count": 82,
     "metadata": {},
     "output_type": "execute_result"
    },
    {
     "data": {
      "image/png": "[encoded data removed]",
      "text/plain": [
       "<Figure size 640x480 with 2 Axes>"
      ]
     },
     "metadata": {},
     "output_type": "display_data"
    }
   ],
   "source": [
    "sklearn.metrics.ConfusionMatrixDisplay(sklearn.metrics.confusion_matrix(data['Win_Loss_Flag'], data['predicted_outcome'])).plot()"
   ]
  },
  {
   "cell_type": "markdown",
   "metadata": {},
   "source": [
    "Logistic regression predicted 835 games correctly and got 407 wrong. Getting about 2/3 of the games right is not bad, but it's not great either. Other models might yield better results."
   ]
  },
  {
   "cell_type": "code",
   "execution_count": 83,
   "metadata": {},
   "outputs": [],
   "source": [
    "from sklearn.neural_network import MLPClassifier\n",
    "clf = MLPClassifier(random_state=0, max_iter=3000).fit(prediction_data_normalized, data['Win_Loss_Flag'])"
   ]
  },
  {
   "cell_type": "code",
   "execution_count": 84,
   "metadata": {},
   "outputs": [],
   "source": [
    "data['nn_predicted_outcome'] = clf.predict(prediction_data_normalized)"
   ]
  },
  {
   "cell_type": "code",
   "execution_count": 85,
   "metadata": {},
   "outputs": [
    {
     "data": {
      "text/plain": [
       "<sklearn.metrics._plot.confusion_matrix.ConfusionMatrixDisplay at 0x211322164d0>"
      ]
     },
     "execution_count": 85,
     "metadata": {},
     "output_type": "execute_result"
    },
    {
     "data": {
      "image/png": "[encoded data removed]",
      "text/plain": [
       "<Figure size 640x480 with 2 Axes>"
      ]
     },
     "metadata": {},
     "output_type": "display_data"
    }
   ],
   "source": [
    "sklearn.metrics.ConfusionMatrixDisplay(sklearn.metrics.confusion_matrix(data['Win_Loss_Flag'], data['nn_predicted_outcome'])).plot()"
   ]
  },
  {
   "cell_type": "markdown",
   "metadata": {},
   "source": [
    "NN did a lot better but there's probably some overfitting happening. Need to hold out a test set."
   ]
  },
  {
   "cell_type": "code",
   "execution_count": 86,
   "metadata": {},
   "outputs": [],
   "source": [
    "train_X = prediction_data_normalized.iloc[:int(len(prediction_data_normalized)*0.6)]\n",
    "train_y = data['Win_Loss_Flag'].iloc[:int(len(prediction_data_normalized)*0.6)]\n",
    "test_X = prediction_data_normalized.iloc[int(len(prediction_data_normalized)*0.6):]\n",
    "test_y = data['Win_Loss_Flag'].iloc[int(len(prediction_data_normalized)*0.6):]"
   ]
  },
  {
   "cell_type": "code",
   "execution_count": 87,
   "metadata": {},
   "outputs": [],
   "source": [
    "clf = MLPClassifier(hidden_layer_sizes=[50, 50, 50],random_state=0, max_iter=3000).fit(train_X, train_y)"
   ]
  },
  {
   "cell_type": "code",
   "execution_count": 88,
   "metadata": {},
   "outputs": [],
   "source": [
    "nn_test_outcomes = clf.predict(test_X)"
   ]
  },
  {
   "cell_type": "code",
   "execution_count": 89,
   "metadata": {},
   "outputs": [
    {
     "data": {
      "text/plain": [
       "<sklearn.metrics._plot.confusion_matrix.ConfusionMatrixDisplay at 0x2113b93fa60>"
      ]
     },
     "execution_count": 89,
     "metadata": {},
     "output_type": "execute_result"
    },
    {
     "data": {
      "image/png": "[encoded data removed]",
      "text/plain": [
       "<Figure size 640x480 with 2 Axes>"
      ]
     },
     "metadata": {},
     "output_type": "display_data"
    }
   ],
   "source": [
    "sklearn.metrics.ConfusionMatrixDisplay(sklearn.metrics.confusion_matrix(test_y, nn_test_outcomes)).plot()"
   ]
  },
  {
   "cell_type": "code",
   "execution_count": 38,
   "metadata": {},
   "outputs": [],
   "source": [
    "def proper_cross_validation(clf, X, y, k=5):\n",
    "    from sklearn.model_selection import KFold\n",
    "    kf = KFold(n_splits=k)\n",
    "    confusion_matrices = []\n",
    "    for train_index, test_index in kf.split(X):\n",
    "        X_train, X_test = X.iloc[train_index], X.iloc[test_index]\n",
    "        y_train, y_test = y.iloc[train_index], y.iloc[test_index]\n",
    "        clf.fit(X_train, y_train)\n",
    "        confusion_matrices.append(sklearn.metrics.confusion_matrix(y_test, clf.predict(X_test)))\n",
    "    total_confusion_matrix = sum(confusion_matrices)\n",
    "    return total_confusion_matrix"
   ]
  },
  {
   "cell_type": "code",
   "execution_count": 91,
   "metadata": {},
   "outputs": [],
   "source": [
    "cms = proper_cross_validation(MLPClassifier(hidden_layer_sizes=[50, 50, 50],random_state=0, max_iter=3000), prediction_data_normalized, data['Win_Loss_Flag'])"
   ]
  },
  {
   "cell_type": "code",
   "execution_count": 92,
   "metadata": {},
   "outputs": [
    {
     "data": {
      "text/plain": [
       "<sklearn.metrics._plot.confusion_matrix.ConfusionMatrixDisplay at 0x2113b6c0a90>"
      ]
     },
     "execution_count": 92,
     "metadata": {},
     "output_type": "execute_result"
    },
    {
     "data": {
      "image/png": "[encoded data removed]",
      "text/plain": [
       "<Figure size 640x480 with 2 Axes>"
      ]
     },
     "metadata": {},
     "output_type": "display_data"
    }
   ],
   "source": [
    "sklearn.metrics.ConfusionMatrixDisplay(cms).plot()"
   ]
  },
  {
   "cell_type": "code",
   "execution_count": 93,
   "metadata": {},
   "outputs": [
    {
     "data": {
      "text/plain": [
       "<sklearn.metrics._plot.confusion_matrix.ConfusionMatrixDisplay at 0x2113b09b820>"
      ]
     },
     "execution_count": 93,
     "metadata": {},
     "output_type": "execute_result"
    },
    {
     "data": {
      "image/png": "[encoded data removed]",
      "text/plain": [
       "<Figure size 640x480 with 2 Axes>"
      ]
     },
     "metadata": {},
     "output_type": "display_data"
    }
   ],
   "source": [
    "# and what about the logistic regression model?\n",
    "cms = proper_cross_validation(LogisticRegression(random_state=0), prediction_data_normalized, data['Win_Loss_Flag'])\n",
    "sklearn.metrics.ConfusionMatrixDisplay(cms).plot()"
   ]
  },
  {
   "cell_type": "code",
   "execution_count": 94,
   "metadata": {},
   "outputs": [],
   "source": [
    "# well, they're both getting things right a little under 70% of the time\n",
    "# could try different models, but better indicators is probably the more effective way to go\n",
    "all_games = pd.read_sql(\"select * from sports_data.game_stats_v2\", conn)"
   ]
  },
  {
   "cell_type": "code",
   "execution_count": 95,
   "metadata": {},
   "outputs": [
    {
     "data": {
      "text/plain": [
       "Index(['date', 'game_type', 'team', 'conference', 'opponent', 'location',\n",
       "       'result', 'adj_offense', 'adj_defense', 'offensive_efficiency',\n",
       "       'effective_fg_percent', 'turnover_percent', 'offensive_rebound_percent',\n",
       "       'free_throw_rate', 'opponent_offensive_efficiency',\n",
       "       'opponent_effective_fg_percent', 'opponent_turnover_percent',\n",
       "       'opponent_offensive_rebound_percent', 'opponent_free_throw_rate',\n",
       "       'opponent_conference', 'season', 'Win_Loss', 'score', 'opponent_score'],\n",
       "      dtype='object')"
      ]
     },
     "execution_count": 95,
     "metadata": {},
     "output_type": "execute_result"
    }
   ],
   "source": [
    "all_games.columns"
   ]
  },
  {
   "cell_type": "code",
   "execution_count": 96,
   "metadata": {},
   "outputs": [],
   "source": [
    "team_conference_affiliation = all_games[['team', 'conference', 'season']].drop_duplicates(subset=['team', 'season'], keep='first')"
   ]
  },
  {
   "cell_type": "code",
   "execution_count": 97,
   "metadata": {},
   "outputs": [
    {
     "data": {
      "text/plain": [
       "35"
      ]
     },
     "execution_count": 97,
     "metadata": {},
     "output_type": "execute_result"
    }
   ],
   "source": [
    "len(data.columns)"
   ]
  },
  {
   "cell_type": "code",
   "execution_count": 99,
   "metadata": {},
   "outputs": [],
   "source": [
    "data = pd.merge(data, team_conference_affiliation, left_on=['team', 'season'], right_on=['team', 'season'])"
   ]
  },
  {
   "cell_type": "code",
   "execution_count": 101,
   "metadata": {},
   "outputs": [
    {
     "data": {
      "text/plain": [
       "0       P12\n",
       "1       B12\n",
       "2       SEC\n",
       "3        BE\n",
       "4       SEC\n",
       "       ... \n",
       "1237     SC\n",
       "1238    MVC\n",
       "1239    MWC\n",
       "1240    P12\n",
       "1241     BE\n",
       "Name: conference, Length: 1242, dtype: object"
      ]
     },
     "execution_count": 101,
     "metadata": {},
     "output_type": "execute_result"
    }
   ],
   "source": [
    "data['conference']"
   ]
  },
  {
   "cell_type": "code",
   "execution_count": 13,
   "metadata": {},
   "outputs": [],
   "source": [
    "data = pd.read_sql(\"select * from sports_data.tourney_games_v3\", conn)"
   ]
  },
  {
   "cell_type": "code",
   "execution_count": 14,
   "metadata": {},
   "outputs": [],
   "source": [
    "data['Win_Loss_Flag'] = data['Win_Loss'].apply(lambda x: 1 if x == 'W' else 0)"
   ]
  },
  {
   "cell_type": "code",
   "execution_count": 15,
   "metadata": {},
   "outputs": [],
   "source": [
    "data.drop(columns=['losses', 'wins', 'losses_opponent', 'wins_opponent', 'conference'], inplace=True)"
   ]
  },
  {
   "cell_type": "code",
   "execution_count": 17,
   "metadata": {},
   "outputs": [
    {
     "data": {
      "text/html": [
       "<div>\n",
       "<style scoped>\n",
       "    .dataframe tbody tr th:only-of-type {\n",
       "        vertical-align: middle;\n",
       "    }\n",
       "\n",
       "    .dataframe tbody tr th {\n",
       "        vertical-align: top;\n",
       "    }\n",
       "\n",
       "    .dataframe thead th {\n",
       "        text-align: right;\n",
       "    }\n",
       "</style>\n",
       "<table border=\"1\" class=\"dataframe\">\n",
       "  <thead>\n",
       "    <tr style=\"text-align: right;\">\n",
       "      <th></th>\n",
       "      <th>opponent</th>\n",
       "      <th>season</th>\n",
       "      <th>last_10_win_loss_ratio_opponent</th>\n",
       "      <th>team</th>\n",
       "      <th>last_10_win_loss_ratio</th>\n",
       "      <th>date</th>\n",
       "      <th>location</th>\n",
       "      <th>Win_Loss</th>\n",
       "      <th>score</th>\n",
       "      <th>opponent_score</th>\n",
       "      <th>...</th>\n",
       "      <th>opponent_offensive_efficiency_opponent</th>\n",
       "      <th>opponent_effective_fg_percent_opponent</th>\n",
       "      <th>opponent_turnover_percent_opponent</th>\n",
       "      <th>opponent_offensive_rebound_percent_opponent</th>\n",
       "      <th>opponent_free_throw_rate_opponent</th>\n",
       "      <th>win_loss_ratio</th>\n",
       "      <th>win_loss_ratio_opponent</th>\n",
       "      <th>conference_strength</th>\n",
       "      <th>conference_strength_opponent</th>\n",
       "      <th>Win_Loss_Flag</th>\n",
       "    </tr>\n",
       "  </thead>\n",
       "  <tbody>\n",
       "    <tr>\n",
       "      <th>0</th>\n",
       "      <td>Abilene Christian</td>\n",
       "      <td>2019</td>\n",
       "      <td>0.8</td>\n",
       "      <td>Kentucky</td>\n",
       "      <td>0.9</td>\n",
       "      <td>3/21/19</td>\n",
       "      <td>N</td>\n",
       "      <td>W</td>\n",
       "      <td>79</td>\n",
       "      <td>44</td>\n",
       "      <td>...</td>\n",
       "      <td>96.751724</td>\n",
       "      <td>49.755172</td>\n",
       "      <td>23.303448</td>\n",
       "      <td>27.431034</td>\n",
       "      <td>38.944828</td>\n",
       "      <td>0.810811</td>\n",
       "      <td>0.766667</td>\n",
       "      <td>0.710660</td>\n",
       "      <td>0.245902</td>\n",
       "      <td>1</td>\n",
       "    </tr>\n",
       "    <tr>\n",
       "      <th>1</th>\n",
       "      <td>Abilene Christian</td>\n",
       "      <td>2021</td>\n",
       "      <td>0.8</td>\n",
       "      <td>Texas</td>\n",
       "      <td>0.6</td>\n",
       "      <td>3/20/21</td>\n",
       "      <td>N</td>\n",
       "      <td>L</td>\n",
       "      <td>52</td>\n",
       "      <td>53</td>\n",
       "      <td>...</td>\n",
       "      <td>86.391304</td>\n",
       "      <td>45.226087</td>\n",
       "      <td>26.569565</td>\n",
       "      <td>27.539130</td>\n",
       "      <td>44.765217</td>\n",
       "      <td>0.703704</td>\n",
       "      <td>0.800000</td>\n",
       "      <td>0.763441</td>\n",
       "      <td>0.146341</td>\n",
       "      <td>0</td>\n",
       "    </tr>\n",
       "    <tr>\n",
       "      <th>2</th>\n",
       "      <td>Abilene Christian</td>\n",
       "      <td>2021</td>\n",
       "      <td>0.8</td>\n",
       "      <td>UCLA</td>\n",
       "      <td>0.5</td>\n",
       "      <td>3/22/21</td>\n",
       "      <td>N</td>\n",
       "      <td>W</td>\n",
       "      <td>67</td>\n",
       "      <td>47</td>\n",
       "      <td>...</td>\n",
       "      <td>86.391304</td>\n",
       "      <td>45.226087</td>\n",
       "      <td>26.569565</td>\n",
       "      <td>27.539130</td>\n",
       "      <td>44.765217</td>\n",
       "      <td>0.687500</td>\n",
       "      <td>0.800000</td>\n",
       "      <td>0.746988</td>\n",
       "      <td>0.146341</td>\n",
       "      <td>1</td>\n",
       "    </tr>\n",
       "    <tr>\n",
       "      <th>3</th>\n",
       "      <td>Abilene Christian</td>\n",
       "      <td>2022</td>\n",
       "      <td>0.8</td>\n",
       "      <td>Middle Tennessee</td>\n",
       "      <td>0.7</td>\n",
       "      <td>3/22/22</td>\n",
       "      <td>N</td>\n",
       "      <td>W</td>\n",
       "      <td>85</td>\n",
       "      <td>69</td>\n",
       "      <td>...</td>\n",
       "      <td>95.527586</td>\n",
       "      <td>51.372414</td>\n",
       "      <td>28.451724</td>\n",
       "      <td>31.179310</td>\n",
       "      <td>49.624138</td>\n",
       "      <td>0.685714</td>\n",
       "      <td>0.656250</td>\n",
       "      <td>0.528662</td>\n",
       "      <td>0.463235</td>\n",
       "      <td>1</td>\n",
       "    </tr>\n",
       "    <tr>\n",
       "      <th>4</th>\n",
       "      <td>Abilene Christian</td>\n",
       "      <td>2022</td>\n",
       "      <td>0.8</td>\n",
       "      <td>Ohio</td>\n",
       "      <td>0.5</td>\n",
       "      <td>3/21/22</td>\n",
       "      <td>N</td>\n",
       "      <td>L</td>\n",
       "      <td>86</td>\n",
       "      <td>91</td>\n",
       "      <td>...</td>\n",
       "      <td>95.527586</td>\n",
       "      <td>51.372414</td>\n",
       "      <td>28.451724</td>\n",
       "      <td>31.179310</td>\n",
       "      <td>49.624138</td>\n",
       "      <td>0.705882</td>\n",
       "      <td>0.656250</td>\n",
       "      <td>0.434783</td>\n",
       "      <td>0.463235</td>\n",
       "      <td>0</td>\n",
       "    </tr>\n",
       "    <tr>\n",
       "      <th>...</th>\n",
       "      <td>...</td>\n",
       "      <td>...</td>\n",
       "      <td>...</td>\n",
       "      <td>...</td>\n",
       "      <td>...</td>\n",
       "      <td>...</td>\n",
       "      <td>...</td>\n",
       "      <td>...</td>\n",
       "      <td>...</td>\n",
       "      <td>...</td>\n",
       "      <td>...</td>\n",
       "      <td>...</td>\n",
       "      <td>...</td>\n",
       "      <td>...</td>\n",
       "      <td>...</td>\n",
       "      <td>...</td>\n",
       "      <td>...</td>\n",
       "      <td>...</td>\n",
       "      <td>...</td>\n",
       "      <td>...</td>\n",
       "      <td>...</td>\n",
       "    </tr>\n",
       "    <tr>\n",
       "      <th>1237</th>\n",
       "      <td>Xavier</td>\n",
       "      <td>2023</td>\n",
       "      <td>0.7</td>\n",
       "      <td>Texas</td>\n",
       "      <td>0.5</td>\n",
       "      <td>3/24/23</td>\n",
       "      <td>N</td>\n",
       "      <td>W</td>\n",
       "      <td>83</td>\n",
       "      <td>71</td>\n",
       "      <td>...</td>\n",
       "      <td>102.920588</td>\n",
       "      <td>50.597059</td>\n",
       "      <td>16.452941</td>\n",
       "      <td>24.808824</td>\n",
       "      <td>27.470588</td>\n",
       "      <td>0.763158</td>\n",
       "      <td>0.729730</td>\n",
       "      <td>0.797297</td>\n",
       "      <td>0.681159</td>\n",
       "      <td>1</td>\n",
       "    </tr>\n",
       "    <tr>\n",
       "      <th>1238</th>\n",
       "      <td>Yale</td>\n",
       "      <td>2016</td>\n",
       "      <td>0.9</td>\n",
       "      <td>Baylor</td>\n",
       "      <td>0.4</td>\n",
       "      <td>3/17/16</td>\n",
       "      <td>N</td>\n",
       "      <td>L</td>\n",
       "      <td>75</td>\n",
       "      <td>79</td>\n",
       "      <td>...</td>\n",
       "      <td>94.229630</td>\n",
       "      <td>46.474074</td>\n",
       "      <td>18.118519</td>\n",
       "      <td>24.262963</td>\n",
       "      <td>34.025926</td>\n",
       "      <td>0.636364</td>\n",
       "      <td>0.758621</td>\n",
       "      <td>0.788732</td>\n",
       "      <td>0.500000</td>\n",
       "      <td>0</td>\n",
       "    </tr>\n",
       "    <tr>\n",
       "      <th>1239</th>\n",
       "      <td>Yale</td>\n",
       "      <td>2016</td>\n",
       "      <td>0.9</td>\n",
       "      <td>Duke</td>\n",
       "      <td>0.7</td>\n",
       "      <td>3/19/16</td>\n",
       "      <td>N</td>\n",
       "      <td>W</td>\n",
       "      <td>71</td>\n",
       "      <td>64</td>\n",
       "      <td>...</td>\n",
       "      <td>94.229630</td>\n",
       "      <td>46.474074</td>\n",
       "      <td>18.118519</td>\n",
       "      <td>24.262963</td>\n",
       "      <td>34.025926</td>\n",
       "      <td>0.694444</td>\n",
       "      <td>0.758621</td>\n",
       "      <td>0.771028</td>\n",
       "      <td>0.500000</td>\n",
       "      <td>1</td>\n",
       "    </tr>\n",
       "    <tr>\n",
       "      <th>1240</th>\n",
       "      <td>Yale</td>\n",
       "      <td>2019</td>\n",
       "      <td>0.7</td>\n",
       "      <td>LSU</td>\n",
       "      <td>0.8</td>\n",
       "      <td>3/21/19</td>\n",
       "      <td>N</td>\n",
       "      <td>W</td>\n",
       "      <td>79</td>\n",
       "      <td>74</td>\n",
       "      <td>...</td>\n",
       "      <td>100.053571</td>\n",
       "      <td>47.364286</td>\n",
       "      <td>15.185714</td>\n",
       "      <td>24.160714</td>\n",
       "      <td>30.892857</td>\n",
       "      <td>0.800000</td>\n",
       "      <td>0.724138</td>\n",
       "      <td>0.710660</td>\n",
       "      <td>0.545455</td>\n",
       "      <td>1</td>\n",
       "    </tr>\n",
       "    <tr>\n",
       "      <th>1241</th>\n",
       "      <td>Yale</td>\n",
       "      <td>2022</td>\n",
       "      <td>0.8</td>\n",
       "      <td>Purdue</td>\n",
       "      <td>0.7</td>\n",
       "      <td>3/18/22</td>\n",
       "      <td>N</td>\n",
       "      <td>W</td>\n",
       "      <td>78</td>\n",
       "      <td>56</td>\n",
       "      <td>...</td>\n",
       "      <td>98.551724</td>\n",
       "      <td>48.682759</td>\n",
       "      <td>18.162069</td>\n",
       "      <td>26.268966</td>\n",
       "      <td>31.965517</td>\n",
       "      <td>0.783784</td>\n",
       "      <td>0.600000</td>\n",
       "      <td>0.745223</td>\n",
       "      <td>0.406593</td>\n",
       "      <td>1</td>\n",
       "    </tr>\n",
       "  </tbody>\n",
       "</table>\n",
       "<p>1242 rows × 39 columns</p>\n",
       "</div>"
      ],
      "text/plain": [
       "               opponent  season  last_10_win_loss_ratio_opponent  \\\n",
       "0     Abilene Christian    2019                              0.8   \n",
       "1     Abilene Christian    2021                              0.8   \n",
       "2     Abilene Christian    2021                              0.8   \n",
       "3     Abilene Christian    2022                              0.8   \n",
       "4     Abilene Christian    2022                              0.8   \n",
       "...                 ...     ...                              ...   \n",
       "1237             Xavier    2023                              0.7   \n",
       "1238               Yale    2016                              0.9   \n",
       "1239               Yale    2016                              0.9   \n",
       "1240               Yale    2019                              0.7   \n",
       "1241               Yale    2022                              0.8   \n",
       "\n",
       "                  team  last_10_win_loss_ratio     date location Win_Loss  \\\n",
       "0             Kentucky                     0.9  3/21/19        N        W   \n",
       "1                Texas                     0.6  3/20/21        N        L   \n",
       "2                 UCLA                     0.5  3/22/21        N        W   \n",
       "3     Middle Tennessee                     0.7  3/22/22        N        W   \n",
       "4                 Ohio                     0.5  3/21/22        N        L   \n",
       "...                ...                     ...      ...      ...      ...   \n",
       "1237             Texas                     0.5  3/24/23        N        W   \n",
       "1238            Baylor                     0.4  3/17/16        N        L   \n",
       "1239              Duke                     0.7  3/19/16        N        W   \n",
       "1240               LSU                     0.8  3/21/19        N        W   \n",
       "1241            Purdue                     0.7  3/18/22        N        W   \n",
       "\n",
       "     score opponent_score  ...  opponent_offensive_efficiency_opponent  \\\n",
       "0       79             44  ...                               96.751724   \n",
       "1       52             53  ...                               86.391304   \n",
       "2       67             47  ...                               86.391304   \n",
       "3       85             69  ...                               95.527586   \n",
       "4       86             91  ...                               95.527586   \n",
       "...    ...            ...  ...                                     ...   \n",
       "1237    83             71  ...                              102.920588   \n",
       "1238    75             79  ...                               94.229630   \n",
       "1239    71             64  ...                               94.229630   \n",
       "1240    79             74  ...                              100.053571   \n",
       "1241    78             56  ...                               98.551724   \n",
       "\n",
       "      opponent_effective_fg_percent_opponent  \\\n",
       "0                                  49.755172   \n",
       "1                                  45.226087   \n",
       "2                                  45.226087   \n",
       "3                                  51.372414   \n",
       "4                                  51.372414   \n",
       "...                                      ...   \n",
       "1237                               50.597059   \n",
       "1238                               46.474074   \n",
       "1239                               46.474074   \n",
       "1240                               47.364286   \n",
       "1241                               48.682759   \n",
       "\n",
       "      opponent_turnover_percent_opponent  \\\n",
       "0                              23.303448   \n",
       "1                              26.569565   \n",
       "2                              26.569565   \n",
       "3                              28.451724   \n",
       "4                              28.451724   \n",
       "...                                  ...   \n",
       "1237                           16.452941   \n",
       "1238                           18.118519   \n",
       "1239                           18.118519   \n",
       "1240                           15.185714   \n",
       "1241                           18.162069   \n",
       "\n",
       "      opponent_offensive_rebound_percent_opponent  \\\n",
       "0                                       27.431034   \n",
       "1                                       27.539130   \n",
       "2                                       27.539130   \n",
       "3                                       31.179310   \n",
       "4                                       31.179310   \n",
       "...                                           ...   \n",
       "1237                                    24.808824   \n",
       "1238                                    24.262963   \n",
       "1239                                    24.262963   \n",
       "1240                                    24.160714   \n",
       "1241                                    26.268966   \n",
       "\n",
       "      opponent_free_throw_rate_opponent  win_loss_ratio  \\\n",
       "0                             38.944828        0.810811   \n",
       "1                             44.765217        0.703704   \n",
       "2                             44.765217        0.687500   \n",
       "3                             49.624138        0.685714   \n",
       "4                             49.624138        0.705882   \n",
       "...                                 ...             ...   \n",
       "1237                          27.470588        0.763158   \n",
       "1238                          34.025926        0.636364   \n",
       "1239                          34.025926        0.694444   \n",
       "1240                          30.892857        0.800000   \n",
       "1241                          31.965517        0.783784   \n",
       "\n",
       "      win_loss_ratio_opponent  conference_strength  \\\n",
       "0                    0.766667             0.710660   \n",
       "1                    0.800000             0.763441   \n",
       "2                    0.800000             0.746988   \n",
       "3                    0.656250             0.528662   \n",
       "4                    0.656250             0.434783   \n",
       "...                       ...                  ...   \n",
       "1237                 0.729730             0.797297   \n",
       "1238                 0.758621             0.788732   \n",
       "1239                 0.758621             0.771028   \n",
       "1240                 0.724138             0.710660   \n",
       "1241                 0.600000             0.745223   \n",
       "\n",
       "      conference_strength_opponent  Win_Loss_Flag  \n",
       "0                         0.245902              1  \n",
       "1                         0.146341              0  \n",
       "2                         0.146341              1  \n",
       "3                         0.463235              1  \n",
       "4                         0.463235              0  \n",
       "...                            ...            ...  \n",
       "1237                      0.681159              1  \n",
       "1238                      0.500000              0  \n",
       "1239                      0.500000              1  \n",
       "1240                      0.545455              1  \n",
       "1241                      0.406593              1  \n",
       "\n",
       "[1242 rows x 39 columns]"
      ]
     },
     "execution_count": 17,
     "metadata": {},
     "output_type": "execute_result"
    }
   ],
   "source": [
    "data"
   ]
  },
  {
   "cell_type": "code",
   "execution_count": null,
   "metadata": {},
   "outputs": [],
   "source": []
  },
  {
   "cell_type": "code",
   "execution_count": 20,
   "metadata": {},
   "outputs": [],
   "source": [
    "predictor_columns = data.columns[10:-1]\n",
    "predictor_columns = predictor_columns.tolist()\n",
    "predictor_columns.append('last_10_win_loss_ratio_opponent')\n",
    "predictor_columns.append('last_10_win_loss_ratio')\n",
    "predictors = data[predictor_columns]\n",
    "predictors_and_response = pd.concat([predictors, data['Win_Loss_Flag']], axis=1)"
   ]
  },
  {
   "cell_type": "code",
   "execution_count": 30,
   "metadata": {},
   "outputs": [],
   "source": [
    "corrs = predictors_and_response.corr(numeric_only=True)['Win_Loss_Flag']\n",
    "corrs = corrs[corrs > 0.02]\n",
    "corrs = corrs[corrs.index != 'Win_Loss_Flag']\n",
    "effective_predictors = corrs.index.tolist()"
   ]
  },
  {
   "cell_type": "code",
   "execution_count": 31,
   "metadata": {},
   "outputs": [],
   "source": [
    "effective_predictors.append('last_10_win_loss_ratio_opponent')"
   ]
  },
  {
   "cell_type": "code",
   "execution_count": 32,
   "metadata": {},
   "outputs": [],
   "source": [
    "prediction_data = data[effective_predictors]\n",
    "prediction_data_normalized = (prediction_data-prediction_data.mean())/prediction_data.std()"
   ]
  },
  {
   "cell_type": "code",
   "execution_count": 33,
   "metadata": {},
   "outputs": [
    {
     "data": {
      "text/html": [
       "<div>\n",
       "<style scoped>\n",
       "    .dataframe tbody tr th:only-of-type {\n",
       "        vertical-align: middle;\n",
       "    }\n",
       "\n",
       "    .dataframe tbody tr th {\n",
       "        vertical-align: top;\n",
       "    }\n",
       "\n",
       "    .dataframe thead th {\n",
       "        text-align: right;\n",
       "    }\n",
       "</style>\n",
       "<table border=\"1\" class=\"dataframe\">\n",
       "  <thead>\n",
       "    <tr style=\"text-align: right;\">\n",
       "      <th></th>\n",
       "      <th>adj_offense_team</th>\n",
       "      <th>offensive_efficiency_team</th>\n",
       "      <th>effective_fg_percent_team</th>\n",
       "      <th>offensive_rebound_percent_team</th>\n",
       "      <th>opponent_turnover_percent_team</th>\n",
       "      <th>adj_defense_opponent</th>\n",
       "      <th>turnover_percent_opponent</th>\n",
       "      <th>free_throw_rate_opponent</th>\n",
       "      <th>opponent_offensive_efficiency_opponent</th>\n",
       "      <th>opponent_effective_fg_percent_opponent</th>\n",
       "      <th>opponent_free_throw_rate_opponent</th>\n",
       "      <th>win_loss_ratio</th>\n",
       "      <th>conference_strength</th>\n",
       "      <th>last_10_win_loss_ratio</th>\n",
       "      <th>last_10_win_loss_ratio_opponent</th>\n",
       "    </tr>\n",
       "  </thead>\n",
       "  <tbody>\n",
       "    <tr>\n",
       "      <th>0</th>\n",
       "      <td>0.781728</td>\n",
       "      <td>0.619780</td>\n",
       "      <td>0.225327</td>\n",
       "      <td>1.341685</td>\n",
       "      <td>-0.283070</td>\n",
       "      <td>0.973251</td>\n",
       "      <td>-0.114126</td>\n",
       "      <td>-0.027956</td>\n",
       "      <td>-0.218814</td>\n",
       "      <td>0.723214</td>\n",
       "      <td>1.185079</td>\n",
       "      <td>0.886114</td>\n",
       "      <td>0.488963</td>\n",
       "      <td>1.195339</td>\n",
       "      <td>0.593551</td>\n",
       "    </tr>\n",
       "    <tr>\n",
       "      <th>1</th>\n",
       "      <td>0.270563</td>\n",
       "      <td>-0.507635</td>\n",
       "      <td>0.224453</td>\n",
       "      <td>-0.013105</td>\n",
       "      <td>-0.549432</td>\n",
       "      <td>-0.755867</td>\n",
       "      <td>1.166522</td>\n",
       "      <td>-0.021087</td>\n",
       "      <td>-2.429990</td>\n",
       "      <td>-1.085612</td>\n",
       "      <td>2.160624</td>\n",
       "      <td>-0.117158</td>\n",
       "      <td>0.819796</td>\n",
       "      <td>-0.610025</td>\n",
       "      <td>0.593551</td>\n",
       "    </tr>\n",
       "    <tr>\n",
       "      <th>2</th>\n",
       "      <td>0.363218</td>\n",
       "      <td>-0.244000</td>\n",
       "      <td>-0.184903</td>\n",
       "      <td>-0.172440</td>\n",
       "      <td>-0.554166</td>\n",
       "      <td>-0.755867</td>\n",
       "      <td>1.166522</td>\n",
       "      <td>-0.021087</td>\n",
       "      <td>-2.429990</td>\n",
       "      <td>-1.085612</td>\n",
       "      <td>2.160624</td>\n",
       "      <td>-0.268938</td>\n",
       "      <td>0.716668</td>\n",
       "      <td>-1.211813</td>\n",
       "      <td>0.593551</td>\n",
       "    </tr>\n",
       "    <tr>\n",
       "      <th>3</th>\n",
       "      <td>-1.173776</td>\n",
       "      <td>-0.856314</td>\n",
       "      <td>-0.547952</td>\n",
       "      <td>-0.193147</td>\n",
       "      <td>0.759587</td>\n",
       "      <td>0.361628</td>\n",
       "      <td>0.062140</td>\n",
       "      <td>0.879005</td>\n",
       "      <td>-0.480076</td>\n",
       "      <td>1.369108</td>\n",
       "      <td>2.975019</td>\n",
       "      <td>-0.285665</td>\n",
       "      <td>-0.651802</td>\n",
       "      <td>-0.008237</td>\n",
       "      <td>0.593551</td>\n",
       "    </tr>\n",
       "    <tr>\n",
       "      <th>4</th>\n",
       "      <td>-1.374533</td>\n",
       "      <td>-0.561586</td>\n",
       "      <td>-0.667665</td>\n",
       "      <td>-1.014785</td>\n",
       "      <td>0.652067</td>\n",
       "      <td>0.361628</td>\n",
       "      <td>0.062140</td>\n",
       "      <td>0.879005</td>\n",
       "      <td>-0.480076</td>\n",
       "      <td>1.369108</td>\n",
       "      <td>2.975019</td>\n",
       "      <td>-0.096751</td>\n",
       "      <td>-1.240243</td>\n",
       "      <td>-1.211813</td>\n",
       "      <td>0.593551</td>\n",
       "    </tr>\n",
       "    <tr>\n",
       "      <th>...</th>\n",
       "      <td>...</td>\n",
       "      <td>...</td>\n",
       "      <td>...</td>\n",
       "      <td>...</td>\n",
       "      <td>...</td>\n",
       "      <td>...</td>\n",
       "      <td>...</td>\n",
       "      <td>...</td>\n",
       "      <td>...</td>\n",
       "      <td>...</td>\n",
       "      <td>...</td>\n",
       "      <td>...</td>\n",
       "      <td>...</td>\n",
       "      <td>...</td>\n",
       "      <td>...</td>\n",
       "    </tr>\n",
       "    <tr>\n",
       "      <th>1237</th>\n",
       "      <td>0.377764</td>\n",
       "      <td>-0.030282</td>\n",
       "      <td>-0.048747</td>\n",
       "      <td>-0.700109</td>\n",
       "      <td>1.561208</td>\n",
       "      <td>0.427543</td>\n",
       "      <td>0.102141</td>\n",
       "      <td>-0.728114</td>\n",
       "      <td>1.097778</td>\n",
       "      <td>1.059447</td>\n",
       "      <td>-0.738098</td>\n",
       "      <td>0.439749</td>\n",
       "      <td>1.032009</td>\n",
       "      <td>-1.211813</td>\n",
       "      <td>-0.008237</td>\n",
       "    </tr>\n",
       "    <tr>\n",
       "      <th>1238</th>\n",
       "      <td>0.940021</td>\n",
       "      <td>0.549188</td>\n",
       "      <td>-0.331715</td>\n",
       "      <td>2.102660</td>\n",
       "      <td>0.336703</td>\n",
       "      <td>-0.157032</td>\n",
       "      <td>1.468484</td>\n",
       "      <td>1.589487</td>\n",
       "      <td>-0.757093</td>\n",
       "      <td>-0.587191</td>\n",
       "      <td>0.360630</td>\n",
       "      <td>-0.747933</td>\n",
       "      <td>0.978324</td>\n",
       "      <td>-1.813601</td>\n",
       "      <td>1.195339</td>\n",
       "    </tr>\n",
       "    <tr>\n",
       "      <th>1239</th>\n",
       "      <td>1.555440</td>\n",
       "      <td>1.638205</td>\n",
       "      <td>0.425551</td>\n",
       "      <td>0.661335</td>\n",
       "      <td>-0.623685</td>\n",
       "      <td>-0.157032</td>\n",
       "      <td>1.468484</td>\n",
       "      <td>1.589487</td>\n",
       "      <td>-0.757093</td>\n",
       "      <td>-0.587191</td>\n",
       "      <td>0.360630</td>\n",
       "      <td>-0.203890</td>\n",
       "      <td>0.867352</td>\n",
       "      <td>-0.008237</td>\n",
       "      <td>1.195339</td>\n",
       "    </tr>\n",
       "    <tr>\n",
       "      <th>1240</th>\n",
       "      <td>0.928993</td>\n",
       "      <td>0.562242</td>\n",
       "      <td>-0.231264</td>\n",
       "      <td>1.444202</td>\n",
       "      <td>0.662323</td>\n",
       "      <td>1.173152</td>\n",
       "      <td>0.291484</td>\n",
       "      <td>-0.835667</td>\n",
       "      <td>0.485884</td>\n",
       "      <td>-0.231658</td>\n",
       "      <td>-0.164498</td>\n",
       "      <td>0.784849</td>\n",
       "      <td>0.488963</td>\n",
       "      <td>0.593551</td>\n",
       "      <td>-0.008237</td>\n",
       "    </tr>\n",
       "    <tr>\n",
       "      <th>1241</th>\n",
       "      <td>1.631011</td>\n",
       "      <td>1.725511</td>\n",
       "      <td>1.497529</td>\n",
       "      <td>0.988905</td>\n",
       "      <td>-2.063291</td>\n",
       "      <td>0.499632</td>\n",
       "      <td>0.490743</td>\n",
       "      <td>-0.426718</td>\n",
       "      <td>0.165352</td>\n",
       "      <td>0.294914</td>\n",
       "      <td>0.015289</td>\n",
       "      <td>0.632952</td>\n",
       "      <td>0.705605</td>\n",
       "      <td>-0.008237</td>\n",
       "      <td>0.593551</td>\n",
       "    </tr>\n",
       "  </tbody>\n",
       "</table>\n",
       "<p>1242 rows × 15 columns</p>\n",
       "</div>"
      ],
      "text/plain": [
       "      adj_offense_team  offensive_efficiency_team  effective_fg_percent_team  \\\n",
       "0             0.781728                   0.619780                   0.225327   \n",
       "1             0.270563                  -0.507635                   0.224453   \n",
       "2             0.363218                  -0.244000                  -0.184903   \n",
       "3            -1.173776                  -0.856314                  -0.547952   \n",
       "4            -1.374533                  -0.561586                  -0.667665   \n",
       "...                ...                        ...                        ...   \n",
       "1237          0.377764                  -0.030282                  -0.048747   \n",
       "1238          0.940021                   0.549188                  -0.331715   \n",
       "1239          1.555440                   1.638205                   0.425551   \n",
       "1240          0.928993                   0.562242                  -0.231264   \n",
       "1241          1.631011                   1.725511                   1.497529   \n",
       "\n",
       "      offensive_rebound_percent_team  opponent_turnover_percent_team  \\\n",
       "0                           1.341685                       -0.283070   \n",
       "1                          -0.013105                       -0.549432   \n",
       "2                          -0.172440                       -0.554166   \n",
       "3                          -0.193147                        0.759587   \n",
       "4                          -1.014785                        0.652067   \n",
       "...                              ...                             ...   \n",
       "1237                       -0.700109                        1.561208   \n",
       "1238                        2.102660                        0.336703   \n",
       "1239                        0.661335                       -0.623685   \n",
       "1240                        1.444202                        0.662323   \n",
       "1241                        0.988905                       -2.063291   \n",
       "\n",
       "      adj_defense_opponent  turnover_percent_opponent  \\\n",
       "0                 0.973251                  -0.114126   \n",
       "1                -0.755867                   1.166522   \n",
       "2                -0.755867                   1.166522   \n",
       "3                 0.361628                   0.062140   \n",
       "4                 0.361628                   0.062140   \n",
       "...                    ...                        ...   \n",
       "1237              0.427543                   0.102141   \n",
       "1238             -0.157032                   1.468484   \n",
       "1239             -0.157032                   1.468484   \n",
       "1240              1.173152                   0.291484   \n",
       "1241              0.499632                   0.490743   \n",
       "\n",
       "      free_throw_rate_opponent  opponent_offensive_efficiency_opponent  \\\n",
       "0                    -0.027956                               -0.218814   \n",
       "1                    -0.021087                               -2.429990   \n",
       "2                    -0.021087                               -2.429990   \n",
       "3                     0.879005                               -0.480076   \n",
       "4                     0.879005                               -0.480076   \n",
       "...                        ...                                     ...   \n",
       "1237                 -0.728114                                1.097778   \n",
       "1238                  1.589487                               -0.757093   \n",
       "1239                  1.589487                               -0.757093   \n",
       "1240                 -0.835667                                0.485884   \n",
       "1241                 -0.426718                                0.165352   \n",
       "\n",
       "      opponent_effective_fg_percent_opponent  \\\n",
       "0                                   0.723214   \n",
       "1                                  -1.085612   \n",
       "2                                  -1.085612   \n",
       "3                                   1.369108   \n",
       "4                                   1.369108   \n",
       "...                                      ...   \n",
       "1237                                1.059447   \n",
       "1238                               -0.587191   \n",
       "1239                               -0.587191   \n",
       "1240                               -0.231658   \n",
       "1241                                0.294914   \n",
       "\n",
       "      opponent_free_throw_rate_opponent  win_loss_ratio  conference_strength  \\\n",
       "0                              1.185079        0.886114             0.488963   \n",
       "1                              2.160624       -0.117158             0.819796   \n",
       "2                              2.160624       -0.268938             0.716668   \n",
       "3                              2.975019       -0.285665            -0.651802   \n",
       "4                              2.975019       -0.096751            -1.240243   \n",
       "...                                 ...             ...                  ...   \n",
       "1237                          -0.738098        0.439749             1.032009   \n",
       "1238                           0.360630       -0.747933             0.978324   \n",
       "1239                           0.360630       -0.203890             0.867352   \n",
       "1240                          -0.164498        0.784849             0.488963   \n",
       "1241                           0.015289        0.632952             0.705605   \n",
       "\n",
       "      last_10_win_loss_ratio  last_10_win_loss_ratio_opponent  \n",
       "0                   1.195339                         0.593551  \n",
       "1                  -0.610025                         0.593551  \n",
       "2                  -1.211813                         0.593551  \n",
       "3                  -0.008237                         0.593551  \n",
       "4                  -1.211813                         0.593551  \n",
       "...                      ...                              ...  \n",
       "1237               -1.211813                        -0.008237  \n",
       "1238               -1.813601                         1.195339  \n",
       "1239               -0.008237                         1.195339  \n",
       "1240                0.593551                        -0.008237  \n",
       "1241               -0.008237                         0.593551  \n",
       "\n",
       "[1242 rows x 15 columns]"
      ]
     },
     "execution_count": 33,
     "metadata": {},
     "output_type": "execute_result"
    }
   ],
   "source": [
    "prediction_data_normalized"
   ]
  },
  {
   "cell_type": "code",
   "execution_count": 34,
   "metadata": {},
   "outputs": [],
   "source": [
    "from sklearn.linear_model import LogisticRegression\n",
    "clf = LogisticRegression(random_state=0).fit(prediction_data_normalized, data['Win_Loss_Flag'])"
   ]
  },
  {
   "cell_type": "code",
   "execution_count": 35,
   "metadata": {},
   "outputs": [],
   "source": [
    "data['predicted_outcome'] = clf.predict(prediction_data_normalized)"
   ]
  },
  {
   "cell_type": "code",
   "execution_count": 36,
   "metadata": {},
   "outputs": [
    {
     "data": {
      "text/plain": [
       "<sklearn.metrics._plot.confusion_matrix.ConfusionMatrixDisplay at 0x1a48e3e10c0>"
      ]
     },
     "execution_count": 36,
     "metadata": {},
     "output_type": "execute_result"
    },
    {
     "data": {
      "image/png": "[encoded data removed]",
      "text/plain": [
       "<Figure size 640x480 with 2 Axes>"
      ]
     },
     "metadata": {},
     "output_type": "display_data"
    }
   ],
   "source": [
    "sklearn.metrics.ConfusionMatrixDisplay(sklearn.metrics.confusion_matrix(data['Win_Loss_Flag'], data['predicted_outcome'])).plot()"
   ]
  },
  {
   "cell_type": "code",
   "execution_count": 40,
   "metadata": {},
   "outputs": [
    {
     "data": {
      "text/plain": [
       "<sklearn.metrics._plot.confusion_matrix.ConfusionMatrixDisplay at 0x1a492c8c700>"
      ]
     },
     "execution_count": 40,
     "metadata": {},
     "output_type": "execute_result"
    },
    {
     "data": {
      "image/png": "[encoded data removed]",
      "text/plain": [
       "<Figure size 640x480 with 2 Axes>"
      ]
     },
     "metadata": {},
     "output_type": "display_data"
    }
   ],
   "source": [
    "from sklearn.neural_network import MLPClassifier\n",
    "cms = proper_cross_validation(MLPClassifier(hidden_layer_sizes=[50, 50, 50], max_iter=3000), prediction_data_normalized, data['Win_Loss_Flag'])\n",
    "sklearn.metrics.ConfusionMatrixDisplay(cms).plot()"
   ]
  },
  {
   "cell_type": "code",
   "execution_count": 41,
   "metadata": {},
   "outputs": [
    {
     "data": {
      "text/plain": [
       "<sklearn.metrics._plot.confusion_matrix.ConfusionMatrixDisplay at 0x1a492c8f430>"
      ]
     },
     "execution_count": 41,
     "metadata": {},
     "output_type": "execute_result"
    },
    {
     "data": {
      "image/png": "[encoded data removed]",
      "text/plain": [
       "<Figure size 640x480 with 2 Axes>"
      ]
     },
     "metadata": {},
     "output_type": "display_data"
    }
   ],
   "source": [
    "cms = proper_cross_validation(LogisticRegression(), prediction_data_normalized, data['Win_Loss_Flag'])\n",
    "sklearn.metrics.ConfusionMatrixDisplay(cms).plot()"
   ]
  },
  {
   "cell_type": "code",
   "execution_count": 42,
   "metadata": {},
   "outputs": [
    {
     "data": {
      "text/plain": [
       "<sklearn.metrics._plot.confusion_matrix.ConfusionMatrixDisplay at 0x1a491b96dd0>"
      ]
     },
     "execution_count": 42,
     "metadata": {},
     "output_type": "execute_result"
    },
    {
     "data": {
      "image/png": "[encoded data removed]",
      "text/plain": [
       "<Figure size 640x480 with 2 Axes>"
      ]
     },
     "metadata": {},
     "output_type": "display_data"
    }
   ],
   "source": [
    "cms = proper_cross_validation(MLPClassifier(hidden_layer_sizes=[100, 100], max_iter=3000), prediction_data_normalized, data['Win_Loss_Flag'])\n",
    "sklearn.metrics.ConfusionMatrixDisplay(cms).plot()"
   ]
  },
  {
   "cell_type": "code",
   "execution_count": 44,
   "metadata": {},
   "outputs": [
    {
     "data": {
      "text/plain": [
       "<sklearn.metrics._plot.confusion_matrix.ConfusionMatrixDisplay at 0x1a492ee8e50>"
      ]
     },
     "execution_count": 44,
     "metadata": {},
     "output_type": "execute_result"
    },
    {
     "data": {
      "image/png": "[encoded data removed]",
      "text/plain": [
       "<Figure size 640x480 with 2 Axes>"
      ]
     },
     "metadata": {},
     "output_type": "display_data"
    }
   ],
   "source": [
    "from sklearn.ensemble import RandomForestClassifier\n",
    "cms = proper_cross_validation(LogisticRegression(), prediction_data_normalized, data['Win_Loss_Flag'])\n",
    "sklearn.metrics.ConfusionMatrixDisplay(cms).plot()"
   ]
  },
  {
   "cell_type": "code",
   "execution_count": 55,
   "metadata": {},
   "outputs": [
    {
     "data": {
      "text/html": [
       "<div>\n",
       "<style scoped>\n",
       "    .dataframe tbody tr th:only-of-type {\n",
       "        vertical-align: middle;\n",
       "    }\n",
       "\n",
       "    .dataframe tbody tr th {\n",
       "        vertical-align: top;\n",
       "    }\n",
       "\n",
       "    .dataframe thead th {\n",
       "        text-align: right;\n",
       "    }\n",
       "</style>\n",
       "<table border=\"1\" class=\"dataframe\">\n",
       "  <thead>\n",
       "    <tr style=\"text-align: right;\">\n",
       "      <th></th>\n",
       "      <th>0</th>\n",
       "      <th>1</th>\n",
       "      <th>2</th>\n",
       "      <th>3</th>\n",
       "      <th>4</th>\n",
       "      <th>5</th>\n",
       "      <th>6</th>\n",
       "      <th>7</th>\n",
       "      <th>8</th>\n",
       "      <th>9</th>\n",
       "      <th>10</th>\n",
       "      <th>11</th>\n",
       "      <th>12</th>\n",
       "      <th>13</th>\n",
       "    </tr>\n",
       "  </thead>\n",
       "  <tbody>\n",
       "    <tr>\n",
       "      <th>0</th>\n",
       "      <td>-1.642349</td>\n",
       "      <td>-0.963491</td>\n",
       "      <td>0.406474</td>\n",
       "      <td>1.160183</td>\n",
       "      <td>-0.078791</td>\n",
       "      <td>-0.953892</td>\n",
       "      <td>-0.100909</td>\n",
       "      <td>-0.850323</td>\n",
       "      <td>1.144661</td>\n",
       "      <td>-0.188331</td>\n",
       "      <td>-0.000487</td>\n",
       "      <td>0.281982</td>\n",
       "      <td>0.381578</td>\n",
       "      <td>0.547030</td>\n",
       "    </tr>\n",
       "    <tr>\n",
       "      <th>1</th>\n",
       "      <td>-0.652632</td>\n",
       "      <td>2.619134</td>\n",
       "      <td>1.576404</td>\n",
       "      <td>-0.555055</td>\n",
       "      <td>-1.230981</td>\n",
       "      <td>0.177950</td>\n",
       "      <td>0.519643</td>\n",
       "      <td>-0.735857</td>\n",
       "      <td>1.497164</td>\n",
       "      <td>-0.066756</td>\n",
       "      <td>0.083621</td>\n",
       "      <td>-0.061268</td>\n",
       "      <td>0.684435</td>\n",
       "      <td>0.723696</td>\n",
       "    </tr>\n",
       "    <tr>\n",
       "      <th>2</th>\n",
       "      <td>-0.382889</td>\n",
       "      <td>2.679274</td>\n",
       "      <td>1.560603</td>\n",
       "      <td>-0.687093</td>\n",
       "      <td>-1.587902</td>\n",
       "      <td>0.145352</td>\n",
       "      <td>0.623618</td>\n",
       "      <td>-0.686996</td>\n",
       "      <td>1.406956</td>\n",
       "      <td>0.230178</td>\n",
       "      <td>0.133235</td>\n",
       "      <td>-0.277233</td>\n",
       "      <td>0.198763</td>\n",
       "      <td>0.905928</td>\n",
       "    </tr>\n",
       "    <tr>\n",
       "      <th>3</th>\n",
       "      <td>1.469149</td>\n",
       "      <td>0.138785</td>\n",
       "      <td>1.990385</td>\n",
       "      <td>0.860195</td>\n",
       "      <td>0.463204</td>\n",
       "      <td>-1.052738</td>\n",
       "      <td>1.931536</td>\n",
       "      <td>-1.160488</td>\n",
       "      <td>0.965518</td>\n",
       "      <td>-0.333082</td>\n",
       "      <td>0.979840</td>\n",
       "      <td>0.175294</td>\n",
       "      <td>0.358194</td>\n",
       "      <td>0.548156</td>\n",
       "    </tr>\n",
       "    <tr>\n",
       "      <th>4</th>\n",
       "      <td>1.962117</td>\n",
       "      <td>0.205275</td>\n",
       "      <td>2.130641</td>\n",
       "      <td>0.069997</td>\n",
       "      <td>0.434932</td>\n",
       "      <td>-1.068068</td>\n",
       "      <td>2.308092</td>\n",
       "      <td>-0.948224</td>\n",
       "      <td>0.711924</td>\n",
       "      <td>0.216389</td>\n",
       "      <td>1.226136</td>\n",
       "      <td>-0.731602</td>\n",
       "      <td>-0.115996</td>\n",
       "      <td>0.825364</td>\n",
       "    </tr>\n",
       "    <tr>\n",
       "      <th>...</th>\n",
       "      <td>...</td>\n",
       "      <td>...</td>\n",
       "      <td>...</td>\n",
       "      <td>...</td>\n",
       "      <td>...</td>\n",
       "      <td>...</td>\n",
       "      <td>...</td>\n",
       "      <td>...</td>\n",
       "      <td>...</td>\n",
       "      <td>...</td>\n",
       "      <td>...</td>\n",
       "      <td>...</td>\n",
       "      <td>...</td>\n",
       "      <td>...</td>\n",
       "    </tr>\n",
       "    <tr>\n",
       "      <th>1237</th>\n",
       "      <td>0.404211</td>\n",
       "      <td>-1.374115</td>\n",
       "      <td>-1.200363</td>\n",
       "      <td>0.232153</td>\n",
       "      <td>-0.676092</td>\n",
       "      <td>0.933140</td>\n",
       "      <td>1.326347</td>\n",
       "      <td>1.353225</td>\n",
       "      <td>0.453093</td>\n",
       "      <td>0.348545</td>\n",
       "      <td>0.471381</td>\n",
       "      <td>-0.514237</td>\n",
       "      <td>-0.248462</td>\n",
       "      <td>-0.236495</td>\n",
       "    </tr>\n",
       "    <tr>\n",
       "      <th>1238</th>\n",
       "      <td>-0.573033</td>\n",
       "      <td>1.439564</td>\n",
       "      <td>1.107267</td>\n",
       "      <td>1.462307</td>\n",
       "      <td>-2.676131</td>\n",
       "      <td>-0.960989</td>\n",
       "      <td>-0.233925</td>\n",
       "      <td>1.110398</td>\n",
       "      <td>0.125554</td>\n",
       "      <td>1.586021</td>\n",
       "      <td>0.278008</td>\n",
       "      <td>0.253508</td>\n",
       "      <td>0.068698</td>\n",
       "      <td>0.066828</td>\n",
       "    </tr>\n",
       "    <tr>\n",
       "      <th>1239</th>\n",
       "      <td>-2.281676</td>\n",
       "      <td>0.847827</td>\n",
       "      <td>1.537319</td>\n",
       "      <td>0.151205</td>\n",
       "      <td>-1.393951</td>\n",
       "      <td>-1.007139</td>\n",
       "      <td>-0.461072</td>\n",
       "      <td>1.172605</td>\n",
       "      <td>0.261494</td>\n",
       "      <td>0.549581</td>\n",
       "      <td>-0.056236</td>\n",
       "      <td>0.690969</td>\n",
       "      <td>-0.529617</td>\n",
       "      <td>0.224372</td>\n",
       "    </tr>\n",
       "    <tr>\n",
       "      <th>1240</th>\n",
       "      <td>-1.076991</td>\n",
       "      <td>-1.015802</td>\n",
       "      <td>-0.592684</td>\n",
       "      <td>1.570958</td>\n",
       "      <td>-0.229874</td>\n",
       "      <td>0.293136</td>\n",
       "      <td>-0.494165</td>\n",
       "      <td>-0.014975</td>\n",
       "      <td>0.924566</td>\n",
       "      <td>0.560629</td>\n",
       "      <td>-0.901725</td>\n",
       "      <td>-0.137152</td>\n",
       "      <td>-0.082103</td>\n",
       "      <td>0.076466</td>\n",
       "    </tr>\n",
       "    <tr>\n",
       "      <th>1241</th>\n",
       "      <td>-2.716694</td>\n",
       "      <td>-1.208579</td>\n",
       "      <td>0.226596</td>\n",
       "      <td>-1.040256</td>\n",
       "      <td>-1.117965</td>\n",
       "      <td>-0.873453</td>\n",
       "      <td>-1.359022</td>\n",
       "      <td>-0.119816</td>\n",
       "      <td>0.766411</td>\n",
       "      <td>0.811478</td>\n",
       "      <td>0.083818</td>\n",
       "      <td>-0.015658</td>\n",
       "      <td>0.226110</td>\n",
       "      <td>0.004492</td>\n",
       "    </tr>\n",
       "  </tbody>\n",
       "</table>\n",
       "<p>1242 rows × 14 columns</p>\n",
       "</div>"
      ],
      "text/plain": [
       "            0         1         2         3         4         5         6   \\\n",
       "0    -1.642349 -0.963491  0.406474  1.160183 -0.078791 -0.953892 -0.100909   \n",
       "1    -0.652632  2.619134  1.576404 -0.555055 -1.230981  0.177950  0.519643   \n",
       "2    -0.382889  2.679274  1.560603 -0.687093 -1.587902  0.145352  0.623618   \n",
       "3     1.469149  0.138785  1.990385  0.860195  0.463204 -1.052738  1.931536   \n",
       "4     1.962117  0.205275  2.130641  0.069997  0.434932 -1.068068  2.308092   \n",
       "...        ...       ...       ...       ...       ...       ...       ...   \n",
       "1237  0.404211 -1.374115 -1.200363  0.232153 -0.676092  0.933140  1.326347   \n",
       "1238 -0.573033  1.439564  1.107267  1.462307 -2.676131 -0.960989 -0.233925   \n",
       "1239 -2.281676  0.847827  1.537319  0.151205 -1.393951 -1.007139 -0.461072   \n",
       "1240 -1.076991 -1.015802 -0.592684  1.570958 -0.229874  0.293136 -0.494165   \n",
       "1241 -2.716694 -1.208579  0.226596 -1.040256 -1.117965 -0.873453 -1.359022   \n",
       "\n",
       "            7         8         9         10        11        12        13  \n",
       "0    -0.850323  1.144661 -0.188331 -0.000487  0.281982  0.381578  0.547030  \n",
       "1    -0.735857  1.497164 -0.066756  0.083621 -0.061268  0.684435  0.723696  \n",
       "2    -0.686996  1.406956  0.230178  0.133235 -0.277233  0.198763  0.905928  \n",
       "3    -1.160488  0.965518 -0.333082  0.979840  0.175294  0.358194  0.548156  \n",
       "4    -0.948224  0.711924  0.216389  1.226136 -0.731602 -0.115996  0.825364  \n",
       "...        ...       ...       ...       ...       ...       ...       ...  \n",
       "1237  1.353225  0.453093  0.348545  0.471381 -0.514237 -0.248462 -0.236495  \n",
       "1238  1.110398  0.125554  1.586021  0.278008  0.253508  0.068698  0.066828  \n",
       "1239  1.172605  0.261494  0.549581 -0.056236  0.690969 -0.529617  0.224372  \n",
       "1240 -0.014975  0.924566  0.560629 -0.901725 -0.137152 -0.082103  0.076466  \n",
       "1241 -0.119816  0.766411  0.811478  0.083818 -0.015658  0.226110  0.004492  \n",
       "\n",
       "[1242 rows x 14 columns]"
      ]
     },
     "execution_count": 55,
     "metadata": {},
     "output_type": "execute_result"
    }
   ],
   "source": [
    "from sklearn.decomposition import PCA\n",
    "pca = PCA(n_components=14)\n",
    "pca.fit(prediction_data_normalized)\n",
    "pd.DataFrame(pca.transform(prediction_data_normalized))"
   ]
  },
  {
   "cell_type": "code",
   "execution_count": 72,
   "metadata": {},
   "outputs": [
    {
     "data": {
      "text/plain": [
       "<sklearn.metrics._plot.confusion_matrix.ConfusionMatrixDisplay at 0x1a497d84af0>"
      ]
     },
     "execution_count": 72,
     "metadata": {},
     "output_type": "execute_result"
    },
    {
     "data": {
      "image/png": "[encoded data removed]",
      "text/plain": [
       "<Figure size 640x480 with 2 Axes>"
      ]
     },
     "metadata": {},
     "output_type": "display_data"
    }
   ],
   "source": [
    "from sklearn.ensemble import AdaBoostClassifier\n",
    "cms = proper_cross_validation(LogisticRegression(), pd.DataFrame(pca.transform(prediction_data_normalized)), data['Win_Loss_Flag'])\n",
    "sklearn.metrics.ConfusionMatrixDisplay(cms).plot()"
   ]
  },
  {
   "cell_type": "code",
   "execution_count": 63,
   "metadata": {},
   "outputs": [
    {
     "data": {
      "text/plain": [
       "0.6892109500805152"
      ]
     },
     "execution_count": 63,
     "metadata": {},
     "output_type": "execute_result"
    }
   ],
   "source": [
    "(426+430)/1242"
   ]
  }
 ],
 "metadata": {
  "kernelspec": {
   "display_name": ".venv",
   "language": "python",
   "name": "python3"
  },
  "language_info": {
   "codemirror_mode": {
    "name": "ipython",
    "version": 3
   },
   "file_extension": ".py",
   "mimetype": "text/x-python",
   "name": "python",
   "nbconvert_exporter": "python",
   "pygments_lexer": "ipython3",
   "version": "3.10.6"
  },
  "orig_nbformat": 4
 },
 "nbformat": 4,
 "nbformat_minor": 2
}
