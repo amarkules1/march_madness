{
 "cells": [
  {
   "cell_type": "code",
   "execution_count": 1,
   "metadata": {},
   "outputs": [],
   "source": [
    "import os\n",
    "import pandas as pd\n",
    "import sqlalchemy\n",
    "import sklearn\n",
    "from dotenv import load_dotenv, find_dotenv\n",
    "_ = load_dotenv(find_dotenv())\n",
    "\n",
    "connection_string = os.getenv(\"LINODE_CONN_STRING\")\n",
    "connection_string = os.getenv(\"LINODE_CONN_STRING\")\n",
    "conn = sqlalchemy.create_engine(os.getenv(\"LINODE_CONN_STRING\")).connect()"
   ]
  },
  {
   "cell_type": "code",
   "execution_count": 72,
   "metadata": {},
   "outputs": [],
   "source": [
    "data = pd.read_sql(\"select * from sports_data.tourney_games_with_season_stats\", conn)"
   ]
  },
  {
   "cell_type": "code",
   "execution_count": 73,
   "metadata": {},
   "outputs": [],
   "source": [
    "data['Win_Loss_Flag'] = data['Win_Loss'].apply(lambda x: 1 if x == 'W' else 0)"
   ]
  },
  {
   "cell_type": "code",
   "execution_count": 74,
   "metadata": {},
   "outputs": [],
   "source": [
    "predictor_columns = data.columns[8:-1]\n",
    "predictors = data[predictor_columns]\n",
    "predictors_and_response = pd.concat([predictors, data['Win_Loss_Flag']], axis=1)"
   ]
  },
  {
   "cell_type": "code",
   "execution_count": 75,
   "metadata": {},
   "outputs": [
    {
     "data": {
      "text/plain": [
       "Win_Loss_Flag                                  1.000000\n",
       "adj_offense_team                               0.270970\n",
       "adj_defense_opponent                           0.225174\n",
       "offensive_efficiency_team                      0.196490\n",
       "opponent_offensive_efficiency_opponent         0.123610\n",
       "effective_fg_percent_team                      0.116454\n",
       "opponent_effective_fg_percent_opponent         0.112050\n",
       "turnover_percent_opponent                      0.106504\n",
       "offensive_rebound_percent_team                 0.104910\n",
       "opponent_free_throw_rate_opponent              0.070684\n",
       "free_throw_rate_opponent                       0.066086\n",
       "opponent_turnover_percent_team                 0.033527\n",
       "opponent_offensive_rebound_percent_opponent    0.001040\n",
       "opponent_offensive_rebound_percent_team       -0.001040\n",
       "opponent_turnover_percent_opponent            -0.033527\n",
       "free_throw_rate_team                          -0.066086\n",
       "opponent_free_throw_rate_team                 -0.070684\n",
       "offensive_rebound_percent_opponent            -0.104910\n",
       "turnover_percent_team                         -0.106504\n",
       "opponent_effective_fg_percent_team            -0.112050\n",
       "effective_fg_percent_opponent                 -0.116454\n",
       "opponent_offensive_efficiency_team            -0.123610\n",
       "offensive_efficiency_opponent                 -0.196490\n",
       "adj_defense_team                              -0.225174\n",
       "adj_offense_opponent                          -0.270970\n",
       "Name: Win_Loss_Flag, dtype: float64"
      ]
     },
     "execution_count": 75,
     "metadata": {},
     "output_type": "execute_result"
    }
   ],
   "source": [
    "predictors_and_response.corr(numeric_only=True)['Win_Loss_Flag'].sort_values(ascending=False)"
   ]
  },
  {
   "cell_type": "code",
   "execution_count": 76,
   "metadata": {},
   "outputs": [],
   "source": [
    "corrs = predictors_and_response.corr(numeric_only=True)['Win_Loss_Flag']\n",
    "corrs = corrs[corrs > 0.02]\n",
    "corrs = corrs[corrs.index != 'Win_Loss_Flag']\n",
    "effective_predictors = corrs.index.tolist()"
   ]
  },
  {
   "cell_type": "code",
   "execution_count": 77,
   "metadata": {},
   "outputs": [
    {
     "data": {
      "text/plain": [
       "11"
      ]
     },
     "execution_count": 77,
     "metadata": {},
     "output_type": "execute_result"
    }
   ],
   "source": [
    "len(effective_predictors)"
   ]
  },
  {
   "cell_type": "code",
   "execution_count": 78,
   "metadata": {},
   "outputs": [],
   "source": [
    "prediction_data = data[effective_predictors]\n",
    "prediction_data_normalized = (prediction_data-prediction_data.mean())/prediction_data.std()"
   ]
  },
  {
   "cell_type": "code",
   "execution_count": 79,
   "metadata": {},
   "outputs": [
    {
     "data": {
      "text/html": [
       "<div>\n",
       "<style scoped>\n",
       "    .dataframe tbody tr th:only-of-type {\n",
       "        vertical-align: middle;\n",
       "    }\n",
       "\n",
       "    .dataframe tbody tr th {\n",
       "        vertical-align: top;\n",
       "    }\n",
       "\n",
       "    .dataframe thead th {\n",
       "        text-align: right;\n",
       "    }\n",
       "</style>\n",
       "<table border=\"1\" class=\"dataframe\">\n",
       "  <thead>\n",
       "    <tr style=\"text-align: right;\">\n",
       "      <th></th>\n",
       "      <th>adj_offense_team</th>\n",
       "      <th>offensive_efficiency_team</th>\n",
       "      <th>effective_fg_percent_team</th>\n",
       "      <th>offensive_rebound_percent_team</th>\n",
       "      <th>opponent_turnover_percent_team</th>\n",
       "      <th>adj_defense_opponent</th>\n",
       "      <th>turnover_percent_opponent</th>\n",
       "      <th>free_throw_rate_opponent</th>\n",
       "      <th>opponent_offensive_efficiency_opponent</th>\n",
       "      <th>opponent_effective_fg_percent_opponent</th>\n",
       "      <th>opponent_free_throw_rate_opponent</th>\n",
       "    </tr>\n",
       "  </thead>\n",
       "  <tbody>\n",
       "    <tr>\n",
       "      <th>0</th>\n",
       "      <td>-0.927835</td>\n",
       "      <td>-1.624681</td>\n",
       "      <td>-1.649647</td>\n",
       "      <td>-0.387095</td>\n",
       "      <td>0.617680</td>\n",
       "      <td>-0.591715</td>\n",
       "      <td>-0.114575</td>\n",
       "      <td>-0.058197</td>\n",
       "      <td>-0.464621</td>\n",
       "      <td>0.068223</td>\n",
       "      <td>-0.223741</td>\n",
       "    </tr>\n",
       "    <tr>\n",
       "      <th>1</th>\n",
       "      <td>-0.212381</td>\n",
       "      <td>-0.766889</td>\n",
       "      <td>-0.859129</td>\n",
       "      <td>0.315748</td>\n",
       "      <td>1.201215</td>\n",
       "      <td>-0.385921</td>\n",
       "      <td>-0.239694</td>\n",
       "      <td>-0.604433</td>\n",
       "      <td>-0.172103</td>\n",
       "      <td>-0.505183</td>\n",
       "      <td>0.359243</td>\n",
       "    </tr>\n",
       "    <tr>\n",
       "      <th>2</th>\n",
       "      <td>-0.195177</td>\n",
       "      <td>-0.715680</td>\n",
       "      <td>-0.196766</td>\n",
       "      <td>-0.101264</td>\n",
       "      <td>0.512527</td>\n",
       "      <td>-0.642958</td>\n",
       "      <td>0.836021</td>\n",
       "      <td>-0.578729</td>\n",
       "      <td>-0.571980</td>\n",
       "      <td>-0.983478</td>\n",
       "      <td>1.185184</td>\n",
       "    </tr>\n",
       "    <tr>\n",
       "      <th>3</th>\n",
       "      <td>1.053736</td>\n",
       "      <td>0.897114</td>\n",
       "      <td>0.248055</td>\n",
       "      <td>1.953495</td>\n",
       "      <td>0.069976</td>\n",
       "      <td>-0.749431</td>\n",
       "      <td>0.594703</td>\n",
       "      <td>0.817571</td>\n",
       "      <td>-0.412882</td>\n",
       "      <td>-0.499381</td>\n",
       "      <td>1.303525</td>\n",
       "    </tr>\n",
       "    <tr>\n",
       "      <th>4</th>\n",
       "      <td>-0.195177</td>\n",
       "      <td>-0.715680</td>\n",
       "      <td>-0.196766</td>\n",
       "      <td>-0.101264</td>\n",
       "      <td>0.512527</td>\n",
       "      <td>-0.790995</td>\n",
       "      <td>0.111636</td>\n",
       "      <td>-0.887965</td>\n",
       "      <td>-0.300158</td>\n",
       "      <td>-0.272603</td>\n",
       "      <td>-0.055341</td>\n",
       "    </tr>\n",
       "    <tr>\n",
       "      <th>...</th>\n",
       "      <td>...</td>\n",
       "      <td>...</td>\n",
       "      <td>...</td>\n",
       "      <td>...</td>\n",
       "      <td>...</td>\n",
       "      <td>...</td>\n",
       "      <td>...</td>\n",
       "      <td>...</td>\n",
       "      <td>...</td>\n",
       "      <td>...</td>\n",
       "      <td>...</td>\n",
       "    </tr>\n",
       "    <tr>\n",
       "      <th>1237</th>\n",
       "      <td>-1.426319</td>\n",
       "      <td>-0.604308</td>\n",
       "      <td>-0.281490</td>\n",
       "      <td>-0.531916</td>\n",
       "      <td>0.416185</td>\n",
       "      <td>0.157309</td>\n",
       "      <td>-0.374213</td>\n",
       "      <td>0.576946</td>\n",
       "      <td>0.324425</td>\n",
       "      <td>0.265386</td>\n",
       "      <td>1.252496</td>\n",
       "    </tr>\n",
       "    <tr>\n",
       "      <th>1238</th>\n",
       "      <td>0.367438</td>\n",
       "      <td>0.559941</td>\n",
       "      <td>1.489443</td>\n",
       "      <td>-1.255623</td>\n",
       "      <td>0.119701</td>\n",
       "      <td>0.328140</td>\n",
       "      <td>0.726266</td>\n",
       "      <td>1.420357</td>\n",
       "      <td>-0.523980</td>\n",
       "      <td>-0.440797</td>\n",
       "      <td>-0.824305</td>\n",
       "    </tr>\n",
       "    <tr>\n",
       "      <th>1239</th>\n",
       "      <td>-1.387000</td>\n",
       "      <td>-1.206570</td>\n",
       "      <td>-0.153137</td>\n",
       "      <td>-2.031117</td>\n",
       "      <td>-0.428632</td>\n",
       "      <td>-0.632140</td>\n",
       "      <td>0.312622</td>\n",
       "      <td>1.204664</td>\n",
       "      <td>-1.084201</td>\n",
       "      <td>-1.145650</td>\n",
       "      <td>-0.827130</td>\n",
       "    </tr>\n",
       "    <tr>\n",
       "      <th>1240</th>\n",
       "      <td>0.519922</td>\n",
       "      <td>0.775015</td>\n",
       "      <td>0.189707</td>\n",
       "      <td>0.712305</td>\n",
       "      <td>0.844513</td>\n",
       "      <td>0.025232</td>\n",
       "      <td>0.429733</td>\n",
       "      <td>0.886730</td>\n",
       "      <td>0.583046</td>\n",
       "      <td>0.949030</td>\n",
       "      <td>0.558894</td>\n",
       "    </tr>\n",
       "    <tr>\n",
       "      <th>1241</th>\n",
       "      <td>0.451776</td>\n",
       "      <td>-0.039776</td>\n",
       "      <td>0.234877</td>\n",
       "      <td>0.056866</td>\n",
       "      <td>0.091621</td>\n",
       "      <td>-1.686247</td>\n",
       "      <td>-0.329901</td>\n",
       "      <td>2.555247</td>\n",
       "      <td>-2.214709</td>\n",
       "      <td>-1.354452</td>\n",
       "      <td>0.813264</td>\n",
       "    </tr>\n",
       "  </tbody>\n",
       "</table>\n",
       "<p>1242 rows × 11 columns</p>\n",
       "</div>"
      ],
      "text/plain": [
       "      adj_offense_team  offensive_efficiency_team  effective_fg_percent_team  \\\n",
       "0            -0.927835                  -1.624681                  -1.649647   \n",
       "1            -0.212381                  -0.766889                  -0.859129   \n",
       "2            -0.195177                  -0.715680                  -0.196766   \n",
       "3             1.053736                   0.897114                   0.248055   \n",
       "4            -0.195177                  -0.715680                  -0.196766   \n",
       "...                ...                        ...                        ...   \n",
       "1237         -1.426319                  -0.604308                  -0.281490   \n",
       "1238          0.367438                   0.559941                   1.489443   \n",
       "1239         -1.387000                  -1.206570                  -0.153137   \n",
       "1240          0.519922                   0.775015                   0.189707   \n",
       "1241          0.451776                  -0.039776                   0.234877   \n",
       "\n",
       "      offensive_rebound_percent_team  opponent_turnover_percent_team  \\\n",
       "0                          -0.387095                        0.617680   \n",
       "1                           0.315748                        1.201215   \n",
       "2                          -0.101264                        0.512527   \n",
       "3                           1.953495                        0.069976   \n",
       "4                          -0.101264                        0.512527   \n",
       "...                              ...                             ...   \n",
       "1237                       -0.531916                        0.416185   \n",
       "1238                       -1.255623                        0.119701   \n",
       "1239                       -2.031117                       -0.428632   \n",
       "1240                        0.712305                        0.844513   \n",
       "1241                        0.056866                        0.091621   \n",
       "\n",
       "      adj_defense_opponent  turnover_percent_opponent  \\\n",
       "0                -0.591715                  -0.114575   \n",
       "1                -0.385921                  -0.239694   \n",
       "2                -0.642958                   0.836021   \n",
       "3                -0.749431                   0.594703   \n",
       "4                -0.790995                   0.111636   \n",
       "...                    ...                        ...   \n",
       "1237              0.157309                  -0.374213   \n",
       "1238              0.328140                   0.726266   \n",
       "1239             -0.632140                   0.312622   \n",
       "1240              0.025232                   0.429733   \n",
       "1241             -1.686247                  -0.329901   \n",
       "\n",
       "      free_throw_rate_opponent  opponent_offensive_efficiency_opponent  \\\n",
       "0                    -0.058197                               -0.464621   \n",
       "1                    -0.604433                               -0.172103   \n",
       "2                    -0.578729                               -0.571980   \n",
       "3                     0.817571                               -0.412882   \n",
       "4                    -0.887965                               -0.300158   \n",
       "...                        ...                                     ...   \n",
       "1237                  0.576946                                0.324425   \n",
       "1238                  1.420357                               -0.523980   \n",
       "1239                  1.204664                               -1.084201   \n",
       "1240                  0.886730                                0.583046   \n",
       "1241                  2.555247                               -2.214709   \n",
       "\n",
       "      opponent_effective_fg_percent_opponent  \\\n",
       "0                                   0.068223   \n",
       "1                                  -0.505183   \n",
       "2                                  -0.983478   \n",
       "3                                  -0.499381   \n",
       "4                                  -0.272603   \n",
       "...                                      ...   \n",
       "1237                                0.265386   \n",
       "1238                               -0.440797   \n",
       "1239                               -1.145650   \n",
       "1240                                0.949030   \n",
       "1241                               -1.354452   \n",
       "\n",
       "      opponent_free_throw_rate_opponent  \n",
       "0                             -0.223741  \n",
       "1                              0.359243  \n",
       "2                              1.185184  \n",
       "3                              1.303525  \n",
       "4                             -0.055341  \n",
       "...                                 ...  \n",
       "1237                           1.252496  \n",
       "1238                          -0.824305  \n",
       "1239                          -0.827130  \n",
       "1240                           0.558894  \n",
       "1241                           0.813264  \n",
       "\n",
       "[1242 rows x 11 columns]"
      ]
     },
     "execution_count": 79,
     "metadata": {},
     "output_type": "execute_result"
    }
   ],
   "source": [
    "prediction_data_normalized"
   ]
  },
  {
   "cell_type": "code",
   "execution_count": 80,
   "metadata": {},
   "outputs": [],
   "source": [
    "from sklearn.linear_model import LogisticRegression\n",
    "clf = LogisticRegression(random_state=0).fit(prediction_data_normalized, data['Win_Loss_Flag'])"
   ]
  },
  {
   "cell_type": "code",
   "execution_count": 81,
   "metadata": {},
   "outputs": [],
   "source": [
    "data['predicted_outcome'] = clf.predict(prediction_data_normalized)"
   ]
  },
  {
   "cell_type": "code",
   "execution_count": 82,
   "metadata": {},
   "outputs": [
    {
     "data": {
      "text/plain": [
       "<sklearn.metrics._plot.confusion_matrix.ConfusionMatrixDisplay at 0x21132217c70>"
      ]
     },
     "execution_count": 82,
     "metadata": {},
     "output_type": "execute_result"
    },
    {
     "data": {
      "image/png": "[encoded data removed]",
      "text/plain": [
       "<Figure size 640x480 with 2 Axes>"
      ]
     },
     "metadata": {},
     "output_type": "display_data"
    }
   ],
   "source": [
    "sklearn.metrics.ConfusionMatrixDisplay(sklearn.metrics.confusion_matrix(data['Win_Loss_Flag'], data['predicted_outcome'])).plot()"
   ]
  },
  {
   "cell_type": "markdown",
   "metadata": {},
   "source": [
    "Logistic regression predicted 835 games correctly and got 407 wrong. Getting about 2/3 of the games right is not bad, but it's not great either. Other models might yield better results."
   ]
  },
  {
   "cell_type": "code",
   "execution_count": 83,
   "metadata": {},
   "outputs": [],
   "source": [
    "from sklearn.neural_network import MLPClassifier\n",
    "clf = MLPClassifier(random_state=0, max_iter=3000).fit(prediction_data_normalized, data['Win_Loss_Flag'])"
   ]
  },
  {
   "cell_type": "code",
   "execution_count": 84,
   "metadata": {},
   "outputs": [],
   "source": [
    "data['nn_predicted_outcome'] = clf.predict(prediction_data_normalized)"
   ]
  },
  {
   "cell_type": "code",
   "execution_count": 85,
   "metadata": {},
   "outputs": [
    {
     "data": {
      "text/plain": [
       "<sklearn.metrics._plot.confusion_matrix.ConfusionMatrixDisplay at 0x211322164d0>"
      ]
     },
     "execution_count": 85,
     "metadata": {},
     "output_type": "execute_result"
    },
    {
     "data": {
      "image/png": "[encoded data removed]",
      "text/plain": [
       "<Figure size 640x480 with 2 Axes>"
      ]
     },
     "metadata": {},
     "output_type": "display_data"
    }
   ],
   "source": [
    "sklearn.metrics.ConfusionMatrixDisplay(sklearn.metrics.confusion_matrix(data['Win_Loss_Flag'], data['nn_predicted_outcome'])).plot()"
   ]
  },
  {
   "cell_type": "markdown",
   "metadata": {},
   "source": [
    "NN did a lot better but there's probably some overfitting happening. Need to hold out a test set."
   ]
  },
  {
   "cell_type": "code",
   "execution_count": 86,
   "metadata": {},
   "outputs": [],
   "source": [
    "train_X = prediction_data_normalized.iloc[:int(len(prediction_data_normalized)*0.6)]\n",
    "train_y = data['Win_Loss_Flag'].iloc[:int(len(prediction_data_normalized)*0.6)]\n",
    "test_X = prediction_data_normalized.iloc[int(len(prediction_data_normalized)*0.6):]\n",
    "test_y = data['Win_Loss_Flag'].iloc[int(len(prediction_data_normalized)*0.6):]"
   ]
  },
  {
   "cell_type": "code",
   "execution_count": 87,
   "metadata": {},
   "outputs": [],
   "source": [
    "clf = MLPClassifier(hidden_layer_sizes=[50, 50, 50],random_state=0, max_iter=3000).fit(train_X, train_y)"
   ]
  },
  {
   "cell_type": "code",
   "execution_count": 88,
   "metadata": {},
   "outputs": [],
   "source": [
    "nn_test_outcomes = clf.predict(test_X)"
   ]
  },
  {
   "cell_type": "code",
   "execution_count": 89,
   "metadata": {},
   "outputs": [
    {
     "data": {
      "text/plain": [
       "<sklearn.metrics._plot.confusion_matrix.ConfusionMatrixDisplay at 0x2113b93fa60>"
      ]
     },
     "execution_count": 89,
     "metadata": {},
     "output_type": "execute_result"
    },
    {
     "data": {
      "image/png": "[encoded data removed]",
      "text/plain": [
       "<Figure size 640x480 with 2 Axes>"
      ]
     },
     "metadata": {},
     "output_type": "display_data"
    }
   ],
   "source": [
    "sklearn.metrics.ConfusionMatrixDisplay(sklearn.metrics.confusion_matrix(test_y, nn_test_outcomes)).plot()"
   ]
  },
  {
   "cell_type": "code",
   "execution_count": 17,
   "metadata": {},
   "outputs": [],
   "source": [
    "def proper_cross_validation(clf, X, y, k=5):\n",
    "    from sklearn.model_selection import KFold\n",
    "    kf = KFold(n_splits=k)\n",
    "    confusion_matrices = []\n",
    "    for train_index, test_index in kf.split(X):\n",
    "        X_train, X_test = X.iloc[train_index], X.iloc[test_index]\n",
    "        y_train, y_test = y.iloc[train_index], y.iloc[test_index]\n",
    "        clf.fit(X_train, y_train)\n",
    "        confusion_matrices.append(sklearn.metrics.confusion_matrix(y_test, clf.predict(X_test)))\n",
    "    total_confusion_matrix = sum(confusion_matrices)\n",
    "    return total_confusion_matrix"
   ]
  },
  {
   "cell_type": "code",
   "execution_count": 91,
   "metadata": {},
   "outputs": [],
   "source": [
    "cms = proper_cross_validation(MLPClassifier(hidden_layer_sizes=[50, 50, 50],random_state=0, max_iter=3000), prediction_data_normalized, data['Win_Loss_Flag'])"
   ]
  },
  {
   "cell_type": "code",
   "execution_count": 92,
   "metadata": {},
   "outputs": [
    {
     "data": {
      "text/plain": [
       "<sklearn.metrics._plot.confusion_matrix.ConfusionMatrixDisplay at 0x2113b6c0a90>"
      ]
     },
     "execution_count": 92,
     "metadata": {},
     "output_type": "execute_result"
    },
    {
     "data": {
      "image/png": "[encoded data removed]",
      "text/plain": [
       "<Figure size 640x480 with 2 Axes>"
      ]
     },
     "metadata": {},
     "output_type": "display_data"
    }
   ],
   "source": [
    "sklearn.metrics.ConfusionMatrixDisplay(cms).plot()"
   ]
  },
  {
   "cell_type": "code",
   "execution_count": 93,
   "metadata": {},
   "outputs": [
    {
     "data": {
      "text/plain": [
       "<sklearn.metrics._plot.confusion_matrix.ConfusionMatrixDisplay at 0x2113b09b820>"
      ]
     },
     "execution_count": 93,
     "metadata": {},
     "output_type": "execute_result"
    },
    {
     "data": {
      "image/png": "[encoded data removed]",
      "text/plain": [
       "<Figure size 640x480 with 2 Axes>"
      ]
     },
     "metadata": {},
     "output_type": "display_data"
    }
   ],
   "source": [
    "# and what about the logistic regression model?\n",
    "cms = proper_cross_validation(LogisticRegression(random_state=0), prediction_data_normalized, data['Win_Loss_Flag'])\n",
    "sklearn.metrics.ConfusionMatrixDisplay(cms).plot()"
   ]
  },
  {
   "cell_type": "code",
   "execution_count": 94,
   "metadata": {},
   "outputs": [],
   "source": [
    "# well, they're both getting things right a little under 70% of the time\n",
    "# could try different models, but better indicators is probably the more effective way to go\n",
    "all_games = pd.read_sql(\"select * from sports_data.game_stats_v2\", conn)"
   ]
  },
  {
   "cell_type": "code",
   "execution_count": 95,
   "metadata": {},
   "outputs": [
    {
     "data": {
      "text/plain": [
       "Index(['date', 'game_type', 'team', 'conference', 'opponent', 'location',\n",
       "       'result', 'adj_offense', 'adj_defense', 'offensive_efficiency',\n",
       "       'effective_fg_percent', 'turnover_percent', 'offensive_rebound_percent',\n",
       "       'free_throw_rate', 'opponent_offensive_efficiency',\n",
       "       'opponent_effective_fg_percent', 'opponent_turnover_percent',\n",
       "       'opponent_offensive_rebound_percent', 'opponent_free_throw_rate',\n",
       "       'opponent_conference', 'season', 'Win_Loss', 'score', 'opponent_score'],\n",
       "      dtype='object')"
      ]
     },
     "execution_count": 95,
     "metadata": {},
     "output_type": "execute_result"
    }
   ],
   "source": [
    "all_games.columns"
   ]
  },
  {
   "cell_type": "code",
   "execution_count": 96,
   "metadata": {},
   "outputs": [],
   "source": [
    "team_conference_affiliation = all_games[['team', 'conference', 'season']].drop_duplicates(subset=['team', 'season'], keep='first')"
   ]
  },
  {
   "cell_type": "code",
   "execution_count": 97,
   "metadata": {},
   "outputs": [
    {
     "data": {
      "text/plain": [
       "35"
      ]
     },
     "execution_count": 97,
     "metadata": {},
     "output_type": "execute_result"
    }
   ],
   "source": [
    "len(data.columns)"
   ]
  },
  {
   "cell_type": "code",
   "execution_count": 99,
   "metadata": {},
   "outputs": [],
   "source": [
    "data = pd.merge(data, team_conference_affiliation, left_on=['team', 'season'], right_on=['team', 'season'])"
   ]
  },
  {
   "cell_type": "code",
   "execution_count": 101,
   "metadata": {},
   "outputs": [
    {
     "data": {
      "text/plain": [
       "0       P12\n",
       "1       B12\n",
       "2       SEC\n",
       "3        BE\n",
       "4       SEC\n",
       "       ... \n",
       "1237     SC\n",
       "1238    MVC\n",
       "1239    MWC\n",
       "1240    P12\n",
       "1241     BE\n",
       "Name: conference, Length: 1242, dtype: object"
      ]
     },
     "execution_count": 101,
     "metadata": {},
     "output_type": "execute_result"
    }
   ],
   "source": [
    "data['conference']"
   ]
  },
  {
   "cell_type": "code",
   "execution_count": 2,
   "metadata": {},
   "outputs": [],
   "source": [
    "data = pd.read_sql(\"select * from sports_data.tourney_games_v4\", conn)"
   ]
  },
  {
   "cell_type": "code",
   "execution_count": 3,
   "metadata": {},
   "outputs": [],
   "source": [
    "data['Win_Loss_Flag'] = data['Win_Loss'].apply(lambda x: 1 if x == 'W' else 0)"
   ]
  },
  {
   "cell_type": "code",
   "execution_count": 4,
   "metadata": {},
   "outputs": [
    {
     "data": {
      "text/plain": [
       "Index(['season', 'last_5_win_loss_ratio_opponent', 'team',\n",
       "       'last_5_win_loss_ratio', 'vs_tourney_team_win_loss_ratio_opponent',\n",
       "       'games_played_vs_tourney_team_opponent',\n",
       "       'vs_tourney_team_win_loss_ratio', 'games_played_vs_tourney_team',\n",
       "       'opponent', 'last_10_win_loss_ratio_opponent', 'last_10_win_loss_ratio',\n",
       "       'date', 'location', 'Win_Loss', 'score', 'opponent_score',\n",
       "       'adj_offense_team', 'adj_defense_team', 'offensive_efficiency_team',\n",
       "       'effective_fg_percent_team', 'turnover_percent_team',\n",
       "       'offensive_rebound_percent_team', 'free_throw_rate_team',\n",
       "       'opponent_offensive_efficiency_team',\n",
       "       'opponent_effective_fg_percent_team', 'opponent_turnover_percent_team',\n",
       "       'opponent_offensive_rebound_percent_team',\n",
       "       'opponent_free_throw_rate_team', 'adj_offense_opponent',\n",
       "       'adj_defense_opponent', 'offensive_efficiency_opponent',\n",
       "       'effective_fg_percent_opponent', 'turnover_percent_opponent',\n",
       "       'offensive_rebound_percent_opponent', 'free_throw_rate_opponent',\n",
       "       'opponent_offensive_efficiency_opponent',\n",
       "       'opponent_effective_fg_percent_opponent',\n",
       "       'opponent_turnover_percent_opponent',\n",
       "       'opponent_offensive_rebound_percent_opponent',\n",
       "       'opponent_free_throw_rate_opponent', 'losses', 'wins', 'win_loss_ratio',\n",
       "       'losses_opponent', 'wins_opponent', 'win_loss_ratio_opponent',\n",
       "       'conference', 'conference_strength', 'conference_strength_opponent',\n",
       "       'Win_Loss_Flag'],\n",
       "      dtype='object')"
      ]
     },
     "execution_count": 4,
     "metadata": {},
     "output_type": "execute_result"
    }
   ],
   "source": [
    "data.columns"
   ]
  },
  {
   "cell_type": "code",
   "execution_count": 5,
   "metadata": {},
   "outputs": [],
   "source": [
    "data.drop(columns=['losses', 'wins', 'losses_opponent', 'wins_opponent', 'conference'], inplace=True)"
   ]
  },
  {
   "cell_type": "code",
   "execution_count": 7,
   "metadata": {},
   "outputs": [
    {
     "data": {
      "text/plain": [
       "Index(['season', 'last_5_win_loss_ratio_opponent', 'team',\n",
       "       'last_5_win_loss_ratio', 'vs_tourney_team_win_loss_ratio_opponent',\n",
       "       'games_played_vs_tourney_team_opponent',\n",
       "       'vs_tourney_team_win_loss_ratio', 'games_played_vs_tourney_team',\n",
       "       'opponent', 'last_10_win_loss_ratio_opponent', 'last_10_win_loss_ratio',\n",
       "       'date', 'location', 'Win_Loss', 'score', 'opponent_score',\n",
       "       'adj_offense_team', 'adj_defense_team', 'offensive_efficiency_team',\n",
       "       'effective_fg_percent_team', 'turnover_percent_team',\n",
       "       'offensive_rebound_percent_team', 'free_throw_rate_team',\n",
       "       'opponent_offensive_efficiency_team',\n",
       "       'opponent_effective_fg_percent_team', 'opponent_turnover_percent_team',\n",
       "       'opponent_offensive_rebound_percent_team',\n",
       "       'opponent_free_throw_rate_team', 'adj_offense_opponent',\n",
       "       'adj_defense_opponent', 'offensive_efficiency_opponent',\n",
       "       'effective_fg_percent_opponent', 'turnover_percent_opponent',\n",
       "       'offensive_rebound_percent_opponent', 'free_throw_rate_opponent',\n",
       "       'opponent_offensive_efficiency_opponent',\n",
       "       'opponent_effective_fg_percent_opponent',\n",
       "       'opponent_turnover_percent_opponent',\n",
       "       'opponent_offensive_rebound_percent_opponent',\n",
       "       'opponent_free_throw_rate_opponent', 'win_loss_ratio',\n",
       "       'win_loss_ratio_opponent', 'conference_strength',\n",
       "       'conference_strength_opponent', 'Win_Loss_Flag'],\n",
       "      dtype='object')"
      ]
     },
     "execution_count": 7,
     "metadata": {},
     "output_type": "execute_result"
    }
   ],
   "source": [
    "data.columns"
   ]
  },
  {
   "cell_type": "code",
   "execution_count": 8,
   "metadata": {},
   "outputs": [],
   "source": [
    "predictor_cols = ['last_5_win_loss_ratio_opponent',\n",
    "       'last_5_win_loss_ratio', 'vs_tourney_team_win_loss_ratio_opponent',\n",
    "       'games_played_vs_tourney_team_opponent',\n",
    "       'vs_tourney_team_win_loss_ratio', 'games_played_vs_tourney_team',\n",
    "       'last_10_win_loss_ratio_opponent', 'last_10_win_loss_ratio',\n",
    "       'adj_offense_team', 'adj_defense_team', 'offensive_efficiency_team',\n",
    "       'effective_fg_percent_team', 'turnover_percent_team',\n",
    "       'offensive_rebound_percent_team', 'free_throw_rate_team',\n",
    "       'opponent_offensive_efficiency_team',\n",
    "       'opponent_effective_fg_percent_team', 'opponent_turnover_percent_team',\n",
    "       'opponent_offensive_rebound_percent_team',\n",
    "       'opponent_free_throw_rate_team', 'adj_offense_opponent',\n",
    "       'adj_defense_opponent', 'offensive_efficiency_opponent',\n",
    "       'effective_fg_percent_opponent', 'turnover_percent_opponent',\n",
    "       'offensive_rebound_percent_opponent', 'free_throw_rate_opponent',\n",
    "       'opponent_offensive_efficiency_opponent',\n",
    "       'opponent_effective_fg_percent_opponent',\n",
    "       'opponent_turnover_percent_opponent',\n",
    "       'opponent_offensive_rebound_percent_opponent',\n",
    "       'opponent_free_throw_rate_opponent', 'win_loss_ratio',\n",
    "       'win_loss_ratio_opponent', 'conference_strength',\n",
    "       'conference_strength_opponent']"
   ]
  },
  {
   "cell_type": "code",
   "execution_count": 9,
   "metadata": {},
   "outputs": [],
   "source": [
    "predictors = data[predictor_cols]\n",
    "predictors_and_response = pd.concat([predictors, data['Win_Loss_Flag']], axis=1)"
   ]
  },
  {
   "cell_type": "code",
   "execution_count": 10,
   "metadata": {},
   "outputs": [
    {
     "data": {
      "text/plain": [
       "last_5_win_loss_ratio_opponent                 0.017472\n",
       "last_5_win_loss_ratio                         -0.017472\n",
       "vs_tourney_team_win_loss_ratio_opponent       -0.386519\n",
       "games_played_vs_tourney_team_opponent         -0.341582\n",
       "vs_tourney_team_win_loss_ratio                 0.386519\n",
       "games_played_vs_tourney_team                   0.341582\n",
       "last_10_win_loss_ratio_opponent               -0.076102\n",
       "last_10_win_loss_ratio                         0.076102\n",
       "adj_offense_team                               0.270970\n",
       "adj_defense_team                              -0.225174\n",
       "offensive_efficiency_team                      0.196490\n",
       "effective_fg_percent_team                      0.116454\n",
       "turnover_percent_team                         -0.106504\n",
       "offensive_rebound_percent_team                 0.104910\n",
       "free_throw_rate_team                          -0.066086\n",
       "opponent_offensive_efficiency_team            -0.123610\n",
       "opponent_effective_fg_percent_team            -0.112050\n",
       "opponent_turnover_percent_team                 0.033527\n",
       "opponent_offensive_rebound_percent_team       -0.001040\n",
       "opponent_free_throw_rate_team                 -0.070684\n",
       "adj_offense_opponent                          -0.270970\n",
       "adj_defense_opponent                           0.225174\n",
       "offensive_efficiency_opponent                 -0.196490\n",
       "effective_fg_percent_opponent                 -0.116454\n",
       "turnover_percent_opponent                      0.106504\n",
       "offensive_rebound_percent_opponent            -0.104910\n",
       "free_throw_rate_opponent                       0.066086\n",
       "opponent_offensive_efficiency_opponent         0.123610\n",
       "opponent_effective_fg_percent_opponent         0.112050\n",
       "opponent_turnover_percent_opponent            -0.033527\n",
       "opponent_offensive_rebound_percent_opponent    0.001040\n",
       "opponent_free_throw_rate_opponent              0.070684\n",
       "win_loss_ratio                                 0.242462\n",
       "win_loss_ratio_opponent                       -0.242462\n",
       "conference_strength                            0.260118\n",
       "conference_strength_opponent                  -0.260118\n",
       "Win_Loss_Flag                                  1.000000\n",
       "Name: Win_Loss_Flag, dtype: float64"
      ]
     },
     "execution_count": 10,
     "metadata": {},
     "output_type": "execute_result"
    }
   ],
   "source": [
    "predictors_and_response.corr(numeric_only=True)['Win_Loss_Flag']"
   ]
  },
  {
   "cell_type": "code",
   "execution_count": 11,
   "metadata": {},
   "outputs": [],
   "source": [
    "prediction_data = data[predictor_cols]\n",
    "prediction_data_normalized = (prediction_data-prediction_data.mean())/prediction_data.std()"
   ]
  },
  {
   "cell_type": "code",
   "execution_count": 12,
   "metadata": {},
   "outputs": [
    {
     "data": {
      "text/html": [
       "<div>\n",
       "<style scoped>\n",
       "    .dataframe tbody tr th:only-of-type {\n",
       "        vertical-align: middle;\n",
       "    }\n",
       "\n",
       "    .dataframe tbody tr th {\n",
       "        vertical-align: top;\n",
       "    }\n",
       "\n",
       "    .dataframe thead th {\n",
       "        text-align: right;\n",
       "    }\n",
       "</style>\n",
       "<table border=\"1\" class=\"dataframe\">\n",
       "  <thead>\n",
       "    <tr style=\"text-align: right;\">\n",
       "      <th></th>\n",
       "      <th>last_5_win_loss_ratio_opponent</th>\n",
       "      <th>last_5_win_loss_ratio</th>\n",
       "      <th>vs_tourney_team_win_loss_ratio_opponent</th>\n",
       "      <th>games_played_vs_tourney_team_opponent</th>\n",
       "      <th>vs_tourney_team_win_loss_ratio</th>\n",
       "      <th>games_played_vs_tourney_team</th>\n",
       "      <th>last_10_win_loss_ratio_opponent</th>\n",
       "      <th>last_10_win_loss_ratio</th>\n",
       "      <th>adj_offense_team</th>\n",
       "      <th>adj_defense_team</th>\n",
       "      <th>...</th>\n",
       "      <th>free_throw_rate_opponent</th>\n",
       "      <th>opponent_offensive_efficiency_opponent</th>\n",
       "      <th>opponent_effective_fg_percent_opponent</th>\n",
       "      <th>opponent_turnover_percent_opponent</th>\n",
       "      <th>opponent_offensive_rebound_percent_opponent</th>\n",
       "      <th>opponent_free_throw_rate_opponent</th>\n",
       "      <th>win_loss_ratio</th>\n",
       "      <th>win_loss_ratio_opponent</th>\n",
       "      <th>conference_strength</th>\n",
       "      <th>conference_strength_opponent</th>\n",
       "    </tr>\n",
       "  </thead>\n",
       "  <tbody>\n",
       "    <tr>\n",
       "      <th>0</th>\n",
       "      <td>1.298676</td>\n",
       "      <td>-0.436618</td>\n",
       "      <td>-2.458800</td>\n",
       "      <td>-1.938723</td>\n",
       "      <td>0.923936</td>\n",
       "      <td>1.080790</td>\n",
       "      <td>0.593551</td>\n",
       "      <td>1.195339</td>\n",
       "      <td>0.781728</td>\n",
       "      <td>-0.777899</td>\n",
       "      <td>...</td>\n",
       "      <td>-0.027956</td>\n",
       "      <td>-0.218814</td>\n",
       "      <td>0.723214</td>\n",
       "      <td>1.750846</td>\n",
       "      <td>-0.090067</td>\n",
       "      <td>1.185079</td>\n",
       "      <td>0.886114</td>\n",
       "      <td>0.472616</td>\n",
       "      <td>0.488963</td>\n",
       "      <td>-2.424154</td>\n",
       "    </tr>\n",
       "    <tr>\n",
       "      <th>1</th>\n",
       "      <td>1.298676</td>\n",
       "      <td>1.298676</td>\n",
       "      <td>-1.250680</td>\n",
       "      <td>-1.603222</td>\n",
       "      <td>0.099572</td>\n",
       "      <td>0.577538</td>\n",
       "      <td>0.593551</td>\n",
       "      <td>-0.610025</td>\n",
       "      <td>0.270563</td>\n",
       "      <td>-0.602380</td>\n",
       "      <td>...</td>\n",
       "      <td>-0.021087</td>\n",
       "      <td>-2.429990</td>\n",
       "      <td>-1.085612</td>\n",
       "      <td>3.090704</td>\n",
       "      <td>-0.053176</td>\n",
       "      <td>2.160624</td>\n",
       "      <td>-0.117158</td>\n",
       "      <td>0.784849</td>\n",
       "      <td>0.819796</td>\n",
       "      <td>-3.048200</td>\n",
       "    </tr>\n",
       "    <tr>\n",
       "      <th>2</th>\n",
       "      <td>1.298676</td>\n",
       "      <td>-3.039559</td>\n",
       "      <td>-1.250680</td>\n",
       "      <td>-1.603222</td>\n",
       "      <td>-0.042560</td>\n",
       "      <td>0.409787</td>\n",
       "      <td>0.593551</td>\n",
       "      <td>-1.211813</td>\n",
       "      <td>0.363218</td>\n",
       "      <td>0.050185</td>\n",
       "      <td>...</td>\n",
       "      <td>-0.021087</td>\n",
       "      <td>-2.429990</td>\n",
       "      <td>-1.085612</td>\n",
       "      <td>3.090704</td>\n",
       "      <td>-0.053176</td>\n",
       "      <td>2.160624</td>\n",
       "      <td>-0.268938</td>\n",
       "      <td>0.784849</td>\n",
       "      <td>0.716668</td>\n",
       "      <td>-3.048200</td>\n",
       "    </tr>\n",
       "    <tr>\n",
       "      <th>3</th>\n",
       "      <td>0.431029</td>\n",
       "      <td>-1.304265</td>\n",
       "      <td>-0.262218</td>\n",
       "      <td>-0.428966</td>\n",
       "      <td>-0.445267</td>\n",
       "      <td>-0.261216</td>\n",
       "      <td>0.593551</td>\n",
       "      <td>-0.008237</td>\n",
       "      <td>-1.173776</td>\n",
       "      <td>0.373938</td>\n",
       "      <td>...</td>\n",
       "      <td>0.879005</td>\n",
       "      <td>-0.480076</td>\n",
       "      <td>1.369108</td>\n",
       "      <td>3.862821</td>\n",
       "      <td>1.189114</td>\n",
       "      <td>2.975019</td>\n",
       "      <td>-0.285665</td>\n",
       "      <td>-0.561657</td>\n",
       "      <td>-0.651802</td>\n",
       "      <td>-1.061901</td>\n",
       "    </tr>\n",
       "    <tr>\n",
       "      <th>4</th>\n",
       "      <td>0.431029</td>\n",
       "      <td>-2.171912</td>\n",
       "      <td>-0.262218</td>\n",
       "      <td>-0.428966</td>\n",
       "      <td>-0.847973</td>\n",
       "      <td>-1.267720</td>\n",
       "      <td>0.593551</td>\n",
       "      <td>-1.211813</td>\n",
       "      <td>-1.374533</td>\n",
       "      <td>0.664585</td>\n",
       "      <td>...</td>\n",
       "      <td>0.879005</td>\n",
       "      <td>-0.480076</td>\n",
       "      <td>1.369108</td>\n",
       "      <td>3.862821</td>\n",
       "      <td>1.189114</td>\n",
       "      <td>2.975019</td>\n",
       "      <td>-0.096751</td>\n",
       "      <td>-0.561657</td>\n",
       "      <td>-1.240243</td>\n",
       "      <td>-1.061901</td>\n",
       "    </tr>\n",
       "    <tr>\n",
       "      <th>...</th>\n",
       "      <td>...</td>\n",
       "      <td>...</td>\n",
       "      <td>...</td>\n",
       "      <td>...</td>\n",
       "      <td>...</td>\n",
       "      <td>...</td>\n",
       "      <td>...</td>\n",
       "      <td>...</td>\n",
       "      <td>...</td>\n",
       "      <td>...</td>\n",
       "      <td>...</td>\n",
       "      <td>...</td>\n",
       "      <td>...</td>\n",
       "      <td>...</td>\n",
       "      <td>...</td>\n",
       "      <td>...</td>\n",
       "      <td>...</td>\n",
       "      <td>...</td>\n",
       "      <td>...</td>\n",
       "      <td>...</td>\n",
       "      <td>...</td>\n",
       "    </tr>\n",
       "    <tr>\n",
       "      <th>1237</th>\n",
       "      <td>0.431029</td>\n",
       "      <td>0.431029</td>\n",
       "      <td>0.383835</td>\n",
       "      <td>0.577538</td>\n",
       "      <td>0.762853</td>\n",
       "      <td>1.751793</td>\n",
       "      <td>-0.008237</td>\n",
       "      <td>-1.211813</td>\n",
       "      <td>0.377764</td>\n",
       "      <td>-0.947940</td>\n",
       "      <td>...</td>\n",
       "      <td>-0.728114</td>\n",
       "      <td>1.097778</td>\n",
       "      <td>1.059447</td>\n",
       "      <td>-1.059435</td>\n",
       "      <td>-0.984953</td>\n",
       "      <td>-0.738098</td>\n",
       "      <td>0.439749</td>\n",
       "      <td>0.126628</td>\n",
       "      <td>1.032009</td>\n",
       "      <td>0.304053</td>\n",
       "    </tr>\n",
       "    <tr>\n",
       "      <th>1238</th>\n",
       "      <td>1.298676</td>\n",
       "      <td>-2.171912</td>\n",
       "      <td>-0.847973</td>\n",
       "      <td>-1.267720</td>\n",
       "      <td>-0.678412</td>\n",
       "      <td>0.913039</td>\n",
       "      <td>1.195339</td>\n",
       "      <td>-1.813601</td>\n",
       "      <td>0.940021</td>\n",
       "      <td>0.633465</td>\n",
       "      <td>...</td>\n",
       "      <td>1.589487</td>\n",
       "      <td>-0.757093</td>\n",
       "      <td>-0.587191</td>\n",
       "      <td>-0.376166</td>\n",
       "      <td>-1.171240</td>\n",
       "      <td>0.360630</td>\n",
       "      <td>-0.747933</td>\n",
       "      <td>0.397249</td>\n",
       "      <td>0.978324</td>\n",
       "      <td>-0.831459</td>\n",
       "    </tr>\n",
       "    <tr>\n",
       "      <th>1239</th>\n",
       "      <td>1.298676</td>\n",
       "      <td>-0.436618</td>\n",
       "      <td>-0.847973</td>\n",
       "      <td>-1.267720</td>\n",
       "      <td>0.084611</td>\n",
       "      <td>0.913039</td>\n",
       "      <td>1.195339</td>\n",
       "      <td>-0.008237</td>\n",
       "      <td>1.555440</td>\n",
       "      <td>0.590869</td>\n",
       "      <td>...</td>\n",
       "      <td>1.589487</td>\n",
       "      <td>-0.757093</td>\n",
       "      <td>-0.587191</td>\n",
       "      <td>-0.376166</td>\n",
       "      <td>-1.171240</td>\n",
       "      <td>0.360630</td>\n",
       "      <td>-0.203890</td>\n",
       "      <td>0.397249</td>\n",
       "      <td>0.867352</td>\n",
       "      <td>-0.831459</td>\n",
       "    </tr>\n",
       "    <tr>\n",
       "      <th>1240</th>\n",
       "      <td>-0.436618</td>\n",
       "      <td>0.431029</td>\n",
       "      <td>-1.250680</td>\n",
       "      <td>-1.603222</td>\n",
       "      <td>0.647794</td>\n",
       "      <td>0.074286</td>\n",
       "      <td>-0.008237</td>\n",
       "      <td>0.593551</td>\n",
       "      <td>0.928993</td>\n",
       "      <td>0.146119</td>\n",
       "      <td>...</td>\n",
       "      <td>-0.835667</td>\n",
       "      <td>0.485884</td>\n",
       "      <td>-0.231658</td>\n",
       "      <td>-1.579289</td>\n",
       "      <td>-1.206135</td>\n",
       "      <td>-0.164498</td>\n",
       "      <td>0.784849</td>\n",
       "      <td>0.074249</td>\n",
       "      <td>0.488963</td>\n",
       "      <td>-0.546548</td>\n",
       "    </tr>\n",
       "    <tr>\n",
       "      <th>1241</th>\n",
       "      <td>1.298676</td>\n",
       "      <td>-0.436618</td>\n",
       "      <td>-2.458800</td>\n",
       "      <td>-1.435471</td>\n",
       "      <td>0.616415</td>\n",
       "      <td>1.416292</td>\n",
       "      <td>0.593551</td>\n",
       "      <td>-0.008237</td>\n",
       "      <td>1.631011</td>\n",
       "      <td>0.235782</td>\n",
       "      <td>...</td>\n",
       "      <td>-0.426718</td>\n",
       "      <td>0.165352</td>\n",
       "      <td>0.294914</td>\n",
       "      <td>-0.358300</td>\n",
       "      <td>-0.486648</td>\n",
       "      <td>0.015289</td>\n",
       "      <td>0.632952</td>\n",
       "      <td>-1.088551</td>\n",
       "      <td>0.705605</td>\n",
       "      <td>-1.416934</td>\n",
       "    </tr>\n",
       "  </tbody>\n",
       "</table>\n",
       "<p>1242 rows × 36 columns</p>\n",
       "</div>"
      ],
      "text/plain": [
       "      last_5_win_loss_ratio_opponent  last_5_win_loss_ratio  \\\n",
       "0                           1.298676              -0.436618   \n",
       "1                           1.298676               1.298676   \n",
       "2                           1.298676              -3.039559   \n",
       "3                           0.431029              -1.304265   \n",
       "4                           0.431029              -2.171912   \n",
       "...                              ...                    ...   \n",
       "1237                        0.431029               0.431029   \n",
       "1238                        1.298676              -2.171912   \n",
       "1239                        1.298676              -0.436618   \n",
       "1240                       -0.436618               0.431029   \n",
       "1241                        1.298676              -0.436618   \n",
       "\n",
       "      vs_tourney_team_win_loss_ratio_opponent  \\\n",
       "0                                   -2.458800   \n",
       "1                                   -1.250680   \n",
       "2                                   -1.250680   \n",
       "3                                   -0.262218   \n",
       "4                                   -0.262218   \n",
       "...                                       ...   \n",
       "1237                                 0.383835   \n",
       "1238                                -0.847973   \n",
       "1239                                -0.847973   \n",
       "1240                                -1.250680   \n",
       "1241                                -2.458800   \n",
       "\n",
       "      games_played_vs_tourney_team_opponent  vs_tourney_team_win_loss_ratio  \\\n",
       "0                                 -1.938723                        0.923936   \n",
       "1                                 -1.603222                        0.099572   \n",
       "2                                 -1.603222                       -0.042560   \n",
       "3                                 -0.428966                       -0.445267   \n",
       "4                                 -0.428966                       -0.847973   \n",
       "...                                     ...                             ...   \n",
       "1237                               0.577538                        0.762853   \n",
       "1238                              -1.267720                       -0.678412   \n",
       "1239                              -1.267720                        0.084611   \n",
       "1240                              -1.603222                        0.647794   \n",
       "1241                              -1.435471                        0.616415   \n",
       "\n",
       "      games_played_vs_tourney_team  last_10_win_loss_ratio_opponent  \\\n",
       "0                         1.080790                         0.593551   \n",
       "1                         0.577538                         0.593551   \n",
       "2                         0.409787                         0.593551   \n",
       "3                        -0.261216                         0.593551   \n",
       "4                        -1.267720                         0.593551   \n",
       "...                            ...                              ...   \n",
       "1237                      1.751793                        -0.008237   \n",
       "1238                      0.913039                         1.195339   \n",
       "1239                      0.913039                         1.195339   \n",
       "1240                      0.074286                        -0.008237   \n",
       "1241                      1.416292                         0.593551   \n",
       "\n",
       "      last_10_win_loss_ratio  adj_offense_team  adj_defense_team  ...  \\\n",
       "0                   1.195339          0.781728         -0.777899  ...   \n",
       "1                  -0.610025          0.270563         -0.602380  ...   \n",
       "2                  -1.211813          0.363218          0.050185  ...   \n",
       "3                  -0.008237         -1.173776          0.373938  ...   \n",
       "4                  -1.211813         -1.374533          0.664585  ...   \n",
       "...                      ...               ...               ...  ...   \n",
       "1237               -1.211813          0.377764         -0.947940  ...   \n",
       "1238               -1.813601          0.940021          0.633465  ...   \n",
       "1239               -0.008237          1.555440          0.590869  ...   \n",
       "1240                0.593551          0.928993          0.146119  ...   \n",
       "1241               -0.008237          1.631011          0.235782  ...   \n",
       "\n",
       "      free_throw_rate_opponent  opponent_offensive_efficiency_opponent  \\\n",
       "0                    -0.027956                               -0.218814   \n",
       "1                    -0.021087                               -2.429990   \n",
       "2                    -0.021087                               -2.429990   \n",
       "3                     0.879005                               -0.480076   \n",
       "4                     0.879005                               -0.480076   \n",
       "...                        ...                                     ...   \n",
       "1237                 -0.728114                                1.097778   \n",
       "1238                  1.589487                               -0.757093   \n",
       "1239                  1.589487                               -0.757093   \n",
       "1240                 -0.835667                                0.485884   \n",
       "1241                 -0.426718                                0.165352   \n",
       "\n",
       "      opponent_effective_fg_percent_opponent  \\\n",
       "0                                   0.723214   \n",
       "1                                  -1.085612   \n",
       "2                                  -1.085612   \n",
       "3                                   1.369108   \n",
       "4                                   1.369108   \n",
       "...                                      ...   \n",
       "1237                                1.059447   \n",
       "1238                               -0.587191   \n",
       "1239                               -0.587191   \n",
       "1240                               -0.231658   \n",
       "1241                                0.294914   \n",
       "\n",
       "      opponent_turnover_percent_opponent  \\\n",
       "0                               1.750846   \n",
       "1                               3.090704   \n",
       "2                               3.090704   \n",
       "3                               3.862821   \n",
       "4                               3.862821   \n",
       "...                                  ...   \n",
       "1237                           -1.059435   \n",
       "1238                           -0.376166   \n",
       "1239                           -0.376166   \n",
       "1240                           -1.579289   \n",
       "1241                           -0.358300   \n",
       "\n",
       "      opponent_offensive_rebound_percent_opponent  \\\n",
       "0                                       -0.090067   \n",
       "1                                       -0.053176   \n",
       "2                                       -0.053176   \n",
       "3                                        1.189114   \n",
       "4                                        1.189114   \n",
       "...                                           ...   \n",
       "1237                                    -0.984953   \n",
       "1238                                    -1.171240   \n",
       "1239                                    -1.171240   \n",
       "1240                                    -1.206135   \n",
       "1241                                    -0.486648   \n",
       "\n",
       "      opponent_free_throw_rate_opponent  win_loss_ratio  \\\n",
       "0                              1.185079        0.886114   \n",
       "1                              2.160624       -0.117158   \n",
       "2                              2.160624       -0.268938   \n",
       "3                              2.975019       -0.285665   \n",
       "4                              2.975019       -0.096751   \n",
       "...                                 ...             ...   \n",
       "1237                          -0.738098        0.439749   \n",
       "1238                           0.360630       -0.747933   \n",
       "1239                           0.360630       -0.203890   \n",
       "1240                          -0.164498        0.784849   \n",
       "1241                           0.015289        0.632952   \n",
       "\n",
       "      win_loss_ratio_opponent  conference_strength  \\\n",
       "0                    0.472616             0.488963   \n",
       "1                    0.784849             0.819796   \n",
       "2                    0.784849             0.716668   \n",
       "3                   -0.561657            -0.651802   \n",
       "4                   -0.561657            -1.240243   \n",
       "...                       ...                  ...   \n",
       "1237                 0.126628             1.032009   \n",
       "1238                 0.397249             0.978324   \n",
       "1239                 0.397249             0.867352   \n",
       "1240                 0.074249             0.488963   \n",
       "1241                -1.088551             0.705605   \n",
       "\n",
       "      conference_strength_opponent  \n",
       "0                        -2.424154  \n",
       "1                        -3.048200  \n",
       "2                        -3.048200  \n",
       "3                        -1.061901  \n",
       "4                        -1.061901  \n",
       "...                            ...  \n",
       "1237                      0.304053  \n",
       "1238                     -0.831459  \n",
       "1239                     -0.831459  \n",
       "1240                     -0.546548  \n",
       "1241                     -1.416934  \n",
       "\n",
       "[1242 rows x 36 columns]"
      ]
     },
     "execution_count": 12,
     "metadata": {},
     "output_type": "execute_result"
    }
   ],
   "source": [
    "prediction_data_normalized"
   ]
  },
  {
   "cell_type": "code",
   "execution_count": 13,
   "metadata": {},
   "outputs": [],
   "source": [
    "from sklearn.linear_model import LogisticRegression\n",
    "clf = LogisticRegression(random_state=0).fit(prediction_data_normalized, data['Win_Loss_Flag'])"
   ]
  },
  {
   "cell_type": "code",
   "execution_count": 14,
   "metadata": {},
   "outputs": [],
   "source": [
    "linreg_no_val_predictions = clf.predict(prediction_data_normalized)"
   ]
  },
  {
   "cell_type": "code",
   "execution_count": 15,
   "metadata": {},
   "outputs": [
    {
     "data": {
      "text/plain": [
       "<sklearn.metrics._plot.confusion_matrix.ConfusionMatrixDisplay at 0x13b959cbc70>"
      ]
     },
     "execution_count": 15,
     "metadata": {},
     "output_type": "execute_result"
    },
    {
     "data": {
      "image/png": "[encoded data removed]",
      "text/plain": [
       "<Figure size 640x480 with 2 Axes>"
      ]
     },
     "metadata": {},
     "output_type": "display_data"
    }
   ],
   "source": [
    "sklearn.metrics.ConfusionMatrixDisplay(sklearn.metrics.confusion_matrix(data['Win_Loss_Flag'], linreg_no_val_predictions)).plot()"
   ]
  },
  {
   "cell_type": "code",
   "execution_count": 20,
   "metadata": {},
   "outputs": [
    {
     "data": {
      "text/plain": [
       "0.7600644122383253"
      ]
     },
     "execution_count": 20,
     "metadata": {},
     "output_type": "execute_result"
    }
   ],
   "source": [
    "(469+475)/(469+475+152+146)"
   ]
  },
  {
   "cell_type": "code",
   "execution_count": 19,
   "metadata": {},
   "outputs": [
    {
     "data": {
      "text/plain": [
       "<sklearn.metrics._plot.confusion_matrix.ConfusionMatrixDisplay at 0x13b959cbbb0>"
      ]
     },
     "execution_count": 19,
     "metadata": {},
     "output_type": "execute_result"
    },
    {
     "data": {
      "image/png": "[encoded data removed]",
      "text/plain": [
       "<Figure size 640x480 with 2 Axes>"
      ]
     },
     "metadata": {},
     "output_type": "display_data"
    }
   ],
   "source": [
    "from sklearn.neural_network import MLPClassifier\n",
    "cms = proper_cross_validation(LogisticRegression(random_state=0), prediction_data_normalized, data['Win_Loss_Flag'])\n",
    "sklearn.metrics.ConfusionMatrixDisplay(cms).plot()"
   ]
  },
  {
   "cell_type": "code",
   "execution_count": 21,
   "metadata": {},
   "outputs": [
    {
     "data": {
      "text/plain": [
       "<sklearn.metrics._plot.confusion_matrix.ConfusionMatrixDisplay at 0x13b99ebb970>"
      ]
     },
     "execution_count": 21,
     "metadata": {},
     "output_type": "execute_result"
    },
    {
     "data": {
      "image/png": "[encoded data removed]",
      "text/plain": [
       "<Figure size 640x480 with 2 Axes>"
      ]
     },
     "metadata": {},
     "output_type": "display_data"
    }
   ],
   "source": [
    "cms = proper_cross_validation(LogisticRegression(), prediction_data_normalized, data['Win_Loss_Flag'])\n",
    "sklearn.metrics.ConfusionMatrixDisplay(cms).plot()"
   ]
  },
  {
   "cell_type": "markdown",
   "metadata": {},
   "source": [
    "The logistic regression model with V4 data is 76% accurate in cross validation. This is better than every bracket in the league from my dad's work (pool of 22, best was 41/63 games right). I could try to engineer more features here, but this is probably good enough. "
   ]
  },
  {
   "cell_type": "code",
   "execution_count": 22,
   "metadata": {},
   "outputs": [
    {
     "data": {
      "text/plain": [
       "<sklearn.metrics._plot.confusion_matrix.ConfusionMatrixDisplay at 0x13b9a08ab90>"
      ]
     },
     "execution_count": 22,
     "metadata": {},
     "output_type": "execute_result"
    },
    {
     "data": {
      "image/png": "[encoded data removed]",
      "text/plain": [
       "<Figure size 640x480 with 2 Axes>"
      ]
     },
     "metadata": {},
     "output_type": "display_data"
    }
   ],
   "source": [
    "cms = proper_cross_validation(MLPClassifier(hidden_layer_sizes=[50,50], max_iter=3000), prediction_data_normalized, data['Win_Loss_Flag'])\n",
    "sklearn.metrics.ConfusionMatrixDisplay(cms).plot()"
   ]
  },
  {
   "cell_type": "code",
   "execution_count": 25,
   "metadata": {},
   "outputs": [
    {
     "data": {
      "text/plain": [
       "<sklearn.metrics._plot.confusion_matrix.ConfusionMatrixDisplay at 0x13b9c483be0>"
      ]
     },
     "execution_count": 25,
     "metadata": {},
     "output_type": "execute_result"
    },
    {
     "data": {
      "image/png": "[encoded data removed]",
      "text/plain": [
       "<Figure size 640x480 with 2 Axes>"
      ]
     },
     "metadata": {},
     "output_type": "display_data"
    }
   ],
   "source": [
    "from sklearn.ensemble import RandomForestClassifier\n",
    "cms = proper_cross_validation(LogisticRegression(), prediction_data_normalized, data['Win_Loss_Flag'])\n",
    "sklearn.metrics.ConfusionMatrixDisplay(cms).plot()"
   ]
  },
  {
   "cell_type": "code",
   "execution_count": 63,
   "metadata": {},
   "outputs": [
    {
     "data": {
      "text/html": [
       "<div>\n",
       "<style scoped>\n",
       "    .dataframe tbody tr th:only-of-type {\n",
       "        vertical-align: middle;\n",
       "    }\n",
       "\n",
       "    .dataframe tbody tr th {\n",
       "        vertical-align: top;\n",
       "    }\n",
       "\n",
       "    .dataframe thead th {\n",
       "        text-align: right;\n",
       "    }\n",
       "</style>\n",
       "<table border=\"1\" class=\"dataframe\">\n",
       "  <thead>\n",
       "    <tr style=\"text-align: right;\">\n",
       "      <th></th>\n",
       "      <th>0</th>\n",
       "      <th>1</th>\n",
       "      <th>2</th>\n",
       "      <th>3</th>\n",
       "      <th>4</th>\n",
       "      <th>5</th>\n",
       "      <th>6</th>\n",
       "      <th>7</th>\n",
       "    </tr>\n",
       "  </thead>\n",
       "  <tbody>\n",
       "    <tr>\n",
       "      <th>0</th>\n",
       "      <td>0.170340</td>\n",
       "      <td>-3.888789</td>\n",
       "      <td>1.206812</td>\n",
       "      <td>-0.993546</td>\n",
       "      <td>2.525121</td>\n",
       "      <td>2.351915</td>\n",
       "      <td>-0.143385</td>\n",
       "      <td>1.211493</td>\n",
       "    </tr>\n",
       "    <tr>\n",
       "      <th>1</th>\n",
       "      <td>0.509959</td>\n",
       "      <td>-1.453768</td>\n",
       "      <td>3.438238</td>\n",
       "      <td>1.387529</td>\n",
       "      <td>3.494086</td>\n",
       "      <td>2.030893</td>\n",
       "      <td>0.961254</td>\n",
       "      <td>1.206483</td>\n",
       "    </tr>\n",
       "    <tr>\n",
       "      <th>2</th>\n",
       "      <td>1.374016</td>\n",
       "      <td>-1.057081</td>\n",
       "      <td>1.738747</td>\n",
       "      <td>2.703343</td>\n",
       "      <td>5.386657</td>\n",
       "      <td>0.431619</td>\n",
       "      <td>1.109657</td>\n",
       "      <td>1.614596</td>\n",
       "    </tr>\n",
       "    <tr>\n",
       "      <th>3</th>\n",
       "      <td>3.224277</td>\n",
       "      <td>-0.986238</td>\n",
       "      <td>3.017765</td>\n",
       "      <td>1.217350</td>\n",
       "      <td>0.930284</td>\n",
       "      <td>0.418903</td>\n",
       "      <td>-0.760613</td>\n",
       "      <td>2.154885</td>\n",
       "    </tr>\n",
       "    <tr>\n",
       "      <th>4</th>\n",
       "      <td>3.687896</td>\n",
       "      <td>-0.738947</td>\n",
       "      <td>1.598456</td>\n",
       "      <td>2.698713</td>\n",
       "      <td>1.004144</td>\n",
       "      <td>0.330104</td>\n",
       "      <td>0.116781</td>\n",
       "      <td>2.809941</td>\n",
       "    </tr>\n",
       "    <tr>\n",
       "      <th>...</th>\n",
       "      <td>...</td>\n",
       "      <td>...</td>\n",
       "      <td>...</td>\n",
       "      <td>...</td>\n",
       "      <td>...</td>\n",
       "      <td>...</td>\n",
       "      <td>...</td>\n",
       "      <td>...</td>\n",
       "    </tr>\n",
       "    <tr>\n",
       "      <th>1237</th>\n",
       "      <td>-1.510880</td>\n",
       "      <td>-0.084885</td>\n",
       "      <td>-1.374282</td>\n",
       "      <td>-2.530306</td>\n",
       "      <td>0.299249</td>\n",
       "      <td>-1.263066</td>\n",
       "      <td>-0.077207</td>\n",
       "      <td>-0.585402</td>\n",
       "    </tr>\n",
       "    <tr>\n",
       "      <th>1238</th>\n",
       "      <td>0.636074</td>\n",
       "      <td>0.566975</td>\n",
       "      <td>1.526491</td>\n",
       "      <td>0.094819</td>\n",
       "      <td>4.284270</td>\n",
       "      <td>0.092792</td>\n",
       "      <td>-2.128431</td>\n",
       "      <td>-1.103939</td>\n",
       "    </tr>\n",
       "    <tr>\n",
       "      <th>1239</th>\n",
       "      <td>-0.877716</td>\n",
       "      <td>-0.997131</td>\n",
       "      <td>-0.081168</td>\n",
       "      <td>1.804590</td>\n",
       "      <td>3.703601</td>\n",
       "      <td>1.276340</td>\n",
       "      <td>-2.284637</td>\n",
       "      <td>-1.743079</td>\n",
       "    </tr>\n",
       "    <tr>\n",
       "      <th>1240</th>\n",
       "      <td>0.254253</td>\n",
       "      <td>-1.238615</td>\n",
       "      <td>-1.051433</td>\n",
       "      <td>-2.198225</td>\n",
       "      <td>0.952858</td>\n",
       "      <td>1.152928</td>\n",
       "      <td>-0.379510</td>\n",
       "      <td>-2.443272</td>\n",
       "    </tr>\n",
       "    <tr>\n",
       "      <th>1241</th>\n",
       "      <td>0.814540</td>\n",
       "      <td>-4.495371</td>\n",
       "      <td>-1.749669</td>\n",
       "      <td>1.226303</td>\n",
       "      <td>2.719500</td>\n",
       "      <td>0.990910</td>\n",
       "      <td>0.872319</td>\n",
       "      <td>-0.362732</td>\n",
       "    </tr>\n",
       "  </tbody>\n",
       "</table>\n",
       "<p>1242 rows × 8 columns</p>\n",
       "</div>"
      ],
      "text/plain": [
       "             0         1         2         3         4         5         6  \\\n",
       "0     0.170340 -3.888789  1.206812 -0.993546  2.525121  2.351915 -0.143385   \n",
       "1     0.509959 -1.453768  3.438238  1.387529  3.494086  2.030893  0.961254   \n",
       "2     1.374016 -1.057081  1.738747  2.703343  5.386657  0.431619  1.109657   \n",
       "3     3.224277 -0.986238  3.017765  1.217350  0.930284  0.418903 -0.760613   \n",
       "4     3.687896 -0.738947  1.598456  2.698713  1.004144  0.330104  0.116781   \n",
       "...        ...       ...       ...       ...       ...       ...       ...   \n",
       "1237 -1.510880 -0.084885 -1.374282 -2.530306  0.299249 -1.263066 -0.077207   \n",
       "1238  0.636074  0.566975  1.526491  0.094819  4.284270  0.092792 -2.128431   \n",
       "1239 -0.877716 -0.997131 -0.081168  1.804590  3.703601  1.276340 -2.284637   \n",
       "1240  0.254253 -1.238615 -1.051433 -2.198225  0.952858  1.152928 -0.379510   \n",
       "1241  0.814540 -4.495371 -1.749669  1.226303  2.719500  0.990910  0.872319   \n",
       "\n",
       "             7  \n",
       "0     1.211493  \n",
       "1     1.206483  \n",
       "2     1.614596  \n",
       "3     2.154885  \n",
       "4     2.809941  \n",
       "...        ...  \n",
       "1237 -0.585402  \n",
       "1238 -1.103939  \n",
       "1239 -1.743079  \n",
       "1240 -2.443272  \n",
       "1241 -0.362732  \n",
       "\n",
       "[1242 rows x 8 columns]"
      ]
     },
     "execution_count": 63,
     "metadata": {},
     "output_type": "execute_result"
    }
   ],
   "source": [
    "from sklearn.decomposition import PCA\n",
    "pca = PCA(n_components=8)\n",
    "pca.fit(prediction_data_normalized)\n",
    "pd.DataFrame(pca.transform(prediction_data_normalized))"
   ]
  },
  {
   "cell_type": "code",
   "execution_count": 65,
   "metadata": {},
   "outputs": [
    {
     "data": {
      "text/plain": [
       "0.7560386473429952"
      ]
     },
     "execution_count": 65,
     "metadata": {},
     "output_type": "execute_result"
    }
   ],
   "source": [
    "(465+474)/(465+474+156+147)"
   ]
  },
  {
   "cell_type": "code",
   "execution_count": 64,
   "metadata": {},
   "outputs": [
    {
     "data": {
      "text/plain": [
       "<sklearn.metrics._plot.confusion_matrix.ConfusionMatrixDisplay at 0x13b9f141900>"
      ]
     },
     "execution_count": 64,
     "metadata": {},
     "output_type": "execute_result"
    },
    {
     "data": {
      "image/png": "[encoded data removed]",
      "text/plain": [
       "<Figure size 640x480 with 2 Axes>"
      ]
     },
     "metadata": {},
     "output_type": "display_data"
    }
   ],
   "source": [
    "from sklearn.ensemble import AdaBoostClassifier\n",
    "cms = proper_cross_validation(LogisticRegression(), pd.DataFrame(pca.transform(prediction_data_normalized)), data['Win_Loss_Flag'])\n",
    "sklearn.metrics.ConfusionMatrixDisplay(cms).plot()"
   ]
  },
  {
   "cell_type": "code",
   "execution_count": 63,
   "metadata": {},
   "outputs": [
    {
     "data": {
      "text/plain": [
       "0.6892109500805152"
      ]
     },
     "execution_count": 63,
     "metadata": {},
     "output_type": "execute_result"
    }
   ],
   "source": [
    "(426+430)/1242"
   ]
  }
 ],
 "metadata": {
  "kernelspec": {
   "display_name": ".venv",
   "language": "python",
   "name": "python3"
  },
  "language_info": {
   "codemirror_mode": {
    "name": "ipython",
    "version": 3
   },
   "file_extension": ".py",
   "mimetype": "text/x-python",
   "name": "python",
   "nbconvert_exporter": "python",
   "pygments_lexer": "ipython3",
   "version": "3.10.6"
  },
  "orig_nbformat": 4
 },
 "nbformat": 4,
 "nbformat_minor": 2
}
