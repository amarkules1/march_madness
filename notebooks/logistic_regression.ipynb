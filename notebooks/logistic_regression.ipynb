{
 "cells": [
  {
   "cell_type": "code",
   "execution_count": 71,
   "metadata": {},
   "outputs": [],
   "source": [
    "import os\n",
    "import pandas as pd\n",
    "import sqlalchemy\n",
    "import sklearn\n",
    "from dotenv import load_dotenv, find_dotenv\n",
    "_ = load_dotenv(find_dotenv())\n",
    "\n",
    "connection_string = os.getenv(\"LINODE_CONN_STRING\")\n",
    "connection_string = os.getenv(\"LINODE_CONN_STRING\")\n",
    "conn = sqlalchemy.create_engine(os.getenv(\"LINODE_CONN_STRING\")).connect()"
   ]
  },
  {
   "cell_type": "code",
   "execution_count": 72,
   "metadata": {},
   "outputs": [],
   "source": [
    "data = pd.read_sql(\"select * from sports_data.tourney_games_with_season_stats\", conn)"
   ]
  },
  {
   "cell_type": "code",
   "execution_count": 73,
   "metadata": {},
   "outputs": [],
   "source": [
    "data['Win_Loss_Flag'] = data['Win_Loss'].apply(lambda x: 1 if x == 'W' else 0)"
   ]
  },
  {
   "cell_type": "code",
   "execution_count": 74,
   "metadata": {},
   "outputs": [],
   "source": [
    "predictor_columns = data.columns[8:-1]\n",
    "predictors = data[predictor_columns]\n",
    "predictors_and_response = pd.concat([predictors, data['Win_Loss_Flag']], axis=1)"
   ]
  },
  {
   "cell_type": "code",
   "execution_count": 75,
   "metadata": {},
   "outputs": [
    {
     "data": {
      "text/plain": [
       "Win_Loss_Flag                                  1.000000\n",
       "adj_offense_team                               0.270970\n",
       "adj_defense_opponent                           0.225174\n",
       "offensive_efficiency_team                      0.196490\n",
       "opponent_offensive_efficiency_opponent         0.123610\n",
       "effective_fg_percent_team                      0.116454\n",
       "opponent_effective_fg_percent_opponent         0.112050\n",
       "turnover_percent_opponent                      0.106504\n",
       "offensive_rebound_percent_team                 0.104910\n",
       "opponent_free_throw_rate_opponent              0.070684\n",
       "free_throw_rate_opponent                       0.066086\n",
       "opponent_turnover_percent_team                 0.033527\n",
       "opponent_offensive_rebound_percent_opponent    0.001040\n",
       "opponent_offensive_rebound_percent_team       -0.001040\n",
       "opponent_turnover_percent_opponent            -0.033527\n",
       "free_throw_rate_team                          -0.066086\n",
       "opponent_free_throw_rate_team                 -0.070684\n",
       "offensive_rebound_percent_opponent            -0.104910\n",
       "turnover_percent_team                         -0.106504\n",
       "opponent_effective_fg_percent_team            -0.112050\n",
       "effective_fg_percent_opponent                 -0.116454\n",
       "opponent_offensive_efficiency_team            -0.123610\n",
       "offensive_efficiency_opponent                 -0.196490\n",
       "adj_defense_team                              -0.225174\n",
       "adj_offense_opponent                          -0.270970\n",
       "Name: Win_Loss_Flag, dtype: float64"
      ]
     },
     "execution_count": 75,
     "metadata": {},
     "output_type": "execute_result"
    }
   ],
   "source": [
    "predictors_and_response.corr(numeric_only=True)['Win_Loss_Flag'].sort_values(ascending=False)"
   ]
  },
  {
   "cell_type": "code",
   "execution_count": 76,
   "metadata": {},
   "outputs": [],
   "source": [
    "corrs = predictors_and_response.corr(numeric_only=True)['Win_Loss_Flag']\n",
    "corrs = corrs[corrs > 0.02]\n",
    "corrs = corrs[corrs.index != 'Win_Loss_Flag']\n",
    "effective_predictors = corrs.index.tolist()"
   ]
  },
  {
   "cell_type": "code",
   "execution_count": 77,
   "metadata": {},
   "outputs": [
    {
     "data": {
      "text/plain": [
       "11"
      ]
     },
     "execution_count": 77,
     "metadata": {},
     "output_type": "execute_result"
    }
   ],
   "source": [
    "len(effective_predictors)"
   ]
  },
  {
   "cell_type": "code",
   "execution_count": 78,
   "metadata": {},
   "outputs": [],
   "source": [
    "prediction_data = data[effective_predictors]\n",
    "prediction_data_normalized = (prediction_data-prediction_data.mean())/prediction_data.std()"
   ]
  },
  {
   "cell_type": "code",
   "execution_count": 79,
   "metadata": {},
   "outputs": [
    {
     "data": {
      "text/html": [
       "<div>\n",
       "<style scoped>\n",
       "    .dataframe tbody tr th:only-of-type {\n",
       "        vertical-align: middle;\n",
       "    }\n",
       "\n",
       "    .dataframe tbody tr th {\n",
       "        vertical-align: top;\n",
       "    }\n",
       "\n",
       "    .dataframe thead th {\n",
       "        text-align: right;\n",
       "    }\n",
       "</style>\n",
       "<table border=\"1\" class=\"dataframe\">\n",
       "  <thead>\n",
       "    <tr style=\"text-align: right;\">\n",
       "      <th></th>\n",
       "      <th>adj_offense_team</th>\n",
       "      <th>offensive_efficiency_team</th>\n",
       "      <th>effective_fg_percent_team</th>\n",
       "      <th>offensive_rebound_percent_team</th>\n",
       "      <th>opponent_turnover_percent_team</th>\n",
       "      <th>adj_defense_opponent</th>\n",
       "      <th>turnover_percent_opponent</th>\n",
       "      <th>free_throw_rate_opponent</th>\n",
       "      <th>opponent_offensive_efficiency_opponent</th>\n",
       "      <th>opponent_effective_fg_percent_opponent</th>\n",
       "      <th>opponent_free_throw_rate_opponent</th>\n",
       "    </tr>\n",
       "  </thead>\n",
       "  <tbody>\n",
       "    <tr>\n",
       "      <th>0</th>\n",
       "      <td>-0.927835</td>\n",
       "      <td>-1.624681</td>\n",
       "      <td>-1.649647</td>\n",
       "      <td>-0.387095</td>\n",
       "      <td>0.617680</td>\n",
       "      <td>-0.591715</td>\n",
       "      <td>-0.114575</td>\n",
       "      <td>-0.058197</td>\n",
       "      <td>-0.464621</td>\n",
       "      <td>0.068223</td>\n",
       "      <td>-0.223741</td>\n",
       "    </tr>\n",
       "    <tr>\n",
       "      <th>1</th>\n",
       "      <td>-0.212381</td>\n",
       "      <td>-0.766889</td>\n",
       "      <td>-0.859129</td>\n",
       "      <td>0.315748</td>\n",
       "      <td>1.201215</td>\n",
       "      <td>-0.385921</td>\n",
       "      <td>-0.239694</td>\n",
       "      <td>-0.604433</td>\n",
       "      <td>-0.172103</td>\n",
       "      <td>-0.505183</td>\n",
       "      <td>0.359243</td>\n",
       "    </tr>\n",
       "    <tr>\n",
       "      <th>2</th>\n",
       "      <td>-0.195177</td>\n",
       "      <td>-0.715680</td>\n",
       "      <td>-0.196766</td>\n",
       "      <td>-0.101264</td>\n",
       "      <td>0.512527</td>\n",
       "      <td>-0.642958</td>\n",
       "      <td>0.836021</td>\n",
       "      <td>-0.578729</td>\n",
       "      <td>-0.571980</td>\n",
       "      <td>-0.983478</td>\n",
       "      <td>1.185184</td>\n",
       "    </tr>\n",
       "    <tr>\n",
       "      <th>3</th>\n",
       "      <td>1.053736</td>\n",
       "      <td>0.897114</td>\n",
       "      <td>0.248055</td>\n",
       "      <td>1.953495</td>\n",
       "      <td>0.069976</td>\n",
       "      <td>-0.749431</td>\n",
       "      <td>0.594703</td>\n",
       "      <td>0.817571</td>\n",
       "      <td>-0.412882</td>\n",
       "      <td>-0.499381</td>\n",
       "      <td>1.303525</td>\n",
       "    </tr>\n",
       "    <tr>\n",
       "      <th>4</th>\n",
       "      <td>-0.195177</td>\n",
       "      <td>-0.715680</td>\n",
       "      <td>-0.196766</td>\n",
       "      <td>-0.101264</td>\n",
       "      <td>0.512527</td>\n",
       "      <td>-0.790995</td>\n",
       "      <td>0.111636</td>\n",
       "      <td>-0.887965</td>\n",
       "      <td>-0.300158</td>\n",
       "      <td>-0.272603</td>\n",
       "      <td>-0.055341</td>\n",
       "    </tr>\n",
       "    <tr>\n",
       "      <th>...</th>\n",
       "      <td>...</td>\n",
       "      <td>...</td>\n",
       "      <td>...</td>\n",
       "      <td>...</td>\n",
       "      <td>...</td>\n",
       "      <td>...</td>\n",
       "      <td>...</td>\n",
       "      <td>...</td>\n",
       "      <td>...</td>\n",
       "      <td>...</td>\n",
       "      <td>...</td>\n",
       "    </tr>\n",
       "    <tr>\n",
       "      <th>1237</th>\n",
       "      <td>-1.426319</td>\n",
       "      <td>-0.604308</td>\n",
       "      <td>-0.281490</td>\n",
       "      <td>-0.531916</td>\n",
       "      <td>0.416185</td>\n",
       "      <td>0.157309</td>\n",
       "      <td>-0.374213</td>\n",
       "      <td>0.576946</td>\n",
       "      <td>0.324425</td>\n",
       "      <td>0.265386</td>\n",
       "      <td>1.252496</td>\n",
       "    </tr>\n",
       "    <tr>\n",
       "      <th>1238</th>\n",
       "      <td>0.367438</td>\n",
       "      <td>0.559941</td>\n",
       "      <td>1.489443</td>\n",
       "      <td>-1.255623</td>\n",
       "      <td>0.119701</td>\n",
       "      <td>0.328140</td>\n",
       "      <td>0.726266</td>\n",
       "      <td>1.420357</td>\n",
       "      <td>-0.523980</td>\n",
       "      <td>-0.440797</td>\n",
       "      <td>-0.824305</td>\n",
       "    </tr>\n",
       "    <tr>\n",
       "      <th>1239</th>\n",
       "      <td>-1.387000</td>\n",
       "      <td>-1.206570</td>\n",
       "      <td>-0.153137</td>\n",
       "      <td>-2.031117</td>\n",
       "      <td>-0.428632</td>\n",
       "      <td>-0.632140</td>\n",
       "      <td>0.312622</td>\n",
       "      <td>1.204664</td>\n",
       "      <td>-1.084201</td>\n",
       "      <td>-1.145650</td>\n",
       "      <td>-0.827130</td>\n",
       "    </tr>\n",
       "    <tr>\n",
       "      <th>1240</th>\n",
       "      <td>0.519922</td>\n",
       "      <td>0.775015</td>\n",
       "      <td>0.189707</td>\n",
       "      <td>0.712305</td>\n",
       "      <td>0.844513</td>\n",
       "      <td>0.025232</td>\n",
       "      <td>0.429733</td>\n",
       "      <td>0.886730</td>\n",
       "      <td>0.583046</td>\n",
       "      <td>0.949030</td>\n",
       "      <td>0.558894</td>\n",
       "    </tr>\n",
       "    <tr>\n",
       "      <th>1241</th>\n",
       "      <td>0.451776</td>\n",
       "      <td>-0.039776</td>\n",
       "      <td>0.234877</td>\n",
       "      <td>0.056866</td>\n",
       "      <td>0.091621</td>\n",
       "      <td>-1.686247</td>\n",
       "      <td>-0.329901</td>\n",
       "      <td>2.555247</td>\n",
       "      <td>-2.214709</td>\n",
       "      <td>-1.354452</td>\n",
       "      <td>0.813264</td>\n",
       "    </tr>\n",
       "  </tbody>\n",
       "</table>\n",
       "<p>1242 rows × 11 columns</p>\n",
       "</div>"
      ],
      "text/plain": [
       "      adj_offense_team  offensive_efficiency_team  effective_fg_percent_team  \\\n",
       "0            -0.927835                  -1.624681                  -1.649647   \n",
       "1            -0.212381                  -0.766889                  -0.859129   \n",
       "2            -0.195177                  -0.715680                  -0.196766   \n",
       "3             1.053736                   0.897114                   0.248055   \n",
       "4            -0.195177                  -0.715680                  -0.196766   \n",
       "...                ...                        ...                        ...   \n",
       "1237         -1.426319                  -0.604308                  -0.281490   \n",
       "1238          0.367438                   0.559941                   1.489443   \n",
       "1239         -1.387000                  -1.206570                  -0.153137   \n",
       "1240          0.519922                   0.775015                   0.189707   \n",
       "1241          0.451776                  -0.039776                   0.234877   \n",
       "\n",
       "      offensive_rebound_percent_team  opponent_turnover_percent_team  \\\n",
       "0                          -0.387095                        0.617680   \n",
       "1                           0.315748                        1.201215   \n",
       "2                          -0.101264                        0.512527   \n",
       "3                           1.953495                        0.069976   \n",
       "4                          -0.101264                        0.512527   \n",
       "...                              ...                             ...   \n",
       "1237                       -0.531916                        0.416185   \n",
       "1238                       -1.255623                        0.119701   \n",
       "1239                       -2.031117                       -0.428632   \n",
       "1240                        0.712305                        0.844513   \n",
       "1241                        0.056866                        0.091621   \n",
       "\n",
       "      adj_defense_opponent  turnover_percent_opponent  \\\n",
       "0                -0.591715                  -0.114575   \n",
       "1                -0.385921                  -0.239694   \n",
       "2                -0.642958                   0.836021   \n",
       "3                -0.749431                   0.594703   \n",
       "4                -0.790995                   0.111636   \n",
       "...                    ...                        ...   \n",
       "1237              0.157309                  -0.374213   \n",
       "1238              0.328140                   0.726266   \n",
       "1239             -0.632140                   0.312622   \n",
       "1240              0.025232                   0.429733   \n",
       "1241             -1.686247                  -0.329901   \n",
       "\n",
       "      free_throw_rate_opponent  opponent_offensive_efficiency_opponent  \\\n",
       "0                    -0.058197                               -0.464621   \n",
       "1                    -0.604433                               -0.172103   \n",
       "2                    -0.578729                               -0.571980   \n",
       "3                     0.817571                               -0.412882   \n",
       "4                    -0.887965                               -0.300158   \n",
       "...                        ...                                     ...   \n",
       "1237                  0.576946                                0.324425   \n",
       "1238                  1.420357                               -0.523980   \n",
       "1239                  1.204664                               -1.084201   \n",
       "1240                  0.886730                                0.583046   \n",
       "1241                  2.555247                               -2.214709   \n",
       "\n",
       "      opponent_effective_fg_percent_opponent  \\\n",
       "0                                   0.068223   \n",
       "1                                  -0.505183   \n",
       "2                                  -0.983478   \n",
       "3                                  -0.499381   \n",
       "4                                  -0.272603   \n",
       "...                                      ...   \n",
       "1237                                0.265386   \n",
       "1238                               -0.440797   \n",
       "1239                               -1.145650   \n",
       "1240                                0.949030   \n",
       "1241                               -1.354452   \n",
       "\n",
       "      opponent_free_throw_rate_opponent  \n",
       "0                             -0.223741  \n",
       "1                              0.359243  \n",
       "2                              1.185184  \n",
       "3                              1.303525  \n",
       "4                             -0.055341  \n",
       "...                                 ...  \n",
       "1237                           1.252496  \n",
       "1238                          -0.824305  \n",
       "1239                          -0.827130  \n",
       "1240                           0.558894  \n",
       "1241                           0.813264  \n",
       "\n",
       "[1242 rows x 11 columns]"
      ]
     },
     "execution_count": 79,
     "metadata": {},
     "output_type": "execute_result"
    }
   ],
   "source": [
    "prediction_data_normalized"
   ]
  },
  {
   "cell_type": "code",
   "execution_count": 80,
   "metadata": {},
   "outputs": [],
   "source": [
    "from sklearn.linear_model import LogisticRegression\n",
    "clf = LogisticRegression(random_state=0).fit(prediction_data_normalized, data['Win_Loss_Flag'])"
   ]
  },
  {
   "cell_type": "code",
   "execution_count": 81,
   "metadata": {},
   "outputs": [],
   "source": [
    "data['predicted_outcome'] = clf.predict(prediction_data_normalized)"
   ]
  },
  {
   "cell_type": "code",
   "execution_count": 82,
   "metadata": {},
   "outputs": [
    {
     "data": {
      "text/plain": [
       "<sklearn.metrics._plot.confusion_matrix.ConfusionMatrixDisplay at 0x21132217c70>"
      ]
     },
     "execution_count": 82,
     "metadata": {},
     "output_type": "execute_result"
    },
    {
     "data": {
      "image/png": "[encoded data removed]",
      "text/plain": [
       "<Figure size 640x480 with 2 Axes>"
      ]
     },
     "metadata": {},
     "output_type": "display_data"
    }
   ],
   "source": [
    "sklearn.metrics.ConfusionMatrixDisplay(sklearn.metrics.confusion_matrix(data['Win_Loss_Flag'], data['predicted_outcome'])).plot()"
   ]
  },
  {
   "cell_type": "markdown",
   "metadata": {},
   "source": [
    "Logistic regression predicted 835 games correctly and got 407 wrong. Getting about 2/3 of the games right is not bad, but it's not great either. Other models might yield better results."
   ]
  },
  {
   "cell_type": "code",
   "execution_count": 83,
   "metadata": {},
   "outputs": [],
   "source": [
    "from sklearn.neural_network import MLPClassifier\n",
    "clf = MLPClassifier(random_state=0, max_iter=3000).fit(prediction_data_normalized, data['Win_Loss_Flag'])"
   ]
  },
  {
   "cell_type": "code",
   "execution_count": 84,
   "metadata": {},
   "outputs": [],
   "source": [
    "data['nn_predicted_outcome'] = clf.predict(prediction_data_normalized)"
   ]
  },
  {
   "cell_type": "code",
   "execution_count": 85,
   "metadata": {},
   "outputs": [
    {
     "data": {
      "text/plain": [
       "<sklearn.metrics._plot.confusion_matrix.ConfusionMatrixDisplay at 0x211322164d0>"
      ]
     },
     "execution_count": 85,
     "metadata": {},
     "output_type": "execute_result"
    },
    {
     "data": {
      "image/png": "[encoded data removed]",
      "text/plain": [
       "<Figure size 640x480 with 2 Axes>"
      ]
     },
     "metadata": {},
     "output_type": "display_data"
    }
   ],
   "source": [
    "sklearn.metrics.ConfusionMatrixDisplay(sklearn.metrics.confusion_matrix(data['Win_Loss_Flag'], data['nn_predicted_outcome'])).plot()"
   ]
  },
  {
   "cell_type": "markdown",
   "metadata": {},
   "source": [
    "NN did a lot better but there's probably some overfitting happening. Need to hold out a test set."
   ]
  },
  {
   "cell_type": "code",
   "execution_count": 86,
   "metadata": {},
   "outputs": [],
   "source": [
    "train_X = prediction_data_normalized.iloc[:int(len(prediction_data_normalized)*0.6)]\n",
    "train_y = data['Win_Loss_Flag'].iloc[:int(len(prediction_data_normalized)*0.6)]\n",
    "test_X = prediction_data_normalized.iloc[int(len(prediction_data_normalized)*0.6):]\n",
    "test_y = data['Win_Loss_Flag'].iloc[int(len(prediction_data_normalized)*0.6):]"
   ]
  },
  {
   "cell_type": "code",
   "execution_count": 87,
   "metadata": {},
   "outputs": [],
   "source": [
    "clf = MLPClassifier(hidden_layer_sizes=[50, 50, 50],random_state=0, max_iter=3000).fit(train_X, train_y)"
   ]
  },
  {
   "cell_type": "code",
   "execution_count": 88,
   "metadata": {},
   "outputs": [],
   "source": [
    "nn_test_outcomes = clf.predict(test_X)"
   ]
  },
  {
   "cell_type": "code",
   "execution_count": 89,
   "metadata": {},
   "outputs": [
    {
     "data": {
      "text/plain": [
       "<sklearn.metrics._plot.confusion_matrix.ConfusionMatrixDisplay at 0x2113b93fa60>"
      ]
     },
     "execution_count": 89,
     "metadata": {},
     "output_type": "execute_result"
    },
    {
     "data": {
      "image/png": "[encoded data removed]",
      "text/plain": [
       "<Figure size 640x480 with 2 Axes>"
      ]
     },
     "metadata": {},
     "output_type": "display_data"
    }
   ],
   "source": [
    "sklearn.metrics.ConfusionMatrixDisplay(sklearn.metrics.confusion_matrix(test_y, nn_test_outcomes)).plot()"
   ]
  },
  {
   "cell_type": "code",
   "execution_count": 126,
   "metadata": {},
   "outputs": [],
   "source": [
    "def proper_cross_validation(clf, X, y, k=5):\n",
    "    from sklearn.model_selection import KFold\n",
    "    kf = KFold(n_splits=k)\n",
    "    confusion_matrices = []\n",
    "    for train_index, test_index in kf.split(X):\n",
    "        X_train, X_test = X.iloc[train_index], X.iloc[test_index]\n",
    "        y_train, y_test = y.iloc[train_index], y.iloc[test_index]\n",
    "        clf.fit(X_train, y_train)\n",
    "        confusion_matrices.append(sklearn.metrics.confusion_matrix(y_test, clf.predict(X_test)))\n",
    "    total_confusion_matrix = sum(confusion_matrices)\n",
    "    return total_confusion_matrix"
   ]
  },
  {
   "cell_type": "code",
   "execution_count": 91,
   "metadata": {},
   "outputs": [],
   "source": [
    "cms = proper_cross_validation(MLPClassifier(hidden_layer_sizes=[50, 50, 50],random_state=0, max_iter=3000), prediction_data_normalized, data['Win_Loss_Flag'])"
   ]
  },
  {
   "cell_type": "code",
   "execution_count": 92,
   "metadata": {},
   "outputs": [
    {
     "data": {
      "text/plain": [
       "<sklearn.metrics._plot.confusion_matrix.ConfusionMatrixDisplay at 0x2113b6c0a90>"
      ]
     },
     "execution_count": 92,
     "metadata": {},
     "output_type": "execute_result"
    },
    {
     "data": {
      "image/png": "[encoded data removed]",
      "text/plain": [
       "<Figure size 640x480 with 2 Axes>"
      ]
     },
     "metadata": {},
     "output_type": "display_data"
    }
   ],
   "source": [
    "sklearn.metrics.ConfusionMatrixDisplay(cms).plot()"
   ]
  },
  {
   "cell_type": "code",
   "execution_count": 93,
   "metadata": {},
   "outputs": [
    {
     "data": {
      "text/plain": [
       "<sklearn.metrics._plot.confusion_matrix.ConfusionMatrixDisplay at 0x2113b09b820>"
      ]
     },
     "execution_count": 93,
     "metadata": {},
     "output_type": "execute_result"
    },
    {
     "data": {
      "image/png": "[encoded data removed]",
      "text/plain": [
       "<Figure size 640x480 with 2 Axes>"
      ]
     },
     "metadata": {},
     "output_type": "display_data"
    }
   ],
   "source": [
    "# and what about the logistic regression model?\n",
    "cms = proper_cross_validation(LogisticRegression(random_state=0), prediction_data_normalized, data['Win_Loss_Flag'])\n",
    "sklearn.metrics.ConfusionMatrixDisplay(cms).plot()"
   ]
  },
  {
   "cell_type": "code",
   "execution_count": 94,
   "metadata": {},
   "outputs": [],
   "source": [
    "# well, they're both getting things right a little under 70% of the time\n",
    "# could try different models, but better indicators is probably the more effective way to go\n",
    "all_games = pd.read_sql(\"select * from sports_data.game_stats_v2\", conn)"
   ]
  },
  {
   "cell_type": "code",
   "execution_count": 95,
   "metadata": {},
   "outputs": [
    {
     "data": {
      "text/plain": [
       "Index(['date', 'game_type', 'team', 'conference', 'opponent', 'location',\n",
       "       'result', 'adj_offense', 'adj_defense', 'offensive_efficiency',\n",
       "       'effective_fg_percent', 'turnover_percent', 'offensive_rebound_percent',\n",
       "       'free_throw_rate', 'opponent_offensive_efficiency',\n",
       "       'opponent_effective_fg_percent', 'opponent_turnover_percent',\n",
       "       'opponent_offensive_rebound_percent', 'opponent_free_throw_rate',\n",
       "       'opponent_conference', 'season', 'Win_Loss', 'score', 'opponent_score'],\n",
       "      dtype='object')"
      ]
     },
     "execution_count": 95,
     "metadata": {},
     "output_type": "execute_result"
    }
   ],
   "source": [
    "all_games.columns"
   ]
  },
  {
   "cell_type": "code",
   "execution_count": 96,
   "metadata": {},
   "outputs": [],
   "source": [
    "team_conference_affiliation = all_games[['team', 'conference', 'season']].drop_duplicates(subset=['team', 'season'], keep='first')"
   ]
  },
  {
   "cell_type": "code",
   "execution_count": 97,
   "metadata": {},
   "outputs": [
    {
     "data": {
      "text/plain": [
       "35"
      ]
     },
     "execution_count": 97,
     "metadata": {},
     "output_type": "execute_result"
    }
   ],
   "source": [
    "len(data.columns)"
   ]
  },
  {
   "cell_type": "code",
   "execution_count": 99,
   "metadata": {},
   "outputs": [],
   "source": [
    "data = pd.merge(data, team_conference_affiliation, left_on=['team', 'season'], right_on=['team', 'season'])"
   ]
  },
  {
   "cell_type": "code",
   "execution_count": 101,
   "metadata": {},
   "outputs": [
    {
     "data": {
      "text/plain": [
       "0       P12\n",
       "1       B12\n",
       "2       SEC\n",
       "3        BE\n",
       "4       SEC\n",
       "       ... \n",
       "1237     SC\n",
       "1238    MVC\n",
       "1239    MWC\n",
       "1240    P12\n",
       "1241     BE\n",
       "Name: conference, Length: 1242, dtype: object"
      ]
     },
     "execution_count": 101,
     "metadata": {},
     "output_type": "execute_result"
    }
   ],
   "source": [
    "data['conference']"
   ]
  },
  {
   "cell_type": "code",
   "execution_count": 110,
   "metadata": {},
   "outputs": [],
   "source": [
    "data = pd.read_sql(\"select * from sports_data.tourney_games_with_season_conference_records\", conn)"
   ]
  },
  {
   "cell_type": "code",
   "execution_count": 111,
   "metadata": {},
   "outputs": [],
   "source": [
    "data['Win_Loss_Flag'] = data['Win_Loss'].apply(lambda x: 1 if x == 'W' else 0)"
   ]
  },
  {
   "cell_type": "code",
   "execution_count": 114,
   "metadata": {},
   "outputs": [],
   "source": [
    "data.drop(columns=['losses', 'wins', 'losses_opponent', 'wins_opponent', 'conference'], inplace=True)"
   ]
  },
  {
   "cell_type": "code",
   "execution_count": 106,
   "metadata": {},
   "outputs": [],
   "source": [
    "data.drop(columns=['wins_opponent', 'losses_opponent', 'team_opponent', 'wins', 'losses'], inplace=True)"
   ]
  },
  {
   "cell_type": "code",
   "execution_count": 115,
   "metadata": {},
   "outputs": [],
   "source": [
    "predictor_columns = data.columns[8:-1]\n",
    "predictors = data[predictor_columns]\n",
    "predictors_and_response = pd.concat([predictors, data['Win_Loss_Flag']], axis=1)"
   ]
  },
  {
   "cell_type": "code",
   "execution_count": 116,
   "metadata": {},
   "outputs": [
    {
     "data": {
      "text/plain": [
       "Win_Loss_Flag                                  1.000000\n",
       "adj_offense_team                               0.270970\n",
       "conference_strength                            0.260118\n",
       "win_loss_ratio                                 0.242462\n",
       "adj_defense_opponent                           0.225174\n",
       "offensive_efficiency_team                      0.196490\n",
       "opponent_offensive_efficiency_opponent         0.123610\n",
       "effective_fg_percent_team                      0.116454\n",
       "opponent_effective_fg_percent_opponent         0.112050\n",
       "turnover_percent_opponent                      0.106504\n",
       "offensive_rebound_percent_team                 0.104910\n",
       "opponent_free_throw_rate_opponent              0.070684\n",
       "free_throw_rate_opponent                       0.066086\n",
       "opponent_turnover_percent_team                 0.033527\n",
       "opponent_offensive_rebound_percent_opponent    0.001040\n",
       "opponent_offensive_rebound_percent_team       -0.001040\n",
       "opponent_turnover_percent_opponent            -0.033527\n",
       "free_throw_rate_team                          -0.066086\n",
       "opponent_free_throw_rate_team                 -0.070684\n",
       "offensive_rebound_percent_opponent            -0.104910\n",
       "turnover_percent_team                         -0.106504\n",
       "opponent_effective_fg_percent_team            -0.112050\n",
       "effective_fg_percent_opponent                 -0.116454\n",
       "opponent_offensive_efficiency_team            -0.123610\n",
       "offensive_efficiency_opponent                 -0.196490\n",
       "adj_defense_team                              -0.225174\n",
       "win_loss_ratio_opponent                       -0.242462\n",
       "conference_strength_opponent                  -0.260118\n",
       "adj_offense_opponent                          -0.270970\n",
       "Name: Win_Loss_Flag, dtype: float64"
      ]
     },
     "execution_count": 116,
     "metadata": {},
     "output_type": "execute_result"
    }
   ],
   "source": [
    "predictors_and_response.corr(numeric_only=True)['Win_Loss_Flag'].sort_values(ascending=False)"
   ]
  },
  {
   "cell_type": "code",
   "execution_count": 117,
   "metadata": {},
   "outputs": [],
   "source": [
    "corrs = predictors_and_response.corr(numeric_only=True)['Win_Loss_Flag']\n",
    "corrs = corrs[corrs > 0.02]\n",
    "corrs = corrs[corrs.index != 'Win_Loss_Flag']\n",
    "effective_predictors = corrs.index.tolist()"
   ]
  },
  {
   "cell_type": "code",
   "execution_count": 118,
   "metadata": {},
   "outputs": [
    {
     "data": {
      "text/plain": [
       "13"
      ]
     },
     "execution_count": 118,
     "metadata": {},
     "output_type": "execute_result"
    }
   ],
   "source": [
    "len(effective_predictors)"
   ]
  },
  {
   "cell_type": "code",
   "execution_count": 119,
   "metadata": {},
   "outputs": [],
   "source": [
    "prediction_data = data[effective_predictors]\n",
    "prediction_data_normalized = (prediction_data-prediction_data.mean())/prediction_data.std()"
   ]
  },
  {
   "cell_type": "code",
   "execution_count": 122,
   "metadata": {},
   "outputs": [
    {
     "data": {
      "text/html": [
       "<div>\n",
       "<style scoped>\n",
       "    .dataframe tbody tr th:only-of-type {\n",
       "        vertical-align: middle;\n",
       "    }\n",
       "\n",
       "    .dataframe tbody tr th {\n",
       "        vertical-align: top;\n",
       "    }\n",
       "\n",
       "    .dataframe thead th {\n",
       "        text-align: right;\n",
       "    }\n",
       "</style>\n",
       "<table border=\"1\" class=\"dataframe\">\n",
       "  <thead>\n",
       "    <tr style=\"text-align: right;\">\n",
       "      <th></th>\n",
       "      <th>adj_offense_team</th>\n",
       "      <th>offensive_efficiency_team</th>\n",
       "      <th>effective_fg_percent_team</th>\n",
       "      <th>offensive_rebound_percent_team</th>\n",
       "      <th>opponent_turnover_percent_team</th>\n",
       "      <th>adj_defense_opponent</th>\n",
       "      <th>turnover_percent_opponent</th>\n",
       "      <th>free_throw_rate_opponent</th>\n",
       "      <th>opponent_offensive_efficiency_opponent</th>\n",
       "      <th>opponent_effective_fg_percent_opponent</th>\n",
       "      <th>opponent_free_throw_rate_opponent</th>\n",
       "      <th>win_loss_ratio</th>\n",
       "      <th>conference_strength</th>\n",
       "    </tr>\n",
       "  </thead>\n",
       "  <tbody>\n",
       "    <tr>\n",
       "      <th>0</th>\n",
       "      <td>-0.927835</td>\n",
       "      <td>-1.624681</td>\n",
       "      <td>-1.649647</td>\n",
       "      <td>-0.387095</td>\n",
       "      <td>0.617680</td>\n",
       "      <td>-0.591715</td>\n",
       "      <td>-0.114575</td>\n",
       "      <td>-0.058197</td>\n",
       "      <td>-0.464621</td>\n",
       "      <td>0.068223</td>\n",
       "      <td>-0.223741</td>\n",
       "      <td>-0.724279</td>\n",
       "      <td>-0.091483</td>\n",
       "    </tr>\n",
       "    <tr>\n",
       "      <th>1</th>\n",
       "      <td>-0.212381</td>\n",
       "      <td>-0.766889</td>\n",
       "      <td>-0.859129</td>\n",
       "      <td>0.315748</td>\n",
       "      <td>1.201215</td>\n",
       "      <td>-0.385921</td>\n",
       "      <td>-0.239694</td>\n",
       "      <td>-0.604433</td>\n",
       "      <td>-0.172103</td>\n",
       "      <td>-0.505183</td>\n",
       "      <td>0.359243</td>\n",
       "      <td>-0.820922</td>\n",
       "      <td>1.032009</td>\n",
       "    </tr>\n",
       "    <tr>\n",
       "      <th>2</th>\n",
       "      <td>-0.195177</td>\n",
       "      <td>-0.715680</td>\n",
       "      <td>-0.196766</td>\n",
       "      <td>-0.101264</td>\n",
       "      <td>0.512527</td>\n",
       "      <td>-0.642958</td>\n",
       "      <td>0.836021</td>\n",
       "      <td>-0.578729</td>\n",
       "      <td>-0.571980</td>\n",
       "      <td>-0.983478</td>\n",
       "      <td>1.185184</td>\n",
       "      <td>-0.984473</td>\n",
       "      <td>0.480813</td>\n",
       "    </tr>\n",
       "    <tr>\n",
       "      <th>3</th>\n",
       "      <td>1.053736</td>\n",
       "      <td>0.897114</td>\n",
       "      <td>0.248055</td>\n",
       "      <td>1.953495</td>\n",
       "      <td>0.069976</td>\n",
       "      <td>-0.749431</td>\n",
       "      <td>0.594703</td>\n",
       "      <td>0.817571</td>\n",
       "      <td>-0.412882</td>\n",
       "      <td>-0.499381</td>\n",
       "      <td>1.303525</td>\n",
       "      <td>0.736813</td>\n",
       "      <td>0.304053</td>\n",
       "    </tr>\n",
       "    <tr>\n",
       "      <th>4</th>\n",
       "      <td>-0.195177</td>\n",
       "      <td>-0.715680</td>\n",
       "      <td>-0.196766</td>\n",
       "      <td>-0.101264</td>\n",
       "      <td>0.512527</td>\n",
       "      <td>-0.790995</td>\n",
       "      <td>0.111636</td>\n",
       "      <td>-0.887965</td>\n",
       "      <td>-0.300158</td>\n",
       "      <td>-0.272603</td>\n",
       "      <td>-0.055341</td>\n",
       "      <td>-0.984473</td>\n",
       "      <td>0.480813</td>\n",
       "    </tr>\n",
       "    <tr>\n",
       "      <th>...</th>\n",
       "      <td>...</td>\n",
       "      <td>...</td>\n",
       "      <td>...</td>\n",
       "      <td>...</td>\n",
       "      <td>...</td>\n",
       "      <td>...</td>\n",
       "      <td>...</td>\n",
       "      <td>...</td>\n",
       "      <td>...</td>\n",
       "      <td>...</td>\n",
       "      <td>...</td>\n",
       "      <td>...</td>\n",
       "      <td>...</td>\n",
       "    </tr>\n",
       "    <tr>\n",
       "      <th>1237</th>\n",
       "      <td>-1.426319</td>\n",
       "      <td>-0.604308</td>\n",
       "      <td>-0.281490</td>\n",
       "      <td>-0.531916</td>\n",
       "      <td>0.416185</td>\n",
       "      <td>0.157309</td>\n",
       "      <td>-0.374213</td>\n",
       "      <td>0.576946</td>\n",
       "      <td>0.324425</td>\n",
       "      <td>0.265386</td>\n",
       "      <td>1.252496</td>\n",
       "      <td>0.671310</td>\n",
       "      <td>-1.731324</td>\n",
       "    </tr>\n",
       "    <tr>\n",
       "      <th>1238</th>\n",
       "      <td>0.367438</td>\n",
       "      <td>0.559941</td>\n",
       "      <td>1.489443</td>\n",
       "      <td>-1.255623</td>\n",
       "      <td>0.119701</td>\n",
       "      <td>0.328140</td>\n",
       "      <td>0.726266</td>\n",
       "      <td>1.420357</td>\n",
       "      <td>-0.523980</td>\n",
       "      <td>-0.440797</td>\n",
       "      <td>-0.824305</td>\n",
       "      <td>1.587735</td>\n",
       "      <td>-0.194862</td>\n",
       "    </tr>\n",
       "    <tr>\n",
       "      <th>1239</th>\n",
       "      <td>-1.387000</td>\n",
       "      <td>-1.206570</td>\n",
       "      <td>-0.153137</td>\n",
       "      <td>-2.031117</td>\n",
       "      <td>-0.428632</td>\n",
       "      <td>-0.632140</td>\n",
       "      <td>0.312622</td>\n",
       "      <td>1.204664</td>\n",
       "      <td>-1.084201</td>\n",
       "      <td>-1.145650</td>\n",
       "      <td>-0.827130</td>\n",
       "      <td>-0.180236</td>\n",
       "      <td>-0.433489</td>\n",
       "    </tr>\n",
       "    <tr>\n",
       "      <th>1240</th>\n",
       "      <td>0.519922</td>\n",
       "      <td>0.775015</td>\n",
       "      <td>0.189707</td>\n",
       "      <td>0.712305</td>\n",
       "      <td>0.844513</td>\n",
       "      <td>0.025232</td>\n",
       "      <td>0.429733</td>\n",
       "      <td>0.886730</td>\n",
       "      <td>0.583046</td>\n",
       "      <td>0.949030</td>\n",
       "      <td>0.558894</td>\n",
       "      <td>1.672249</td>\n",
       "      <td>0.538499</td>\n",
       "    </tr>\n",
       "    <tr>\n",
       "      <th>1241</th>\n",
       "      <td>0.451776</td>\n",
       "      <td>-0.039776</td>\n",
       "      <td>0.234877</td>\n",
       "      <td>0.056866</td>\n",
       "      <td>0.091621</td>\n",
       "      <td>-1.686247</td>\n",
       "      <td>-0.329901</td>\n",
       "      <td>2.555247</td>\n",
       "      <td>-2.214709</td>\n",
       "      <td>-1.354452</td>\n",
       "      <td>0.813264</td>\n",
       "      <td>-0.886021</td>\n",
       "      <td>0.618607</td>\n",
       "    </tr>\n",
       "  </tbody>\n",
       "</table>\n",
       "<p>1242 rows × 13 columns</p>\n",
       "</div>"
      ],
      "text/plain": [
       "      adj_offense_team  offensive_efficiency_team  effective_fg_percent_team  \\\n",
       "0            -0.927835                  -1.624681                  -1.649647   \n",
       "1            -0.212381                  -0.766889                  -0.859129   \n",
       "2            -0.195177                  -0.715680                  -0.196766   \n",
       "3             1.053736                   0.897114                   0.248055   \n",
       "4            -0.195177                  -0.715680                  -0.196766   \n",
       "...                ...                        ...                        ...   \n",
       "1237         -1.426319                  -0.604308                  -0.281490   \n",
       "1238          0.367438                   0.559941                   1.489443   \n",
       "1239         -1.387000                  -1.206570                  -0.153137   \n",
       "1240          0.519922                   0.775015                   0.189707   \n",
       "1241          0.451776                  -0.039776                   0.234877   \n",
       "\n",
       "      offensive_rebound_percent_team  opponent_turnover_percent_team  \\\n",
       "0                          -0.387095                        0.617680   \n",
       "1                           0.315748                        1.201215   \n",
       "2                          -0.101264                        0.512527   \n",
       "3                           1.953495                        0.069976   \n",
       "4                          -0.101264                        0.512527   \n",
       "...                              ...                             ...   \n",
       "1237                       -0.531916                        0.416185   \n",
       "1238                       -1.255623                        0.119701   \n",
       "1239                       -2.031117                       -0.428632   \n",
       "1240                        0.712305                        0.844513   \n",
       "1241                        0.056866                        0.091621   \n",
       "\n",
       "      adj_defense_opponent  turnover_percent_opponent  \\\n",
       "0                -0.591715                  -0.114575   \n",
       "1                -0.385921                  -0.239694   \n",
       "2                -0.642958                   0.836021   \n",
       "3                -0.749431                   0.594703   \n",
       "4                -0.790995                   0.111636   \n",
       "...                    ...                        ...   \n",
       "1237              0.157309                  -0.374213   \n",
       "1238              0.328140                   0.726266   \n",
       "1239             -0.632140                   0.312622   \n",
       "1240              0.025232                   0.429733   \n",
       "1241             -1.686247                  -0.329901   \n",
       "\n",
       "      free_throw_rate_opponent  opponent_offensive_efficiency_opponent  \\\n",
       "0                    -0.058197                               -0.464621   \n",
       "1                    -0.604433                               -0.172103   \n",
       "2                    -0.578729                               -0.571980   \n",
       "3                     0.817571                               -0.412882   \n",
       "4                    -0.887965                               -0.300158   \n",
       "...                        ...                                     ...   \n",
       "1237                  0.576946                                0.324425   \n",
       "1238                  1.420357                               -0.523980   \n",
       "1239                  1.204664                               -1.084201   \n",
       "1240                  0.886730                                0.583046   \n",
       "1241                  2.555247                               -2.214709   \n",
       "\n",
       "      opponent_effective_fg_percent_opponent  \\\n",
       "0                                   0.068223   \n",
       "1                                  -0.505183   \n",
       "2                                  -0.983478   \n",
       "3                                  -0.499381   \n",
       "4                                  -0.272603   \n",
       "...                                      ...   \n",
       "1237                                0.265386   \n",
       "1238                               -0.440797   \n",
       "1239                               -1.145650   \n",
       "1240                                0.949030   \n",
       "1241                               -1.354452   \n",
       "\n",
       "      opponent_free_throw_rate_opponent  win_loss_ratio  conference_strength  \n",
       "0                             -0.223741       -0.724279            -0.091483  \n",
       "1                              0.359243       -0.820922             1.032009  \n",
       "2                              1.185184       -0.984473             0.480813  \n",
       "3                              1.303525        0.736813             0.304053  \n",
       "4                             -0.055341       -0.984473             0.480813  \n",
       "...                                 ...             ...                  ...  \n",
       "1237                           1.252496        0.671310            -1.731324  \n",
       "1238                          -0.824305        1.587735            -0.194862  \n",
       "1239                          -0.827130       -0.180236            -0.433489  \n",
       "1240                           0.558894        1.672249             0.538499  \n",
       "1241                           0.813264       -0.886021             0.618607  \n",
       "\n",
       "[1242 rows x 13 columns]"
      ]
     },
     "execution_count": 122,
     "metadata": {},
     "output_type": "execute_result"
    }
   ],
   "source": [
    "prediction_data_normalized"
   ]
  },
  {
   "cell_type": "code",
   "execution_count": 123,
   "metadata": {},
   "outputs": [],
   "source": [
    "from sklearn.linear_model import LogisticRegression\n",
    "clf = LogisticRegression(random_state=0).fit(prediction_data_normalized, data['Win_Loss_Flag'])"
   ]
  },
  {
   "cell_type": "code",
   "execution_count": 124,
   "metadata": {},
   "outputs": [],
   "source": [
    "data['predicted_outcome'] = clf.predict(prediction_data_normalized)"
   ]
  },
  {
   "cell_type": "code",
   "execution_count": 125,
   "metadata": {},
   "outputs": [
    {
     "data": {
      "text/plain": [
       "<sklearn.metrics._plot.confusion_matrix.ConfusionMatrixDisplay at 0x2113b4c1600>"
      ]
     },
     "execution_count": 125,
     "metadata": {},
     "output_type": "execute_result"
    },
    {
     "data": {
      "image/png": "[encoded data removed]",
      "text/plain": [
       "<Figure size 640x480 with 2 Axes>"
      ]
     },
     "metadata": {},
     "output_type": "display_data"
    }
   ],
   "source": [
    "sklearn.metrics.ConfusionMatrixDisplay(sklearn.metrics.confusion_matrix(data['Win_Loss_Flag'], data['predicted_outcome'])).plot()"
   ]
  },
  {
   "cell_type": "code",
   "execution_count": 134,
   "metadata": {},
   "outputs": [
    {
     "data": {
      "text/plain": [
       "<sklearn.metrics._plot.confusion_matrix.ConfusionMatrixDisplay at 0x2113bf6a2f0>"
      ]
     },
     "execution_count": 134,
     "metadata": {},
     "output_type": "execute_result"
    },
    {
     "data": {
      "image/png": "[encoded data removed]",
      "text/plain": [
       "<Figure size 640x480 with 2 Axes>"
      ]
     },
     "metadata": {},
     "output_type": "display_data"
    }
   ],
   "source": [
    "cms = proper_cross_validation(MLPClassifier(hidden_layer_sizes=[50, 50, 50], max_iter=3000), prediction_data_normalized, data['Win_Loss_Flag'])\n",
    "sklearn.metrics.ConfusionMatrixDisplay(cms).plot()"
   ]
  },
  {
   "cell_type": "code",
   "execution_count": 130,
   "metadata": {},
   "outputs": [
    {
     "data": {
      "text/plain": [
       "<sklearn.metrics._plot.confusion_matrix.ConfusionMatrixDisplay at 0x21136ea5a80>"
      ]
     },
     "execution_count": 130,
     "metadata": {},
     "output_type": "execute_result"
    },
    {
     "data": {
      "image/png": "[encoded data removed]",
      "text/plain": [
       "<Figure size 640x480 with 2 Axes>"
      ]
     },
     "metadata": {},
     "output_type": "display_data"
    }
   ],
   "source": [
    "cms = proper_cross_validation(LogisticRegression(), prediction_data_normalized, data['Win_Loss_Flag'])\n",
    "sklearn.metrics.ConfusionMatrixDisplay(cms).plot()"
   ]
  },
  {
   "cell_type": "code",
   "execution_count": 136,
   "metadata": {},
   "outputs": [
    {
     "data": {
      "text/plain": [
       "<sklearn.metrics._plot.confusion_matrix.ConfusionMatrixDisplay at 0x211473795d0>"
      ]
     },
     "execution_count": 136,
     "metadata": {},
     "output_type": "execute_result"
    },
    {
     "data": {
      "image/png": "[encoded data removed]",
      "text/plain": [
       "<Figure size 640x480 with 2 Axes>"
      ]
     },
     "metadata": {},
     "output_type": "display_data"
    }
   ],
   "source": [
    "cms = proper_cross_validation(MLPClassifier(hidden_layer_sizes=[100, 100], max_iter=3000), prediction_data_normalized, data['Win_Loss_Flag'])\n",
    "sklearn.metrics.ConfusionMatrixDisplay(cms).plot()"
   ]
  }
 ],
 "metadata": {
  "kernelspec": {
   "display_name": ".venv",
   "language": "python",
   "name": "python3"
  },
  "language_info": {
   "codemirror_mode": {
    "name": "ipython",
    "version": 3
   },
   "file_extension": ".py",
   "mimetype": "text/x-python",
   "name": "python",
   "nbconvert_exporter": "python",
   "pygments_lexer": "ipython3",
   "version": "3.10.6"
  },
  "orig_nbformat": 4
 },
 "nbformat": 4,
 "nbformat_minor": 2
}
