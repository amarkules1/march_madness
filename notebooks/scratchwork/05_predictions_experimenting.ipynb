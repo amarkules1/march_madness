{
 "cells": [
  {
   "cell_type": "code",
   "execution_count": 52,
   "metadata": {},
   "outputs": [],
   "source": [
    "import os\n",
    "import pandas as pd\n",
    "import numpy as np\n",
    "import sqlalchemy\n",
    "import sklearn\n",
    "from dotenv import load_dotenv, find_dotenv\n",
    "_ = load_dotenv(find_dotenv())\n",
    "\n",
    "connection_string = os.getenv(\"LINODE_CONN_STRING\")\n",
    "connection_string = os.getenv(\"LINODE_CONN_STRING\")\n",
    "conn = sqlalchemy.create_engine(os.getenv(\"LINODE_CONN_STRING\")).connect()"
   ]
  },
  {
   "cell_type": "code",
   "execution_count": 53,
   "metadata": {},
   "outputs": [],
   "source": [
    "data = pd.read_sql(\"select * from sports_data.tourney_games_through_2024_final\", conn)"
   ]
  },
  {
   "cell_type": "code",
   "execution_count": 54,
   "metadata": {},
   "outputs": [],
   "source": [
    "# later games in the tournament should be weighted higher so lets duplicate those\n",
    "data['date_dt'] = data['date'].apply(lambda x: pd.to_datetime(x))"
   ]
  },
  {
   "cell_type": "code",
   "execution_count": 55,
   "metadata": {},
   "outputs": [],
   "source": [
    "yearly_tournament_start_dates = data.groupby('season', as_index=False)['date_dt'].min()"
   ]
  },
  {
   "cell_type": "code",
   "execution_count": 56,
   "metadata": {},
   "outputs": [
    {
     "data": {
      "text/plain": [
       "0     2008\n",
       "1     2009\n",
       "2     2010\n",
       "3     2011\n",
       "4     2012\n",
       "5     2013\n",
       "6     2014\n",
       "7     2015\n",
       "8     2016\n",
       "9     2017\n",
       "10    2018\n",
       "11    2019\n",
       "12    2021\n",
       "13    2022\n",
       "14    2023\n",
       "15    2024\n",
       "Name: season, dtype: int64"
      ]
     },
     "execution_count": 56,
     "metadata": {},
     "output_type": "execute_result"
    }
   ],
   "source": [
    "yearly_tournament_start_dates['season']"
   ]
  },
  {
   "cell_type": "code",
   "execution_count": 57,
   "metadata": {},
   "outputs": [],
   "source": [
    "def get_importance_factor(date):\n",
    "    start_date = yearly_tournament_start_dates[yearly_tournament_start_dates['season'] == date.year]['date_dt'].values[0]\n",
    "    return 1 + (date - start_date).days\n",
    "data['importance_factor'] = data['date_dt'].apply(get_importance_factor)"
   ]
  },
  {
   "cell_type": "code",
   "execution_count": 58,
   "metadata": {},
   "outputs": [
    {
     "name": "stdout",
     "output_type": "stream",
     "text": [
      "0\n",
      "100\n"
     ]
    },
    {
     "name": "stderr",
     "output_type": "stream",
     "text": [
      "C:\\Users\\amarl\\AppData\\Local\\Temp\\ipykernel_20492\\3873046170.py:6: FutureWarning: The behavior of DataFrame concatenation with empty or all-NA entries is deprecated. In a future version, this will no longer exclude empty or all-NA columns when determining the result dtypes. To retain the old behavior, exclude the relevant entries before the concat operation.\n",
      "  importance_factor_duplicated_data = pd.concat([importance_factor_duplicated_data, row_data])\n"
     ]
    },
    {
     "name": "stdout",
     "output_type": "stream",
     "text": [
      "200\n",
      "300\n",
      "400\n",
      "500\n",
      "600\n",
      "700\n",
      "800\n",
      "900\n",
      "1000\n",
      "1100\n",
      "1200\n",
      "1300\n",
      "1400\n",
      "1500\n",
      "1600\n",
      "1700\n",
      "1800\n",
      "1900\n",
      "2000\n",
      "2100\n",
      "2200\n",
      "2300\n"
     ]
    }
   ],
   "source": [
    "importance_factor_duplicated_data = pd.DataFrame(columns=data.columns)\n",
    "for i, row in data.iterrows():\n",
    "    if i % 100 == 0:\n",
    "        print(i)\n",
    "    row_data = pd.DataFrame([row] * row['importance_factor'])\n",
    "    importance_factor_duplicated_data = pd.concat([importance_factor_duplicated_data, row_data])\n",
    "    \n",
    "\n",
    "importance_factor_duplicated_data.reset_index(drop=True, inplace=True)"
   ]
  },
  {
   "cell_type": "code",
   "execution_count": 59,
   "metadata": {},
   "outputs": [],
   "source": [
    "importance_factor_duplicated_data = importance_factor_duplicated_data.replace(np.NaN, 0)\n",
    "importance_factor_duplicated_data.drop(['date_dt', 'importance_factor'], axis=1, inplace=True)"
   ]
  },
  {
   "cell_type": "code",
   "execution_count": 60,
   "metadata": {},
   "outputs": [],
   "source": [
    "importance_factor_duplicated_data['Win_Loss_Flag'] = importance_factor_duplicated_data['Win_Loss'].apply(lambda x: 1 if x == 'W' else 0)"
   ]
  },
  {
   "cell_type": "code",
   "execution_count": 61,
   "metadata": {},
   "outputs": [
    {
     "data": {
      "text/plain": [
       "Index(['date', 'season', 'team', 'opponent', 'Win_Loss',\n",
       "       'regular_season_win_pct', 'opponent_regular_season_win_pct',\n",
       "       'season_win_pct', 'opponent_season_win_pct', 'season_ppg',\n",
       "       ...\n",
       "       'opponent_season_allowed_free_throw_rate_std',\n",
       "       'vs_tourney_team_allowed_free_throw_rate',\n",
       "       'opponent_vs_tourney_team_allowed_free_throw_rate',\n",
       "       'vs_tourney_team_allowed_free_throw_rate_std',\n",
       "       'opponent_vs_tourney_team_allowed_free_throw_rate_std',\n",
       "       'last_10_allowed_free_throw_rate',\n",
       "       'opponent_last_10_allowed_free_throw_rate',\n",
       "       'last_10_allowed_free_throw_rate_std',\n",
       "       'opponent_last_10_allowed_free_throw_rate_std', 'Win_Loss_Flag'],\n",
       "      dtype='object', length=177)"
      ]
     },
     "execution_count": 61,
     "metadata": {},
     "output_type": "execute_result"
    }
   ],
   "source": [
    "importance_factor_duplicated_data.columns"
   ]
  },
  {
   "cell_type": "code",
   "execution_count": 62,
   "metadata": {},
   "outputs": [],
   "source": [
    "predictor_cols = importance_factor_duplicated_data.columns.to_list()"
   ]
  },
  {
   "cell_type": "code",
   "execution_count": 63,
   "metadata": {},
   "outputs": [],
   "source": [
    "predictor_cols.remove('Win_Loss')\n",
    "predictor_cols.remove('Win_Loss_Flag')\n",
    "# 'date', 'season', 'team', 'opponent'\n",
    "predictor_cols.remove('date')\n",
    "predictor_cols.remove('season')\n",
    "predictor_cols.remove('team')\n",
    "predictor_cols.remove('opponent')"
   ]
  },
  {
   "cell_type": "code",
   "execution_count": 64,
   "metadata": {},
   "outputs": [],
   "source": [
    "predictors = importance_factor_duplicated_data[predictor_cols]\n",
    "predictors_and_response = pd.concat([predictors, importance_factor_duplicated_data['Win_Loss_Flag']], axis=1)"
   ]
  },
  {
   "cell_type": "code",
   "execution_count": 65,
   "metadata": {},
   "outputs": [],
   "source": [
    "prediction_data = importance_factor_duplicated_data[predictor_cols]\n",
    "prediction_data_normalized = (prediction_data-prediction_data.mean())/prediction_data.std()"
   ]
  },
  {
   "cell_type": "code",
   "execution_count": 66,
   "metadata": {},
   "outputs": [
    {
     "data": {
      "text/plain": [
       "0        0\n",
       "1        1\n",
       "2        1\n",
       "3        1\n",
       "4        0\n",
       "        ..\n",
       "15331    0\n",
       "15332    0\n",
       "15333    0\n",
       "15334    0\n",
       "15335    0\n",
       "Name: Win_Loss_Flag, Length: 15336, dtype: int64"
      ]
     },
     "execution_count": 66,
     "metadata": {},
     "output_type": "execute_result"
    }
   ],
   "source": [
    "importance_factor_duplicated_data['Win_Loss_Flag']"
   ]
  },
  {
   "cell_type": "code",
   "execution_count": 75,
   "metadata": {},
   "outputs": [],
   "source": [
    "from sklearn.linear_model import LogisticRegression\n",
    "clf = LogisticRegression(random_state=0, max_iter=10000).fit(prediction_data_normalized, importance_factor_duplicated_data['Win_Loss_Flag'])"
   ]
  },
  {
   "cell_type": "code",
   "execution_count": 76,
   "metadata": {},
   "outputs": [],
   "source": [
    "linreg_no_val_predictions = clf.predict(prediction_data_normalized)"
   ]
  },
  {
   "cell_type": "code",
   "execution_count": 77,
   "metadata": {},
   "outputs": [
    {
     "data": {
      "text/plain": [
       "<sklearn.metrics._plot.confusion_matrix.ConfusionMatrixDisplay at 0x1cc99f426b0>"
      ]
     },
     "execution_count": 77,
     "metadata": {},
     "output_type": "execute_result"
    },
    {
     "data": {
      "image/png": "[encoded data removed]",
      "text/plain": [
       "<Figure size 640x480 with 2 Axes>"
      ]
     },
     "metadata": {},
     "output_type": "display_data"
    }
   ],
   "source": [
    "sklearn.metrics.ConfusionMatrixDisplay(sklearn.metrics.confusion_matrix(importance_factor_duplicated_data['Win_Loss_Flag'], linreg_no_val_predictions)).plot()"
   ]
  },
  {
   "cell_type": "code",
   "execution_count": 78,
   "metadata": {},
   "outputs": [],
   "source": [
    "def proper_cross_validation(clf, X, y, k=5):\n",
    "    from sklearn.model_selection import KFold\n",
    "    kf = KFold(n_splits=k)\n",
    "    confusion_matrices = []\n",
    "    for train_index, test_index in kf.split(X):\n",
    "        X_train, X_test = X.iloc[train_index], X.iloc[test_index]\n",
    "        y_train, y_test = y.iloc[train_index], y.iloc[test_index]\n",
    "        clf.fit(X_train, y_train)\n",
    "        confusion_matrices.append(sklearn.metrics.confusion_matrix(y_test, clf.predict(X_test)))\n",
    "    total_confusion_matrix = sum(confusion_matrices)\n",
    "    return total_confusion_matrix"
   ]
  },
  {
   "cell_type": "code",
   "execution_count": 79,
   "metadata": {},
   "outputs": [],
   "source": [
    "cms = proper_cross_validation(LogisticRegression(random_state=0, max_iter=10000), prediction_data_normalized, importance_factor_duplicated_data['Win_Loss_Flag'])"
   ]
  },
  {
   "cell_type": "code",
   "execution_count": 80,
   "metadata": {},
   "outputs": [
    {
     "data": {
      "text/plain": [
       "<sklearn.metrics._plot.confusion_matrix.ConfusionMatrixDisplay at 0x1cce86db880>"
      ]
     },
     "execution_count": 80,
     "metadata": {},
     "output_type": "execute_result"
    },
    {
     "data": {
      "image/png": "[encoded data removed]",
      "text/plain": [
       "<Figure size 640x480 with 2 Axes>"
      ]
     },
     "metadata": {},
     "output_type": "display_data"
    }
   ],
   "source": [
    "sklearn.metrics.ConfusionMatrixDisplay(cms).plot()"
   ]
  },
  {
   "cell_type": "code",
   "execution_count": 81,
   "metadata": {},
   "outputs": [
    {
     "data": {
      "text/plain": [
       "array([[5923, 1745],\n",
       "       [1769, 5899]], dtype=int64)"
      ]
     },
     "execution_count": 81,
     "metadata": {},
     "output_type": "execute_result"
    }
   ],
   "source": [
    "cms"
   ]
  },
  {
   "cell_type": "code",
   "execution_count": 82,
   "metadata": {},
   "outputs": [],
   "source": [
    "def expected_games_right(confusion_matrix):\n",
    "    accuracy = (confusion_matrix[0,0] + confusion_matrix[1,1]) / confusion_matrix.sum()\n",
    "    print(f\"accuracy: {accuracy}\")\n",
    "    gr = 32.0 * accuracy\n",
    "    gr = gr + (16 * (accuracy ** 2))\n",
    "    gr = gr + (8 * (accuracy ** 3))\n",
    "    gr = gr + (4 * (accuracy ** 4))\n",
    "    gr = gr + (2 * (accuracy ** 5))\n",
    "    gr = gr + (1 * (accuracy ** 6))\n",
    "    return gr"
   ]
  },
  {
   "cell_type": "code",
   "execution_count": 83,
   "metadata": {},
   "outputs": [],
   "source": [
    "def expected_score(confusion_matrix):\n",
    "    accuracy = (confusion_matrix[0,0] + confusion_matrix[1,1]) / confusion_matrix.sum()\n",
    "    gr = 32.0 * accuracy\n",
    "    gr = gr + (32 * (accuracy ** 2))\n",
    "    gr = gr + (32 * (accuracy ** 3))\n",
    "    gr = gr + (32 * (accuracy ** 4))\n",
    "    gr = gr + (32 * (accuracy ** 5))\n",
    "    gr = gr + (32 * (accuracy ** 6))\n",
    "    return gr"
   ]
  },
  {
   "cell_type": "code",
   "execution_count": 84,
   "metadata": {},
   "outputs": [
    {
     "name": "stdout",
     "output_type": "stream",
     "text": [
      "accuracy: 0.7708659363588941\n"
     ]
    },
    {
     "data": {
      "text/plain": [
       "40.00675639458484"
      ]
     },
     "execution_count": 84,
     "metadata": {},
     "output_type": "execute_result"
    }
   ],
   "source": [
    "expected_games_right(cms)"
   ]
  },
  {
   "cell_type": "code",
   "execution_count": 85,
   "metadata": {},
   "outputs": [
    {
     "data": {
      "text/plain": [
       "85.06643631576009"
      ]
     },
     "execution_count": 85,
     "metadata": {},
     "output_type": "execute_result"
    }
   ],
   "source": [
    "expected_score(cms)"
   ]
  },
  {
   "cell_type": "code",
   "execution_count": 91,
   "metadata": {},
   "outputs": [
    {
     "name": "stdout",
     "output_type": "stream",
     "text": [
      "accuracy: 0.7756911841418883\n",
      "expected games correct: 40.41076918290616\n",
      "expected score: 86.55443886740565\n"
     ]
    },
    {
     "data": {
      "image/png": "[encoded data removed]",
      "text/plain": [
       "<Figure size 640x480 with 2 Axes>"
      ]
     },
     "metadata": {},
     "output_type": "display_data"
    }
   ],
   "source": [
    "from sklearn.decomposition import PCA\n",
    "from sklearn.neural_network import MLPClassifier\n",
    "pca = PCA(n_components=158)\n",
    "pca.fit(prediction_data_normalized)\n",
    "# tol=0.000001, max_iter=30000, solver=\"liblinear\"\n",
    "cms = proper_cross_validation(LogisticRegression(max_iter=30000), pd.DataFrame(pca.transform(prediction_data_normalized)), importance_factor_duplicated_data['Win_Loss_Flag'])\n",
    "sklearn.metrics.ConfusionMatrixDisplay(cms).plot()\n",
    "print(f\"expected games correct: {expected_games_right(cms)}\")\n",
    "print(f\"expected score: {expected_score(cms)}\")"
   ]
  },
  {
   "cell_type": "code",
   "execution_count": 89,
   "metadata": {},
   "outputs": [
    {
     "name": "stdout",
     "output_type": "stream",
     "text": [
      "accuracy: 0.49947835159102766\n",
      "accuracy: 0.5100417318727178\n"
     ]
    },
    {
     "name": "stderr",
     "output_type": "stream",
     "text": [
      "C:\\Users\\amarl\\AppData\\Local\\Temp\\ipykernel_20492\\3768782804.py:6: FutureWarning: The behavior of DataFrame concatenation with empty or all-NA entries is deprecated. In a future version, this will no longer exclude empty or all-NA columns when determining the result dtypes. To retain the old behavior, exclude the relevant entries before the concat operation.\n",
      "  results_df = pd.concat([results_df, pd.DataFrame({\"n_components\": [i], \"expected_games_right\": [expected_games_right(cms)], \"expected_score\": [expected_score(cms)]})])\n"
     ]
    },
    {
     "name": "stdout",
     "output_type": "stream",
     "text": [
      "accuracy: 0.6264997391757955\n",
      "accuracy: 0.662623891497131\n",
      "accuracy: 0.6759259259259259\n",
      "accuracy: 0.6752738654147105\n",
      "accuracy: 0.6733828899321858\n",
      "accuracy: 0.6754694835680751\n",
      "accuracy: 0.6854460093896714\n",
      "accuracy: 0.685641627543036\n",
      "accuracy: 0.7013562858633281\n",
      "accuracy: 0.7055946791862285\n",
      "accuracy: 0.7059859154929577\n",
      "accuracy: 0.7175273865414711\n",
      "accuracy: 0.7160928534167971\n",
      "accuracy: 0.7166145018257695\n",
      "accuracy: 0.7150495565988524\n",
      "accuracy: 0.718961919666145\n",
      "accuracy: 0.719548774126239\n",
      "accuracy: 0.7236567553468962\n",
      "accuracy: 0.724960876369327\n",
      "accuracy: 0.7325899843505478\n",
      "accuracy: 0.731546687532603\n",
      "accuracy: 0.730829420970266\n",
      "accuracy: 0.7291340636411059\n",
      "accuracy: 0.7271778821074596\n",
      "accuracy: 0.7255477308294209\n",
      "accuracy: 0.7242436098069901\n",
      "accuracy: 0.7206572769953051\n",
      "accuracy: 0.7243740219092332\n",
      "accuracy: 0.7206572769953051\n",
      "accuracy: 0.7153755868544601\n",
      "accuracy: 0.7207224830464267\n",
      "accuracy: 0.7224178403755869\n",
      "accuracy: 0.7213093375065206\n",
      "accuracy: 0.7174621804903495\n",
      "accuracy: 0.7172013562858633\n",
      "accuracy: 0.7187663015127804\n",
      "accuracy: 0.7213745435576422\n",
      "accuracy: 0.7196139801773604\n",
      "accuracy: 0.7125065206051121\n",
      "accuracy: 0.7125717266562337\n",
      "accuracy: 0.71452790818988\n",
      "accuracy: 0.7156364110589463\n",
      "accuracy: 0.7185706833594158\n",
      "accuracy: 0.7220918101199791\n",
      "accuracy: 0.7217005738132499\n",
      "accuracy: 0.7210485133020345\n",
      "accuracy: 0.7229394887845592\n",
      "accuracy: 0.7199400104329682\n",
      "accuracy: 0.7198095983307251\n",
      "accuracy: 0.7150495565988524\n",
      "accuracy: 0.7222874282733438\n",
      "accuracy: 0.7230699008868023\n",
      "accuracy: 0.7163536776212832\n",
      "accuracy: 0.7160928534167971\n",
      "accuracy: 0.721244131455399\n",
      "accuracy: 0.7153755868544601\n",
      "accuracy: 0.723982785602504\n",
      "accuracy: 0.7250912884715701\n",
      "accuracy: 0.7237871674491393\n",
      "accuracy: 0.7281559728742827\n",
      "accuracy: 0.7235915492957746\n",
      "accuracy: 0.7278299426186751\n",
      "accuracy: 0.7248956703182056\n",
      "accuracy: 0.7297209181011998\n",
      "accuracy: 0.727112676056338\n",
      "accuracy: 0.7282211789254043\n",
      "accuracy: 0.7295905059989567\n",
      "accuracy: 0.727112676056338\n",
      "accuracy: 0.7256129368805425\n",
      "accuracy: 0.7239175795513824\n",
      "accuracy: 0.7224178403755869\n",
      "accuracy: 0.7227438706311946\n",
      "accuracy: 0.7235915492957746\n",
      "accuracy: 0.7234611371935316\n",
      "accuracy: 0.7237871674491393\n",
      "accuracy: 0.7238523735002608\n",
      "accuracy: 0.7316118935837246\n",
      "accuracy: 0.7321335419926969\n",
      "accuracy: 0.7321335419926969\n",
      "accuracy: 0.7348721961398018\n",
      "accuracy: 0.7294600938967136\n",
      "accuracy: 0.7331768388106417\n",
      "accuracy: 0.7333072509128847\n",
      "accuracy: 0.731546687532603\n",
      "accuracy: 0.7288080333854982\n",
      "accuracy: 0.7265910276473657\n",
      "accuracy: 0.7378716744913928\n",
      "accuracy: 0.7398930620761607\n",
      "accuracy: 0.7462180490349505\n",
      "accuracy: 0.7398278560250391\n",
      "accuracy: 0.738849765258216\n",
      "accuracy: 0.739697443922796\n",
      "accuracy: 0.737415232133542\n",
      "accuracy: 0.7354590505998957\n",
      "accuracy: 0.7431533646322379\n",
      "accuracy: 0.7477829942618675\n",
      "accuracy: 0.7496739697443923\n",
      "accuracy: 0.7384585289514867\n",
      "accuracy: 0.7461528429838289\n",
      "accuracy: 0.7487610850286907\n",
      "accuracy: 0.7419144496609286\n",
      "accuracy: 0.7357850808555034\n",
      "accuracy: 0.7420448617631716\n",
      "accuracy: 0.7356546687532604\n",
      "accuracy: 0.735980699008868\n",
      "accuracy: 0.7390453834115805\n",
      "accuracy: 0.7449139280125195\n",
      "accuracy: 0.7397626499739176\n",
      "accuracy: 0.7421100678142931\n",
      "accuracy: 0.7357850808555034\n",
      "accuracy: 0.7417840375586855\n",
      "accuracy: 0.736567553468962\n",
      "accuracy: 0.7363067292644757\n",
      "accuracy: 0.7378716744913928\n",
      "accuracy: 0.7421752738654147\n",
      "accuracy: 0.7430881585811163\n",
      "accuracy: 0.7481090245174752\n",
      "accuracy: 0.7497391757955139\n",
      "accuracy: 0.7542383933229003\n",
      "accuracy: 0.7574986958789776\n",
      "accuracy: 0.7574986958789776\n",
      "accuracy: 0.7518909754825248\n",
      "accuracy: 0.7510432968179447\n",
      "accuracy: 0.7557381324986959\n",
      "accuracy: 0.7513041210224308\n",
      "accuracy: 0.7456964006259781\n",
      "accuracy: 0.7446531038080334\n",
      "accuracy: 0.7524126238914971\n",
      "accuracy: 0.75084767866458\n",
      "accuracy: 0.7526734480959834\n",
      "accuracy: 0.7539775691184142\n",
      "accuracy: 0.7515649452269171\n",
      "accuracy: 0.7525430359937402\n",
      "accuracy: 0.7532603025560772\n",
      "accuracy: 0.7539775691184142\n",
      "accuracy: 0.7541079812206573\n",
      "accuracy: 0.7539775691184142\n",
      "accuracy: 0.7541731872717788\n",
      "accuracy: 0.7531298904538342\n",
      "accuracy: 0.7577595200834637\n",
      "accuracy: 0.7565206051121544\n",
      "accuracy: 0.7657146583202922\n",
      "accuracy: 0.7640845070422535\n",
      "accuracy: 0.7683881064162754\n",
      "accuracy: 0.7704747000521649\n",
      "accuracy: 0.7704747000521649\n",
      "accuracy: 0.7697574334898278\n",
      "accuracy: 0.7711267605633803\n",
      "accuracy: 0.7702790818988002\n",
      "accuracy: 0.7709963484611372\n",
      "accuracy: 0.7702790818988002\n",
      "accuracy: 0.7696270213875848\n",
      "accuracy: 0.76773604590506\n",
      "accuracy: 0.7696922274387064\n",
      "accuracy: 0.7730177360459051\n",
      "accuracy: 0.7756911841418883\n",
      "accuracy: 0.7748435054773083\n",
      "accuracy: 0.7674100156494522\n",
      "accuracy: 0.7686489306207616\n",
      "accuracy: 0.7660406885758998\n",
      "accuracy: 0.7654538341158059\n",
      "accuracy: 0.7631716223265519\n",
      "accuracy: 0.7629107981220657\n",
      "accuracy: 0.770605112154408\n",
      "accuracy: 0.770735524256651\n",
      "accuracy: 0.770018257694314\n",
      "accuracy: 0.7719092331768388\n",
      "accuracy: 0.7679316640584246\n",
      "accuracy: 0.7683229003651539\n"
     ]
    }
   ],
   "source": [
    "results_df = pd.DataFrame(columns=[\"n_components\", \"expected_games_right\", \"expected_score\"])\n",
    "for i in range(1, 172):\n",
    "    pca = PCA(n_components=i)\n",
    "    pca.fit(prediction_data_normalized)\n",
    "    cms = proper_cross_validation(LogisticRegression(max_iter=30000), pd.DataFrame(pca.transform(prediction_data_normalized)), importance_factor_duplicated_data['Win_Loss_Flag'])\n",
    "    results_df = pd.concat([results_df, pd.DataFrame({\"n_components\": [i], \"expected_games_right\": [expected_games_right(cms)], \"expected_score\": [expected_score(cms)]})])"
   ]
  },
  {
   "cell_type": "code",
   "execution_count": 90,
   "metadata": {},
   "outputs": [
    {
     "data": {
      "text/html": [
       "<div>\n",
       "<style scoped>\n",
       "    .dataframe tbody tr th:only-of-type {\n",
       "        vertical-align: middle;\n",
       "    }\n",
       "\n",
       "    .dataframe tbody tr th {\n",
       "        vertical-align: top;\n",
       "    }\n",
       "\n",
       "    .dataframe thead th {\n",
       "        text-align: right;\n",
       "    }\n",
       "</style>\n",
       "<table border=\"1\" class=\"dataframe\">\n",
       "  <thead>\n",
       "    <tr style=\"text-align: right;\">\n",
       "      <th></th>\n",
       "      <th>n_components</th>\n",
       "      <th>expected_games_right</th>\n",
       "      <th>expected_score</th>\n",
       "    </tr>\n",
       "  </thead>\n",
       "  <tbody>\n",
       "    <tr>\n",
       "      <th>0</th>\n",
       "      <td>142</td>\n",
       "      <td>38.924149</td>\n",
       "      <td>81.149530</td>\n",
       "    </tr>\n",
       "    <tr>\n",
       "      <th>0</th>\n",
       "      <td>143</td>\n",
       "      <td>38.822916</td>\n",
       "      <td>80.788509</td>\n",
       "    </tr>\n",
       "    <tr>\n",
       "      <th>0</th>\n",
       "      <td>144</td>\n",
       "      <td>39.578694</td>\n",
       "      <td>83.505438</td>\n",
       "    </tr>\n",
       "    <tr>\n",
       "      <th>0</th>\n",
       "      <td>145</td>\n",
       "      <td>39.443924</td>\n",
       "      <td>83.017298</td>\n",
       "    </tr>\n",
       "    <tr>\n",
       "      <th>0</th>\n",
       "      <td>146</td>\n",
       "      <td>39.800436</td>\n",
       "      <td>84.312056</td>\n",
       "    </tr>\n",
       "    <tr>\n",
       "      <th>0</th>\n",
       "      <td>147</td>\n",
       "      <td>39.974128</td>\n",
       "      <td>84.946887</td>\n",
       "    </tr>\n",
       "    <tr>\n",
       "      <th>0</th>\n",
       "      <td>148</td>\n",
       "      <td>39.974128</td>\n",
       "      <td>84.946887</td>\n",
       "    </tr>\n",
       "    <tr>\n",
       "      <th>0</th>\n",
       "      <td>149</td>\n",
       "      <td>39.914359</td>\n",
       "      <td>84.728140</td>\n",
       "    </tr>\n",
       "    <tr>\n",
       "      <th>0</th>\n",
       "      <td>150</td>\n",
       "      <td>40.028519</td>\n",
       "      <td>85.146227</td>\n",
       "    </tr>\n",
       "    <tr>\n",
       "      <th>0</th>\n",
       "      <td>151</td>\n",
       "      <td>39.957821</td>\n",
       "      <td>84.887174</td>\n",
       "    </tr>\n",
       "    <tr>\n",
       "      <th>0</th>\n",
       "      <td>152</td>\n",
       "      <td>40.017637</td>\n",
       "      <td>85.106322</td>\n",
       "    </tr>\n",
       "    <tr>\n",
       "      <th>0</th>\n",
       "      <td>153</td>\n",
       "      <td>39.957821</td>\n",
       "      <td>84.887174</td>\n",
       "    </tr>\n",
       "    <tr>\n",
       "      <th>0</th>\n",
       "      <td>154</td>\n",
       "      <td>39.903499</td>\n",
       "      <td>84.688426</td>\n",
       "    </tr>\n",
       "    <tr>\n",
       "      <th>0</th>\n",
       "      <td>155</td>\n",
       "      <td>39.746270</td>\n",
       "      <td>84.114622</td>\n",
       "    </tr>\n",
       "    <tr>\n",
       "      <th>0</th>\n",
       "      <td>156</td>\n",
       "      <td>39.908929</td>\n",
       "      <td>84.708281</td>\n",
       "    </tr>\n",
       "    <tr>\n",
       "      <th>0</th>\n",
       "      <td>157</td>\n",
       "      <td>40.186559</td>\n",
       "      <td>85.726896</td>\n",
       "    </tr>\n",
       "    <tr>\n",
       "      <th>0</th>\n",
       "      <td>158</td>\n",
       "      <td>40.410769</td>\n",
       "      <td>86.554439</td>\n",
       "    </tr>\n",
       "    <tr>\n",
       "      <th>0</th>\n",
       "      <td>159</td>\n",
       "      <td>40.339580</td>\n",
       "      <td>86.291207</td>\n",
       "    </tr>\n",
       "    <tr>\n",
       "      <th>0</th>\n",
       "      <td>160</td>\n",
       "      <td>39.719207</td>\n",
       "      <td>84.016074</td>\n",
       "    </tr>\n",
       "    <tr>\n",
       "      <th>0</th>\n",
       "      <td>161</td>\n",
       "      <td>39.822118</td>\n",
       "      <td>84.391156</td>\n",
       "    </tr>\n",
       "    <tr>\n",
       "      <th>0</th>\n",
       "      <td>162</td>\n",
       "      <td>39.605688</td>\n",
       "      <td>83.603402</td>\n",
       "    </tr>\n",
       "    <tr>\n",
       "      <th>0</th>\n",
       "      <td>163</td>\n",
       "      <td>39.557108</td>\n",
       "      <td>83.427148</td>\n",
       "    </tr>\n",
       "    <tr>\n",
       "      <th>0</th>\n",
       "      <td>164</td>\n",
       "      <td>39.368598</td>\n",
       "      <td>82.745157</td>\n",
       "    </tr>\n",
       "    <tr>\n",
       "      <th>0</th>\n",
       "      <td>165</td>\n",
       "      <td>39.347096</td>\n",
       "      <td>82.667562</td>\n",
       "    </tr>\n",
       "    <tr>\n",
       "      <th>0</th>\n",
       "      <td>166</td>\n",
       "      <td>39.985002</td>\n",
       "      <td>84.986719</td>\n",
       "    </tr>\n",
       "    <tr>\n",
       "      <th>0</th>\n",
       "      <td>167</td>\n",
       "      <td>39.995878</td>\n",
       "      <td>85.026568</td>\n",
       "    </tr>\n",
       "    <tr>\n",
       "      <th>0</th>\n",
       "      <td>168</td>\n",
       "      <td>39.936086</td>\n",
       "      <td>84.807621</td>\n",
       "    </tr>\n",
       "    <tr>\n",
       "      <th>0</th>\n",
       "      <td>169</td>\n",
       "      <td>40.093860</td>\n",
       "      <td>85.386037</td>\n",
       "    </tr>\n",
       "    <tr>\n",
       "      <th>0</th>\n",
       "      <td>170</td>\n",
       "      <td>39.762514</td>\n",
       "      <td>84.173804</td>\n",
       "    </tr>\n",
       "    <tr>\n",
       "      <th>0</th>\n",
       "      <td>171</td>\n",
       "      <td>39.795017</td>\n",
       "      <td>84.292292</td>\n",
       "    </tr>\n",
       "  </tbody>\n",
       "</table>\n",
       "</div>"
      ],
      "text/plain": [
       "  n_components  expected_games_right  expected_score\n",
       "0          142             38.924149       81.149530\n",
       "0          143             38.822916       80.788509\n",
       "0          144             39.578694       83.505438\n",
       "0          145             39.443924       83.017298\n",
       "0          146             39.800436       84.312056\n",
       "0          147             39.974128       84.946887\n",
       "0          148             39.974128       84.946887\n",
       "0          149             39.914359       84.728140\n",
       "0          150             40.028519       85.146227\n",
       "0          151             39.957821       84.887174\n",
       "0          152             40.017637       85.106322\n",
       "0          153             39.957821       84.887174\n",
       "0          154             39.903499       84.688426\n",
       "0          155             39.746270       84.114622\n",
       "0          156             39.908929       84.708281\n",
       "0          157             40.186559       85.726896\n",
       "0          158             40.410769       86.554439\n",
       "0          159             40.339580       86.291207\n",
       "0          160             39.719207       84.016074\n",
       "0          161             39.822118       84.391156\n",
       "0          162             39.605688       83.603402\n",
       "0          163             39.557108       83.427148\n",
       "0          164             39.368598       82.745157\n",
       "0          165             39.347096       82.667562\n",
       "0          166             39.985002       84.986719\n",
       "0          167             39.995878       85.026568\n",
       "0          168             39.936086       84.807621\n",
       "0          169             40.093860       85.386037\n",
       "0          170             39.762514       84.173804\n",
       "0          171             39.795017       84.292292"
      ]
     },
     "execution_count": 90,
     "metadata": {},
     "output_type": "execute_result"
    }
   ],
   "source": [
    "results_df.tail(30)"
   ]
  },
  {
   "cell_type": "code",
   "execution_count": null,
   "metadata": {},
   "outputs": [],
   "source": [
    "new_data = pd.read_sql(\"select * from sports_data.tourney_games_2025_potential\", conn)\n",
    "new_data = new_data.replace(np.NaN, 0)"
   ]
  },
  {
   "cell_type": "code",
   "execution_count": 153,
   "metadata": {},
   "outputs": [],
   "source": [
    "wk = new_data[new_data['team'].str.contains('Conn')]\n",
    "a = wk[wk['opponent'].str.contains('Hou')].head()[['season_ppg', 'season_ppg_allowed','opponent_season_ppg', 'opponent_season_ppg_allowed']]\n"
   ]
  },
  {
   "cell_type": "code",
   "execution_count": 156,
   "metadata": {},
   "outputs": [
    {
     "data": {
      "text/plain": [
       "32    136.705882\n",
       "dtype: float64"
      ]
     },
     "execution_count": 156,
     "metadata": {},
     "output_type": "execute_result"
    }
   ],
   "source": [
    "(a['season_ppg'] + a['opponent_season_ppg'] + a['season_ppg_allowed'] + a['opponent_season_ppg_allowed']) / 2"
   ]
  },
  {
   "cell_type": "code",
   "execution_count": 89,
   "metadata": {},
   "outputs": [],
   "source": [
    "pca = PCA(n_components=171)\n",
    "pca.fit(prediction_data_normalized)\n",
    "# tol=0.000001, max_iter=30000, solver=\"liblinear\"\n",
    "cms = proper_cross_validation(LogisticRegression(max_iter=30000), pd.DataFrame(pca.transform(prediction_data_normalized)), data['Win_Loss_Flag'])\n",
    "clf = LogisticRegression(random_state=0).fit(pd.DataFrame(pca.transform(prediction_data_normalized)), data['Win_Loss_Flag'])"
   ]
  },
  {
   "cell_type": "code",
   "execution_count": 91,
   "metadata": {},
   "outputs": [],
   "source": [
    "new_prediction_data = new_data[predictor_cols]\n",
    "new_prediction_data_normalized = (new_prediction_data-prediction_data.mean())/prediction_data.std()\n",
    "new_data_pca = pca.transform(new_prediction_data_normalized)"
   ]
  },
  {
   "cell_type": "code",
   "execution_count": 92,
   "metadata": {},
   "outputs": [],
   "source": [
    "new_data['prediction'] = clf.predict(new_data_pca)\n",
    "new_data['prediction_lose'] = [x[0] for x in clf.predict_proba(new_data_pca)]\n",
    "new_data['prediction_win'] = [x[1] for x in clf.predict_proba(new_data_pca)]\n",
    "preds = new_data[['season', 'team', 'opponent', 'prediction', 'prediction_lose', 'prediction_win']]"
   ]
  },
  {
   "cell_type": "code",
   "execution_count": 164,
   "metadata": {},
   "outputs": [
    {
     "data": {
      "text/html": [
       "<div>\n",
       "<style scoped>\n",
       "    .dataframe tbody tr th:only-of-type {\n",
       "        vertical-align: middle;\n",
       "    }\n",
       "\n",
       "    .dataframe tbody tr th {\n",
       "        vertical-align: top;\n",
       "    }\n",
       "\n",
       "    .dataframe thead th {\n",
       "        text-align: right;\n",
       "    }\n",
       "</style>\n",
       "<table border=\"1\" class=\"dataframe\">\n",
       "  <thead>\n",
       "    <tr style=\"text-align: right;\">\n",
       "      <th></th>\n",
       "      <th>season</th>\n",
       "      <th>team</th>\n",
       "      <th>opponent</th>\n",
       "      <th>prediction</th>\n",
       "      <th>prediction_lose</th>\n",
       "      <th>prediction_win</th>\n",
       "    </tr>\n",
       "  </thead>\n",
       "  <tbody>\n",
       "    <tr>\n",
       "      <th>32</th>\n",
       "      <td>2024</td>\n",
       "      <td>Connecticut</td>\n",
       "      <td>Houston</td>\n",
       "      <td>0</td>\n",
       "      <td>0.538391</td>\n",
       "      <td>0.461609</td>\n",
       "    </tr>\n",
       "  </tbody>\n",
       "</table>\n",
       "</div>"
      ],
      "text/plain": [
       "    season         team opponent  prediction  prediction_lose  prediction_win\n",
       "32    2024  Connecticut  Houston           0         0.538391        0.461609"
      ]
     },
     "execution_count": 164,
     "metadata": {},
     "output_type": "execute_result"
    }
   ],
   "source": [
    "wk = preds[preds['team'].str.contains('Conn')]\n",
    "wk[wk['opponent'].str.contains('Houston')]"
   ]
  }
 ],
 "metadata": {
  "kernelspec": {
   "display_name": ".venv",
   "language": "python",
   "name": "python3"
  },
  "language_info": {
   "codemirror_mode": {
    "name": "ipython",
    "version": 3
   },
   "file_extension": ".py",
   "mimetype": "text/x-python",
   "name": "python",
   "nbconvert_exporter": "python",
   "pygments_lexer": "ipython3",
   "version": "3.10.6"
  },
  "orig_nbformat": 4
 },
 "nbformat": 4,
 "nbformat_minor": 2
}
