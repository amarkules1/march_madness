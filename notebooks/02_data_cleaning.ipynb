{
 "cells": [
  {
   "cell_type": "markdown",
   "metadata": {},
   "source": [
    "To Do:\n",
    "Clean up result and separate into result, score, and opponent score\n",
    "Convert Game type to words"
   ]
  },
  {
   "cell_type": "code",
   "execution_count": 8,
   "metadata": {},
   "outputs": [],
   "source": [
    "import os\n",
    "import pandas as pd\n",
    "import sqlalchemy\n",
    "from dotenv import load_dotenv, find_dotenv\n",
    "_ = load_dotenv(find_dotenv())\n",
    "\n",
    "connection_string = os.getenv(\"LINODE_CONN_STRING\")\n",
    "connection_string = os.getenv(\"LINODE_CONN_STRING\")\n",
    "conn = sqlalchemy.create_engine(os.getenv(\"LINODE_CONN_STRING\")).connect()"
   ]
  },
  {
   "cell_type": "code",
   "execution_count": 9,
   "metadata": {},
   "outputs": [],
   "source": [
    "data = pd.read_sql(\"SELECT * FROM sports_data.game_stats_2025\", conn)"
   ]
  },
  {
   "cell_type": "code",
   "execution_count": 10,
   "metadata": {},
   "outputs": [],
   "source": [
    "data.columns = [data.columns[i].lower() for i in range(len(data.columns))]"
   ]
  },
  {
   "cell_type": "code",
   "execution_count": 11,
   "metadata": {},
   "outputs": [],
   "source": [
    "data['Win_Loss'] = data['result'].apply(lambda x: x[:1])"
   ]
  },
  {
   "cell_type": "code",
   "execution_count": 12,
   "metadata": {},
   "outputs": [
    {
     "data": {
      "text/plain": [
       "Win_Loss\n",
       "L    97223\n",
       "W    97223\n",
       "Name: count, dtype: int64"
      ]
     },
     "execution_count": 12,
     "metadata": {},
     "output_type": "execute_result"
    }
   ],
   "source": [
    "data['Win_Loss'].value_counts()"
   ]
  },
  {
   "cell_type": "code",
   "execution_count": 13,
   "metadata": {},
   "outputs": [],
   "source": [
    "def determine_scores(row):\n",
    "    if row['Win_Loss'] == 'W':\n",
    "        row['score'] = row['result'][3:].split('-')[0]\n",
    "        row['opponent_score'] = row['result'][3:].split('-')[1]\n",
    "    else:\n",
    "        row['score'] = row['result'][3:].split('-')[1]\n",
    "        row['opponent_score'] = row['result'][3:].split('-')[0]\n",
    "    return row"
   ]
  },
  {
   "cell_type": "code",
   "execution_count": 14,
   "metadata": {},
   "outputs": [],
   "source": [
    "data = data.apply(determine_scores, axis=1)"
   ]
  },
  {
   "cell_type": "code",
   "execution_count": 15,
   "metadata": {},
   "outputs": [],
   "source": [
    "data['opponent_score'] = data['result'].apply(lambda x: x[3:].split('-')[1])"
   ]
  },
  {
   "cell_type": "code",
   "execution_count": 16,
   "metadata": {},
   "outputs": [
    {
     "data": {
      "application/vnd.microsoft.datawrangler.viewer.v0+json": {
       "columns": [
        {
         "name": "index",
         "rawType": "int64",
         "type": "integer"
        },
        {
         "name": "result",
         "rawType": "object",
         "type": "string"
        },
        {
         "name": "Win_Loss",
         "rawType": "object",
         "type": "string"
        },
        {
         "name": "score",
         "rawType": "object",
         "type": "string"
        },
        {
         "name": "opponent_score",
         "rawType": "object",
         "type": "string"
        }
       ],
       "conversionMethod": "pd.DataFrame",
       "ref": "8f475041-78c8-43a3-82d1-46927b0158d1",
       "rows": [
        [
         "0",
         "L, 88-57",
         "L",
         "57",
         "57"
        ],
        [
         "1",
         "W, 88-57",
         "W",
         "88",
         "57"
        ],
        [
         "2",
         "L, 83-60",
         "L",
         "60",
         "60"
        ],
        [
         "3",
         "W, 83-60",
         "W",
         "83",
         "60"
        ],
        [
         "4",
         "L, 88-58",
         "L",
         "58",
         "58"
        ],
        [
         "5",
         "W, 88-58",
         "W",
         "88",
         "58"
        ],
        [
         "6",
         "L, 84-78",
         "L",
         "78",
         "78"
        ],
        [
         "7",
         "W, 84-78",
         "W",
         "84",
         "78"
        ],
        [
         "8",
         "L, 85-59",
         "L",
         "59",
         "59"
        ],
        [
         "9",
         "W, 85-59",
         "W",
         "85",
         "59"
        ],
        [
         "10",
         "W, 71-55",
         "W",
         "71",
         "55"
        ],
        [
         "11",
         "L, 71-55",
         "L",
         "55",
         "55"
        ],
        [
         "12",
         "W, 78-70",
         "W",
         "78",
         "70"
        ],
        [
         "13",
         "L, 78-70",
         "L",
         "70",
         "70"
        ],
        [
         "14",
         "L, 66-64",
         "L",
         "64",
         "64"
        ],
        [
         "15",
         "W, 66-64",
         "W",
         "66",
         "64"
        ],
        [
         "16",
         "L, 69-63",
         "L",
         "63",
         "63"
        ],
        [
         "17",
         "W, 69-63",
         "W",
         "69",
         "63"
        ],
        [
         "18",
         "W, 82-74",
         "W",
         "82",
         "74"
        ],
        [
         "19",
         "L, 82-74",
         "L",
         "74",
         "74"
        ],
        [
         "20",
         "W, 84-70",
         "W",
         "84",
         "70"
        ],
        [
         "21",
         "L, 84-70",
         "L",
         "70",
         "70"
        ],
        [
         "22",
         "L, 67-52",
         "L",
         "52",
         "52"
        ],
        [
         "23",
         "W, 67-52",
         "W",
         "67",
         "52"
        ],
        [
         "24",
         "L, 68-67",
         "L",
         "67",
         "67"
        ],
        [
         "25",
         "W, 68-67",
         "W",
         "68",
         "67"
        ],
        [
         "26",
         "L, 92-54",
         "L",
         "54",
         "54"
        ],
        [
         "27",
         "W, 92-54",
         "W",
         "92",
         "54"
        ],
        [
         "28",
         "W, 70-59",
         "W",
         "70",
         "59"
        ],
        [
         "29",
         "L, 70-59",
         "L",
         "59",
         "59"
        ],
        [
         "30",
         "W, 86-72",
         "W",
         "86",
         "72"
        ],
        [
         "31",
         "L, 86-72",
         "L",
         "72",
         "72"
        ],
        [
         "32",
         "L, 64-53",
         "L",
         "53",
         "53"
        ],
        [
         "33",
         "W, 64-53",
         "W",
         "64",
         "53"
        ],
        [
         "34",
         "L, 77-59",
         "L",
         "59",
         "59"
        ],
        [
         "35",
         "W, 77-59",
         "W",
         "77",
         "59"
        ],
        [
         "36",
         "L, 78-69",
         "L",
         "69",
         "69"
        ],
        [
         "37",
         "W, 78-69",
         "W",
         "78",
         "69"
        ],
        [
         "38",
         "L, 79-58",
         "L",
         "58",
         "58"
        ],
        [
         "39",
         "W, 79-58",
         "W",
         "79",
         "58"
        ],
        [
         "40",
         "L, 74-65",
         "L",
         "65",
         "65"
        ],
        [
         "41",
         "W, 74-65",
         "W",
         "74",
         "65"
        ],
        [
         "42",
         "L, 73-60",
         "L",
         "60",
         "60"
        ],
        [
         "43",
         "W, 73-60",
         "W",
         "73",
         "60"
        ],
        [
         "44",
         "L, 68-62",
         "L",
         "62",
         "62"
        ],
        [
         "45",
         "W, 68-62",
         "W",
         "68",
         "62"
        ],
        [
         "46",
         "L, 92-71",
         "L",
         "71",
         "71"
        ],
        [
         "47",
         "W, 92-71",
         "W",
         "92",
         "71"
        ],
        [
         "48",
         "L, 81-76",
         "L",
         "76",
         "76"
        ],
        [
         "49",
         "W, 81-76",
         "W",
         "81",
         "76"
        ]
       ],
       "shape": {
        "columns": 4,
        "rows": 194446
       }
      },
      "text/html": [
       "<div>\n",
       "<style scoped>\n",
       "    .dataframe tbody tr th:only-of-type {\n",
       "        vertical-align: middle;\n",
       "    }\n",
       "\n",
       "    .dataframe tbody tr th {\n",
       "        vertical-align: top;\n",
       "    }\n",
       "\n",
       "    .dataframe thead th {\n",
       "        text-align: right;\n",
       "    }\n",
       "</style>\n",
       "<table border=\"1\" class=\"dataframe\">\n",
       "  <thead>\n",
       "    <tr style=\"text-align: right;\">\n",
       "      <th></th>\n",
       "      <th>result</th>\n",
       "      <th>Win_Loss</th>\n",
       "      <th>score</th>\n",
       "      <th>opponent_score</th>\n",
       "    </tr>\n",
       "  </thead>\n",
       "  <tbody>\n",
       "    <tr>\n",
       "      <th>0</th>\n",
       "      <td>L, 88-57</td>\n",
       "      <td>L</td>\n",
       "      <td>57</td>\n",
       "      <td>57</td>\n",
       "    </tr>\n",
       "    <tr>\n",
       "      <th>1</th>\n",
       "      <td>W, 88-57</td>\n",
       "      <td>W</td>\n",
       "      <td>88</td>\n",
       "      <td>57</td>\n",
       "    </tr>\n",
       "    <tr>\n",
       "      <th>2</th>\n",
       "      <td>L, 83-60</td>\n",
       "      <td>L</td>\n",
       "      <td>60</td>\n",
       "      <td>60</td>\n",
       "    </tr>\n",
       "    <tr>\n",
       "      <th>3</th>\n",
       "      <td>W, 83-60</td>\n",
       "      <td>W</td>\n",
       "      <td>83</td>\n",
       "      <td>60</td>\n",
       "    </tr>\n",
       "    <tr>\n",
       "      <th>4</th>\n",
       "      <td>L, 88-58</td>\n",
       "      <td>L</td>\n",
       "      <td>58</td>\n",
       "      <td>58</td>\n",
       "    </tr>\n",
       "    <tr>\n",
       "      <th>...</th>\n",
       "      <td>...</td>\n",
       "      <td>...</td>\n",
       "      <td>...</td>\n",
       "      <td>...</td>\n",
       "    </tr>\n",
       "    <tr>\n",
       "      <th>194441</th>\n",
       "      <td>W, 76-67</td>\n",
       "      <td>W</td>\n",
       "      <td>76</td>\n",
       "      <td>67</td>\n",
       "    </tr>\n",
       "    <tr>\n",
       "      <th>194442</th>\n",
       "      <td>W, 79-64</td>\n",
       "      <td>W</td>\n",
       "      <td>79</td>\n",
       "      <td>64</td>\n",
       "    </tr>\n",
       "    <tr>\n",
       "      <th>194443</th>\n",
       "      <td>L, 79-64</td>\n",
       "      <td>L</td>\n",
       "      <td>64</td>\n",
       "      <td>64</td>\n",
       "    </tr>\n",
       "    <tr>\n",
       "      <th>194444</th>\n",
       "      <td>L, 74-69</td>\n",
       "      <td>L</td>\n",
       "      <td>69</td>\n",
       "      <td>69</td>\n",
       "    </tr>\n",
       "    <tr>\n",
       "      <th>194445</th>\n",
       "      <td>W, 74-69</td>\n",
       "      <td>W</td>\n",
       "      <td>74</td>\n",
       "      <td>69</td>\n",
       "    </tr>\n",
       "  </tbody>\n",
       "</table>\n",
       "<p>194446 rows × 4 columns</p>\n",
       "</div>"
      ],
      "text/plain": [
       "          result Win_Loss score opponent_score\n",
       "0       L, 88-57        L    57             57\n",
       "1       W, 88-57        W    88             57\n",
       "2       L, 83-60        L    60             60\n",
       "3       W, 83-60        W    83             60\n",
       "4       L, 88-58        L    58             58\n",
       "...          ...      ...   ...            ...\n",
       "194441  W, 76-67        W    76             67\n",
       "194442  W, 79-64        W    79             64\n",
       "194443  L, 79-64        L    64             64\n",
       "194444  L, 74-69        L    69             69\n",
       "194445  W, 74-69        W    74             69\n",
       "\n",
       "[194446 rows x 4 columns]"
      ]
     },
     "execution_count": 16,
     "metadata": {},
     "output_type": "execute_result"
    }
   ],
   "source": [
    "data[['result', 'Win_Loss', 'score', 'opponent_score']]"
   ]
  },
  {
   "cell_type": "code",
   "execution_count": 17,
   "metadata": {},
   "outputs": [],
   "source": [
    "for i, row in data.iterrows():\n",
    "    score = int(row['score'])\n",
    "    opp_score = int(row['opponent_score'])\n",
    "    if row['Win_Loss'] == 'W' and opp_score > score:\n",
    "        print(f\"Error at index {i}\")\n",
    "    elif row['Win_Loss'] == 'L' and score > opp_score:\n",
    "        print(f\"Error at index {i}\")"
   ]
  },
  {
   "cell_type": "code",
   "execution_count": 18,
   "metadata": {},
   "outputs": [],
   "source": [
    "# 0 is Non-Conference, 1 is conference, 2 is conference tourney, 3 is NCAA tourney (generally? might be exceptions where 3 is other post season tourney)\n",
    "def convert_game_type(row):\n",
    "    if row['game_type'] == 0:\n",
    "        return 'Non-Conference'\n",
    "    elif row['game_type'] == 1:\n",
    "        return 'Conference'\n",
    "    elif row['game_type'] == 2:\n",
    "        return 'Conference Tourney'\n",
    "    elif row['game_type'] == 3:\n",
    "        return 'Post-Season Tourney'\n",
    "    else:\n",
    "        return 'Other'"
   ]
  },
  {
   "cell_type": "code",
   "execution_count": 19,
   "metadata": {},
   "outputs": [],
   "source": [
    "data['game_type'] = data.apply(convert_game_type, axis=1)"
   ]
  },
  {
   "cell_type": "code",
   "execution_count": 20,
   "metadata": {},
   "outputs": [
    {
     "data": {
      "text/plain": [
       "game_type\n",
       "Conference             108936\n",
       "Non-Conference          71318\n",
       "Conference Tourney      10002\n",
       "Post-Season Tourney      4190\n",
       "Name: count, dtype: int64"
      ]
     },
     "execution_count": 20,
     "metadata": {},
     "output_type": "execute_result"
    }
   ],
   "source": [
    "data['game_type'].value_counts()"
   ]
  },
  {
   "cell_type": "code",
   "execution_count": 21,
   "metadata": {},
   "outputs": [
    {
     "data": {
      "text/plain": [
       "194446"
      ]
     },
     "execution_count": 21,
     "metadata": {},
     "output_type": "execute_result"
    }
   ],
   "source": [
    "data.shape[0]"
   ]
  },
  {
   "cell_type": "code",
   "execution_count": 22,
   "metadata": {},
   "outputs": [],
   "source": [
    "conn.commit()"
   ]
  },
  {
   "cell_type": "code",
   "execution_count": 23,
   "metadata": {},
   "outputs": [
    {
     "data": {
      "text/plain": [
       "446"
      ]
     },
     "execution_count": 23,
     "metadata": {},
     "output_type": "execute_result"
    }
   ],
   "source": [
    "data.to_sql('game_stats_v3_2025', sqlalchemy.create_engine(os.getenv(\"LINODE_CONN_STRING\")), if_exists='replace', index=False, schema='sports_data')"
   ]
  }
 ],
 "metadata": {
  "kernelspec": {
   "display_name": ".venv",
   "language": "python",
   "name": "python3"
  },
  "language_info": {
   "codemirror_mode": {
    "name": "ipython",
    "version": 3
   },
   "file_extension": ".py",
   "mimetype": "text/x-python",
   "name": "python",
   "nbconvert_exporter": "python",
   "pygments_lexer": "ipython3",
   "version": "3.10.6"
  },
  "orig_nbformat": 4
 },
 "nbformat": 4,
 "nbformat_minor": 2
}
