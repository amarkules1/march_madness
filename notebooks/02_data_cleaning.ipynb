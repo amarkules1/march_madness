{
 "cells": [
  {
   "cell_type": "markdown",
   "metadata": {},
   "source": [
    "To Do:\n",
    "Clean up result and separate into result, score, and opponent score\n",
    "Convert Game type to words"
   ]
  },
  {
   "cell_type": "code",
   "execution_count": 1,
   "metadata": {},
   "outputs": [],
   "source": [
    "import os\n",
    "import pandas as pd\n",
    "import sqlalchemy\n",
    "from dotenv import load_dotenv, find_dotenv\n",
    "_ = load_dotenv(find_dotenv())\n",
    "\n",
    "connection_string = os.getenv(\"LINODE_CONN_STRING\")\n",
    "connection_string = os.getenv(\"LINODE_CONN_STRING\")\n",
    "conn = sqlalchemy.create_engine(os.getenv(\"LINODE_CONN_STRING\")).connect()"
   ]
  },
  {
   "cell_type": "code",
   "execution_count": 5,
   "metadata": {},
   "outputs": [],
   "source": [
    "data = pd.read_sql(\"SELECT * FROM sports_data.game_stats_2025\", conn)"
   ]
  },
  {
   "cell_type": "code",
   "execution_count": 6,
   "metadata": {},
   "outputs": [],
   "source": [
    "data['Win_Loss'] = data['result'].apply(lambda x: x[:1])"
   ]
  },
  {
   "cell_type": "code",
   "execution_count": 7,
   "metadata": {},
   "outputs": [
    {
     "data": {
      "text/plain": [
       "Win_Loss\n",
       "W    95392\n",
       "L    95392\n",
       "Name: count, dtype: int64"
      ]
     },
     "execution_count": 7,
     "metadata": {},
     "output_type": "execute_result"
    }
   ],
   "source": [
    "data['Win_Loss'].value_counts()"
   ]
  },
  {
   "cell_type": "code",
   "execution_count": 8,
   "metadata": {},
   "outputs": [],
   "source": [
    "def determine_scores(row):\n",
    "    if row['Win_Loss'] == 'W':\n",
    "        row['score'] = row['result'][3:].split('-')[0]\n",
    "        row['opponent_score'] = row['result'][3:].split('-')[1]\n",
    "    else:\n",
    "        row['score'] = row['result'][3:].split('-')[1]\n",
    "        row['opponent_score'] = row['result'][3:].split('-')[0]\n",
    "    return row"
   ]
  },
  {
   "cell_type": "code",
   "execution_count": 13,
   "metadata": {},
   "outputs": [],
   "source": [
    "data = data.apply(determine_scores, axis=1)"
   ]
  },
  {
   "cell_type": "code",
   "execution_count": 14,
   "metadata": {},
   "outputs": [],
   "source": [
    "data['opponent_score'] = data['result'].apply(lambda x: x[3:].split('-')[1])"
   ]
  },
  {
   "cell_type": "code",
   "execution_count": 15,
   "metadata": {},
   "outputs": [
    {
     "data": {
      "text/html": [
       "<div>\n",
       "<style scoped>\n",
       "    .dataframe tbody tr th:only-of-type {\n",
       "        vertical-align: middle;\n",
       "    }\n",
       "\n",
       "    .dataframe tbody tr th {\n",
       "        vertical-align: top;\n",
       "    }\n",
       "\n",
       "    .dataframe thead th {\n",
       "        text-align: right;\n",
       "    }\n",
       "</style>\n",
       "<table border=\"1\" class=\"dataframe\">\n",
       "  <thead>\n",
       "    <tr style=\"text-align: right;\">\n",
       "      <th></th>\n",
       "      <th>result</th>\n",
       "      <th>Win_Loss</th>\n",
       "      <th>score</th>\n",
       "      <th>opponent_score</th>\n",
       "    </tr>\n",
       "  </thead>\n",
       "  <tbody>\n",
       "    <tr>\n",
       "      <th>0</th>\n",
       "      <td>W, 102-71</td>\n",
       "      <td>W</td>\n",
       "      <td>102</td>\n",
       "      <td>71</td>\n",
       "    </tr>\n",
       "    <tr>\n",
       "      <th>1</th>\n",
       "      <td>L, 102-71</td>\n",
       "      <td>L</td>\n",
       "      <td>71</td>\n",
       "      <td>71</td>\n",
       "    </tr>\n",
       "    <tr>\n",
       "      <th>2</th>\n",
       "      <td>L, 44-42</td>\n",
       "      <td>L</td>\n",
       "      <td>42</td>\n",
       "      <td>42</td>\n",
       "    </tr>\n",
       "    <tr>\n",
       "      <th>3</th>\n",
       "      <td>W, 44-42</td>\n",
       "      <td>W</td>\n",
       "      <td>44</td>\n",
       "      <td>42</td>\n",
       "    </tr>\n",
       "    <tr>\n",
       "      <th>4</th>\n",
       "      <td>L, 67-40</td>\n",
       "      <td>L</td>\n",
       "      <td>40</td>\n",
       "      <td>40</td>\n",
       "    </tr>\n",
       "    <tr>\n",
       "      <th>...</th>\n",
       "      <td>...</td>\n",
       "      <td>...</td>\n",
       "      <td>...</td>\n",
       "      <td>...</td>\n",
       "    </tr>\n",
       "    <tr>\n",
       "      <th>190779</th>\n",
       "      <td>W, 76-67</td>\n",
       "      <td>W</td>\n",
       "      <td>76</td>\n",
       "      <td>67</td>\n",
       "    </tr>\n",
       "    <tr>\n",
       "      <th>190780</th>\n",
       "      <td>W, 79-64</td>\n",
       "      <td>W</td>\n",
       "      <td>79</td>\n",
       "      <td>64</td>\n",
       "    </tr>\n",
       "    <tr>\n",
       "      <th>190781</th>\n",
       "      <td>L, 79-64</td>\n",
       "      <td>L</td>\n",
       "      <td>64</td>\n",
       "      <td>64</td>\n",
       "    </tr>\n",
       "    <tr>\n",
       "      <th>190782</th>\n",
       "      <td>L, 74-69</td>\n",
       "      <td>L</td>\n",
       "      <td>69</td>\n",
       "      <td>69</td>\n",
       "    </tr>\n",
       "    <tr>\n",
       "      <th>190783</th>\n",
       "      <td>W, 74-69</td>\n",
       "      <td>W</td>\n",
       "      <td>74</td>\n",
       "      <td>69</td>\n",
       "    </tr>\n",
       "  </tbody>\n",
       "</table>\n",
       "<p>190784 rows × 4 columns</p>\n",
       "</div>"
      ],
      "text/plain": [
       "           result Win_Loss score opponent_score\n",
       "0       W, 102-71        W   102             71\n",
       "1       L, 102-71        L    71             71\n",
       "2        L, 44-42        L    42             42\n",
       "3        W, 44-42        W    44             42\n",
       "4        L, 67-40        L    40             40\n",
       "...           ...      ...   ...            ...\n",
       "190779   W, 76-67        W    76             67\n",
       "190780   W, 79-64        W    79             64\n",
       "190781   L, 79-64        L    64             64\n",
       "190782   L, 74-69        L    69             69\n",
       "190783   W, 74-69        W    74             69\n",
       "\n",
       "[190784 rows x 4 columns]"
      ]
     },
     "execution_count": 15,
     "metadata": {},
     "output_type": "execute_result"
    }
   ],
   "source": [
    "data[['result', 'Win_Loss', 'score', 'opponent_score']]"
   ]
  },
  {
   "cell_type": "code",
   "execution_count": 16,
   "metadata": {},
   "outputs": [],
   "source": [
    "for i, row in data.iterrows():\n",
    "    score = int(row['score'])\n",
    "    opp_score = int(row['opponent_score'])\n",
    "    if row['Win_Loss'] == 'W' and opp_score > score:\n",
    "        print(f\"Error at index {i}\")\n",
    "    elif row['Win_Loss'] == 'L' and score > opp_score:\n",
    "        print(f\"Error at index {i}\")"
   ]
  },
  {
   "cell_type": "code",
   "execution_count": 17,
   "metadata": {},
   "outputs": [],
   "source": [
    "# 0 is Non-Conference, 1 is conference, 2 is conference tourney, 3 is NCAA tourney (generally? might be exceptions where 3 is other post season tourney)\n",
    "def convert_game_type(row):\n",
    "    if row['game_type'] == 0:\n",
    "        return 'Non-Conference'\n",
    "    elif row['game_type'] == 1:\n",
    "        return 'Conference'\n",
    "    elif row['game_type'] == 2:\n",
    "        return 'Conference Tourney'\n",
    "    elif row['game_type'] == 3:\n",
    "        return 'Post-Season Tourney'\n",
    "    else:\n",
    "        return 'Other'"
   ]
  },
  {
   "cell_type": "code",
   "execution_count": 18,
   "metadata": {},
   "outputs": [],
   "source": [
    "data['game_type'] = data.apply(convert_game_type, axis=1)"
   ]
  },
  {
   "cell_type": "code",
   "execution_count": 19,
   "metadata": {},
   "outputs": [
    {
     "data": {
      "text/plain": [
       "game_type\n",
       "Conference             105900\n",
       "Non-Conference          71292\n",
       "Conference Tourney       9402\n",
       "Post-Season Tourney      4190\n",
       "Name: count, dtype: int64"
      ]
     },
     "execution_count": 19,
     "metadata": {},
     "output_type": "execute_result"
    }
   ],
   "source": [
    "data['game_type'].value_counts()"
   ]
  },
  {
   "cell_type": "code",
   "execution_count": 20,
   "metadata": {},
   "outputs": [
    {
     "data": {
      "text/plain": [
       "190784"
      ]
     },
     "execution_count": 20,
     "metadata": {},
     "output_type": "execute_result"
    }
   ],
   "source": [
    "data.shape[0]"
   ]
  },
  {
   "cell_type": "code",
   "execution_count": 21,
   "metadata": {},
   "outputs": [],
   "source": [
    "conn.commit()"
   ]
  },
  {
   "cell_type": "code",
   "execution_count": 22,
   "metadata": {},
   "outputs": [
    {
     "data": {
      "text/plain": [
       "784"
      ]
     },
     "execution_count": 22,
     "metadata": {},
     "output_type": "execute_result"
    }
   ],
   "source": [
    "data.to_sql('game_stats_v3_2025', sqlalchemy.create_engine(os.getenv(\"LINODE_CONN_STRING\")), if_exists='replace', index=False, schema='sports_data')"
   ]
  }
 ],
 "metadata": {
  "kernelspec": {
   "display_name": ".venv",
   "language": "python",
   "name": "python3"
  },
  "language_info": {
   "codemirror_mode": {
    "name": "ipython",
    "version": 3
   },
   "file_extension": ".py",
   "mimetype": "text/x-python",
   "name": "python",
   "nbconvert_exporter": "python",
   "pygments_lexer": "ipython3",
   "version": "3.10.6"
  },
  "orig_nbformat": 4
 },
 "nbformat": 4,
 "nbformat_minor": 2
}
