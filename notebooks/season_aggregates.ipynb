{
 "cells": [
  {
   "cell_type": "markdown",
   "metadata": {},
   "source": [
    "Goal here is to record averages for each team for each season."
   ]
  },
  {
   "cell_type": "code",
   "execution_count": 1,
   "metadata": {},
   "outputs": [],
   "source": [
    "import os\n",
    "import pandas as pd\n",
    "import sqlalchemy\n",
    "from dotenv import load_dotenv, find_dotenv\n",
    "_ = load_dotenv(find_dotenv())\n",
    "\n",
    "connection_string = os.getenv(\"LINODE_CONN_STRING\")\n",
    "connection_string = os.getenv(\"LINODE_CONN_STRING\")\n",
    "conn = sqlalchemy.create_engine(os.getenv(\"LINODE_CONN_STRING\")).connect()"
   ]
  },
  {
   "cell_type": "code",
   "execution_count": 2,
   "metadata": {},
   "outputs": [],
   "source": [
    "data = pd.read_sql(\"SELECT * FROM sports_data.game_stats_v2\", conn)"
   ]
  },
  {
   "cell_type": "code",
   "execution_count": 3,
   "metadata": {},
   "outputs": [
    {
     "data": {
      "text/plain": [
       "105348"
      ]
     },
     "execution_count": 3,
     "metadata": {},
     "output_type": "execute_result"
    }
   ],
   "source": [
    "data.shape[0]"
   ]
  },
  {
   "cell_type": "code",
   "execution_count": 4,
   "metadata": {},
   "outputs": [
    {
     "data": {
      "text/plain": [
       "Index(['date', 'game_type', 'team', 'conference', 'opponent', 'location',\n",
       "       'result', 'adj_offense', 'adj_defense', 'offensive_efficiency',\n",
       "       'effective_fg_percent', 'turnover_percent', 'offensive_rebound_percent',\n",
       "       'free_throw_rate', 'opponent_offensive_efficiency',\n",
       "       'opponent_effective_fg_percent', 'opponent_turnover_percent',\n",
       "       'opponent_offensive_rebound_percent', 'opponent_free_throw_rate',\n",
       "       'opponent_conference', 'season', 'Win_Loss', 'score', 'opponent_score'],\n",
       "      dtype='object')"
      ]
     },
     "execution_count": 4,
     "metadata": {},
     "output_type": "execute_result"
    }
   ],
   "source": [
    "data.columns"
   ]
  },
  {
   "cell_type": "code",
   "execution_count": 5,
   "metadata": {},
   "outputs": [
    {
     "data": {
      "text/plain": [
       "array(['Non-Conference', 'Conference', 'Conference Tourney',\n",
       "       'Post-Season Tourney'], dtype=object)"
      ]
     },
     "execution_count": 5,
     "metadata": {},
     "output_type": "execute_result"
    }
   ],
   "source": [
    "data['game_type'].unique()"
   ]
  },
  {
   "cell_type": "code",
   "execution_count": 6,
   "metadata": {},
   "outputs": [],
   "source": [
    "pre_tourney = data[data['game_type'].isin(['Non-Conference', 'Conference', 'Conference Tourney'])]"
   ]
  },
  {
   "cell_type": "code",
   "execution_count": 7,
   "metadata": {},
   "outputs": [
    {
     "data": {
      "text/plain": [
       "Index(['adj_offense', 'adj_defense', 'offensive_efficiency',\n",
       "       'effective_fg_percent', 'turnover_percent', 'offensive_rebound_percent',\n",
       "       'free_throw_rate', 'opponent_offensive_efficiency',\n",
       "       'opponent_effective_fg_percent', 'opponent_turnover_percent',\n",
       "       'opponent_offensive_rebound_percent', 'opponent_free_throw_rate',\n",
       "       'opponent_conference'],\n",
       "      dtype='object')"
      ]
     },
     "execution_count": 7,
     "metadata": {},
     "output_type": "execute_result"
    }
   ],
   "source": [
    "pre_tourney.columns[7:-4]"
   ]
  },
  {
   "cell_type": "code",
   "execution_count": 17,
   "metadata": {},
   "outputs": [],
   "source": [
    "season_avgs = pre_tourney.groupby(['team', 'season'], as_index=False).mean(numeric_only=True)"
   ]
  },
  {
   "cell_type": "code",
   "execution_count": 20,
   "metadata": {},
   "outputs": [
    {
     "data": {
      "text/html": [
       "<div>\n",
       "<style scoped>\n",
       "    .dataframe tbody tr th:only-of-type {\n",
       "        vertical-align: middle;\n",
       "    }\n",
       "\n",
       "    .dataframe tbody tr th {\n",
       "        vertical-align: top;\n",
       "    }\n",
       "\n",
       "    .dataframe thead th {\n",
       "        text-align: right;\n",
       "    }\n",
       "</style>\n",
       "<table border=\"1\" class=\"dataframe\">\n",
       "  <thead>\n",
       "    <tr style=\"text-align: right;\">\n",
       "      <th></th>\n",
       "      <th>team</th>\n",
       "      <th>season</th>\n",
       "      <th>adj_offense</th>\n",
       "      <th>adj_defense</th>\n",
       "      <th>offensive_efficiency</th>\n",
       "      <th>effective_fg_percent</th>\n",
       "      <th>turnover_percent</th>\n",
       "      <th>offensive_rebound_percent</th>\n",
       "      <th>free_throw_rate</th>\n",
       "      <th>opponent_offensive_efficiency</th>\n",
       "      <th>opponent_effective_fg_percent</th>\n",
       "      <th>opponent_turnover_percent</th>\n",
       "      <th>opponent_offensive_rebound_percent</th>\n",
       "      <th>opponent_free_throw_rate</th>\n",
       "    </tr>\n",
       "  </thead>\n",
       "  <tbody>\n",
       "    <tr>\n",
       "      <th>0</th>\n",
       "      <td>Abilene Christian</td>\n",
       "      <td>2015</td>\n",
       "      <td>91.464286</td>\n",
       "      <td>111.442857</td>\n",
       "      <td>93.303571</td>\n",
       "      <td>47.664286</td>\n",
       "      <td>19.896429</td>\n",
       "      <td>23.957143</td>\n",
       "      <td>28.996429</td>\n",
       "      <td>111.003571</td>\n",
       "      <td>55.500000</td>\n",
       "      <td>20.717857</td>\n",
       "      <td>33.925000</td>\n",
       "      <td>45.482143</td>\n",
       "    </tr>\n",
       "    <tr>\n",
       "      <th>1</th>\n",
       "      <td>Abilene Christian</td>\n",
       "      <td>2016</td>\n",
       "      <td>96.292593</td>\n",
       "      <td>111.837037</td>\n",
       "      <td>99.648148</td>\n",
       "      <td>50.659259</td>\n",
       "      <td>19.207407</td>\n",
       "      <td>24.259259</td>\n",
       "      <td>40.581481</td>\n",
       "      <td>109.218519</td>\n",
       "      <td>54.492593</td>\n",
       "      <td>19.229630</td>\n",
       "      <td>27.662963</td>\n",
       "      <td>47.922222</td>\n",
       "    </tr>\n",
       "    <tr>\n",
       "      <th>2</th>\n",
       "      <td>Abilene Christian</td>\n",
       "      <td>2017</td>\n",
       "      <td>96.972000</td>\n",
       "      <td>106.736000</td>\n",
       "      <td>98.128000</td>\n",
       "      <td>52.456000</td>\n",
       "      <td>21.020000</td>\n",
       "      <td>22.952000</td>\n",
       "      <td>37.024000</td>\n",
       "      <td>105.164000</td>\n",
       "      <td>52.820000</td>\n",
       "      <td>21.348000</td>\n",
       "      <td>31.464000</td>\n",
       "      <td>44.880000</td>\n",
       "    </tr>\n",
       "    <tr>\n",
       "      <th>3</th>\n",
       "      <td>Abilene Christian</td>\n",
       "      <td>2018</td>\n",
       "      <td>97.044444</td>\n",
       "      <td>106.859259</td>\n",
       "      <td>99.988889</td>\n",
       "      <td>51.103704</td>\n",
       "      <td>20.211111</td>\n",
       "      <td>26.144444</td>\n",
       "      <td>34.214815</td>\n",
       "      <td>103.007407</td>\n",
       "      <td>51.929630</td>\n",
       "      <td>21.700000</td>\n",
       "      <td>29.403704</td>\n",
       "      <td>44.374074</td>\n",
       "    </tr>\n",
       "    <tr>\n",
       "      <th>4</th>\n",
       "      <td>Abilene Christian</td>\n",
       "      <td>2019</td>\n",
       "      <td>102.234483</td>\n",
       "      <td>100.989655</td>\n",
       "      <td>107.093103</td>\n",
       "      <td>52.468966</td>\n",
       "      <td>17.106897</td>\n",
       "      <td>27.441379</td>\n",
       "      <td>34.882759</td>\n",
       "      <td>96.751724</td>\n",
       "      <td>49.755172</td>\n",
       "      <td>23.303448</td>\n",
       "      <td>27.431034</td>\n",
       "      <td>38.944828</td>\n",
       "    </tr>\n",
       "    <tr>\n",
       "      <th>...</th>\n",
       "      <td>...</td>\n",
       "      <td>...</td>\n",
       "      <td>...</td>\n",
       "      <td>...</td>\n",
       "      <td>...</td>\n",
       "      <td>...</td>\n",
       "      <td>...</td>\n",
       "      <td>...</td>\n",
       "      <td>...</td>\n",
       "      <td>...</td>\n",
       "      <td>...</td>\n",
       "      <td>...</td>\n",
       "      <td>...</td>\n",
       "      <td>...</td>\n",
       "    </tr>\n",
       "    <tr>\n",
       "      <th>3535</th>\n",
       "      <td>Youngstown St.</td>\n",
       "      <td>2020</td>\n",
       "      <td>100.764516</td>\n",
       "      <td>106.761290</td>\n",
       "      <td>103.490323</td>\n",
       "      <td>47.606452</td>\n",
       "      <td>17.854839</td>\n",
       "      <td>35.290323</td>\n",
       "      <td>30.693548</td>\n",
       "      <td>104.419355</td>\n",
       "      <td>50.048387</td>\n",
       "      <td>16.603226</td>\n",
       "      <td>29.222581</td>\n",
       "      <td>31.519355</td>\n",
       "    </tr>\n",
       "    <tr>\n",
       "      <th>3536</th>\n",
       "      <td>Youngstown St.</td>\n",
       "      <td>2021</td>\n",
       "      <td>101.943478</td>\n",
       "      <td>109.313043</td>\n",
       "      <td>106.104348</td>\n",
       "      <td>48.904348</td>\n",
       "      <td>16.613043</td>\n",
       "      <td>32.586957</td>\n",
       "      <td>32.230435</td>\n",
       "      <td>108.591304</td>\n",
       "      <td>54.630435</td>\n",
       "      <td>18.582609</td>\n",
       "      <td>28.830435</td>\n",
       "      <td>26.713043</td>\n",
       "    </tr>\n",
       "    <tr>\n",
       "      <th>3537</th>\n",
       "      <td>Youngstown St.</td>\n",
       "      <td>2022</td>\n",
       "      <td>102.563333</td>\n",
       "      <td>109.223333</td>\n",
       "      <td>106.810000</td>\n",
       "      <td>51.603333</td>\n",
       "      <td>17.080000</td>\n",
       "      <td>29.613333</td>\n",
       "      <td>30.163333</td>\n",
       "      <td>105.186667</td>\n",
       "      <td>51.266667</td>\n",
       "      <td>17.340000</td>\n",
       "      <td>27.963333</td>\n",
       "      <td>29.913333</td>\n",
       "    </tr>\n",
       "    <tr>\n",
       "      <th>3538</th>\n",
       "      <td>Youngstown St.</td>\n",
       "      <td>2023</td>\n",
       "      <td>110.119355</td>\n",
       "      <td>108.919355</td>\n",
       "      <td>115.670968</td>\n",
       "      <td>55.532258</td>\n",
       "      <td>15.661290</td>\n",
       "      <td>30.464516</td>\n",
       "      <td>30.196774</td>\n",
       "      <td>104.345161</td>\n",
       "      <td>52.264516</td>\n",
       "      <td>18.054839</td>\n",
       "      <td>28.058065</td>\n",
       "      <td>26.825806</td>\n",
       "    </tr>\n",
       "    <tr>\n",
       "      <th>3539</th>\n",
       "      <td>Youngstown St.</td>\n",
       "      <td>2024</td>\n",
       "      <td>107.587500</td>\n",
       "      <td>104.312500</td>\n",
       "      <td>111.995833</td>\n",
       "      <td>50.783333</td>\n",
       "      <td>15.312500</td>\n",
       "      <td>34.016667</td>\n",
       "      <td>30.350000</td>\n",
       "      <td>102.908333</td>\n",
       "      <td>49.758333</td>\n",
       "      <td>16.329167</td>\n",
       "      <td>27.895833</td>\n",
       "      <td>31.600000</td>\n",
       "    </tr>\n",
       "  </tbody>\n",
       "</table>\n",
       "<p>3540 rows × 14 columns</p>\n",
       "</div>"
      ],
      "text/plain": [
       "                   team  season  adj_offense  adj_defense  \\\n",
       "0     Abilene Christian    2015    91.464286   111.442857   \n",
       "1     Abilene Christian    2016    96.292593   111.837037   \n",
       "2     Abilene Christian    2017    96.972000   106.736000   \n",
       "3     Abilene Christian    2018    97.044444   106.859259   \n",
       "4     Abilene Christian    2019   102.234483   100.989655   \n",
       "...                 ...     ...          ...          ...   \n",
       "3535     Youngstown St.    2020   100.764516   106.761290   \n",
       "3536     Youngstown St.    2021   101.943478   109.313043   \n",
       "3537     Youngstown St.    2022   102.563333   109.223333   \n",
       "3538     Youngstown St.    2023   110.119355   108.919355   \n",
       "3539     Youngstown St.    2024   107.587500   104.312500   \n",
       "\n",
       "      offensive_efficiency  effective_fg_percent  turnover_percent  \\\n",
       "0                93.303571             47.664286         19.896429   \n",
       "1                99.648148             50.659259         19.207407   \n",
       "2                98.128000             52.456000         21.020000   \n",
       "3                99.988889             51.103704         20.211111   \n",
       "4               107.093103             52.468966         17.106897   \n",
       "...                    ...                   ...               ...   \n",
       "3535            103.490323             47.606452         17.854839   \n",
       "3536            106.104348             48.904348         16.613043   \n",
       "3537            106.810000             51.603333         17.080000   \n",
       "3538            115.670968             55.532258         15.661290   \n",
       "3539            111.995833             50.783333         15.312500   \n",
       "\n",
       "      offensive_rebound_percent  free_throw_rate  \\\n",
       "0                     23.957143        28.996429   \n",
       "1                     24.259259        40.581481   \n",
       "2                     22.952000        37.024000   \n",
       "3                     26.144444        34.214815   \n",
       "4                     27.441379        34.882759   \n",
       "...                         ...              ...   \n",
       "3535                  35.290323        30.693548   \n",
       "3536                  32.586957        32.230435   \n",
       "3537                  29.613333        30.163333   \n",
       "3538                  30.464516        30.196774   \n",
       "3539                  34.016667        30.350000   \n",
       "\n",
       "      opponent_offensive_efficiency  opponent_effective_fg_percent  \\\n",
       "0                        111.003571                      55.500000   \n",
       "1                        109.218519                      54.492593   \n",
       "2                        105.164000                      52.820000   \n",
       "3                        103.007407                      51.929630   \n",
       "4                         96.751724                      49.755172   \n",
       "...                             ...                            ...   \n",
       "3535                     104.419355                      50.048387   \n",
       "3536                     108.591304                      54.630435   \n",
       "3537                     105.186667                      51.266667   \n",
       "3538                     104.345161                      52.264516   \n",
       "3539                     102.908333                      49.758333   \n",
       "\n",
       "      opponent_turnover_percent  opponent_offensive_rebound_percent  \\\n",
       "0                     20.717857                           33.925000   \n",
       "1                     19.229630                           27.662963   \n",
       "2                     21.348000                           31.464000   \n",
       "3                     21.700000                           29.403704   \n",
       "4                     23.303448                           27.431034   \n",
       "...                         ...                                 ...   \n",
       "3535                  16.603226                           29.222581   \n",
       "3536                  18.582609                           28.830435   \n",
       "3537                  17.340000                           27.963333   \n",
       "3538                  18.054839                           28.058065   \n",
       "3539                  16.329167                           27.895833   \n",
       "\n",
       "      opponent_free_throw_rate  \n",
       "0                    45.482143  \n",
       "1                    47.922222  \n",
       "2                    44.880000  \n",
       "3                    44.374074  \n",
       "4                    38.944828  \n",
       "...                        ...  \n",
       "3535                 31.519355  \n",
       "3536                 26.713043  \n",
       "3537                 29.913333  \n",
       "3538                 26.825806  \n",
       "3539                 31.600000  \n",
       "\n",
       "[3540 rows x 14 columns]"
      ]
     },
     "execution_count": 20,
     "metadata": {},
     "output_type": "execute_result"
    }
   ],
   "source": [
    "season_avgs"
   ]
  },
  {
   "cell_type": "code",
   "execution_count": 19,
   "metadata": {},
   "outputs": [
    {
     "data": {
      "text/plain": [
       "540"
      ]
     },
     "execution_count": 19,
     "metadata": {},
     "output_type": "execute_result"
    }
   ],
   "source": [
    "season_avgs.to_sql('season_averages_by_team', sqlalchemy.create_engine(os.getenv(\"LINODE_CONN_STRING\")), if_exists='replace', index=False, schema='sports_data')"
   ]
  }
 ],
 "metadata": {
  "kernelspec": {
   "display_name": ".venv",
   "language": "python",
   "name": "python3"
  },
  "language_info": {
   "codemirror_mode": {
    "name": "ipython",
    "version": 3
   },
   "file_extension": ".py",
   "mimetype": "text/x-python",
   "name": "python",
   "nbconvert_exporter": "python",
   "pygments_lexer": "ipython3",
   "version": "3.10.6"
  },
  "orig_nbformat": 4
 },
 "nbformat": 4,
 "nbformat_minor": 2
}
